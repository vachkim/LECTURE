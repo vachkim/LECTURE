{
  "nbformat": 4,
  "nbformat_minor": 0,
  "metadata": {
    "colab": {
      "name": "Lec_PANDAS.ipynb",
      "provenance": [],
      "collapsed_sections": [],
      "toc_visible": true,
      "authorship_tag": "ABX9TyPawWRv2xNu2YGvvaXTOEmK",
      "include_colab_link": true
    },
    "kernelspec": {
      "name": "python3",
      "display_name": "Python 3"
    }
  },
  "cells": [
    {
      "cell_type": "markdown",
      "metadata": {
        "id": "view-in-github",
        "colab_type": "text"
      },
      "source": [
        "<a href=\"https://colab.research.google.com/github/vachkim/LECTURE/blob/master/PYTHON/Lec_PANDAS.ipynb\" target=\"_parent\"><img src=\"https://colab.research.google.com/assets/colab-badge.svg\" alt=\"Open In Colab\"/></a>"
      ]
    },
    {
      "cell_type": "markdown",
      "metadata": {
        "id": "ih3ouhCMl3R3",
        "colab_type": "text"
      },
      "source": [
        "## - 판다스\n",
        "- 판다스의 데이터 구조인 시리즈와 데이터프레임에 대해 알아보자\n",
        "- 판다스를 실행하기 전에는 import pandas를 해줘야 함을 기억하자"
      ]
    },
    {
      "cell_type": "code",
      "metadata": {
        "id": "EbB0vXyIl2Dg",
        "colab_type": "code",
        "colab": {}
      },
      "source": [
        "import pandas as pd\n",
        "import numpy as np\n",
        "from pandas import Series,DataFrame"
      ],
      "execution_count": null,
      "outputs": []
    },
    {
      "cell_type": "code",
      "metadata": {
        "id": "SzcJJLHomtEN",
        "colab_type": "code",
        "colab": {
          "base_uri": "https://localhost:8080/",
          "height": 53
        },
        "outputId": "463610cb-ef5a-4884-c1e8-647093f6e8e6"
      },
      "source": [
        "print('pandas ver=',pd.__version__)\n",
        "print('numpy ver=',np.__version__)"
      ],
      "execution_count": null,
      "outputs": [
        {
          "output_type": "stream",
          "text": [
            "pandas ver= 1.0.5\n",
            "numpy ver= 1.18.5\n"
          ],
          "name": "stdout"
        }
      ]
    },
    {
      "cell_type": "markdown",
      "metadata": {
        "id": "cOddistwm4FX",
        "colab_type": "text"
      },
      "source": [
        "### 1) 시리즈\n",
        "- 시리즈는 행과 열로 구성되어 있는 데이터프레임의 한 열이다\n",
        "- 딕셔너리와 마찬가지로 key에 대한 value값으로 구성되어 있다\n"
      ]
    },
    {
      "cell_type": "code",
      "metadata": {
        "id": "DqWO3-oEmyol",
        "colab_type": "code",
        "colab": {
          "base_uri": "https://localhost:8080/",
          "height": 89
        },
        "outputId": "e7c1450e-c40b-4538-806b-42f855399803"
      },
      "source": [
        "food = Series([1000,2000,3000],index=['coke','cookie','bread'])\n",
        "#index를 지정하고, 그 아래에 들어갈 값을 적어주는 것\n",
        "#딕셔너리를 먼저 제작하고 Series()를 이용해 시리즈로 변경하는 것도 가능\n",
        "food"
      ],
      "execution_count": null,
      "outputs": [
        {
          "output_type": "execute_result",
          "data": {
            "text/plain": [
              "coke      1000\n",
              "cookie    2000\n",
              "bread     3000\n",
              "dtype: int64"
            ]
          },
          "metadata": {
            "tags": []
          },
          "execution_count": 23
        }
      ]
    },
    {
      "cell_type": "code",
      "metadata": {
        "id": "4oPImed5n4wU",
        "colab_type": "code",
        "colab": {
          "base_uri": "https://localhost:8080/",
          "height": 35
        },
        "outputId": "88cbbe04-ad5e-4ef9-f4c8-a13cd0922029"
      },
      "source": [
        "food.index #딕셔너리와 달리 key가 아니라 index로 호출된다"
      ],
      "execution_count": null,
      "outputs": [
        {
          "output_type": "execute_result",
          "data": {
            "text/plain": [
              "Index(['coke', 'cookie', 'bread'], dtype='object')"
            ]
          },
          "metadata": {
            "tags": []
          },
          "execution_count": 25
        }
      ]
    },
    {
      "cell_type": "code",
      "metadata": {
        "id": "cTk04T7noB-w",
        "colab_type": "code",
        "colab": {
          "base_uri": "https://localhost:8080/",
          "height": 35
        },
        "outputId": "26b1911f-4cf7-49b5-96c9-e76223f25717"
      },
      "source": [
        "food.values"
      ],
      "execution_count": null,
      "outputs": [
        {
          "output_type": "execute_result",
          "data": {
            "text/plain": [
              "array([1000, 2000, 3000])"
            ]
          },
          "metadata": {
            "tags": []
          },
          "execution_count": 26
        }
      ]
    },
    {
      "cell_type": "markdown",
      "metadata": {
        "id": "4hOfcF-Hnx5k",
        "colab_type": "text"
      },
      "source": [
        "- Series와 Series의 Index에 이름을 붙여줄 수도 있다"
      ]
    },
    {
      "cell_type": "code",
      "metadata": {
        "id": "Llq0FVhpnf3c",
        "colab_type": "code",
        "colab": {
          "base_uri": "https://localhost:8080/",
          "height": 107
        },
        "outputId": "a7e350a9-35e9-4943-f99d-5c945947fef6"
      },
      "source": [
        "food.name = 'FoodPrice'\n",
        "food.index.name='Food'\n",
        "food"
      ],
      "execution_count": null,
      "outputs": [
        {
          "output_type": "execute_result",
          "data": {
            "text/plain": [
              "Food\n",
              "coke      1000\n",
              "cookie    2000\n",
              "bread     3000\n",
              "Name: FoodPrice, dtype: int64"
            ]
          },
          "metadata": {
            "tags": []
          },
          "execution_count": 27
        }
      ]
    },
    {
      "cell_type": "markdown",
      "metadata": {
        "id": "li2uu8xRoNAJ",
        "colab_type": "text"
      },
      "source": [
        "### 2) 데이터프레임\n",
        "- 데이터프레임은 다수의 시리즈로 구성된 행과 열 형식의 데이터이다"
      ]
    },
    {
      "cell_type": "markdown",
      "metadata": {
        "id": "qxMg7uW8odnW",
        "colab_type": "text"
      },
      "source": [
        "- 딕셔너리를 데이터프레임으로 변환할 수 있다\n",
        "- 데이터프레임을 만들 때, index와 column의 이름을 미리 지정하는 것이 가능하다\n",
        "- index를 따로 지정해주지 않으면 순차적으로 0,1,2..이 부여된다"
      ]
    },
    {
      "cell_type": "code",
      "metadata": {
        "id": "4xULaMjeoIUs",
        "colab_type": "code",
        "colab": {
          "base_uri": "https://localhost:8080/",
          "height": 173
        },
        "outputId": "7c9c027a-7502-46c4-9a0a-1ce1c749816a"
      },
      "source": [
        "fruitData = {'fruitName':['peer','banana','apple','cherry'],\n",
        "            'fruitPrice':[2500,3800,6000,1200],\n",
        "            'num':[10,5,3,8]}\n",
        "fruitName=fruitData['fruitName']\n",
        "fruitFrame = DataFrame(fruitData,index=fruitName, columns =['num','fruitPrice'])\n",
        "fruitFrame"
      ],
      "execution_count": null,
      "outputs": [
        {
          "output_type": "execute_result",
          "data": {
            "text/html": [
              "<div>\n",
              "<style scoped>\n",
              "    .dataframe tbody tr th:only-of-type {\n",
              "        vertical-align: middle;\n",
              "    }\n",
              "\n",
              "    .dataframe tbody tr th {\n",
              "        vertical-align: top;\n",
              "    }\n",
              "\n",
              "    .dataframe thead th {\n",
              "        text-align: right;\n",
              "    }\n",
              "</style>\n",
              "<table border=\"1\" class=\"dataframe\">\n",
              "  <thead>\n",
              "    <tr style=\"text-align: right;\">\n",
              "      <th></th>\n",
              "      <th>num</th>\n",
              "      <th>fruitPrice</th>\n",
              "    </tr>\n",
              "  </thead>\n",
              "  <tbody>\n",
              "    <tr>\n",
              "      <th>peer</th>\n",
              "      <td>10</td>\n",
              "      <td>2500</td>\n",
              "    </tr>\n",
              "    <tr>\n",
              "      <th>banana</th>\n",
              "      <td>5</td>\n",
              "      <td>3800</td>\n",
              "    </tr>\n",
              "    <tr>\n",
              "      <th>apple</th>\n",
              "      <td>3</td>\n",
              "      <td>6000</td>\n",
              "    </tr>\n",
              "    <tr>\n",
              "      <th>cherry</th>\n",
              "      <td>8</td>\n",
              "      <td>1200</td>\n",
              "    </tr>\n",
              "  </tbody>\n",
              "</table>\n",
              "</div>"
            ],
            "text/plain": [
              "        num  fruitPrice\n",
              "peer     10        2500\n",
              "banana    5        3800\n",
              "apple     3        6000\n",
              "cherry    8        1200"
            ]
          },
          "metadata": {
            "tags": []
          },
          "execution_count": 28
        }
      ]
    },
    {
      "cell_type": "code",
      "metadata": {
        "id": "HY-jCVVup3CI",
        "colab_type": "code",
        "colab": {
          "base_uri": "https://localhost:8080/",
          "height": 35
        },
        "outputId": "d3ec6489-b5c3-46ea-bba0-7920391550c9"
      },
      "source": [
        "fruitFrame.index"
      ],
      "execution_count": null,
      "outputs": [
        {
          "output_type": "execute_result",
          "data": {
            "text/plain": [
              "Index(['peer', 'banana', 'apple', 'cherry'], dtype='object')"
            ]
          },
          "metadata": {
            "tags": []
          },
          "execution_count": 30
        }
      ]
    },
    {
      "cell_type": "code",
      "metadata": {
        "id": "YzpuwNwop6-0",
        "colab_type": "code",
        "colab": {
          "base_uri": "https://localhost:8080/",
          "height": 89
        },
        "outputId": "8a329cac-e1b6-4049-92ab-4aa4e5f36a02"
      },
      "source": [
        "fruitFrame.values"
      ],
      "execution_count": null,
      "outputs": [
        {
          "output_type": "execute_result",
          "data": {
            "text/plain": [
              "array([[  10, 2500],\n",
              "       [   5, 3800],\n",
              "       [   3, 6000],\n",
              "       [   8, 1200]])"
            ]
          },
          "metadata": {
            "tags": []
          },
          "execution_count": 31
        }
      ]
    },
    {
      "cell_type": "markdown",
      "metadata": {
        "id": "dsXTCg5tp-sy",
        "colab_type": "text"
      },
      "source": [
        "- 데이터프레임에서 중요한 기능 중 하나는 칼럼명을 바탕으로 데이터를 반환하는 것이다\n",
        "- 리스트를 사용하면 복수의 칼럼값을 가져올 수도 있다"
      ]
    },
    {
      "cell_type": "code",
      "metadata": {
        "id": "RvHdRWmjqEK7",
        "colab_type": "code",
        "colab": {
          "base_uri": "https://localhost:8080/",
          "height": 107
        },
        "outputId": "93d426f2-0955-4fc2-b239-118b9aa258fc"
      },
      "source": [
        "fruitFrame['fruitPrice']"
      ],
      "execution_count": null,
      "outputs": [
        {
          "output_type": "execute_result",
          "data": {
            "text/plain": [
              "peer      2500\n",
              "banana    3800\n",
              "apple     6000\n",
              "cherry    1200\n",
              "Name: fruitPrice, dtype: int64"
            ]
          },
          "metadata": {
            "tags": []
          },
          "execution_count": 32
        }
      ]
    },
    {
      "cell_type": "code",
      "metadata": {
        "id": "ptmaZ9CHsbWh",
        "colab_type": "code",
        "colab": {
          "base_uri": "https://localhost:8080/",
          "height": 173
        },
        "outputId": "0af71249-c0ec-455d-f4fd-0b08e018daae"
      },
      "source": [
        "fruitFrame[['fruitPrice','num']]"
      ],
      "execution_count": null,
      "outputs": [
        {
          "output_type": "execute_result",
          "data": {
            "text/html": [
              "<div>\n",
              "<style scoped>\n",
              "    .dataframe tbody tr th:only-of-type {\n",
              "        vertical-align: middle;\n",
              "    }\n",
              "\n",
              "    .dataframe tbody tr th {\n",
              "        vertical-align: top;\n",
              "    }\n",
              "\n",
              "    .dataframe thead th {\n",
              "        text-align: right;\n",
              "    }\n",
              "</style>\n",
              "<table border=\"1\" class=\"dataframe\">\n",
              "  <thead>\n",
              "    <tr style=\"text-align: right;\">\n",
              "      <th></th>\n",
              "      <th>fruitPrice</th>\n",
              "      <th>num</th>\n",
              "    </tr>\n",
              "  </thead>\n",
              "  <tbody>\n",
              "    <tr>\n",
              "      <th>peer</th>\n",
              "      <td>2500</td>\n",
              "      <td>10</td>\n",
              "    </tr>\n",
              "    <tr>\n",
              "      <th>banana</th>\n",
              "      <td>3800</td>\n",
              "      <td>5</td>\n",
              "    </tr>\n",
              "    <tr>\n",
              "      <th>apple</th>\n",
              "      <td>6000</td>\n",
              "      <td>3</td>\n",
              "    </tr>\n",
              "    <tr>\n",
              "      <th>cherry</th>\n",
              "      <td>1200</td>\n",
              "      <td>8</td>\n",
              "    </tr>\n",
              "  </tbody>\n",
              "</table>\n",
              "</div>"
            ],
            "text/plain": [
              "        fruitPrice  num\n",
              "peer          2500   10\n",
              "banana        3800    5\n",
              "apple         6000    3\n",
              "cherry        1200    8"
            ]
          },
          "metadata": {
            "tags": []
          },
          "execution_count": 42
        }
      ]
    },
    {
      "cell_type": "markdown",
      "metadata": {
        "id": "NaFhp0O0qPWE",
        "colab_type": "text"
      },
      "source": [
        "- 마찬가지로 칼럼명을 활용하면 새로운 데이터를 삽입하기도 쉽다"
      ]
    },
    {
      "cell_type": "code",
      "metadata": {
        "id": "qDNgmkTlqU-Q",
        "colab_type": "code",
        "colab": {
          "base_uri": "https://localhost:8080/",
          "height": 173
        },
        "outputId": "beb3a7ad-d8c6-46d3-fad3-6c16736e1a0e"
      },
      "source": [
        "fruitFrame['favorite'] = [2,4,3,1] #새로 입력할 칼럼명 = 들어갈 데이터 순으로 입력하면 된다\n",
        "fruitFrame"
      ],
      "execution_count": null,
      "outputs": [
        {
          "output_type": "execute_result",
          "data": {
            "text/html": [
              "<div>\n",
              "<style scoped>\n",
              "    .dataframe tbody tr th:only-of-type {\n",
              "        vertical-align: middle;\n",
              "    }\n",
              "\n",
              "    .dataframe tbody tr th {\n",
              "        vertical-align: top;\n",
              "    }\n",
              "\n",
              "    .dataframe thead th {\n",
              "        text-align: right;\n",
              "    }\n",
              "</style>\n",
              "<table border=\"1\" class=\"dataframe\">\n",
              "  <thead>\n",
              "    <tr style=\"text-align: right;\">\n",
              "      <th></th>\n",
              "      <th>num</th>\n",
              "      <th>fruitPrice</th>\n",
              "      <th>favorite</th>\n",
              "    </tr>\n",
              "  </thead>\n",
              "  <tbody>\n",
              "    <tr>\n",
              "      <th>peer</th>\n",
              "      <td>10</td>\n",
              "      <td>2500</td>\n",
              "      <td>2</td>\n",
              "    </tr>\n",
              "    <tr>\n",
              "      <th>banana</th>\n",
              "      <td>5</td>\n",
              "      <td>3800</td>\n",
              "      <td>4</td>\n",
              "    </tr>\n",
              "    <tr>\n",
              "      <th>apple</th>\n",
              "      <td>3</td>\n",
              "      <td>6000</td>\n",
              "      <td>3</td>\n",
              "    </tr>\n",
              "    <tr>\n",
              "      <th>cherry</th>\n",
              "      <td>8</td>\n",
              "      <td>1200</td>\n",
              "      <td>1</td>\n",
              "    </tr>\n",
              "  </tbody>\n",
              "</table>\n",
              "</div>"
            ],
            "text/plain": [
              "        num  fruitPrice  favorite\n",
              "peer     10        2500         2\n",
              "banana    5        3800         4\n",
              "apple     3        6000         3\n",
              "cherry    8        1200         1"
            ]
          },
          "metadata": {
            "tags": []
          },
          "execution_count": 33
        }
      ]
    },
    {
      "cell_type": "markdown",
      "metadata": {
        "id": "1MdYIte0qiG4",
        "colab_type": "text"
      },
      "source": [
        "- 값을 삭제할 때는 drop, del 두가지가 사용 가능하다\n",
        "- drop의 장점은 일시적인 삭제가 가능하다는 것(inplace=False), del의 장점은 삭제가 쉽다"
      ]
    },
    {
      "cell_type": "code",
      "metadata": {
        "id": "s3TTf42AqvH8",
        "colab_type": "code",
        "colab": {
          "base_uri": "https://localhost:8080/",
          "height": 173
        },
        "outputId": "d6a0303d-898b-4683-b143-1818a4d2cc98"
      },
      "source": [
        "fruitFrame.drop('favorite',axis=1,inplace=True) #axis=1은 행이 아니라 열에서 데이터를 찾겠다는 의미 \n",
        "fruitFrame\n",
        "#위는 결국 del fruitFrame['favorite']와도 같다"
      ],
      "execution_count": null,
      "outputs": [
        {
          "output_type": "execute_result",
          "data": {
            "text/html": [
              "<div>\n",
              "<style scoped>\n",
              "    .dataframe tbody tr th:only-of-type {\n",
              "        vertical-align: middle;\n",
              "    }\n",
              "\n",
              "    .dataframe tbody tr th {\n",
              "        vertical-align: top;\n",
              "    }\n",
              "\n",
              "    .dataframe thead th {\n",
              "        text-align: right;\n",
              "    }\n",
              "</style>\n",
              "<table border=\"1\" class=\"dataframe\">\n",
              "  <thead>\n",
              "    <tr style=\"text-align: right;\">\n",
              "      <th></th>\n",
              "      <th>num</th>\n",
              "      <th>fruitPrice</th>\n",
              "    </tr>\n",
              "  </thead>\n",
              "  <tbody>\n",
              "    <tr>\n",
              "      <th>peer</th>\n",
              "      <td>10</td>\n",
              "      <td>2500</td>\n",
              "    </tr>\n",
              "    <tr>\n",
              "      <th>banana</th>\n",
              "      <td>5</td>\n",
              "      <td>3800</td>\n",
              "    </tr>\n",
              "    <tr>\n",
              "      <th>apple</th>\n",
              "      <td>3</td>\n",
              "      <td>6000</td>\n",
              "    </tr>\n",
              "    <tr>\n",
              "      <th>cherry</th>\n",
              "      <td>8</td>\n",
              "      <td>1200</td>\n",
              "    </tr>\n",
              "  </tbody>\n",
              "</table>\n",
              "</div>"
            ],
            "text/plain": [
              "        num  fruitPrice\n",
              "peer     10        2500\n",
              "banana    5        3800\n",
              "apple     3        6000\n",
              "cherry    8        1200"
            ]
          },
          "metadata": {
            "tags": []
          },
          "execution_count": 36
        }
      ]
    },
    {
      "cell_type": "markdown",
      "metadata": {
        "id": "zgdEb_RZrbQG",
        "colab_type": "text"
      },
      "source": [
        "- 데이터프레임에서 데이터를 가공하는 법을 알기 위해 새로운 DF를 형성"
      ]
    },
    {
      "cell_type": "code",
      "metadata": {
        "id": "ePpyDy4trjKc",
        "colab_type": "code",
        "colab": {
          "base_uri": "https://localhost:8080/",
          "height": 71
        },
        "outputId": "3d2f4a74-1358-4c09-c909-89da8559f06a"
      },
      "source": [
        "Dates=pd.date_range('20200825',periods=6) #pd.date_range = date,time에 대한 index값 반환\n",
        "Dates"
      ],
      "execution_count": null,
      "outputs": [
        {
          "output_type": "execute_result",
          "data": {
            "text/plain": [
              "DatetimeIndex(['2020-08-25', '2020-08-26', '2020-08-27', '2020-08-28',\n",
              "               '2020-08-29', '2020-08-30'],\n",
              "              dtype='datetime64[ns]', freq='D')"
            ]
          },
          "metadata": {
            "tags": []
          },
          "execution_count": 37
        }
      ]
    },
    {
      "cell_type": "code",
      "metadata": {
        "id": "wi0-_W1Yr0H5",
        "colab_type": "code",
        "colab": {
          "base_uri": "https://localhost:8080/",
          "height": 235
        },
        "outputId": "417fdf8e-8c42-40b6-e3b1-dc5c0e708a5a"
      },
      "source": [
        "df=pd.DataFrame(np.random.randn(6,4),index=Dates,columns=['A','B','C','D']) #np.random.randn은 랜덤으로 숫자 부여\n",
        "df"
      ],
      "execution_count": null,
      "outputs": [
        {
          "output_type": "execute_result",
          "data": {
            "text/html": [
              "<div>\n",
              "<style scoped>\n",
              "    .dataframe tbody tr th:only-of-type {\n",
              "        vertical-align: middle;\n",
              "    }\n",
              "\n",
              "    .dataframe tbody tr th {\n",
              "        vertical-align: top;\n",
              "    }\n",
              "\n",
              "    .dataframe thead th {\n",
              "        text-align: right;\n",
              "    }\n",
              "</style>\n",
              "<table border=\"1\" class=\"dataframe\">\n",
              "  <thead>\n",
              "    <tr style=\"text-align: right;\">\n",
              "      <th></th>\n",
              "      <th>A</th>\n",
              "      <th>B</th>\n",
              "      <th>C</th>\n",
              "      <th>D</th>\n",
              "    </tr>\n",
              "  </thead>\n",
              "  <tbody>\n",
              "    <tr>\n",
              "      <th>2020-08-25</th>\n",
              "      <td>0.286475</td>\n",
              "      <td>0.777258</td>\n",
              "      <td>0.492491</td>\n",
              "      <td>-0.541807</td>\n",
              "    </tr>\n",
              "    <tr>\n",
              "      <th>2020-08-26</th>\n",
              "      <td>-1.533943</td>\n",
              "      <td>-0.865517</td>\n",
              "      <td>-0.231541</td>\n",
              "      <td>-0.413718</td>\n",
              "    </tr>\n",
              "    <tr>\n",
              "      <th>2020-08-27</th>\n",
              "      <td>1.221295</td>\n",
              "      <td>0.440102</td>\n",
              "      <td>1.643294</td>\n",
              "      <td>1.025714</td>\n",
              "    </tr>\n",
              "    <tr>\n",
              "      <th>2020-08-28</th>\n",
              "      <td>-0.368689</td>\n",
              "      <td>1.179057</td>\n",
              "      <td>0.515157</td>\n",
              "      <td>0.126220</td>\n",
              "    </tr>\n",
              "    <tr>\n",
              "      <th>2020-08-29</th>\n",
              "      <td>-0.054986</td>\n",
              "      <td>-1.204098</td>\n",
              "      <td>-0.067182</td>\n",
              "      <td>0.176934</td>\n",
              "    </tr>\n",
              "    <tr>\n",
              "      <th>2020-08-30</th>\n",
              "      <td>-0.743751</td>\n",
              "      <td>-0.349362</td>\n",
              "      <td>-0.570535</td>\n",
              "      <td>-0.111446</td>\n",
              "    </tr>\n",
              "  </tbody>\n",
              "</table>\n",
              "</div>"
            ],
            "text/plain": [
              "                   A         B         C         D\n",
              "2020-08-25  0.286475  0.777258  0.492491 -0.541807\n",
              "2020-08-26 -1.533943 -0.865517 -0.231541 -0.413718\n",
              "2020-08-27  1.221295  0.440102  1.643294  1.025714\n",
              "2020-08-28 -0.368689  1.179057  0.515157  0.126220\n",
              "2020-08-29 -0.054986 -1.204098 -0.067182  0.176934\n",
              "2020-08-30 -0.743751 -0.349362 -0.570535 -0.111446"
            ]
          },
          "metadata": {
            "tags": []
          },
          "execution_count": 38
        }
      ]
    },
    {
      "cell_type": "markdown",
      "metadata": {
        "id": "dpYxVZIGsFFt",
        "colab_type": "text"
      },
      "source": [
        "- 데이터프레임은 describe()를 통해 자체적으로 기본 통계값을 제공해준다\n",
        "- 또한 info()를 사용하면 데이터프레임에 대한 대략의 정보를 얻을 수 있다"
      ]
    },
    {
      "cell_type": "code",
      "metadata": {
        "id": "Qs5HqkT3sRLo",
        "colab_type": "code",
        "colab": {
          "base_uri": "https://localhost:8080/",
          "height": 297
        },
        "outputId": "dfbcfcfd-c065-4f7b-f90e-a65da25df747"
      },
      "source": [
        "df.describe()"
      ],
      "execution_count": null,
      "outputs": [
        {
          "output_type": "execute_result",
          "data": {
            "text/html": [
              "<div>\n",
              "<style scoped>\n",
              "    .dataframe tbody tr th:only-of-type {\n",
              "        vertical-align: middle;\n",
              "    }\n",
              "\n",
              "    .dataframe tbody tr th {\n",
              "        vertical-align: top;\n",
              "    }\n",
              "\n",
              "    .dataframe thead th {\n",
              "        text-align: right;\n",
              "    }\n",
              "</style>\n",
              "<table border=\"1\" class=\"dataframe\">\n",
              "  <thead>\n",
              "    <tr style=\"text-align: right;\">\n",
              "      <th></th>\n",
              "      <th>A</th>\n",
              "      <th>B</th>\n",
              "      <th>C</th>\n",
              "      <th>D</th>\n",
              "    </tr>\n",
              "  </thead>\n",
              "  <tbody>\n",
              "    <tr>\n",
              "      <th>count</th>\n",
              "      <td>6.000000</td>\n",
              "      <td>6.000000</td>\n",
              "      <td>6.000000</td>\n",
              "      <td>6.000000</td>\n",
              "    </tr>\n",
              "    <tr>\n",
              "      <th>mean</th>\n",
              "      <td>-0.198933</td>\n",
              "      <td>-0.003760</td>\n",
              "      <td>0.296947</td>\n",
              "      <td>0.043649</td>\n",
              "    </tr>\n",
              "    <tr>\n",
              "      <th>std</th>\n",
              "      <td>0.936086</td>\n",
              "      <td>0.949625</td>\n",
              "      <td>0.782677</td>\n",
              "      <td>0.559470</td>\n",
              "    </tr>\n",
              "    <tr>\n",
              "      <th>min</th>\n",
              "      <td>-1.533943</td>\n",
              "      <td>-1.204098</td>\n",
              "      <td>-0.570535</td>\n",
              "      <td>-0.541807</td>\n",
              "    </tr>\n",
              "    <tr>\n",
              "      <th>25%</th>\n",
              "      <td>-0.649986</td>\n",
              "      <td>-0.736478</td>\n",
              "      <td>-0.190451</td>\n",
              "      <td>-0.338150</td>\n",
              "    </tr>\n",
              "    <tr>\n",
              "      <th>50%</th>\n",
              "      <td>-0.211837</td>\n",
              "      <td>0.045370</td>\n",
              "      <td>0.212655</td>\n",
              "      <td>0.007387</td>\n",
              "    </tr>\n",
              "    <tr>\n",
              "      <th>75%</th>\n",
              "      <td>0.201110</td>\n",
              "      <td>0.692969</td>\n",
              "      <td>0.509491</td>\n",
              "      <td>0.164255</td>\n",
              "    </tr>\n",
              "    <tr>\n",
              "      <th>max</th>\n",
              "      <td>1.221295</td>\n",
              "      <td>1.179057</td>\n",
              "      <td>1.643294</td>\n",
              "      <td>1.025714</td>\n",
              "    </tr>\n",
              "  </tbody>\n",
              "</table>\n",
              "</div>"
            ],
            "text/plain": [
              "              A         B         C         D\n",
              "count  6.000000  6.000000  6.000000  6.000000\n",
              "mean  -0.198933 -0.003760  0.296947  0.043649\n",
              "std    0.936086  0.949625  0.782677  0.559470\n",
              "min   -1.533943 -1.204098 -0.570535 -0.541807\n",
              "25%   -0.649986 -0.736478 -0.190451 -0.338150\n",
              "50%   -0.211837  0.045370  0.212655  0.007387\n",
              "75%    0.201110  0.692969  0.509491  0.164255\n",
              "max    1.221295  1.179057  1.643294  1.025714"
            ]
          },
          "metadata": {
            "tags": []
          },
          "execution_count": 39
        }
      ]
    },
    {
      "cell_type": "code",
      "metadata": {
        "id": "77xzoOqEsS_m",
        "colab_type": "code",
        "colab": {
          "base_uri": "https://localhost:8080/",
          "height": 233
        },
        "outputId": "a2d26454-470c-46a6-92a9-e63c9484b358"
      },
      "source": [
        "df.info()"
      ],
      "execution_count": null,
      "outputs": [
        {
          "output_type": "stream",
          "text": [
            "<class 'pandas.core.frame.DataFrame'>\n",
            "DatetimeIndex: 6 entries, 2020-08-25 to 2020-08-30\n",
            "Freq: D\n",
            "Data columns (total 4 columns):\n",
            " #   Column  Non-Null Count  Dtype  \n",
            "---  ------  --------------  -----  \n",
            " 0   A       6 non-null      float64\n",
            " 1   B       6 non-null      float64\n",
            " 2   C       6 non-null      float64\n",
            " 3   D       6 non-null      float64\n",
            "dtypes: float64(4)\n",
            "memory usage: 240.0 bytes\n"
          ],
          "name": "stdout"
        }
      ]
    },
    {
      "cell_type": "markdown",
      "metadata": {
        "id": "Z20i0qa_slu2",
        "colab_type": "text"
      },
      "source": [
        "- 데이터프레임에서 특정 데이터를 반환하는 법을 알아보자\n",
        "- 방법은 크게 행과 열을 기준으로 데이터를 반환하거나\n",
        "- 데이터의 이름이나 인덱스를 기준으로 데이터를 반환하는 법으로 나뉜다"
      ]
    },
    {
      "cell_type": "markdown",
      "metadata": {
        "id": "Xu4xI7wOsyYb",
        "colab_type": "text"
      },
      "source": [
        "- 아래는 칼럼명을 바탕으로 데이터를 반환하는 법이다"
      ]
    },
    {
      "cell_type": "code",
      "metadata": {
        "id": "vMFT99pRs1X3",
        "colab_type": "code",
        "colab": {
          "base_uri": "https://localhost:8080/",
          "height": 143
        },
        "outputId": "9c0f3a92-d5c3-44cb-ed65-ef698ec6ab1e"
      },
      "source": [
        "df['A'] #간단하게 df.A로 해도 된다"
      ],
      "execution_count": null,
      "outputs": [
        {
          "output_type": "execute_result",
          "data": {
            "text/plain": [
              "2020-08-25    0.286475\n",
              "2020-08-26   -1.533943\n",
              "2020-08-27    1.221295\n",
              "2020-08-28   -0.368689\n",
              "2020-08-29   -0.054986\n",
              "2020-08-30   -0.743751\n",
              "Freq: D, Name: A, dtype: float64"
            ]
          },
          "metadata": {
            "tags": []
          },
          "execution_count": 43
        }
      ]
    },
    {
      "cell_type": "markdown",
      "metadata": {
        "id": "jrdbPHjss7Fl",
        "colab_type": "text"
      },
      "source": [
        "- 아래는 행을 바탕으로 데이터를 반환하는 법이다\n",
        "- 행은 : 를 활용해서 기준을 주어야한다"
      ]
    },
    {
      "cell_type": "code",
      "metadata": {
        "id": "MGDMHIIDtGms",
        "colab_type": "code",
        "colab": {
          "base_uri": "https://localhost:8080/",
          "height": 111
        },
        "outputId": "b59f4646-3774-4fff-d3b3-a50a1a55806a"
      },
      "source": [
        "df['20200825':'20200826']"
      ],
      "execution_count": null,
      "outputs": [
        {
          "output_type": "execute_result",
          "data": {
            "text/html": [
              "<div>\n",
              "<style scoped>\n",
              "    .dataframe tbody tr th:only-of-type {\n",
              "        vertical-align: middle;\n",
              "    }\n",
              "\n",
              "    .dataframe tbody tr th {\n",
              "        vertical-align: top;\n",
              "    }\n",
              "\n",
              "    .dataframe thead th {\n",
              "        text-align: right;\n",
              "    }\n",
              "</style>\n",
              "<table border=\"1\" class=\"dataframe\">\n",
              "  <thead>\n",
              "    <tr style=\"text-align: right;\">\n",
              "      <th></th>\n",
              "      <th>A</th>\n",
              "      <th>B</th>\n",
              "      <th>C</th>\n",
              "      <th>D</th>\n",
              "    </tr>\n",
              "  </thead>\n",
              "  <tbody>\n",
              "    <tr>\n",
              "      <th>2020-08-25</th>\n",
              "      <td>0.286475</td>\n",
              "      <td>0.777258</td>\n",
              "      <td>0.492491</td>\n",
              "      <td>-0.541807</td>\n",
              "    </tr>\n",
              "    <tr>\n",
              "      <th>2020-08-26</th>\n",
              "      <td>-1.533943</td>\n",
              "      <td>-0.865517</td>\n",
              "      <td>-0.231541</td>\n",
              "      <td>-0.413718</td>\n",
              "    </tr>\n",
              "  </tbody>\n",
              "</table>\n",
              "</div>"
            ],
            "text/plain": [
              "                   A         B         C         D\n",
              "2020-08-25  0.286475  0.777258  0.492491 -0.541807\n",
              "2020-08-26 -1.533943 -0.865517 -0.231541 -0.413718"
            ]
          },
          "metadata": {
            "tags": []
          },
          "execution_count": 45
        }
      ]
    },
    {
      "cell_type": "code",
      "metadata": {
        "id": "ZC7g0MGjtN2S",
        "colab_type": "code",
        "colab": {
          "base_uri": "https://localhost:8080/",
          "height": 111
        },
        "outputId": "09bee669-140d-4f4c-d4e0-7bc728e4dd4d"
      },
      "source": [
        "df[0:2]"
      ],
      "execution_count": null,
      "outputs": [
        {
          "output_type": "execute_result",
          "data": {
            "text/html": [
              "<div>\n",
              "<style scoped>\n",
              "    .dataframe tbody tr th:only-of-type {\n",
              "        vertical-align: middle;\n",
              "    }\n",
              "\n",
              "    .dataframe tbody tr th {\n",
              "        vertical-align: top;\n",
              "    }\n",
              "\n",
              "    .dataframe thead th {\n",
              "        text-align: right;\n",
              "    }\n",
              "</style>\n",
              "<table border=\"1\" class=\"dataframe\">\n",
              "  <thead>\n",
              "    <tr style=\"text-align: right;\">\n",
              "      <th></th>\n",
              "      <th>A</th>\n",
              "      <th>B</th>\n",
              "      <th>C</th>\n",
              "      <th>D</th>\n",
              "    </tr>\n",
              "  </thead>\n",
              "  <tbody>\n",
              "    <tr>\n",
              "      <th>2020-08-25</th>\n",
              "      <td>0.286475</td>\n",
              "      <td>0.777258</td>\n",
              "      <td>0.492491</td>\n",
              "      <td>-0.541807</td>\n",
              "    </tr>\n",
              "    <tr>\n",
              "      <th>2020-08-26</th>\n",
              "      <td>-1.533943</td>\n",
              "      <td>-0.865517</td>\n",
              "      <td>-0.231541</td>\n",
              "      <td>-0.413718</td>\n",
              "    </tr>\n",
              "  </tbody>\n",
              "</table>\n",
              "</div>"
            ],
            "text/plain": [
              "                   A         B         C         D\n",
              "2020-08-25  0.286475  0.777258  0.492491 -0.541807\n",
              "2020-08-26 -1.533943 -0.865517 -0.231541 -0.413718"
            ]
          },
          "metadata": {
            "tags": []
          },
          "execution_count": 48
        }
      ]
    },
    {
      "cell_type": "code",
      "metadata": {
        "id": "8GhdiYBBtTa8",
        "colab_type": "code",
        "colab": {}
      },
      "source": [
        "df['A':'C'] \n",
        "#열은 :를 활용해서 데이터를 불러올 수 없다"
      ],
      "execution_count": null,
      "outputs": []
    },
    {
      "cell_type": "markdown",
      "metadata": {
        "id": "P4jVDb1Otrpl",
        "colab_type": "text"
      },
      "source": [
        "- 기본 인덱스가 아니라 loc와 iloc를 이용할 수도 있다\n",
        "- 이때 loc는 데이터의 이름을 기준으로 값을 출력, iloc는 데이터의 인덱스를 기준으로 값을 출력한다"
      ]
    },
    {
      "cell_type": "code",
      "metadata": {
        "id": "zkg9MoEIt1Wm",
        "colab_type": "code",
        "colab": {
          "base_uri": "https://localhost:8080/",
          "height": 142
        },
        "outputId": "cd7f8705-a8b8-4f66-af0a-be758d25b843"
      },
      "source": [
        "df.loc['20200825':'20200827', ['A','C']] #df.loc[행에 대한 정보, 열에 대한 정보]\n",
        "#df.loc[Dates[0:3],['A','C']]처럼 인덱스명을 제시하면 인덱스를 활용해 데이터를 반환할 수도 있다"
      ],
      "execution_count": null,
      "outputs": [
        {
          "output_type": "execute_result",
          "data": {
            "text/html": [
              "<div>\n",
              "<style scoped>\n",
              "    .dataframe tbody tr th:only-of-type {\n",
              "        vertical-align: middle;\n",
              "    }\n",
              "\n",
              "    .dataframe tbody tr th {\n",
              "        vertical-align: top;\n",
              "    }\n",
              "\n",
              "    .dataframe thead th {\n",
              "        text-align: right;\n",
              "    }\n",
              "</style>\n",
              "<table border=\"1\" class=\"dataframe\">\n",
              "  <thead>\n",
              "    <tr style=\"text-align: right;\">\n",
              "      <th></th>\n",
              "      <th>A</th>\n",
              "      <th>C</th>\n",
              "    </tr>\n",
              "  </thead>\n",
              "  <tbody>\n",
              "    <tr>\n",
              "      <th>2020-08-25</th>\n",
              "      <td>0.286475</td>\n",
              "      <td>0.492491</td>\n",
              "    </tr>\n",
              "    <tr>\n",
              "      <th>2020-08-26</th>\n",
              "      <td>-1.533943</td>\n",
              "      <td>-0.231541</td>\n",
              "    </tr>\n",
              "    <tr>\n",
              "      <th>2020-08-27</th>\n",
              "      <td>1.221295</td>\n",
              "      <td>1.643294</td>\n",
              "    </tr>\n",
              "  </tbody>\n",
              "</table>\n",
              "</div>"
            ],
            "text/plain": [
              "                   A         C\n",
              "2020-08-25  0.286475  0.492491\n",
              "2020-08-26 -1.533943 -0.231541\n",
              "2020-08-27  1.221295  1.643294"
            ]
          },
          "metadata": {
            "tags": []
          },
          "execution_count": 55
        }
      ]
    },
    {
      "cell_type": "code",
      "metadata": {
        "id": "A3z9l04SuiXK",
        "colab_type": "code",
        "colab": {
          "base_uri": "https://localhost:8080/",
          "height": 111
        },
        "outputId": "96910cc3-38c7-4d57-de12-dcf042a420d1"
      },
      "source": [
        "df.iloc[3:5,0:2] #iloc는 loc와 달리 인덱스만 주면 된다"
      ],
      "execution_count": null,
      "outputs": [
        {
          "output_type": "execute_result",
          "data": {
            "text/html": [
              "<div>\n",
              "<style scoped>\n",
              "    .dataframe tbody tr th:only-of-type {\n",
              "        vertical-align: middle;\n",
              "    }\n",
              "\n",
              "    .dataframe tbody tr th {\n",
              "        vertical-align: top;\n",
              "    }\n",
              "\n",
              "    .dataframe thead th {\n",
              "        text-align: right;\n",
              "    }\n",
              "</style>\n",
              "<table border=\"1\" class=\"dataframe\">\n",
              "  <thead>\n",
              "    <tr style=\"text-align: right;\">\n",
              "      <th></th>\n",
              "      <th>A</th>\n",
              "      <th>B</th>\n",
              "    </tr>\n",
              "  </thead>\n",
              "  <tbody>\n",
              "    <tr>\n",
              "      <th>2020-08-28</th>\n",
              "      <td>-0.368689</td>\n",
              "      <td>1.179057</td>\n",
              "    </tr>\n",
              "    <tr>\n",
              "      <th>2020-08-29</th>\n",
              "      <td>-0.054986</td>\n",
              "      <td>-1.204098</td>\n",
              "    </tr>\n",
              "  </tbody>\n",
              "</table>\n",
              "</div>"
            ],
            "text/plain": [
              "                   A         B\n",
              "2020-08-28 -0.368689  1.179057\n",
              "2020-08-29 -0.054986 -1.204098"
            ]
          },
          "metadata": {
            "tags": []
          },
          "execution_count": 56
        }
      ]
    },
    {
      "cell_type": "markdown",
      "metadata": {
        "id": "s2mIN56sugka",
        "colab_type": "text"
      },
      "source": [
        "- 이제 특정 부분을 지정하는 것에서 더 나아가 조건에 맞는 값을 반환하는 법을 알아보자\n",
        "- 조건을 확인하고 싶은 부분을 지정하고 조건을 연달아 써주면 된다"
      ]
    },
    {
      "cell_type": "code",
      "metadata": {
        "id": "nExD6io4ux9Q",
        "colab_type": "code",
        "colab": {
          "base_uri": "https://localhost:8080/",
          "height": 111
        },
        "outputId": "d5c9db5d-c3df-42d6-bd93-0c16d5cbd30e"
      },
      "source": [
        "df[df.A>0] # A열의 값이 0 이상인 데이터셋을 출력한다"
      ],
      "execution_count": null,
      "outputs": [
        {
          "output_type": "execute_result",
          "data": {
            "text/html": [
              "<div>\n",
              "<style scoped>\n",
              "    .dataframe tbody tr th:only-of-type {\n",
              "        vertical-align: middle;\n",
              "    }\n",
              "\n",
              "    .dataframe tbody tr th {\n",
              "        vertical-align: top;\n",
              "    }\n",
              "\n",
              "    .dataframe thead th {\n",
              "        text-align: right;\n",
              "    }\n",
              "</style>\n",
              "<table border=\"1\" class=\"dataframe\">\n",
              "  <thead>\n",
              "    <tr style=\"text-align: right;\">\n",
              "      <th></th>\n",
              "      <th>A</th>\n",
              "      <th>B</th>\n",
              "      <th>C</th>\n",
              "      <th>D</th>\n",
              "    </tr>\n",
              "  </thead>\n",
              "  <tbody>\n",
              "    <tr>\n",
              "      <th>2020-08-25</th>\n",
              "      <td>0.286475</td>\n",
              "      <td>0.777258</td>\n",
              "      <td>0.492491</td>\n",
              "      <td>-0.541807</td>\n",
              "    </tr>\n",
              "    <tr>\n",
              "      <th>2020-08-27</th>\n",
              "      <td>1.221295</td>\n",
              "      <td>0.440102</td>\n",
              "      <td>1.643294</td>\n",
              "      <td>1.025714</td>\n",
              "    </tr>\n",
              "  </tbody>\n",
              "</table>\n",
              "</div>"
            ],
            "text/plain": [
              "                   A         B         C         D\n",
              "2020-08-25  0.286475  0.777258  0.492491 -0.541807\n",
              "2020-08-27  1.221295  0.440102  1.643294  1.025714"
            ]
          },
          "metadata": {
            "tags": []
          },
          "execution_count": 57
        }
      ]
    }
  ]
}