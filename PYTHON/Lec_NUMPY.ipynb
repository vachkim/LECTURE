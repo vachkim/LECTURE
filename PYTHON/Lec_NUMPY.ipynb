{
  "nbformat": 4,
  "nbformat_minor": 0,
  "metadata": {
    "colab": {
      "name": "Lec_NUMPY.ipynb",
      "provenance": [],
      "collapsed_sections": [],
      "toc_visible": true,
      "authorship_tag": "ABX9TyPMcV5lk7QOHaHdi3dix1PM",
      "include_colab_link": true
    },
    "kernelspec": {
      "name": "python3",
      "display_name": "Python 3"
    }
  },
  "cells": [
    {
      "cell_type": "markdown",
      "metadata": {
        "id": "view-in-github",
        "colab_type": "text"
      },
      "source": [
        "<a href=\"https://colab.research.google.com/github/vachkim/LECTURE/blob/master/PYTHON/Lec_NUMPY.ipynb\" target=\"_parent\"><img src=\"https://colab.research.google.com/assets/colab-badge.svg\" alt=\"Open In Colab\"/></a>"
      ]
    },
    {
      "cell_type": "markdown",
      "metadata": {
        "id": "MDQdqMdwovHQ",
        "colab_type": "text"
      },
      "source": [
        "## - 넘파이\n",
        "- 넘파이는 숫자를 다루는 패키지이다\n",
        "- import numpy를 한 뒤에 사용하자"
      ]
    },
    {
      "cell_type": "code",
      "metadata": {
        "id": "g3UTOOpzow1d",
        "colab_type": "code",
        "colab": {}
      },
      "source": [
        "import numpy as np"
      ],
      "execution_count": null,
      "outputs": []
    },
    {
      "cell_type": "markdown",
      "metadata": {
        "id": "qYthJx3PKk4z",
        "colab_type": "text"
      },
      "source": [
        "### 1) 넘파이 배열\n",
        "- 넘파이는 주로 배열을 다루는 기능을 수행한다\n",
        "- np.array를 활용하면 배열을 만들 수 있다"
      ]
    },
    {
      "cell_type": "code",
      "metadata": {
        "id": "QNZwZUFFMDb3",
        "colab_type": "code",
        "colab": {
          "base_uri": "https://localhost:8080/",
          "height": 35
        },
        "outputId": "d58843d9-f4c2-4185-8bb2-078b88c48578"
      },
      "source": [
        "arr= np.array([1,2,3,4])\n",
        "print(arr)"
      ],
      "execution_count": null,
      "outputs": [
        {
          "output_type": "stream",
          "text": [
            "[1 2 3 4]\n"
          ],
          "name": "stdout"
        }
      ]
    },
    {
      "cell_type": "markdown",
      "metadata": {
        "id": "Xryds9eqMNNO",
        "colab_type": "text"
      },
      "source": [
        "- 이 외 특정값이 들어간 배열을 만들 수도 있다\n",
        "- np.특정값(배열)의 순으로 입력한다"
      ]
    },
    {
      "cell_type": "code",
      "metadata": {
        "id": "hrcRQMnlKkO-",
        "colab_type": "code",
        "colab": {
          "base_uri": "https://localhost:8080/",
          "height": 71
        },
        "outputId": "97a972c0-70b2-4a44-f8a5-63b26aac4ce3"
      },
      "source": [
        "np.zeros((3,3)) #배열은 (행의 수, 열의 수)"
      ],
      "execution_count": null,
      "outputs": [
        {
          "output_type": "execute_result",
          "data": {
            "text/plain": [
              "array([[0., 0., 0.],\n",
              "       [0., 0., 0.],\n",
              "       [0., 0., 0.]])"
            ]
          },
          "metadata": {
            "tags": []
          },
          "execution_count": 60
        }
      ]
    },
    {
      "cell_type": "markdown",
      "metadata": {
        "id": "rEzYUNNXMc_p",
        "colab_type": "text"
      },
      "source": [
        "- np.arrange는 array와 달리 주어진 수만큼의 수를 리스트처럼 출력한다\n",
        "- arange(a,b,c)로도 사용이 가능하다_이 경우에는 a부터 b까지 c씩 커지는 배열이 나온다\n",
        "- 이를 행열로 다듬는 reshpae()와 함께 사용하면 또다른 array를 만들 수 있다"
      ]
    },
    {
      "cell_type": "code",
      "metadata": {
        "id": "0OqrlSI0MYXL",
        "colab_type": "code",
        "colab": {
          "base_uri": "https://localhost:8080/"
        },
        "outputId": "f30d2cfa-3026-4afb-89a0-a4c1b7060211"
      },
      "source": [
        "np.arange(10)"
      ],
      "execution_count": null,
      "outputs": [
        {
          "output_type": "execute_result",
          "data": {
            "text/plain": [
              "array([0, 1, 2, 3, 4, 5, 6, 7, 8, 9])"
            ]
          },
          "metadata": {
            "tags": []
          },
          "execution_count": 63
        }
      ]
    },
    {
      "cell_type": "code",
      "metadata": {
        "id": "9ZbUZBkZSCtV",
        "colab_type": "code",
        "colab": {
          "base_uri": "https://localhost:8080/",
          "height": 53
        },
        "outputId": "22be3170-6f9e-4ebe-f07c-76aafddf4c6a"
      },
      "source": [
        "np.arange(10,100,5)"
      ],
      "execution_count": null,
      "outputs": [
        {
          "output_type": "execute_result",
          "data": {
            "text/plain": [
              "array([10, 15, 20, 25, 30, 35, 40, 45, 50, 55, 60, 65, 70, 75, 80, 85, 90,\n",
              "       95])"
            ]
          },
          "metadata": {
            "tags": []
          },
          "execution_count": 10
        }
      ]
    },
    {
      "cell_type": "code",
      "metadata": {
        "id": "4RNDZ3JBRaTj",
        "colab_type": "code",
        "colab": {
          "base_uri": "https://localhost:8080/",
          "height": 53
        },
        "outputId": "82d371cb-0722-49e9-9511-60e4a18b53f7"
      },
      "source": [
        "np.arange(10).reshape(2,5)"
      ],
      "execution_count": null,
      "outputs": [
        {
          "output_type": "execute_result",
          "data": {
            "text/plain": [
              "array([[0, 1, 2, 3, 4],\n",
              "       [5, 6, 7, 8, 9]])"
            ]
          },
          "metadata": {
            "tags": []
          },
          "execution_count": 8
        }
      ]
    },
    {
      "cell_type": "code",
      "metadata": {
        "id": "GYF5tmrBRmiz",
        "colab_type": "code",
        "colab": {
          "base_uri": "https://localhost:8080/",
          "height": 341
        },
        "outputId": "036e1e1b-6b1c-4f87-e048-4c977946e0bc"
      },
      "source": [
        "np.arange(24).reshape(2,3,2,2) \n",
        "#이렇게 4개의 수가 들어갈 경우\n",
        "#뒤의 2개의 수가 행열에 대한 것\n",
        "#앞의 2개는 행렬의 배열에 대한 것이다"
      ],
      "execution_count": null,
      "outputs": [
        {
          "output_type": "execute_result",
          "data": {
            "text/plain": [
              "array([[[[ 0,  1],\n",
              "         [ 2,  3]],\n",
              "\n",
              "        [[ 4,  5],\n",
              "         [ 6,  7]],\n",
              "\n",
              "        [[ 8,  9],\n",
              "         [10, 11]]],\n",
              "\n",
              "\n",
              "       [[[12, 13],\n",
              "         [14, 15]],\n",
              "\n",
              "        [[16, 17],\n",
              "         [18, 19]],\n",
              "\n",
              "        [[20, 21],\n",
              "         [22, 23]]]])"
            ]
          },
          "metadata": {
            "tags": []
          },
          "execution_count": 9
        }
      ]
    },
    {
      "cell_type": "markdown",
      "metadata": {
        "id": "Vgdxl5ktM3-Z",
        "colab_type": "text"
      },
      "source": [
        "- 넘파이의 특징 중 하나는 다차원의 배열을 만들 수 있다는 것\n",
        "\n"
      ]
    },
    {
      "cell_type": "code",
      "metadata": {
        "id": "H3LyhrJMMjVD",
        "colab_type": "code",
        "colab": {
          "base_uri": "https://localhost:8080/",
          "height": 53
        },
        "outputId": "20d34f46-2ce8-4e24-a330-6df5cb609c27"
      },
      "source": [
        "arr = np.array([[1,2,3],\n",
        "                [4,5,6]])\n",
        "arr"
      ],
      "execution_count": null,
      "outputs": [
        {
          "output_type": "execute_result",
          "data": {
            "text/plain": [
              "array([[1, 2, 3],\n",
              "       [4, 5, 6]])"
            ]
          },
          "metadata": {
            "tags": []
          },
          "execution_count": 3
        }
      ]
    },
    {
      "cell_type": "markdown",
      "metadata": {
        "id": "RqgifioXQhQK",
        "colab_type": "text"
      },
      "source": [
        "- 형성된 array끼리의 연산도 가능\n",
        "- 이때에는 같은 차원의 데이터끼리 연산된다"
      ]
    },
    {
      "cell_type": "code",
      "metadata": {
        "id": "ZCoROmrzQTIT",
        "colab_type": "code",
        "colab": {
          "base_uri": "https://localhost:8080/",
          "height": 215
        },
        "outputId": "05561b5d-d814-4e35-c772-895f1772165e"
      },
      "source": [
        "arr1=np.array([[1,2],[3,4]])\n",
        "arr2=np.array([[5,6],[7,8]])\n",
        "\n",
        "print(arr1+arr2)          #배열끼리의 합 두가지 방법 \n",
        "print('-'*20)\n",
        "print(np.add(arr1,arr2))\n",
        "print('-'*20)\n",
        "print(arr1*arr2)          #배열끼리의 곱 두가지 방법\n",
        "print('-'*20)\n",
        "print(np.multiply(arr1,arr2))"
      ],
      "execution_count": null,
      "outputs": [
        {
          "output_type": "stream",
          "text": [
            "[[ 6  8]\n",
            " [10 12]]\n",
            "--------------------\n",
            "[[ 6  8]\n",
            " [10 12]]\n",
            "--------------------\n",
            "[[ 5 12]\n",
            " [21 32]]\n",
            "--------------------\n",
            "[[ 5 12]\n",
            " [21 32]]\n"
          ],
          "name": "stdout"
        }
      ]
    },
    {
      "cell_type": "markdown",
      "metadata": {
        "id": "Rocl7xu0Queg",
        "colab_type": "text"
      },
      "source": [
        "- 데이터 프레임과 마찬가지로 배열을 슬라이싱하는 것도 중요하다\n",
        "- [시작행:끝행,시작열:끝열]의 순서로 표시해주면 데이터가 들어감"
      ]
    },
    {
      "cell_type": "code",
      "metadata": {
        "id": "hOCjRqR9Qre8",
        "colab_type": "code",
        "colab": {
          "base_uri": "https://localhost:8080/",
          "height": 71
        },
        "outputId": "f95f8fa3-238d-4bc9-cf86-b60babeca6e2"
      },
      "source": [
        "arr=np.array([[1,2,3]\n",
        "             ,[4,5,6]\n",
        "             ,[7,8,9]])\n",
        "print(arr[0,2])\n",
        "print(arr[0:2,1:3])"
      ],
      "execution_count": null,
      "outputs": [
        {
          "output_type": "stream",
          "text": [
            "3\n",
            "[[2 3]\n",
            " [5 6]]\n"
          ],
          "name": "stdout"
        }
      ]
    },
    {
      "cell_type": "code",
      "metadata": {
        "id": "Mxtlj4QoREQy",
        "colab_type": "code",
        "colab": {}
      },
      "source": [
        ""
      ],
      "execution_count": null,
      "outputs": []
    }
  ]
}