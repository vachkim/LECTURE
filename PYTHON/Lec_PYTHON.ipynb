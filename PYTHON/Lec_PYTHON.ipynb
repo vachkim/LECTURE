{
  "nbformat": 4,
  "nbformat_minor": 0,
  "metadata": {
    "colab": {
      "name": "Lec_PYTHON.ipynb",
      "provenance": [],
      "collapsed_sections": [],
      "authorship_tag": "ABX9TyPz2XdTUlihpO+v9knBrwM2",
      "include_colab_link": true
    },
    "kernelspec": {
      "name": "python3",
      "display_name": "Python 3"
    }
  },
  "cells": [
    {
      "cell_type": "markdown",
      "metadata": {
        "id": "view-in-github",
        "colab_type": "text"
      },
      "source": [
        "<a href=\"https://colab.research.google.com/github/vachkim/LECTURE/blob/master/PYTHON/Lec_PYTHON.ipynb\" target=\"_parent\"><img src=\"https://colab.research.google.com/assets/colab-badge.svg\" alt=\"Open In Colab\"/></a>"
      ]
    },
    {
      "cell_type": "markdown",
      "metadata": {
        "id": "ch-iw5qReQDe",
        "colab_type": "text"
      },
      "source": [
        "## 1-0) 파이썬 기초\n",
        "파이썬의 기초가 되는 개념들과 기능들에 대해 우선 알아보자"
      ]
    },
    {
      "cell_type": "markdown",
      "metadata": {
        "id": "naCB6hE5onjY",
        "colab_type": "text"
      },
      "source": [
        "### 1-1) 변수 설정\n",
        "- 파이썬의 기본은 변수를 설정하는 것\n",
        "- 설정할 변수와 넣을 변수값을 Equation(=)으로 연결해주면 된다"
      ]
    },
    {
      "cell_type": "code",
      "metadata": {
        "id": "EOc316-Ml8EB",
        "colab_type": "code",
        "colab": {}
      },
      "source": [
        "a=1; b=2 #a에는 1의 값, b에는 2의 값을 할당"
      ],
      "execution_count": null,
      "outputs": []
    },
    {
      "cell_type": "markdown",
      "metadata": {
        "id": "H24MmFvepDBG",
        "colab_type": "text"
      },
      "source": [
        "- 삽입한 변수는 자유롭게 연산이 가능하다"
      ]
    },
    {
      "cell_type": "code",
      "metadata": {
        "id": "3EnYho3ApB1q",
        "colab_type": "code",
        "colab": {
          "base_uri": "https://localhost:8080/",
          "height": 34
        },
        "outputId": "74eb6c8b-ada9-4f6c-d082-b7a716ae5999"
      },
      "source": [
        "a+b"
      ],
      "execution_count": null,
      "outputs": [
        {
          "output_type": "execute_result",
          "data": {
            "text/plain": [
              "3"
            ]
          },
          "metadata": {
            "tags": []
          },
          "execution_count": 2
        }
      ]
    },
    {
      "cell_type": "markdown",
      "metadata": {
        "id": "5EZDNEhxpMAG",
        "colab_type": "text"
      },
      "source": [
        "- 숫자가 아니라 문자도 변수값으로 삽입이 가능하다"
      ]
    },
    {
      "cell_type": "code",
      "metadata": {
        "id": "v4i44vsEpJwU",
        "colab_type": "code",
        "colab": {
          "base_uri": "https://localhost:8080/",
          "height": 34
        },
        "outputId": "a4682a29-02c7-407e-9984-f85823e58516"
      },
      "source": [
        "c = 'Elementary_Python'\n",
        "print(c) #변수값을 출력하는 기본함수, print"
      ],
      "execution_count": null,
      "outputs": [
        {
          "output_type": "stream",
          "text": [
            "Elementary_Python\n"
          ],
          "name": "stdout"
        }
      ]
    },
    {
      "cell_type": "markdown",
      "metadata": {
        "id": "d2Ox7v0ypcbl",
        "colab_type": "text"
      },
      "source": [
        "### 1-2) 슬라이싱\n",
        "- [ - ]을 통해 변수 값의 일부만을 출력할 수 있다\n",
        "- [슬라이싱을 시작할 값의 인덱스 : 슬라이싱을 끝낼 값의 인덱스]으로 코딩하면 된다\n",
        "- 파이썬의 인덱스는 0부터 시작함을 유의한다"
      ]
    },
    {
      "cell_type": "code",
      "metadata": {
        "id": "tjNXrKCOpVkI",
        "colab_type": "code",
        "colab": {
          "base_uri": "https://localhost:8080/",
          "height": 35
        },
        "outputId": "3df21a9c-fe49-4053-dc32-083fe2bafaeb"
      },
      "source": [
        "number = '123456-987654'\n",
        "number[0:6] #맨처음부터 6번 인덱스의 바로 앞 값까지를 출력한다"
      ],
      "execution_count": null,
      "outputs": [
        {
          "output_type": "execute_result",
          "data": {
            "application/vnd.google.colaboratory.intrinsic+json": {
              "type": "string"
            },
            "text/plain": [
              "'123456'"
            ]
          },
          "metadata": {
            "tags": []
          },
          "execution_count": 6
        }
      ]
    },
    {
      "cell_type": "markdown",
      "metadata": {
        "id": "Ot4gGLBDrw35",
        "colab_type": "text"
      },
      "source": [
        "[ - ]에 특정 값을 입력하지 않으면 맨 처음부터 맨 끝까지 출력한다\n"
      ]
    },
    {
      "cell_type": "code",
      "metadata": {
        "id": "D_S4oy8Wrocj",
        "colab_type": "code",
        "colab": {
          "base_uri": "https://localhost:8080/",
          "height": 35
        },
        "outputId": "3efe0939-b17b-460c-c389-2a56a3e387f1"
      },
      "source": [
        "alphabet = 'MyCodingLesson'\n",
        "alphabet[2:] #2번째부터 맨 끝까지의 값을 출력한다"
      ],
      "execution_count": null,
      "outputs": [
        {
          "output_type": "execute_result",
          "data": {
            "application/vnd.google.colaboratory.intrinsic+json": {
              "type": "string"
            },
            "text/plain": [
              "'CodingLesson'"
            ]
          },
          "metadata": {
            "tags": []
          },
          "execution_count": 8
        }
      ]
    },
    {
      "cell_type": "markdown",
      "metadata": {
        "id": "-aHbiYoOsemB",
        "colab_type": "text"
      },
      "source": [
        "### 1-3) 함수설정\n",
        "- 변수 하나만을 바꿔서 반복적으로 계산하는 경우나\n",
        "- 자주 사용하는 식의 경우 함수로 식을 저장해 사용할 수 있다\n",
        "- def 함수명(): 함수식의 순서로 작성한다"
      ]
    },
    {
      "cell_type": "code",
      "metadata": {
        "id": "H7wR69TWsDAf",
        "colab_type": "code",
        "colab": {}
      },
      "source": [
        "def my_func():\n",
        "  print('my first function')"
      ],
      "execution_count": null,
      "outputs": []
    },
    {
      "cell_type": "code",
      "metadata": {
        "id": "zhfSYoqKtC66",
        "colab_type": "code",
        "colab": {
          "base_uri": "https://localhost:8080/",
          "height": 34
        },
        "outputId": "a81f1980-9d88-4643-a4aa-94fd5815e77d"
      },
      "source": [
        "my_func() #함수를 부르면 저장한 기능이 수행된다"
      ],
      "execution_count": null,
      "outputs": [
        {
          "output_type": "stream",
          "text": [
            "my first function\n"
          ],
          "name": "stdout"
        }
      ]
    },
    {
      "cell_type": "markdown",
      "metadata": {
        "id": "40AMqbDItOLC",
        "colab_type": "text"
      },
      "source": [
        "- 특정값을 인자로 받는 함수를 작성할 수도 있다"
      ]
    },
    {
      "cell_type": "code",
      "metadata": {
        "id": "gYgR6JkBtFaQ",
        "colab_type": "code",
        "colab": {}
      },
      "source": [
        "def my_friend(name): #name을 인자로 받는 함수\n",
        "  print('{}는 내 친구'.format(name))\n",
        "#{-}를 사용하고 뒤에 format.()를 사용하면 ()에 입력된 값이 {}로 들어간다"
      ],
      "execution_count": null,
      "outputs": []
    },
    {
      "cell_type": "code",
      "metadata": {
        "id": "HpZ80GqdtgCh",
        "colab_type": "code",
        "colab": {
          "base_uri": "https://localhost:8080/",
          "height": 34
        },
        "outputId": "d6fd203e-7556-416b-db8f-b2866f5af0cb"
      },
      "source": [
        "my_friend('Richard Madden')"
      ],
      "execution_count": null,
      "outputs": [
        {
          "output_type": "stream",
          "text": [
            "Richard Madden는 내 친구\n"
          ],
          "name": "stdout"
        }
      ]
    },
    {
      "cell_type": "code",
      "metadata": {
        "id": "Nk7idEw3t0yZ",
        "colab_type": "code",
        "colab": {}
      },
      "source": [
        "#위와 비슷하게 사용할 수 있는 기능으로 %s와 %d가 있다\n",
        "#%s는 문자형에, %d는 숫자형에 사용한다\n",
        "def my_dog(name):\n",
        "  print('%s는 우리집 강아지' %name)"
      ],
      "execution_count": null,
      "outputs": []
    },
    {
      "cell_type": "code",
      "metadata": {
        "id": "lCMrS7NXtuHC",
        "colab_type": "code",
        "colab": {
          "base_uri": "https://localhost:8080/",
          "height": 34
        },
        "outputId": "7ddcb384-58e5-4989-897b-76cefa1cfaf9"
      },
      "source": [
        "my_dog('Coco')"
      ],
      "execution_count": null,
      "outputs": [
        {
          "output_type": "stream",
          "text": [
            "Coco는 우리집 강아지\n"
          ],
          "name": "stdout"
        }
      ]
    },
    {
      "cell_type": "markdown",
      "metadata": {
        "id": "p_we32UxuP7d",
        "colab_type": "text"
      },
      "source": [
        "- 복수의 인자를 가지는 경우도 있다"
      ]
    },
    {
      "cell_type": "code",
      "metadata": {
        "id": "DTgfJIoPuFuP",
        "colab_type": "code",
        "colab": {}
      },
      "source": [
        "def my_info(name, id, number):\n",
        "  print('이름은', name)\n",
        "  print('아이디는', id)\n",
        "  print('번호는', number)"
      ],
      "execution_count": null,
      "outputs": []
    },
    {
      "cell_type": "code",
      "metadata": {
        "id": "FhMX3OPAuaU2",
        "colab_type": "code",
        "colab": {
          "base_uri": "https://localhost:8080/",
          "height": 70
        },
        "outputId": "40b577ec-4a5b-4c56-b2ab-1764d90cb680"
      },
      "source": [
        "my_info('vach', 1234, 5678)"
      ],
      "execution_count": null,
      "outputs": [
        {
          "output_type": "stream",
          "text": [
            "이름은 vach\n",
            "아이디는 1234\n",
            "번호는 5678\n"
          ],
          "name": "stdout"
        }
      ]
    },
    {
      "cell_type": "markdown",
      "metadata": {
        "id": "2CB8YHCDuqLU",
        "colab_type": "text"
      },
      "source": [
        "- 인자를 계산해 반환값으로 출력할 수도 있다"
      ]
    },
    {
      "cell_type": "code",
      "metadata": {
        "id": "gG8D3LGnueWC",
        "colab_type": "code",
        "colab": {}
      },
      "source": [
        "def my_calc(x,y):\n",
        "  z=x*y\n",
        "  return z #특정값을 반환하는 경우 return으로 반환값을 지정"
      ],
      "execution_count": null,
      "outputs": []
    },
    {
      "cell_type": "code",
      "metadata": {
        "id": "TN7to8MNu12a",
        "colab_type": "code",
        "colab": {
          "base_uri": "https://localhost:8080/",
          "height": 34
        },
        "outputId": "c6628532-a02a-4e32-bf6a-218ab22bc560"
      },
      "source": [
        "my_calc(3,5)"
      ],
      "execution_count": null,
      "outputs": [
        {
          "output_type": "execute_result",
          "data": {
            "text/plain": [
              "15"
            ]
          },
          "metadata": {
            "tags": []
          },
          "execution_count": 25
        }
      ]
    },
    {
      "cell_type": "markdown",
      "metadata": {
        "id": "lNknWuX9vYdD",
        "colab_type": "text"
      },
      "source": [
        "- 아래 식을 이해하기 위해 for구문에 대해 알아보자\n",
        "- for 변수명 in 리스트나 튜플은 리스트나 튜플에서 값을 하나씩 반환해 \n",
        "- for구문 아래의 계산식에 대입, 출력함을 의미한다"
      ]
    },
    {
      "cell_type": "code",
      "metadata": {
        "id": "kkLZPFevu3-F",
        "colab_type": "code",
        "colab": {}
      },
      "source": [
        "def my_sum(*args): \n",
        "#*args는 인자로 값을 특정하지 않고, 들어온 모든 값을 받아들인다는 것을 의미한다\n",
        "  sum = 0 \n",
        "  for i in args: #args에 들어온 값을 i라고 명명해 하나씩 반환\n",
        "    sum = sum+i #0으로 정의한 sum에 i값을 더하게된다\n",
        "  return sum"
      ],
      "execution_count": null,
      "outputs": []
    },
    {
      "cell_type": "code",
      "metadata": {
        "id": "KiKErv6bvIkb",
        "colab_type": "code",
        "colab": {
          "base_uri": "https://localhost:8080/",
          "height": 34
        },
        "outputId": "3d3982bd-0d44-4969-85bb-668b54d16c50"
      },
      "source": [
        "my_sum(1,4,7,9,14)"
      ],
      "execution_count": null,
      "outputs": [
        {
          "output_type": "execute_result",
          "data": {
            "text/plain": [
              "35"
            ]
          },
          "metadata": {
            "tags": []
          },
          "execution_count": 27
        }
      ]
    },
    {
      "cell_type": "markdown",
      "metadata": {
        "id": "RgXYNYcIeaeG",
        "colab_type": "text"
      },
      "source": [
        "## 2-0) 파이썬 튜토리얼\n",
        "- 파이썬의 기능 중 자주 쓰이는 기능에 대해 알아보자"
      ]
    },
    {
      "cell_type": "markdown",
      "metadata": {
        "id": "iT_Ep9Yweq3a",
        "colab_type": "text"
      },
      "source": [
        "### 2-1) 파이썬 심화함수"
      ]
    },
    {
      "cell_type": "markdown",
      "metadata": {
        "id": "CfDEM0mie0Nv",
        "colab_type": "text"
      },
      "source": [
        "- Enumerate는 자체적으로 인덱스를 부여하는 함수\n",
        "- For구문에서 자주 활용되니 기억해두자"
      ]
    },
    {
      "cell_type": "code",
      "metadata": {
        "id": "KPVzHSake-Zw",
        "colab_type": "code",
        "colab": {
          "base_uri": "https://localhost:8080/",
          "height": 35
        },
        "outputId": "5cfc2b00-497f-4e68-d490-de3f53a1d676"
      },
      "source": [
        "x=['a','b','c']\n",
        "y = enumerate(x)\n",
        "list(y)"
      ],
      "execution_count": null,
      "outputs": [
        {
          "output_type": "execute_result",
          "data": {
            "text/plain": [
              "[(0, 'a'), (1, 'b'), (2, 'c')]"
            ]
          },
          "metadata": {
            "tags": []
          },
          "execution_count": 3
        }
      ]
    },
    {
      "cell_type": "markdown",
      "metadata": {
        "id": "yQzJs1yxgzSK",
        "colab_type": "text"
      },
      "source": [
        "- Filter는 특정 조건을 만족하는(True) 값만을 출력해 list로 반환한다\n",
        "- Filter(function, 적용할 값)"
      ]
    },
    {
      "cell_type": "code",
      "metadata": {
        "id": "ckP0tBUQgyfg",
        "colab_type": "code",
        "colab": {
          "base_uri": "https://localhost:8080/",
          "height": 35
        },
        "outputId": "6900ca53-8ed5-4ef9-e51f-5378c47028ac"
      },
      "source": [
        "number = [1,5,8,14,35,76]\n",
        "\n",
        "def my_func(x):\n",
        "  if x > 10:\n",
        "    return True #10을 넘는 값만이 함수에서 True로 반환\n",
        "  else:\n",
        "    return False\n",
        "\n",
        "fil = filter(my_func,number) #True값을 가진 숫자만을 출력\n",
        "list(fil)"
      ],
      "execution_count": null,
      "outputs": [
        {
          "output_type": "execute_result",
          "data": {
            "text/plain": [
              "[14, 35, 76]"
            ]
          },
          "metadata": {
            "tags": []
          },
          "execution_count": 5
        }
      ]
    },
    {
      "cell_type": "markdown",
      "metadata": {
        "id": "JiCR_IWtiAZk",
        "colab_type": "text"
      },
      "source": [
        "- Map은 함수를 일괄적용해 그 결과를 list로 반환하는 기능을 수행한다\n",
        "- Map(수행할 기능, 함수를 적용할 값)"
      ]
    },
    {
      "cell_type": "code",
      "metadata": {
        "id": "JMbYAXL6h_zE",
        "colab_type": "code",
        "colab": {
          "base_uri": "https://localhost:8080/",
          "height": 35
        },
        "outputId": "f4e4f117-801f-4c0a-b69d-a8f08a58c11d"
      },
      "source": [
        "def my_func(x):\n",
        "  return(len(x))\n",
        "\n",
        "x= map(my_func, ['phone','laptop','television']) #각 값의 글자수를 일괄 출력\n",
        "list(x)"
      ],
      "execution_count": null,
      "outputs": [
        {
          "output_type": "execute_result",
          "data": {
            "text/plain": [
              "[5, 6, 10]"
            ]
          },
          "metadata": {
            "tags": []
          },
          "execution_count": 7
        }
      ]
    },
    {
      "cell_type": "markdown",
      "metadata": {
        "id": "vuIJc_Ce6GXi",
        "colab_type": "text"
      },
      "source": [
        "### 2-2) 문자열 함수\n",
        "- str에 적용 가능한 문자열 함수 정리"
      ]
    },
    {
      "cell_type": "markdown",
      "metadata": {
        "id": "EzuxYyjw6XNH",
        "colab_type": "text"
      },
      "source": [
        "- 대문자나 소문자로 전환하는 Capitalize, Title, Casefold"
      ]
    },
    {
      "cell_type": "code",
      "metadata": {
        "id": "RPQdAMaT6OF2",
        "colab_type": "code",
        "colab": {
          "base_uri": "https://localhost:8080/",
          "height": 71
        },
        "outputId": "21dd7467-5876-4219-fdbb-02dcd89983f8"
      },
      "source": [
        "letter = 'example'\n",
        "print('capitalize = ', letter.capitalize())\n",
        "print('title = ', letter.title())\n",
        "letter = 'Example'\n",
        "print('casefold = ', letter.casefold())"
      ],
      "execution_count": null,
      "outputs": [
        {
          "output_type": "stream",
          "text": [
            "capitalize =  Example\n",
            "title =  Example\n",
            "casefold =  example\n"
          ],
          "name": "stdout"
        }
      ]
    },
    {
      "cell_type": "markdown",
      "metadata": {
        "id": "LXmnJev36zt1",
        "colab_type": "text"
      },
      "source": [
        "- 정해진 글자수만큼 텍스트를 채우는 함수로 center, ljust, rjust가 있다"
      ]
    },
    {
      "cell_type": "code",
      "metadata": {
        "id": "KnGqOfoug3tA",
        "colab_type": "code",
        "colab": {
          "base_uri": "https://localhost:8080/",
          "height": 71
        },
        "outputId": "25a4fd82-eecc-41e0-8dc2-fe7492b5fadc"
      },
      "source": [
        "letter = 'example'\n",
        "print(letter.center(20, '-'))\n",
        "print(letter.ljust(20,'-'))\n",
        "print(letter.rjust(20,'-'))"
      ],
      "execution_count": null,
      "outputs": [
        {
          "output_type": "stream",
          "text": [
            "------example-------\n",
            "example-------------\n",
            "-------------example\n"
          ],
          "name": "stdout"
        }
      ]
    },
    {
      "cell_type": "markdown",
      "metadata": {
        "id": "vBRQnTV2hQJo",
        "colab_type": "text"
      },
      "source": [
        "- 문자열에서 특정 문자의 갯수를 세는 count\n",
        "- count(찾는 문자열)할 수도 있지만 \n",
        "- count(찾는 문자열, 찾기 시작할 인덱스, 찾기를 마칠 인덱스)도 가능"
      ]
    },
    {
      "cell_type": "code",
      "metadata": {
        "id": "-lviXUL-hbxg",
        "colab_type": "code",
        "colab": {
          "base_uri": "https://localhost:8080/",
          "height": 71
        },
        "outputId": "286e8408-2461-4547-ae56-156fec0420db"
      },
      "source": [
        "letter = 'Umbrella Academy is so great Love Klaus'\n",
        "print(letter.count('a'))\n",
        "print(letter.count('my'))\n",
        "print(letter.count('o',3,20))"
      ],
      "execution_count": null,
      "outputs": [
        {
          "output_type": "stream",
          "text": [
            "4\n",
            "1\n",
            "0\n"
          ],
          "name": "stdout"
        }
      ]
    },
    {
      "cell_type": "markdown",
      "metadata": {
        "id": "deMBNxt_iF5G",
        "colab_type": "text"
      },
      "source": [
        "- 이와 비슷하게 특정 문자열의 인덱스를 반환하는 find가 있다"
      ]
    },
    {
      "cell_type": "code",
      "metadata": {
        "id": "mqxeHPGQiKRb",
        "colab_type": "code",
        "colab": {
          "base_uri": "https://localhost:8080/",
          "height": 71
        },
        "outputId": "347e43c5-f2e1-45ba-e6c8-25dded3ef042"
      },
      "source": [
        "letter = 'Umbrella Academy is so great Love Klaus'\n",
        "print(letter.find('a'))\n",
        "print(letter.find('my'))\n",
        "print(letter.find('o',3,20)) #없는 값은 -1(False)로 나온다"
      ],
      "execution_count": null,
      "outputs": [
        {
          "output_type": "stream",
          "text": [
            "7\n",
            "14\n",
            "-1\n"
          ],
          "name": "stdout"
        }
      ]
    },
    {
      "cell_type": "markdown",
      "metadata": {
        "id": "OTpSLGa4h0kc",
        "colab_type": "text"
      },
      "source": [
        "- 글자가 특정 값으로 끝났는지 확인하는 endswith"
      ]
    },
    {
      "cell_type": "code",
      "metadata": {
        "id": "jx0esK8bh0OX",
        "colab_type": "code",
        "colab": {
          "base_uri": "https://localhost:8080/",
          "height": 71
        },
        "outputId": "78cb86fa-157b-4509-8f9b-06fb81093226"
      },
      "source": [
        "letter = 'Umbrella Academy'\n",
        "print(letter.endswith('y'))\n",
        "print(letter.endswith('emy'))\n",
        "print(letter.endswith('umb'))"
      ],
      "execution_count": null,
      "outputs": [
        {
          "output_type": "stream",
          "text": [
            "True\n",
            "True\n",
            "False\n"
          ],
          "name": "stdout"
        }
      ]
    },
    {
      "cell_type": "markdown",
      "metadata": {
        "id": "K-GZWFGSig4L",
        "colab_type": "text"
      },
      "source": [
        "- 글자를 나누는 partition, split\n",
        "- partition은 기준이 되는 문자열이 반드시 포함, 결과에 기준도 포함\n",
        "- split은 기준이 없을 경우 띄어쓰기를 바탕으로 글자를 나눔"
      ]
    },
    {
      "cell_type": "code",
      "metadata": {
        "id": "Pv4PwXjyi7vD",
        "colab_type": "code",
        "colab": {
          "base_uri": "https://localhost:8080/",
          "height": 71
        },
        "outputId": "8d997cf3-1100-43be-c8c3-4899eb38859d"
      },
      "source": [
        "letter = 'Umbrella-Academy with No.5 and No.4 Dear-Klaus'\n",
        "print(letter.partition('-')) #partition은 맨 처음 나오는 기준에만 적용\n",
        "print(letter.split('-')) #split은 기준 전체에 일괄 적용\n",
        "print(letter.split('-',maxsplit=1)) #따라서 split을 일부에만 적용하고 싶으면 maxsplit 값이 있어야함"
      ],
      "execution_count": null,
      "outputs": [
        {
          "output_type": "stream",
          "text": [
            "('Umbrella', '-', 'Academy with No.5 and No.4 Dear-Klaus')\n",
            "['Umbrella', 'Academy with No.5 and No.4 Dear', 'Klaus']\n",
            "['Umbrella', 'Academy with No.5 and No.4 Dear-Klaus']\n"
          ],
          "name": "stdout"
        }
      ]
    },
    {
      "cell_type": "markdown",
      "metadata": {
        "id": "_3afzCoujiT1",
        "colab_type": "text"
      },
      "source": [
        "- 문자열을 바꾸는 replace\n",
        "- replace(찾을 문자열, 바꿀 문자열, 앞에서부터 적용할 갯수)"
      ]
    },
    {
      "cell_type": "code",
      "metadata": {
        "id": "mqz1pbFbjzyA",
        "colab_type": "code",
        "colab": {
          "base_uri": "https://localhost:8080/",
          "height": 53
        },
        "outputId": "a3a804a4-830c-4b59-c05f-c159678ecafd"
      },
      "source": [
        "letter = 'Umbrella Academy with No.5 and No.4 Dear-Klaus'\n",
        "print(letter.replace('No.','Number')) #숫자가 없으면 전체 적용\n",
        "print(letter.replace('No.','Number',1)) "
      ],
      "execution_count": null,
      "outputs": [
        {
          "output_type": "stream",
          "text": [
            "Umbrella Academy with Number5 and Number4 Dear-Klaus\n",
            "Umbrella Academy with Number5 and No.4 Dear-Klaus\n"
          ],
          "name": "stdout"
        }
      ]
    },
    {
      "cell_type": "markdown",
      "metadata": {
        "id": "pkR7QbC-wWGf",
        "colab_type": "text"
      },
      "source": [
        "## 3-0) 데이터\n",
        "- 파이썬의 데이터 구조에는 3가지가 있다; 리스트, 튜플, 딕셔너리\n",
        "- 리스트는 여러 개의 값을 하나로 묶은 집합과도 같다\n",
        "- 튜플은 리스트와 비슷하나 튜플 안의 값을 수정할 수 없다는 점에서 차이가 있다\n",
        "- 딕셔너리는 리스트, 튜플과 달리 Key라는 값을 매게로 연결되어 있다 "
      ]
    },
    {
      "cell_type": "code",
      "metadata": {
        "id": "m4w_AemKw8P0",
        "colab_type": "code",
        "colab": {
          "base_uri": "https://localhost:8080/",
          "height": 70
        },
        "outputId": "fd376ae1-8033-437f-ead0-bd305624f5d6"
      },
      "source": [
        "list = ['a','b','c','d','e']\n",
        "tuple = ('a','b','c','d','e')\n",
        "dictionary = {1:'a', 2:['b','c']}\n",
        "print(list)\n",
        "print(tuple)\n",
        "print(dictionary) # 1이라는 key아래 a, 2라는 key아래 b와 c가 있는 것"
      ],
      "execution_count": null,
      "outputs": [
        {
          "output_type": "stream",
          "text": [
            "['a', 'b', 'c', 'd', 'e']\n",
            "('a', 'b', 'c', 'd', 'e')\n",
            "{1: 'a', 2: ['b', 'c']}\n"
          ],
          "name": "stdout"
        }
      ]
    },
    {
      "cell_type": "markdown",
      "metadata": {
        "id": "D7_bRFzww3AV",
        "colab_type": "text"
      },
      "source": [
        "### 3-1) 리스트\n",
        "- 리스트 값을 다루는 다양한 방법을 알아보자\n",
        "- 리스트에서 특정 값을 추출하기"
      ]
    },
    {
      "cell_type": "markdown",
      "metadata": {
        "id": "8AiWO4Ve6yoF",
        "colab_type": "text"
      },
      "source": [
        "- 인덱스를 활용해 특정값을 추출할 수 있다\n",
        "- 반대로 특정 값의 인덱스를 출력하는 것도 가능"
      ]
    },
    {
      "cell_type": "code",
      "metadata": {
        "id": "eFDOjSZo6-yI",
        "colab_type": "code",
        "colab": {
          "base_uri": "https://localhost:8080/",
          "height": 34
        },
        "outputId": "455be179-f388-4b0d-ec74-2ff9baa8b180"
      },
      "source": [
        "listing=[1,2,3,4,5]\n",
        "listing.index(3) #3번째 인덱스 값을 출력"
      ],
      "execution_count": null,
      "outputs": [
        {
          "output_type": "execute_result",
          "data": {
            "text/plain": [
              "2"
            ]
          },
          "metadata": {
            "tags": []
          },
          "execution_count": 55
        }
      ]
    },
    {
      "cell_type": "markdown",
      "metadata": {
        "id": "uh3yKnyz62jz",
        "colab_type": "text"
      },
      "source": [
        "- isinstance를 활용하면 특정 형식에 맞는 데이터만 출력할 수 있다"
      ]
    },
    {
      "cell_type": "code",
      "metadata": {
        "id": "ouNonJj5wYEN",
        "colab_type": "code",
        "colab": {}
      },
      "source": [
        "my_list = ['a','b','n','x',1,2,3,'a',33.3,'n','b']"
      ],
      "execution_count": null,
      "outputs": []
    },
    {
      "cell_type": "code",
      "metadata": {
        "id": "3KM3-7tu2OLr",
        "colab_type": "code",
        "colab": {
          "base_uri": "https://localhost:8080/",
          "height": 52
        },
        "outputId": "eddac7be-f023-4b82-d51e-5b8dc0f6df9b"
      },
      "source": [
        "number_list = []\n",
        "string_list = []\n",
        "for item in my_list:\n",
        "  if not isinstance(item,str): #isinstance(object to be checked,classinfo)\n",
        "    number_list.append(item)\n",
        "  else:\n",
        "    string_list.append(item)\n",
        "print(string_list)\n",
        "print(number_list)"
      ],
      "execution_count": null,
      "outputs": [
        {
          "output_type": "stream",
          "text": [
            "['a', 'b', 'n', 'x', 'a', 'n', 'b']\n",
            "[1, 2, 3, 33.3]\n"
          ],
          "name": "stdout"
        }
      ]
    },
    {
      "cell_type": "code",
      "metadata": {
        "id": "YaDbptO83MQw",
        "colab_type": "code",
        "colab": {
          "base_uri": "https://localhost:8080/",
          "height": 34
        },
        "outputId": "c887bbc8-164a-4958-b205-b11e80aa898a"
      },
      "source": [
        "#for문으로 조건을 줄 수도 있다\n",
        "string_list = [letter for letter in my_list if isinstance(letter,str)]\n",
        "print(string_list)"
      ],
      "execution_count": null,
      "outputs": [
        {
          "output_type": "stream",
          "text": [
            "['a', 'b', 'n', 'x', 'a', 'n', 'b']\n"
          ],
          "name": "stdout"
        }
      ]
    },
    {
      "cell_type": "markdown",
      "metadata": {
        "id": "SAcb4V8m52nM",
        "colab_type": "text"
      },
      "source": [
        "- 리스트에 값을 추가 또는 삭제 하기\n",
        "- insert,remove를 이용하면 값을 수정할 수 있다"
      ]
    },
    {
      "cell_type": "code",
      "metadata": {
        "id": "PLfURi5T3kkR",
        "colab_type": "code",
        "colab": {}
      },
      "source": [
        "listing = [1,2,3,4,5]"
      ],
      "execution_count": null,
      "outputs": []
    },
    {
      "cell_type": "code",
      "metadata": {
        "id": "x0A3yGpR6M3l",
        "colab_type": "code",
        "colab": {
          "base_uri": "https://localhost:8080/",
          "height": 34
        },
        "outputId": "b174d7a8-f740-4034-9a17-64cb91039299"
      },
      "source": [
        "listing.insert(5,6) #insert(값을 추가할 위치, 추가할 값)\n",
        "print(listing)"
      ],
      "execution_count": null,
      "outputs": [
        {
          "output_type": "stream",
          "text": [
            "[1, 2, 3, 4, 5, 6]\n"
          ],
          "name": "stdout"
        }
      ]
    },
    {
      "cell_type": "code",
      "metadata": {
        "id": "p7_LMys97L7G",
        "colab_type": "code",
        "colab": {
          "base_uri": "https://localhost:8080/",
          "height": 34
        },
        "outputId": "02f1f22d-99c7-4b59-e015-0a5ce662696f"
      },
      "source": [
        "listing.append(10) #append는 마지막에 입력된 값을 추가한다\n",
        "print(listing)"
      ],
      "execution_count": null,
      "outputs": [
        {
          "output_type": "stream",
          "text": [
            "[1, 2, 3, 4, 5, 10, 10]\n"
          ],
          "name": "stdout"
        }
      ]
    },
    {
      "cell_type": "code",
      "metadata": {
        "id": "ZF0qhyap6Pqq",
        "colab_type": "code",
        "colab": {
          "base_uri": "https://localhost:8080/",
          "height": 34
        },
        "outputId": "7e01f291-847e-45ad-ce69-4009c833b32b"
      },
      "source": [
        "listing.remove(4) #()안의 값을 삭제\n",
        "print(listing)"
      ],
      "execution_count": null,
      "outputs": [
        {
          "output_type": "stream",
          "text": [
            "[1, 2, 3, 5]\n"
          ],
          "name": "stdout"
        }
      ]
    },
    {
      "cell_type": "code",
      "metadata": {
        "id": "57hjtuwok5ce",
        "colab_type": "code",
        "colab": {
          "base_uri": "https://localhost:8080/",
          "height": 35
        },
        "outputId": "4d51a101-81ff-4b34-e5cc-8bc8368f2dde"
      },
      "source": [
        "#remove와 달리 del은 이용해 값을 제거한다\n",
        "del listing[0]\n",
        "print(listing)"
      ],
      "execution_count": null,
      "outputs": [
        {
          "output_type": "stream",
          "text": [
            "[2, 3, 4, 5]\n"
          ],
          "name": "stdout"
        }
      ]
    },
    {
      "cell_type": "markdown",
      "metadata": {
        "id": "PQZUOnoMkvTD",
        "colab_type": "text"
      },
      "source": [
        "- Extend를 사용하면 리스트끼리 결합할 수 있다"
      ]
    },
    {
      "cell_type": "code",
      "metadata": {
        "id": "mSnrzKKT6k2k",
        "colab_type": "code",
        "colab": {
          "base_uri": "https://localhost:8080/",
          "height": 35
        },
        "outputId": "c469183d-8714-44eb-e945-bc04c8ebb51d"
      },
      "source": [
        "list_a = [1,2,3,4,5]\n",
        "list_b = [6,7,8]\n",
        "list_a.extend(list_b)\n",
        "print(list_a)"
      ],
      "execution_count": null,
      "outputs": [
        {
          "output_type": "stream",
          "text": [
            "[1, 2, 3, 4, 5, 6, 7, 8]\n"
          ],
          "name": "stdout"
        }
      ]
    },
    {
      "cell_type": "markdown",
      "metadata": {
        "id": "1wGQ-IU9lbYs",
        "colab_type": "text"
      },
      "source": [
        "###3-2) 딕셔너리\n",
        "- 딕셔너리를 다루는 다양한 방법을 알아보자\n",
        "- 우선 딕셔너리는 {}를 이용해 만들거나, dict함수를 적용해 만들 수 있다"
      ]
    },
    {
      "cell_type": "code",
      "metadata": {
        "id": "9Y8uB7z4lRme",
        "colab_type": "code",
        "colab": {
          "base_uri": "https://localhost:8080/",
          "height": 53
        },
        "outputId": "57709996-2f70-4378-a940-365c909f317c"
      },
      "source": [
        "food={'pasta':3000,'pizza':5000,'bread':1000} #key와 value값은 :으로 연결\n",
        "drink=dict(coke=1000, sprite=1000) #이때는 '-'을 사용하지 않는다\n",
        "#drink=[['coke',1000],['sprite',1000]] 이렇게 리스트를 만들고\n",
        "#drink=dict(dirnk)로 해도 된다\n",
        "print(food)\n",
        "print(drink)"
      ],
      "execution_count": null,
      "outputs": [
        {
          "output_type": "stream",
          "text": [
            "{'pasta': 3000, 'pizza': 5000, 'bread': 1000}\n",
            "{'coke': 1000, 'sprite': 1000}\n"
          ],
          "name": "stdout"
        }
      ]
    },
    {
      "cell_type": "markdown",
      "metadata": {
        "id": "EgGFr8qpe56m",
        "colab_type": "text"
      },
      "source": [
        "- 딕셔너리의 Key, Value값을 따로 가져올 수 있다"
      ]
    },
    {
      "cell_type": "code",
      "metadata": {
        "id": "6QlIOYyse5ot",
        "colab_type": "code",
        "colab": {
          "base_uri": "https://localhost:8080/",
          "height": 35
        },
        "outputId": "00efcd59-2ae8-4ead-b317-83c8088b3506"
      },
      "source": [
        "food.keys()"
      ],
      "execution_count": null,
      "outputs": [
        {
          "output_type": "execute_result",
          "data": {
            "text/plain": [
              "dict_keys(['pasta', 'pizza', 'bread'])"
            ]
          },
          "metadata": {
            "tags": []
          },
          "execution_count": 3
        }
      ]
    },
    {
      "cell_type": "code",
      "metadata": {
        "id": "sKy7hyfQfBHc",
        "colab_type": "code",
        "colab": {
          "base_uri": "https://localhost:8080/",
          "height": 35
        },
        "outputId": "15d4e2ee-80f0-434c-f30e-c1bab0e3346b"
      },
      "source": [
        "drink.values()"
      ],
      "execution_count": null,
      "outputs": [
        {
          "output_type": "execute_result",
          "data": {
            "text/plain": [
              "dict_values([1000, 1000])"
            ]
          },
          "metadata": {
            "tags": []
          },
          "execution_count": 4
        }
      ]
    },
    {
      "cell_type": "code",
      "metadata": {
        "id": "scM4wOB6fFot",
        "colab_type": "code",
        "colab": {
          "base_uri": "https://localhost:8080/",
          "height": 35
        },
        "outputId": "b153102f-754a-4917-9a96-e53b6e831553"
      },
      "source": [
        "food.items() #key와 value 모두를 추출하는 것은 item"
      ],
      "execution_count": null,
      "outputs": [
        {
          "output_type": "execute_result",
          "data": {
            "text/plain": [
              "dict_items([('pasta', 3000), ('pizza', 5000), ('bread', 1000)])"
            ]
          },
          "metadata": {
            "tags": []
          },
          "execution_count": 5
        }
      ]
    },
    {
      "cell_type": "markdown",
      "metadata": {
        "id": "fm9sZbbRfLKI",
        "colab_type": "text"
      },
      "source": [
        "- get을 이용하면 key에 해당하는 value값을 가져올 수 있다"
      ]
    },
    {
      "cell_type": "code",
      "metadata": {
        "id": "hT6xYXjLfdfm",
        "colab_type": "code",
        "colab": {
          "base_uri": "https://localhost:8080/",
          "height": 35
        },
        "outputId": "986abe92-3449-4250-e2b4-df03da06f775"
      },
      "source": [
        "food.get('pizza')"
      ],
      "execution_count": null,
      "outputs": [
        {
          "output_type": "execute_result",
          "data": {
            "text/plain": [
              "5000"
            ]
          },
          "metadata": {
            "tags": []
          },
          "execution_count": 6
        }
      ]
    },
    {
      "cell_type": "markdown",
      "metadata": {
        "id": "OZdPOvk6fjOO",
        "colab_type": "text"
      },
      "source": [
        "- 리스트와 유사하게 딕셔너리끼리 합치거나, 새로운 값을 딕셔너리에 추가할 수 있으며(update)\n",
        "- 기존 값을 딕셔너리에서 삭제할 수 있다(del)"
      ]
    },
    {
      "cell_type": "code",
      "metadata": {
        "id": "uwiKnKhXf3hB",
        "colab_type": "code",
        "colab": {
          "base_uri": "https://localhost:8080/",
          "height": 35
        },
        "outputId": "face3dfe-a55c-41f2-9908-b9654bf16e87"
      },
      "source": [
        "food.update(drink)\n",
        "food"
      ],
      "execution_count": null,
      "outputs": [
        {
          "output_type": "execute_result",
          "data": {
            "text/plain": [
              "{'bread': 1000, 'coke': 1000, 'pasta': 3000, 'pizza': 5000, 'sprite': 1000}"
            ]
          },
          "metadata": {
            "tags": []
          },
          "execution_count": 14
        }
      ]
    },
    {
      "cell_type": "code",
      "metadata": {
        "id": "ObQLNbdJgDyX",
        "colab_type": "code",
        "colab": {
          "base_uri": "https://localhost:8080/",
          "height": 125
        },
        "outputId": "808be3ef-7408-4b12-89a9-3100c9eecd4f"
      },
      "source": [
        "food.update({'ice_cream':3000}) #update를 응용하면 새 값을 추가하는 것도 가능\n",
        "food"
      ],
      "execution_count": null,
      "outputs": [
        {
          "output_type": "execute_result",
          "data": {
            "text/plain": [
              "{'bread': 1000,\n",
              " 'coke': 1000,\n",
              " 'ice_cream': 3000,\n",
              " 'pasta': 3000,\n",
              " 'pizza': 5000,\n",
              " 'sprite': 1000}"
            ]
          },
          "metadata": {
            "tags": []
          },
          "execution_count": 16
        }
      ]
    },
    {
      "cell_type": "code",
      "metadata": {
        "id": "8ei7quaKgfGn",
        "colab_type": "code",
        "colab": {
          "base_uri": "https://localhost:8080/",
          "height": 35
        },
        "outputId": "24d38ea5-3dec-4ac4-f1ee-36513e06af1d"
      },
      "source": [
        "del food ['pasta'] #삭제할 값의 key만 제시해주면 된다\n",
        "food"
      ],
      "execution_count": null,
      "outputs": [
        {
          "output_type": "execute_result",
          "data": {
            "text/plain": [
              "{'bread': 1000, 'coke': 1000, 'ice_cream': 3000, 'pizza': 5000, 'sprite': 1000}"
            ]
          },
          "metadata": {
            "tags": []
          },
          "execution_count": 17
        }
      ]
    }
  ]
}