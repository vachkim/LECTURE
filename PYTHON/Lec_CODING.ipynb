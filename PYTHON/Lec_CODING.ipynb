{
  "nbformat": 4,
  "nbformat_minor": 0,
  "metadata": {
    "colab": {
      "name": "Lec_CODING.ipynb",
      "provenance": [],
      "collapsed_sections": [],
      "authorship_tag": "ABX9TyNM55ih97mdojHf1eZxzL4k",
      "include_colab_link": true
    },
    "kernelspec": {
      "name": "python3",
      "display_name": "Python 3"
    }
  },
  "cells": [
    {
      "cell_type": "markdown",
      "metadata": {
        "id": "view-in-github",
        "colab_type": "text"
      },
      "source": [
        "<a href=\"https://colab.research.google.com/github/vachkim/LECTURE/blob/master/PYTHON/Lec_CODING.ipynb\" target=\"_parent\"><img src=\"https://colab.research.google.com/assets/colab-badge.svg\" alt=\"Open In Colab\"/></a>"
      ]
    },
    {
      "cell_type": "markdown",
      "metadata": {
        "id": "9ZpmW8V931Ls",
        "colab_type": "text"
      },
      "source": [
        "### Q1.\n",
        "- [1,9,'one','two',3,'three]를 원소로 갖는 리스트 val을 만들기\n",
        "- 마지막 원소를 자기 이름으로 만들기\n",
        "- 리스트의 첫번째 str데이터를 출력하기"
      ]
    },
    {
      "cell_type": "code",
      "metadata": {
        "id": "9Gh72pJVoR6Y",
        "colab_type": "code",
        "colab": {}
      },
      "source": [
        "val = [1,9,'one','two',3,'three']"
      ],
      "execution_count": null,
      "outputs": []
    },
    {
      "cell_type": "code",
      "metadata": {
        "id": "Jk-o1gkJ4XWa",
        "colab_type": "code",
        "colab": {
          "base_uri": "https://localhost:8080/",
          "height": 34
        },
        "outputId": "dc2cd8f4-50cd-4dc3-807f-f4203a4013be"
      },
      "source": [
        "val[-1] = 'vach' #[-1]은 마지막 원소의 인덱스를 의미\n",
        "print(val)"
      ],
      "execution_count": null,
      "outputs": [
        {
          "output_type": "stream",
          "text": [
            "[1, 9, 'one', 'two', 3, 'vach']\n"
          ],
          "name": "stdout"
        }
      ]
    },
    {
      "cell_type": "code",
      "metadata": {
        "id": "7mv_5FDh4a9n",
        "colab_type": "code",
        "colab": {
          "base_uri": "https://localhost:8080/",
          "height": 35
        },
        "outputId": "10fb5c41-5757-4f98-9d0e-eebc87ef4360"
      },
      "source": [
        "string_list = [letter for letter in val if isinstance(letter,str)]\n",
        "string_list[0]"
      ],
      "execution_count": null,
      "outputs": [
        {
          "output_type": "execute_result",
          "data": {
            "application/vnd.google.colaboratory.intrinsic+json": {
              "type": "string"
            },
            "text/plain": [
              "'one'"
            ]
          },
          "metadata": {
            "tags": []
          },
          "execution_count": 5
        }
      ]
    },
    {
      "cell_type": "markdown",
      "metadata": {
        "id": "CN0gCcy943KC",
        "colab_type": "text"
      },
      "source": [
        "### Q2.\n",
        "- 숫자 리스트에서 가장 큰 수를 찾는 알고리즘"
      ]
    },
    {
      "cell_type": "code",
      "metadata": {
        "id": "Db4c8s234shR",
        "colab_type": "code",
        "colab": {
          "base_uri": "https://localhost:8080/",
          "height": 34
        },
        "outputId": "2aef5324-f7b9-4ecb-ba2e-a6e45249a129"
      },
      "source": [
        "number = [7,2,1,9,6,10]\n",
        "max = number[0]\n",
        "\n",
        "for item in number: #for index in range(0,len(number))\n",
        "  if item > max:    #if number[index] > max 처럼 인덱스를 지정해줄 수도 있다\n",
        "    max = item\n",
        "print(max)"
      ],
      "execution_count": null,
      "outputs": [
        {
          "output_type": "stream",
          "text": [
            "10\n"
          ],
          "name": "stdout"
        }
      ]
    },
    {
      "cell_type": "markdown",
      "metadata": {
        "id": "QcrrEhheg5SI",
        "colab_type": "text"
      },
      "source": [
        "### Q3. \n",
        "- 다음 딕셔너리에서 value가 78인 값의 key를 출력\n",
        "- dic={'height':180,'weight':78,'temparature':35,'eyesight':11}"
      ]
    },
    {
      "cell_type": "code",
      "metadata": {
        "id": "PS5aR6sgh8Kd",
        "colab_type": "code",
        "colab": {}
      },
      "source": [
        "dic={'height':180,'weight':78,'temparature':35,'eyesight':11}"
      ],
      "execution_count": null,
      "outputs": []
    },
    {
      "cell_type": "code",
      "metadata": {
        "id": "E8tROtOTiCjb",
        "colab_type": "code",
        "colab": {
          "base_uri": "https://localhost:8080/",
          "height": 35
        },
        "outputId": "f3d2c893-87e8-4a53-dd53-97e2e49987e5"
      },
      "source": [
        "for key in dic.keys():\n",
        "  if dic[key] == 78:\n",
        "    print(key)"
      ],
      "execution_count": null,
      "outputs": [
        {
          "output_type": "stream",
          "text": [
            "weight\n"
          ],
          "name": "stdout"
        }
      ]
    },
    {
      "cell_type": "markdown",
      "metadata": {
        "id": "vjd-pQXhg7hf",
        "colab_type": "text"
      },
      "source": [
        "### Q4. \n",
        "- 다음 딕셔너리에서 value가 78인 값의 key를 출력\n",
        "- dic = {'1반':[60,80,30], '2반':[78,54,98], '3반':[100,50,70], '4반':[70,60,80]}"
      ]
    },
    {
      "cell_type": "code",
      "metadata": {
        "id": "LtTj57B0g87x",
        "colab_type": "code",
        "colab": {}
      },
      "source": [
        "dic = {'1반':[60,80,30], \n",
        "       '2반':[78,54,98], \n",
        "       '3반':[100,50,70], \n",
        "       '4반':[70,60,80]}"
      ],
      "execution_count": null,
      "outputs": []
    },
    {
      "cell_type": "code",
      "metadata": {
        "id": "FA1lR68Ai1r1",
        "colab_type": "code",
        "colab": {
          "base_uri": "https://localhost:8080/",
          "height": 35
        },
        "outputId": "2e823894-2384-4462-a7e3-bf5c8b6d56d6"
      },
      "source": [
        "for key in dic.keys():\n",
        "  for number in range(0,3):\n",
        "    if dic[key][number]==78:\n",
        "      print(key)"
      ],
      "execution_count": null,
      "outputs": [
        {
          "output_type": "stream",
          "text": [
            "2반\n"
          ],
          "name": "stdout"
        }
      ]
    },
    {
      "cell_type": "markdown",
      "metadata": {
        "id": "cbqzKi43jev8",
        "colab_type": "text"
      },
      "source": [
        "### Q5.\n",
        "- 과락 40점을 넘기고 평균이 60점 이상인 합격자를 구하기\n",
        "- test_score={'홍길동':[90,85,77,80],'이순신':[88,96,56,60], '허준':[56,53,64,66],'문익점':[76,89,39,70]}"
      ]
    },
    {
      "cell_type": "code",
      "metadata": {
        "id": "H7TpF1d4i4ev",
        "colab_type": "code",
        "colab": {}
      },
      "source": [
        "dic = {'홍길동':[90,85,77,80],\n",
        "      '이순신':[88,96,56,60],\n",
        "      '허준':[56,53,64,66],\n",
        "      '문익점':[76,89,39,70]}"
      ],
      "execution_count": null,
      "outputs": []
    },
    {
      "cell_type": "code",
      "metadata": {
        "id": "P_H1BJFlj8O6",
        "colab_type": "code",
        "colab": {
          "base_uri": "https://localhost:8080/",
          "height": 107
        },
        "outputId": "3ded23eb-c447-49e4-ab30-3c3c3790339a"
      },
      "source": [
        "exam_result= []\n",
        "\n",
        "for exam_score in dic.items(): #items를 쓰면 0에는 key, 1에는 value값이 들어감을 기억하자\n",
        "    name = exam_score[0] #dic의 key\n",
        "    score = exam_score[1] #dic의 value\n",
        "    avg = sum(score)/len(score) #average는 따로 정의해줘야 하는 기능\n",
        "    if(avg > 60 and min(score) > 40):\n",
        "        exam_result.append(name)\n",
        "    print('이름', name, '평균', avg, '최고', max(score), '최저', min(score))\n",
        "    \n",
        "print('합격자 = ', exam_result)"
      ],
      "execution_count": null,
      "outputs": [
        {
          "output_type": "stream",
          "text": [
            "이름 홍길동 평균 83.0 최고 90 최저 77\n",
            "이름 이순신 평균 75.0 최고 96 최저 56\n",
            "이름 허준 평균 59.75 최고 66 최저 53\n",
            "이름 문익점 평균 68.5 최고 89 최저 39\n",
            "합격자 =  ['홍길동', '이순신']\n"
          ],
          "name": "stdout"
        }
      ]
    },
    {
      "cell_type": "code",
      "metadata": {
        "id": "IIm4jEupkuBq",
        "colab_type": "code",
        "colab": {}
      },
      "source": [
        ""
      ],
      "execution_count": null,
      "outputs": []
    }
  ]
}