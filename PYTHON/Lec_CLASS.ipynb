{
  "nbformat": 4,
  "nbformat_minor": 0,
  "metadata": {
    "colab": {
      "name": "Lec_CLASS.ipynb",
      "provenance": [],
      "collapsed_sections": [],
      "authorship_tag": "ABX9TyNMOLNtWO5xkeMsEMA7L8Fi",
      "include_colab_link": true
    },
    "kernelspec": {
      "name": "python3",
      "display_name": "Python 3"
    }
  },
  "cells": [
    {
      "cell_type": "markdown",
      "metadata": {
        "id": "view-in-github",
        "colab_type": "text"
      },
      "source": [
        "<a href=\"https://colab.research.google.com/github/vachkim/LECTURE/blob/master/PYTHON/Lec_CLASS.ipynb\" target=\"_parent\"><img src=\"https://colab.research.google.com/assets/colab-badge.svg\" alt=\"Open In Colab\"/></a>"
      ]
    },
    {
      "cell_type": "markdown",
      "metadata": {
        "id": "uR0-DXEsKqom",
        "colab_type": "text"
      },
      "source": [
        "#### 1. 클래스의 필요성\n",
        "- 클래스를 사용하는 이유는 반복 작업을 편리하게 하기 위해서이다"
      ]
    },
    {
      "cell_type": "code",
      "metadata": {
        "id": "0bcFVlqeKW94",
        "colab_type": "code",
        "colab": {
          "base_uri": "https://localhost:8080/",
          "height": 35
        },
        "outputId": "1e9278d9-e2db-4954-c075-443c998cee95"
      },
      "source": [
        "result1 = 0\n",
        "result2 = 0\n",
        " \n",
        "def add(num):\n",
        "  global result1 #global\n",
        "  result1 += num\n",
        "  return result1\n",
        "\n",
        "print(add(10))"
      ],
      "execution_count": null,
      "outputs": [
        {
          "output_type": "stream",
          "text": [
            "10\n"
          ],
          "name": "stdout"
        }
      ]
    },
    {
      "cell_type": "code",
      "metadata": {
        "id": "3U7O34CQLJvR",
        "colab_type": "code",
        "colab": {
          "base_uri": "https://localhost:8080/",
          "height": 35
        },
        "outputId": "a00ec92d-8061-4cbc-ec54-f100bbd2da47"
      },
      "source": [
        "result1 = 0\n",
        "result2 = 0\n",
        " \n",
        "def add(num):\n",
        "  global result1 #global\n",
        "  global result2\n",
        "  result1 += num\n",
        "  result2 += num\n",
        "  return [result1,result2]\n",
        "\n",
        "print(add(10)) #리스트로 하나의 값을 반환"
      ],
      "execution_count": null,
      "outputs": [
        {
          "output_type": "stream",
          "text": [
            "[10, 10]\n"
          ],
          "name": "stdout"
        }
      ]
    },
    {
      "cell_type": "code",
      "metadata": {
        "id": "yozquZ8ZLnfv",
        "colab_type": "code",
        "colab": {
          "base_uri": "https://localhost:8080/",
          "height": 53
        },
        "outputId": "935fd1dc-0700-4d58-9d23-360776b0ee57"
      },
      "source": [
        "result1 = 0\n",
        "result2 = 0\n",
        "\n",
        "def add1(num):\n",
        "  global result1\n",
        "  result1 += num\n",
        "  return result1\n",
        "\n",
        "def add2(num):\n",
        "  global result2\n",
        "  result2 += num\n",
        "  return result2\n",
        "\n",
        "print(add1(10))\n",
        "print(add2(20)) #같은 함수를 2번 써줘야 값이 2개가 나온다\n",
        "#이런 문제를 해결하기위해 나온 것이 클래스"
      ],
      "execution_count": null,
      "outputs": [
        {
          "output_type": "stream",
          "text": [
            "10\n",
            "20\n"
          ],
          "name": "stdout"
        }
      ]
    },
    {
      "cell_type": "markdown",
      "metadata": {
        "id": "98_vjLC0NA0M",
        "colab_type": "text"
      },
      "source": [
        "#### 2. 사람 클래스(=클래스)\n",
        "- 사람의 특징(=변수)\n",
        "  + 이름, 나이, 취미 etc\n",
        "\n",
        "- 사람의 행동(=함수/기능)\n",
        "  + 일상화된 행동들"
      ]
    },
    {
      "cell_type": "code",
      "metadata": {
        "id": "BI4CnToIMErA",
        "colab_type": "code",
        "colab": {}
      },
      "source": [
        "class Human:\n",
        "  #사람의 특징 = 변수\n",
        "  name = 'Rain'\n",
        "  age = 30\n",
        "  \n",
        "  #사람의 행동 = 함수\n",
        "  def exercise(self): #나에 대한 함수기 때문에 self를 사용\n",
        "    print('운동합니다')"
      ],
      "execution_count": null,
      "outputs": []
    },
    {
      "cell_type": "code",
      "metadata": {
        "id": "dZ1Cur7rOgQj",
        "colab_type": "code",
        "colab": {
          "base_uri": "https://localhost:8080/",
          "height": 71
        },
        "outputId": "8b8cef46-7aa7-4eed-a6f6-17bead68d0f6"
      },
      "source": [
        "rain = Human()\n",
        "print(rain.name)\n",
        "print(rain.age)\n",
        "rain.exercise()"
      ],
      "execution_count": null,
      "outputs": [
        {
          "output_type": "stream",
          "text": [
            "Rain\n",
            "30\n",
            "운동합니다\n"
          ],
          "name": "stdout"
        }
      ]
    },
    {
      "cell_type": "markdown",
      "metadata": {
        "id": "Nj1SIHYVO5I7",
        "colab_type": "text"
      },
      "source": [
        "#### 3. 일반적 클래스"
      ]
    },
    {
      "cell_type": "code",
      "metadata": {
        "id": "B6YPFveKOosE",
        "colab_type": "code",
        "colab": {
          "base_uri": "https://localhost:8080/",
          "height": 53
        },
        "outputId": "77cf68b6-6d40-4b24-fdd8-12203921b742"
      },
      "source": [
        "class human:\n",
        "  def __init__(self, name, age):\n",
        "    self.name = name\n",
        "    self.age = age\n",
        "\n",
        "  def describe(self):\n",
        "    return f\"{self.name}의 나이는 {self.age}\" \n",
        "\n",
        "if __name__ == '__main__':\n",
        "    evan = human('Evan',30)\n",
        "    hanna = human('Hanna',20)\n",
        "\n",
        "print(evan.name, evan.describe())\n",
        "print(hanna.age, hanna.describe())"
      ],
      "execution_count": null,
      "outputs": [
        {
          "output_type": "stream",
          "text": [
            "Evan Evan의 나이는 30\n",
            "20 Hanna의 나이는 20\n"
          ],
          "name": "stdout"
        }
      ]
    },
    {
      "cell_type": "markdown",
      "metadata": {
        "id": "Ad44HQt5TLoA",
        "colab_type": "text"
      },
      "source": [
        "#### 4. 상속"
      ]
    },
    {
      "cell_type": "code",
      "metadata": {
        "id": "ge8Qfoi8Pbvv",
        "colab_type": "code",
        "colab": {
          "base_uri": "https://localhost:8080/",
          "height": 35
        },
        "outputId": "2b4eb074-241b-40b0-d41f-2785942c0cd3"
      },
      "source": [
        "class human:\n",
        "  def __init__(self, name, age):\n",
        "    self.name = name\n",
        "    self.age = age\n",
        "\n",
        "  def describe(self):\n",
        "     return f\"{self.name}의 나이는 {self.age}이다\" \n",
        "\n",
        "  def SkinColor(self, color):\n",
        "    return f\"{self.name}의 피부색은 {color}이다\"\n",
        "\n",
        "class Asian(human):\n",
        "  pass\n",
        "\n",
        "evan = Asian('Jihoon', 9)\n",
        "print(evan.SkinColor('Skin'))"
      ],
      "execution_count": null,
      "outputs": [
        {
          "output_type": "stream",
          "text": [
            "Jihoon의 피부색은 Skin이다\n"
          ],
          "name": "stdout"
        }
      ]
    },
    {
      "cell_type": "markdown",
      "metadata": {
        "id": "dGsCP3PQZsmG",
        "colab_type": "text"
      },
      "source": [
        "#### 5. 머신러닝 클래스"
      ]
    },
    {
      "cell_type": "code",
      "metadata": {
        "id": "lsZN5Fz5UbQT",
        "colab_type": "code",
        "colab": {
          "base_uri": "https://localhost:8080/",
          "height": 127
        },
        "outputId": "262a205a-7d3e-42f6-b87a-1234a120cdb3"
      },
      "source": [
        "from google.colab import drive \n",
        "ROOT = '/content/drive'\n",
        "drive.mount(ROOT)"
      ],
      "execution_count": null,
      "outputs": [
        {
          "output_type": "stream",
          "text": [
            "Go to this URL in a browser: https://accounts.google.com/o/oauth2/auth?client_id=947318989803-6bn6qk8qdgf4n4g3pfee6491hc0brc4i.apps.googleusercontent.com&redirect_uri=urn%3aietf%3awg%3aoauth%3a2.0%3aoob&scope=email%20https%3a%2f%2fwww.googleapis.com%2fauth%2fdocs.test%20https%3a%2f%2fwww.googleapis.com%2fauth%2fdrive%20https%3a%2f%2fwww.googleapis.com%2fauth%2fdrive.photos.readonly%20https%3a%2f%2fwww.googleapis.com%2fauth%2fpeopleapi.readonly&response_type=code\n",
            "\n",
            "Enter your authorization code:\n",
            "··········\n",
            "Mounted at /content/drive\n"
          ],
          "name": "stdout"
        }
      ]
    },
    {
      "cell_type": "code",
      "metadata": {
        "id": "jqJHuGHSZ4Zs",
        "colab_type": "code",
        "colab": {
          "base_uri": "https://localhost:8080/",
          "height": 35
        },
        "outputId": "3170a690-7d6d-4c36-8494-89a2d9058267"
      },
      "source": [
        "%cd drive/'My Drive'/'Colab Notebooks'/'data-20200826T055710Z-001'/'data'"
      ],
      "execution_count": null,
      "outputs": [
        {
          "output_type": "stream",
          "text": [
            "/content/drive/My Drive/Colab Notebooks/data-20200826T055710Z-001/data\n"
          ],
          "name": "stdout"
        }
      ]
    },
    {
      "cell_type": "code",
      "metadata": {
        "id": "npRkiHzvaVqc",
        "colab_type": "code",
        "colab": {
          "base_uri": "https://localhost:8080/",
          "height": 35
        },
        "outputId": "3d4cd7c5-8527-455b-896c-3aa0719d4fb7"
      },
      "source": [
        "%ls"
      ],
      "execution_count": null,
      "outputs": [
        {
          "output_type": "stream",
          "text": [
            "weather2.csv  weather.csv\n"
          ],
          "name": "stdout"
        }
      ]
    },
    {
      "cell_type": "markdown",
      "metadata": {
        "id": "mRb8sHPwa2-c",
        "colab_type": "text"
      },
      "source": [
        "- 두 개의 데이터가 다른 것을 확인 _ 변수명이 다름"
      ]
    },
    {
      "cell_type": "code",
      "metadata": {
        "id": "pb4SQKHCaXcH",
        "colab_type": "code",
        "colab": {}
      },
      "source": [
        "import pandas as pd\n",
        "import numpy as np\n",
        "\n",
        "weather = pd.read_csv('weather.csv')\n",
        "weather2 = pd.read_csv('weather2.csv')"
      ],
      "execution_count": null,
      "outputs": []
    },
    {
      "cell_type": "code",
      "metadata": {
        "id": "YGX2w2FwbEZG",
        "colab_type": "code",
        "colab": {
          "base_uri": "https://localhost:8080/",
          "height": 359
        },
        "outputId": "5e114806-881d-4903-e33e-46b52bb48997"
      },
      "source": [
        "weather.info()"
      ],
      "execution_count": null,
      "outputs": [
        {
          "output_type": "stream",
          "text": [
            "<class 'pandas.core.frame.DataFrame'>\n",
            "RangeIndex: 96453 entries, 0 to 96452\n",
            "Data columns (total 12 columns):\n",
            " #   Column                    Non-Null Count  Dtype  \n",
            "---  ------                    --------------  -----  \n",
            " 0   Formatted Date            96453 non-null  object \n",
            " 1   Summary                   96453 non-null  object \n",
            " 2   Precip Type               95936 non-null  object \n",
            " 3   Temperature (C)           96453 non-null  float64\n",
            " 4   Apparent Temperature (C)  96453 non-null  float64\n",
            " 5   Humidity                  96453 non-null  float64\n",
            " 6   Wind Speed (km/h)         96453 non-null  float64\n",
            " 7   Wind Bearing (degrees)    96453 non-null  float64\n",
            " 8   Visibility (km)           96453 non-null  float64\n",
            " 9   Loud Cover                96453 non-null  float64\n",
            " 10  Pressure (millibars)      96453 non-null  float64\n",
            " 11  Daily Summary             96453 non-null  object \n",
            "dtypes: float64(8), object(4)\n",
            "memory usage: 8.8+ MB\n"
          ],
          "name": "stdout"
        }
      ]
    },
    {
      "cell_type": "code",
      "metadata": {
        "id": "5G5ACHMqbFr7",
        "colab_type": "code",
        "colab": {
          "base_uri": "https://localhost:8080/",
          "height": 359
        },
        "outputId": "1a38d78b-2c23-464f-da63-90d4a4e34484"
      },
      "source": [
        "weather2.info() #weather2는 weather과 달리 col이름에 .이 찍혀져 있다"
      ],
      "execution_count": null,
      "outputs": [
        {
          "output_type": "stream",
          "text": [
            "<class 'pandas.core.frame.DataFrame'>\n",
            "RangeIndex: 10000 entries, 0 to 9999\n",
            "Data columns (total 12 columns):\n",
            " #   Column                    Non-Null Count  Dtype  \n",
            "---  ------                    --------------  -----  \n",
            " 0   Formatted.Date            10000 non-null  object \n",
            " 1   Summary                   10000 non-null  object \n",
            " 2   Precip.Type               10000 non-null  object \n",
            " 3   Temperature..C.           10000 non-null  float64\n",
            " 4   Apparent.Temperature..C.  10000 non-null  float64\n",
            " 5   Humidity                  10000 non-null  float64\n",
            " 6   Wind.Speed..km.h.         10000 non-null  float64\n",
            " 7   Wind.Bearing..degrees.    10000 non-null  int64  \n",
            " 8   Visibility..km.           10000 non-null  float64\n",
            " 9   Loud.Cover                10000 non-null  int64  \n",
            " 10  Pressure..millibars.      10000 non-null  float64\n",
            " 11  Daily.Summary             10000 non-null  object \n",
            "dtypes: float64(6), int64(2), object(4)\n",
            "memory usage: 937.6+ KB\n"
          ],
          "name": "stdout"
        }
      ]
    },
    {
      "cell_type": "markdown",
      "metadata": {
        "id": "GUaP-lskb2fl",
        "colab_type": "text"
      },
      "source": [
        "- 데이터프레임을 통일하는 코드를 아래와 같이 작성"
      ]
    },
    {
      "cell_type": "code",
      "metadata": {
        "id": "Feb_s6cXbISD",
        "colab_type": "code",
        "colab": {}
      },
      "source": [
        "from sklearn.ensemble import RandomForestRegressor\n",
        "from sklearn.linear_model import LinearRegression\n",
        "from sklearn.model_selection import train_test_split\n",
        "import numpy as np\n",
        "import pandas as pd\n",
        "\n",
        "\n",
        "class Model:\n",
        "    def __init__(self, datafile, model_type = None):\n",
        "       self.datafile = datafile\n",
        "       self.df = pd.read_csv(datafile)\n",
        "       data_columns = ['Formatted Date', 'Summary', 'Precip Type', \n",
        "                       'Temperature (C)', 'Apparent Temperature (C)', \n",
        "                       'Humidity', 'Wind Speed (km/h)', 'Wind Bearing (degrees)',\n",
        "                       'Visibility (km)', 'Loud Cover', 'Pressure (millibars)','Daily Summary']\n",
        "       self.df.columns = data_columns\n",
        "\n",
        "       if model_type == 'rf':\n",
        "            self.user_defined_model = RandomForestRegressor() \n",
        "       else:\n",
        "            self.user_defined_model = LinearRegression()\n",
        "\n",
        "# 데이터셋을 분리     \n",
        "    def split(self, test_size):\n",
        "        X = np.array(self.df[['Humidity', 'Pressure (millibars)']])\n",
        "        y = np.array(self.df['Temperature (C)'])\n",
        "        self.X_train, self.X_test, self.y_train, self.y_test = train_test_split(X, y, test_size = test_size, random_state = 42)\n",
        "\n",
        "# 모형 학습    \n",
        "    def fit(self):\n",
        "        self.model = self.user_defined_model.fit(self.X_train, self.y_train)\n",
        "\n",
        "# 예측 진행    \n",
        "    def predict(self, input_value):\n",
        "        if input_value == None:\n",
        "            result = self.user_defined_model.predict(self.X_test)\n",
        "        else: \n",
        "            result = self.user_defined_model.predict(np.array([input_value]))\n",
        "        return result"
      ],
      "execution_count": null,
      "outputs": []
    },
    {
      "cell_type": "markdown",
      "metadata": {
        "id": "d84sQofUcq29",
        "colab_type": "text"
      },
      "source": [
        "- 클래스 적용"
      ]
    },
    {
      "cell_type": "code",
      "metadata": {
        "id": "HohXQ4S3cHLa",
        "colab_type": "code",
        "colab": {
          "base_uri": "https://localhost:8080/",
          "height": 53
        },
        "outputId": "c411beb9-c8d6-4b2a-a445-27b448ccfb1d"
      },
      "source": [
        "if __name__ == '__main__':\n",
        "    a_model = Model(datafile=\"weather.csv\", model_type=None)\n",
        "    a_model.split(0.2)\n",
        "    a_model.fit()    \n",
        "    print(a_model.predict([.9, 1000]))\n",
        "    print(\"Accuracy: \", a_model.model.score(a_model.X_test, a_model.y_test))"
      ],
      "execution_count": null,
      "outputs": [
        {
          "output_type": "stream",
          "text": [
            "[6.83625473]\n",
            "Accuracy:  0.39578560465686424\n"
          ],
          "name": "stdout"
        }
      ]
    },
    {
      "cell_type": "code",
      "metadata": {
        "id": "1hToabsqcvSm",
        "colab_type": "code",
        "colab": {
          "base_uri": "https://localhost:8080/",
          "height": 53
        },
        "outputId": "c5926a32-28b2-4287-b1e3-f974352c9f6b"
      },
      "source": [
        "if __name__ == '__main__':\n",
        "    b_model = Model(datafile=\"weather2.csv\", model_type=None)\n",
        "    b_model.split(0.3)\n",
        "    b_model.fit()\n",
        "    print(b_model.predict([.9, 1000]))\n",
        "    print(\"Accuracy: \", b_model.model.score(b_model.X_test, b_model.y_test))"
      ],
      "execution_count": null,
      "outputs": [
        {
          "output_type": "stream",
          "text": [
            "[7.15581866]\n",
            "Accuracy:  0.35698882811391797\n"
          ],
          "name": "stdout"
        }
      ]
    },
    {
      "cell_type": "code",
      "metadata": {
        "id": "-QgZfifkcyDb",
        "colab_type": "code",
        "colab": {}
      },
      "source": [
        ""
      ],
      "execution_count": null,
      "outputs": []
    }
  ]
}