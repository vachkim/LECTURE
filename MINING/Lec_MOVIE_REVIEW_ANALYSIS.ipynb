{
  "nbformat": 4,
  "nbformat_minor": 0,
  "metadata": {
    "colab": {
      "name": "Lec_MOVIE REVIEW ANALYSIS.ipynb",
      "provenance": [],
      "collapsed_sections": [],
      "authorship_tag": "ABX9TyMvkUME6ymIazruCjPugGTW",
      "include_colab_link": true
    },
    "kernelspec": {
      "name": "python3",
      "display_name": "Python 3"
    }
  },
  "cells": [
    {
      "cell_type": "markdown",
      "metadata": {
        "id": "view-in-github",
        "colab_type": "text"
      },
      "source": [
        "<a href=\"https://colab.research.google.com/github/vachkim/LECTURE/blob/master/MINING/Lec_MOVIE_REVIEW_ANALYSIS.ipynb\" target=\"_parent\"><img src=\"https://colab.research.google.com/assets/colab-badge.svg\" alt=\"Open In Colab\"/></a>"
      ]
    },
    {
      "cell_type": "markdown",
      "metadata": {
        "id": "5RQHHuBTPd9E",
        "colab_type": "text"
      },
      "source": [
        "## 1.데이터 불러오기\n",
        "- [링크](https://github.com/e9t/nsmc)에서 리뷰데이터를 가져와 구글에 업로드\n",
        "- Mount를 통해 불러온다"
      ]
    },
    {
      "cell_type": "code",
      "metadata": {
        "id": "-GbEbNVIPJh9",
        "colab_type": "code",
        "colab": {
          "base_uri": "https://localhost:8080/",
          "height": 127
        },
        "outputId": "2e5f8f12-0131-43bd-aed8-d27b055c4ec0"
      },
      "source": [
        "from google.colab import drive\n",
        "ROOT = '/content/drive'\n",
        "drive.mount(ROOT)"
      ],
      "execution_count": null,
      "outputs": [
        {
          "output_type": "stream",
          "text": [
            "Go to this URL in a browser: https://accounts.google.com/o/oauth2/auth?client_id=947318989803-6bn6qk8qdgf4n4g3pfee6491hc0brc4i.apps.googleusercontent.com&redirect_uri=urn%3aietf%3awg%3aoauth%3a2.0%3aoob&scope=email%20https%3a%2f%2fwww.googleapis.com%2fauth%2fdocs.test%20https%3a%2f%2fwww.googleapis.com%2fauth%2fdrive%20https%3a%2f%2fwww.googleapis.com%2fauth%2fdrive.photos.readonly%20https%3a%2f%2fwww.googleapis.com%2fauth%2fpeopleapi.readonly&response_type=code\n",
            "\n",
            "Enter your authorization code:\n",
            "··········\n",
            "Mounted at /content/drive\n"
          ],
          "name": "stdout"
        }
      ]
    },
    {
      "cell_type": "code",
      "metadata": {
        "id": "vyxPhjciR0s8",
        "colab_type": "code",
        "colab": {
          "base_uri": "https://localhost:8080/",
          "height": 35
        },
        "outputId": "284ba08a-d3ae-46d1-de8d-be2ad0d3de64"
      },
      "source": [
        "%cd drive/'My Drive'/'Colab Notebooks'"
      ],
      "execution_count": null,
      "outputs": [
        {
          "output_type": "stream",
          "text": [
            "/content/drive/My Drive/Colab Notebooks\n"
          ],
          "name": "stdout"
        }
      ]
    },
    {
      "cell_type": "code",
      "metadata": {
        "id": "s9mjcV4YSOmE",
        "colab_type": "code",
        "colab": {
          "base_uri": "https://localhost:8080/",
          "height": 287
        },
        "outputId": "6f3f037a-acdd-4948-bcb9-9e520a4bd377"
      },
      "source": [
        "%ls"
      ],
      "execution_count": null,
      "outputs": [
        {
          "output_type": "stream",
          "text": [
            "\u001b[0m\u001b[01;34m'모두의 데이터 분석'\u001b[0m/          \u001b[01;34mmachinelearning_data\u001b[0m/\n",
            " 0826_Class.ipynb              Matplotlib_시각화.ipynb\n",
            " 강의_BeautifulSoup.ipynb      naivebayes_example.csv\n",
            " \u001b[01;34mdeeplearning_data\u001b[0m/            ratings_test.txt\n",
            " 강의_판다스.ipynb             ratings_train.txt\n",
            " 강의_파이썬.ipynb             SamsungCard_분석.ipynb\n",
            " 강의_넘파이.ipynb             SamsungCard.ipynb\n",
            " 강의_코딩실습.ipynb           \u001b[01;34msamsung_data\u001b[0m/\n",
            " 강의_영어마이닝.ipynb         Seaborn_시각화.ipynb\n",
            " 강의_감정분석.ipynb           강의_Selenium.ipynb\n",
            " 강의_한글마이닝.ipynb         \u001b[01;34mtitanic_data\u001b[0m/\n",
            " 강의_영화리뷰감정분석.ipynb   Titanic_기초분석.ipynb\n",
            " 데이터시각화기초.ipynb        Untitled\n",
            " 인구공공데이터.ipynb          \u001b[01;34mweather_data\u001b[0m/\n",
            " 기온공공데이터.ipynb\n"
          ],
          "name": "stdout"
        }
      ]
    },
    {
      "cell_type": "code",
      "metadata": {
        "id": "MHLV-0dYSPe5",
        "colab_type": "code",
        "colab": {}
      },
      "source": [
        "import pandas as pd\n",
        "test = pd.read_csv('ratings_test.txt',sep='\\t',quoting=3)\n",
        "train = pd.read_csv('ratings_train.txt',sep='\\t',quoting=3)"
      ],
      "execution_count": null,
      "outputs": []
    },
    {
      "cell_type": "markdown",
      "metadata": {
        "id": "SvHZ9kRIXNHw",
        "colab_type": "text"
      },
      "source": [
        "- 데이터를 보면 아이디와 후기, 후기에 대한 긍정/부정 평가로 세트가 구성되어 있음을 알 수 있다"
      ]
    },
    {
      "cell_type": "code",
      "metadata": {
        "id": "VCQ9z250SX6h",
        "colab_type": "code",
        "colab": {
          "base_uri": "https://localhost:8080/",
          "height": 197
        },
        "outputId": "5d029c73-36c0-4616-b245-71d51e76fa24"
      },
      "source": [
        "train.info()"
      ],
      "execution_count": null,
      "outputs": [
        {
          "output_type": "stream",
          "text": [
            "<class 'pandas.core.frame.DataFrame'>\n",
            "RangeIndex: 150000 entries, 0 to 149999\n",
            "Data columns (total 3 columns):\n",
            " #   Column    Non-Null Count   Dtype \n",
            "---  ------    --------------   ----- \n",
            " 0   id        150000 non-null  int64 \n",
            " 1   document  149995 non-null  object\n",
            " 2   label     150000 non-null  int64 \n",
            "dtypes: int64(2), object(1)\n",
            "memory usage: 3.4+ MB\n"
          ],
          "name": "stdout"
        }
      ]
    },
    {
      "cell_type": "code",
      "metadata": {
        "id": "HcZx9MadSp_3",
        "colab_type": "code",
        "colab": {
          "base_uri": "https://localhost:8080/",
          "height": 204
        },
        "outputId": "de088bca-4930-4a12-bafa-171c33202b41"
      },
      "source": [
        "train.head(5)"
      ],
      "execution_count": null,
      "outputs": [
        {
          "output_type": "execute_result",
          "data": {
            "text/html": [
              "<div>\n",
              "<style scoped>\n",
              "    .dataframe tbody tr th:only-of-type {\n",
              "        vertical-align: middle;\n",
              "    }\n",
              "\n",
              "    .dataframe tbody tr th {\n",
              "        vertical-align: top;\n",
              "    }\n",
              "\n",
              "    .dataframe thead th {\n",
              "        text-align: right;\n",
              "    }\n",
              "</style>\n",
              "<table border=\"1\" class=\"dataframe\">\n",
              "  <thead>\n",
              "    <tr style=\"text-align: right;\">\n",
              "      <th></th>\n",
              "      <th>id</th>\n",
              "      <th>document</th>\n",
              "      <th>label</th>\n",
              "    </tr>\n",
              "  </thead>\n",
              "  <tbody>\n",
              "    <tr>\n",
              "      <th>0</th>\n",
              "      <td>9976970</td>\n",
              "      <td>아 더빙.. 진짜 짜증나네요 목소리</td>\n",
              "      <td>0</td>\n",
              "    </tr>\n",
              "    <tr>\n",
              "      <th>1</th>\n",
              "      <td>3819312</td>\n",
              "      <td>흠...포스터보고 초딩영화줄....오버연기조차 가볍지 않구나</td>\n",
              "      <td>1</td>\n",
              "    </tr>\n",
              "    <tr>\n",
              "      <th>2</th>\n",
              "      <td>10265843</td>\n",
              "      <td>너무재밓었다그래서보는것을추천한다</td>\n",
              "      <td>0</td>\n",
              "    </tr>\n",
              "    <tr>\n",
              "      <th>3</th>\n",
              "      <td>9045019</td>\n",
              "      <td>교도소 이야기구먼 ..솔직히 재미는 없다..평점 조정</td>\n",
              "      <td>0</td>\n",
              "    </tr>\n",
              "    <tr>\n",
              "      <th>4</th>\n",
              "      <td>6483659</td>\n",
              "      <td>사이몬페그의 익살스런 연기가 돋보였던 영화!스파이더맨에서 늙어보이기만 했던 커스틴 ...</td>\n",
              "      <td>1</td>\n",
              "    </tr>\n",
              "  </tbody>\n",
              "</table>\n",
              "</div>"
            ],
            "text/plain": [
              "         id                                           document  label\n",
              "0   9976970                                아 더빙.. 진짜 짜증나네요 목소리      0\n",
              "1   3819312                  흠...포스터보고 초딩영화줄....오버연기조차 가볍지 않구나      1\n",
              "2  10265843                                  너무재밓었다그래서보는것을추천한다      0\n",
              "3   9045019                      교도소 이야기구먼 ..솔직히 재미는 없다..평점 조정      0\n",
              "4   6483659  사이몬페그의 익살스런 연기가 돋보였던 영화!스파이더맨에서 늙어보이기만 했던 커스틴 ...      1"
            ]
          },
          "metadata": {
            "tags": []
          },
          "execution_count": 6
        }
      ]
    },
    {
      "cell_type": "markdown",
      "metadata": {
        "id": "lTF17y-aXS97",
        "colab_type": "text"
      },
      "source": [
        "- 원활한 분석을 위해 null값을 지워준다"
      ]
    },
    {
      "cell_type": "code",
      "metadata": {
        "id": "2KJhOwVtWf5h",
        "colab_type": "code",
        "colab": {
          "base_uri": "https://localhost:8080/",
          "height": 89
        },
        "outputId": "b18c4cdd-e9f5-4ff2-cad7-33d3070d3ab2"
      },
      "source": [
        "train.isnull().sum()"
      ],
      "execution_count": null,
      "outputs": [
        {
          "output_type": "execute_result",
          "data": {
            "text/plain": [
              "id          0\n",
              "document    5\n",
              "label       0\n",
              "dtype: int64"
            ]
          },
          "metadata": {
            "tags": []
          },
          "execution_count": 7
        }
      ]
    },
    {
      "cell_type": "markdown",
      "metadata": {
        "id": "8t4f_gnqXieZ",
        "colab_type": "text"
      },
      "source": [
        "- 결측값 5개를 지우고 난 뒤 전체 데이터셋의 갯수가 14만 9995개가 된 것을 확인할 수 있다\n"
      ]
    },
    {
      "cell_type": "code",
      "metadata": {
        "id": "jb8FztQdXeqv",
        "colab_type": "code",
        "colab": {}
      },
      "source": [
        "train = train.dropna()"
      ],
      "execution_count": null,
      "outputs": []
    },
    {
      "cell_type": "markdown",
      "metadata": {
        "id": "IQgDpy0eS8Lz",
        "colab_type": "text"
      },
      "source": [
        "## 2.텍스트전처리\n",
        "- 위에 리뷰를 보면 온전하지 않은 단어들이 등장함을 알 수 있다\n",
        "- 감정분석 패키지에 넣기 적절한 형태로 데이터의 전처리를 수행한다"
      ]
    },
    {
      "cell_type": "markdown",
      "metadata": {
        "id": "C3rrxbsLTNmj",
        "colab_type": "text"
      },
      "source": [
        "### 1) 토큰화\n",
        "- Okt는 품사 단위로 토큰화 할 뿐만 아니라 SNS등에서 사용되는 이모티콘을 구분할 수 있다\n",
        "- 이에 여기에서는 Okt를 가지고 토큰화를 진행하도록 한다"
      ]
    },
    {
      "cell_type": "code",
      "metadata": {
        "id": "0ebDzLy8SqtI",
        "colab_type": "code",
        "colab": {
          "base_uri": "https://localhost:8080/",
          "height": 631
        },
        "outputId": "99e2d1b9-22ef-4c68-f740-941667fb280f"
      },
      "source": [
        "!pip install konlpy\n",
        "from konlpy.tag import Okt"
      ],
      "execution_count": null,
      "outputs": [
        {
          "output_type": "stream",
          "text": [
            "Collecting konlpy\n",
            "\u001b[?25l  Downloading https://files.pythonhosted.org/packages/85/0e/f385566fec837c0b83f216b2da65db9997b35dd675e107752005b7d392b1/konlpy-0.5.2-py2.py3-none-any.whl (19.4MB)\n",
            "\u001b[K     |████████████████████████████████| 19.4MB 1.4MB/s \n",
            "\u001b[?25hCollecting beautifulsoup4==4.6.0\n",
            "\u001b[?25l  Downloading https://files.pythonhosted.org/packages/9e/d4/10f46e5cfac773e22707237bfcd51bbffeaf0a576b0a847ec7ab15bd7ace/beautifulsoup4-4.6.0-py3-none-any.whl (86kB)\n",
            "\u001b[K     |████████████████████████████████| 92kB 6.7MB/s \n",
            "\u001b[?25hRequirement already satisfied: lxml>=4.1.0 in /usr/local/lib/python3.6/dist-packages (from konlpy) (4.2.6)\n",
            "Collecting JPype1>=0.7.0\n",
            "\u001b[?25l  Downloading https://files.pythonhosted.org/packages/8b/f7/a368401e630f0e390dd0e62c39fb928e5b23741b53c2360ee7d376660927/JPype1-1.0.2-cp36-cp36m-manylinux2010_x86_64.whl (3.8MB)\n",
            "\u001b[K     |████████████████████████████████| 3.8MB 47.9MB/s \n",
            "\u001b[?25hRequirement already satisfied: numpy>=1.6 in /usr/local/lib/python3.6/dist-packages (from konlpy) (1.18.5)\n",
            "Collecting tweepy>=3.7.0\n",
            "  Downloading https://files.pythonhosted.org/packages/bb/7c/99d51f80f3b77b107ebae2634108717362c059a41384a1810d13e2429a81/tweepy-3.9.0-py2.py3-none-any.whl\n",
            "Collecting colorama\n",
            "  Downloading https://files.pythonhosted.org/packages/c9/dc/45cdef1b4d119eb96316b3117e6d5708a08029992b2fee2c143c7a0a5cc5/colorama-0.4.3-py2.py3-none-any.whl\n",
            "Requirement already satisfied: typing-extensions; python_version < \"3.8\" in /usr/local/lib/python3.6/dist-packages (from JPype1>=0.7.0->konlpy) (3.7.4.3)\n",
            "Requirement already satisfied: requests[socks]>=2.11.1 in /usr/local/lib/python3.6/dist-packages (from tweepy>=3.7.0->konlpy) (2.23.0)\n",
            "Requirement already satisfied: requests-oauthlib>=0.7.0 in /usr/local/lib/python3.6/dist-packages (from tweepy>=3.7.0->konlpy) (1.3.0)\n",
            "Requirement already satisfied: six>=1.10.0 in /usr/local/lib/python3.6/dist-packages (from tweepy>=3.7.0->konlpy) (1.15.0)\n",
            "Requirement already satisfied: urllib3!=1.25.0,!=1.25.1,<1.26,>=1.21.1 in /usr/local/lib/python3.6/dist-packages (from requests[socks]>=2.11.1->tweepy>=3.7.0->konlpy) (1.24.3)\n",
            "Requirement already satisfied: idna<3,>=2.5 in /usr/local/lib/python3.6/dist-packages (from requests[socks]>=2.11.1->tweepy>=3.7.0->konlpy) (2.10)\n",
            "Requirement already satisfied: certifi>=2017.4.17 in /usr/local/lib/python3.6/dist-packages (from requests[socks]>=2.11.1->tweepy>=3.7.0->konlpy) (2020.6.20)\n",
            "Requirement already satisfied: chardet<4,>=3.0.2 in /usr/local/lib/python3.6/dist-packages (from requests[socks]>=2.11.1->tweepy>=3.7.0->konlpy) (3.0.4)\n",
            "Requirement already satisfied: PySocks!=1.5.7,>=1.5.6; extra == \"socks\" in /usr/local/lib/python3.6/dist-packages (from requests[socks]>=2.11.1->tweepy>=3.7.0->konlpy) (1.7.1)\n",
            "Requirement already satisfied: oauthlib>=3.0.0 in /usr/local/lib/python3.6/dist-packages (from requests-oauthlib>=0.7.0->tweepy>=3.7.0->konlpy) (3.1.0)\n",
            "Installing collected packages: beautifulsoup4, JPype1, tweepy, colorama, konlpy\n",
            "  Found existing installation: beautifulsoup4 4.6.3\n",
            "    Uninstalling beautifulsoup4-4.6.3:\n",
            "      Successfully uninstalled beautifulsoup4-4.6.3\n",
            "  Found existing installation: tweepy 3.6.0\n",
            "    Uninstalling tweepy-3.6.0:\n",
            "      Successfully uninstalled tweepy-3.6.0\n",
            "Successfully installed JPype1-1.0.2 beautifulsoup4-4.6.0 colorama-0.4.3 konlpy-0.5.2 tweepy-3.9.0\n"
          ],
          "name": "stdout"
        }
      ]
    },
    {
      "cell_type": "markdown",
      "metadata": {
        "id": "CNanSlhVUCwo",
        "colab_type": "text"
      },
      "source": [
        "- Okt는 입력값으로 하나의 STR 값을 받는다\n",
        "- 따라서 Document칼럼의 값을 문자열로 변환하는 과정이 필요하다"
      ]
    },
    {
      "cell_type": "code",
      "metadata": {
        "id": "x6U0O5idULT3",
        "colab_type": "code",
        "colab": {}
      },
      "source": [
        "all = list(train['document'])"
      ],
      "execution_count": null,
      "outputs": []
    },
    {
      "cell_type": "code",
      "metadata": {
        "id": "yIy6UZfWXqLY",
        "colab_type": "code",
        "colab": {}
      },
      "source": [
        "review = ''\n",
        "for element in all:\n",
        "  review += element"
      ],
      "execution_count": null,
      "outputs": []
    },
    {
      "cell_type": "code",
      "metadata": {
        "id": "1CGfDbC7WLnb",
        "colab_type": "code",
        "colab": {
          "base_uri": "https://localhost:8080/",
          "height": 125
        },
        "outputId": "4d83fd4e-8176-4142-ad7f-8f9cf0b98c5a"
      },
      "source": [
        "review[:500]"
      ],
      "execution_count": null,
      "outputs": [
        {
          "output_type": "execute_result",
          "data": {
            "application/vnd.google.colaboratory.intrinsic+json": {
              "type": "string"
            },
            "text/plain": [
              "'아 더빙.. 진짜 짜증나네요 목소리흠...포스터보고 초딩영화줄....오버연기조차 가볍지 않구나너무재밓었다그래서보는것을추천한다교도소 이야기구먼 ..솔직히 재미는 없다..평점 조정사이몬페그의 익살스런 연기가 돋보였던 영화!스파이더맨에서 늙어보이기만 했던 커스틴 던스트가 너무나도 이뻐보였다막 걸음마 뗀 3세부터 초등학교 1학년생인 8살용영화.ㅋㅋㅋ...별반개도 아까움.원작의 긴장감을 제대로 살려내지못했다.별 반개도 아깝다 욕나온다 이응경 길용우 연기생활이몇년인지..정말 발로해도 그것보단 낫겟다 납치.감금만반복반복..이드라마는 가족도없다 연기못하는사람만모엿네액션이 없는데도 재미 있는 몇안되는 영화왜케 평점이 낮은건데? 꽤 볼만한데.. 헐리우드식 화려함에만 너무 길들여져 있나?걍인피니트가짱이다.진짜짱이다♥볼때마다 눈물나서 죽겠다90년대의 향수자극!!허진호는 감성절제멜로의 달인이다~울면서 손들고 횡단보도 건널때 뛰쳐나올뻔 이범수 연기 드럽게못해담백하고 깔끔해서 좋다. 신문기사로만 보다 보면 자'"
            ]
          },
          "metadata": {
            "tags": []
          },
          "execution_count": 12
        }
      ]
    },
    {
      "cell_type": "code",
      "metadata": {
        "id": "-6DLB0iCYS4G",
        "colab_type": "code",
        "colab": {}
      },
      "source": [
        "okt = Okt()\n",
        "okt_tokens = okt.morphs(review)"
      ],
      "execution_count": null,
      "outputs": []
    },
    {
      "cell_type": "markdown",
      "metadata": {
        "id": "vuxVbtBT96-R",
        "colab_type": "text"
      },
      "source": [
        "### 2) 품사부착\n",
        "- 토큰화된 단어에 대해 품사를 부착한다"
      ]
    },
    {
      "cell_type": "code",
      "metadata": {
        "id": "6Y8qqWm49zPm",
        "colab_type": "code",
        "colab": {
          "base_uri": "https://localhost:8080/",
          "height": 197
        },
        "outputId": "f5697889-eebe-4922-bf48-bc3c6ffd4488"
      },
      "source": [
        "oktTag = []\n",
        "for token in okt_tokens:\n",
        "  oktTag += okt.pos(token)\n",
        "print(oktTag)"
      ],
      "execution_count": null,
      "outputs": [
        {
          "output_type": "stream",
          "text": [
            "IOPub data rate exceeded.\n",
            "The notebook server will temporarily stop sending output\n",
            "to the client in order to avoid crashing it.\n",
            "To change this limit, set the config variable\n",
            "`--NotebookApp.iopub_data_rate_limit`.\n",
            "\n",
            "Current values:\n",
            "NotebookApp.iopub_data_rate_limit=1000000.0 (bytes/sec)\n",
            "NotebookApp.rate_limit_window=3.0 (secs)\n",
            "\n"
          ],
          "name": "stderr"
        }
      ]
    },
    {
      "cell_type": "markdown",
      "metadata": {
        "id": "wL_Tj-g7-BEv",
        "colab_type": "text"
      },
      "source": [
        "### 3) 불용어처리\n",
        "- 불필요한 품사/단어를 제거하여 감정분석의 정확도를 높인다\n",
        "- 품사 정보는 [다음](https://docs.google.com/spreadsheets/d/1OGAjUvalBuX-oZvZ_-9tEfYD2gQe7hTGsgUpiiBSXI8/edit#gid=0)을 참고하자\n",
        "- Counter를 사용해 토큰화된 품사/단어들을 확인, 불용어 처리를 진행한다"
      ]
    },
    {
      "cell_type": "code",
      "metadata": {
        "id": "UbOS8BvR9_-T",
        "colab_type": "code",
        "colab": {}
      },
      "source": [
        "from collections import Counter\n",
        "Counter(oktTag).most_common()"
      ],
      "execution_count": null,
      "outputs": []
    },
    {
      "cell_type": "code",
      "metadata": {
        "id": "2K2B64YEQ15A",
        "colab_type": "code",
        "colab": {}
      },
      "source": [
        "stopPos = ['Conjunction','Josa','PreEomi','Eomi','Suffix','Punctuation','Foreign','Alpha','Number','Unknown',\n",
        "           'KoreanParticle','Hashtag','ScreeName','Email','URL']\n",
        "stopWord = ['네','이','의','가','더','때','고','도','들','는','를','은','임','이런','이나','부터','저','게','수',\n",
        "            '한','다','만','기','정','도','과','것','요','서','면','지','입니다','대','거','듯','내','그','나',\n",
        "            '인','안','와','결','비','하는데','머','까','조','건가','하면서','대해','했던','될','뒤']"
      ],
      "execution_count": null,
      "outputs": []
    },
    {
      "cell_type": "code",
      "metadata": {
        "id": "JrA85DfFQow1",
        "colab_type": "code",
        "colab": {}
      },
      "source": [
        "X_train = []\n",
        "for sentence in train['document']:\n",
        "    temp_X = []\n",
        "    temp_X = okt.pos(sentence, stem=True) # 토큰화\n",
        "    temp_X = [word for word in temp_X if not word in stopWord]"
      ],
      "execution_count": null,
      "outputs": []
    },
    {
      "cell_type": "code",
      "metadata": {
        "id": "IT9MvZad_Vhz",
        "colab_type": "code",
        "colab": {}
      },
      "source": [
        "stopPos = ['Conjunction','Josa','PreEomi','Eomi','Suffix','Punctuation','Foreign','Alpha','Number','Unknown',\n",
        "           'KoreanParticle','Hashtag','ScreeName','Email','URL']\n",
        "stopWord = ['네','이','의','가','더','때','고','도','들','는','를','은','임','이런','이나','부터','저','게','수',\n",
        "            '한','다','만','기','정','도','과','것','요','서','면','지','입니다','대','거','듯','내','그','나',\n",
        "            '인','안','와','결','비','하는데','머','까','조','건가','하면서','대해','했던','될','뒤']\n",
        "for tag in oktTag:\n",
        "  if tag[1] not in stopPos:\n",
        "    if tag[0] not in stopWord:\n",
        "      word.append(tag[0])"
      ],
      "execution_count": null,
      "outputs": []
    },
    {
      "cell_type": "code",
      "metadata": {
        "id": "Yh_OgH61ALCA",
        "colab_type": "code",
        "colab": {}
      },
      "source": [
        "X_train = word\n",
        "Y_train = train['label']"
      ],
      "execution_count": null,
      "outputs": []
    },
    {
      "cell_type": "code",
      "metadata": {
        "id": "8oMV4u2NBnZ2",
        "colab_type": "code",
        "colab": {}
      },
      "source": [
        "from sklearn.feature_extraction.text import CountVectorizer\n",
        "from sklearn.feature_extraction.text import TfidfTransformer\n",
        "from sklearn.naive_bayes import MultinomialNB\n",
        "\n",
        "count_vect = CountVectorizer()\n",
        "X_train_counts = count_vect.fit_transform(X_train)\n",
        "clf = MultinomialNB().fit(X_train, Y_train)"
      ],
      "execution_count": null,
      "outputs": []
    },
    {
      "cell_type": "code",
      "metadata": {
        "id": "49MqqMmiCgdf",
        "colab_type": "code",
        "colab": {}
      },
      "source": [
        ""
      ],
      "execution_count": null,
      "outputs": []
    }
  ]
}