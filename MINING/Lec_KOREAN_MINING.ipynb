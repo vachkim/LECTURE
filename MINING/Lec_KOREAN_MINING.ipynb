{
  "nbformat": 4,
  "nbformat_minor": 0,
  "metadata": {
    "colab": {
      "name": "Lec_KOREAN MINING.ipynb",
      "provenance": [],
      "collapsed_sections": [],
      "toc_visible": true,
      "authorship_tag": "ABX9TyPCcLaU3xv3zWYvL9UHxQAS",
      "include_colab_link": true
    },
    "kernelspec": {
      "name": "python3",
      "display_name": "Python 3"
    }
  },
  "cells": [
    {
      "cell_type": "markdown",
      "metadata": {
        "id": "view-in-github",
        "colab_type": "text"
      },
      "source": [
        "<a href=\"https://colab.research.google.com/github/vachkim/LECTURE/blob/master/MINING/Lec_KOREAN_MINING.ipynb\" target=\"_parent\"><img src=\"https://colab.research.google.com/assets/colab-badge.svg\" alt=\"Open In Colab\"/></a>"
      ]
    },
    {
      "cell_type": "markdown",
      "metadata": {
        "id": "cXMRPUnrRwy0",
        "colab_type": "text"
      },
      "source": [
        "## 1. 프로그램 설치\n",
        "- 한글 분석은 영어와 달리 기본 패키지를 활용할 수 없다 \n",
        "- 따라서 형태소 분석을 위한 프로그램을 별도로 설치해주는 것이 필요하다"
      ]
    },
    {
      "cell_type": "markdown",
      "metadata": {
        "id": "NalBnc5uR_hK",
        "colab_type": "text"
      },
      "source": [
        "### 1) MeCAB설치 _ Win용\n",
        "- C드라이브에 mecab폴더를 만든다\n",
        "- [다음](https://github.com/Pusnow/mecab-ko-msvc/releases/tag/release-0.9.2-msvc-3)에서 win버전에 맞는 파일을 다운받는다\n",
        "- 만들어놓은 mecab폴더에 다운 받은 파일들을 넣어준다\n",
        "- [다음](https://github.com/Pusnow/mecab-ko-dic-msvc/releases/tag/mecab-ko-dic-2.1.1-20180720-msvc)에서 첫번째 압축 파일을 다운받는다\n",
        "- [다음](https://github.com/Pusnow/mecab-python-msvc/releases/tag/mecab_python-0.996_ko_0.9.2_msvc-2)에서 파이썬 버전에 맞는 파일을 다운받은 뒤, 현재 주피터 노트북이 실행되고 있는 폴더에 넣어준다\n",
        "- 주피터 노트북이 실행되는 폴더에 파이썬 파일을 만들어 !pip install을 실행한다"
      ]
    },
    {
      "cell_type": "markdown",
      "metadata": {
        "id": "QfQuG7URnFv8",
        "colab_type": "text"
      },
      "source": [
        "### 2) KoNLPy 설치 _ Win용\n",
        "- [다음](https://www.oracle.com/java/technologies/javase-downloads.html)에서 버전에 맞는 EXE파일을 다운로드 받는다\n",
        "- 다운받은 JAVA EXE파일을 실행해 설치한다\n",
        "- 내 컴퓨터 > 속성 > 고급 시스템 설정 > 환경변수 > 시스템 변수 > Path에서 다운받은 java의 폴더 경로를 추가한다\n",
        "- Visual Studio를 설치한다\n",
        "- [다음](https://www.lfd.uci.edu/~gohlke/pythonlibs/#jpype)에서 파이썬 버전에 맞는 JPype1을 다운받는다\n",
        "- 주피터 노트북에 파이썬 파일을 하나 만들어 !pip install을 실행, Jpype1을 설치한다\n",
        "- 이후 !pip install konlpy를 진행한다"
      ]
    },
    {
      "cell_type": "markdown",
      "metadata": {
        "id": "lO68GgwUR06r",
        "colab_type": "text"
      },
      "source": [
        "## 2. 텍스트 전처리\n",
        "- 텍스트를 자연어 처리를 위해 용도에 맞도록 표준화하는 작업"
      ]
    },
    {
      "cell_type": "markdown",
      "metadata": {
        "id": "2gI_G7SvR5ud",
        "colab_type": "text"
      },
      "source": [
        "### 1) 토큰화\n",
        "- 텍스트를 자연어 처리를 위해 분리 하는 것"
      ]
    },
    {
      "cell_type": "code",
      "metadata": {
        "id": "PzvIlL_RNlox",
        "colab_type": "code",
        "colab": {
          "base_uri": "https://localhost:8080/",
          "height": 35
        },
        "outputId": "714aaa71-6cb8-4786-da6e-34f2a87a9d7b"
      },
      "source": [
        "text = '인생은 모두가 함께하는 여행이다. 매일매일 사는 동안 우리가 할 수 있는 건 최선을 다해 이 멋진 여행을 만끽하는 것이다'\n",
        "print(text.split()) #공백으로 토큰화_그러나 한글은 조사, 어미 등이 붙어있기 때문에 공백으로 토큰화는 좋지 않다"
      ],
      "execution_count": null,
      "outputs": [
        {
          "output_type": "stream",
          "text": [
            "['인생은', '모두가', '함께하는', '여행이다.', '매일매일', '사는', '동안', '우리가', '할', '수', '있는', '건', '최선을', '다해', '이', '멋진', '여행을', '만끽하는', '것이다']\n"
          ],
          "name": "stdout"
        }
      ]
    },
    {
      "cell_type": "markdown",
      "metadata": {
        "id": "2ZaOjKhdSW-R",
        "colab_type": "text"
      },
      "source": [
        "- 토큰화에 필요한 라이브러리를 다운받는다"
      ]
    },
    {
      "cell_type": "code",
      "metadata": {
        "id": "vsqzQbbNSJdq",
        "colab_type": "code",
        "colab": {
          "base_uri": "https://localhost:8080/",
          "height": 611
        },
        "outputId": "4383f9a2-46ec-4a9d-c9e6-aac2d117f20b"
      },
      "source": [
        "!pip install konlpy #konlpy는 형태소 분석에 필요한 여러 패키지를 포함한 라이브러리다\n",
        "from konlpy.tag import Komoran\n",
        "from konlpy.tag import Hannanum\n",
        "from konlpy.tag import Okt\n",
        "from konlpy.tag import Kkma"
      ],
      "execution_count": null,
      "outputs": [
        {
          "output_type": "stream",
          "text": [
            "Collecting konlpy\n",
            "\u001b[?25l  Downloading https://files.pythonhosted.org/packages/85/0e/f385566fec837c0b83f216b2da65db9997b35dd675e107752005b7d392b1/konlpy-0.5.2-py2.py3-none-any.whl (19.4MB)\n",
            "\u001b[K     |████████████████████████████████| 19.4MB 1.5MB/s \n",
            "\u001b[?25hRequirement already satisfied: lxml>=4.1.0 in /usr/local/lib/python3.6/dist-packages (from konlpy) (4.2.6)\n",
            "Collecting JPype1>=0.7.0\n",
            "\u001b[?25l  Downloading https://files.pythonhosted.org/packages/8b/f7/a368401e630f0e390dd0e62c39fb928e5b23741b53c2360ee7d376660927/JPype1-1.0.2-cp36-cp36m-manylinux2010_x86_64.whl (3.8MB)\n",
            "\u001b[K     |████████████████████████████████| 3.8MB 40.1MB/s \n",
            "\u001b[?25hCollecting tweepy>=3.7.0\n",
            "  Downloading https://files.pythonhosted.org/packages/bb/7c/99d51f80f3b77b107ebae2634108717362c059a41384a1810d13e2429a81/tweepy-3.9.0-py2.py3-none-any.whl\n",
            "Collecting beautifulsoup4==4.6.0\n",
            "\u001b[?25l  Downloading https://files.pythonhosted.org/packages/9e/d4/10f46e5cfac773e22707237bfcd51bbffeaf0a576b0a847ec7ab15bd7ace/beautifulsoup4-4.6.0-py3-none-any.whl (86kB)\n",
            "\u001b[K     |████████████████████████████████| 92kB 8.7MB/s \n",
            "\u001b[?25hCollecting colorama\n",
            "  Downloading https://files.pythonhosted.org/packages/c9/dc/45cdef1b4d119eb96316b3117e6d5708a08029992b2fee2c143c7a0a5cc5/colorama-0.4.3-py2.py3-none-any.whl\n",
            "Requirement already satisfied: numpy>=1.6 in /usr/local/lib/python3.6/dist-packages (from konlpy) (1.18.5)\n",
            "Requirement already satisfied: typing-extensions; python_version < \"3.8\" in /usr/local/lib/python3.6/dist-packages (from JPype1>=0.7.0->konlpy) (3.7.4.3)\n",
            "Requirement already satisfied: requests-oauthlib>=0.7.0 in /usr/local/lib/python3.6/dist-packages (from tweepy>=3.7.0->konlpy) (1.3.0)\n",
            "Requirement already satisfied: six>=1.10.0 in /usr/local/lib/python3.6/dist-packages (from tweepy>=3.7.0->konlpy) (1.15.0)\n",
            "Requirement already satisfied: requests[socks]>=2.11.1 in /usr/local/lib/python3.6/dist-packages (from tweepy>=3.7.0->konlpy) (2.23.0)\n",
            "Requirement already satisfied: oauthlib>=3.0.0 in /usr/local/lib/python3.6/dist-packages (from requests-oauthlib>=0.7.0->tweepy>=3.7.0->konlpy) (3.1.0)\n",
            "Requirement already satisfied: certifi>=2017.4.17 in /usr/local/lib/python3.6/dist-packages (from requests[socks]>=2.11.1->tweepy>=3.7.0->konlpy) (2020.6.20)\n",
            "Requirement already satisfied: chardet<4,>=3.0.2 in /usr/local/lib/python3.6/dist-packages (from requests[socks]>=2.11.1->tweepy>=3.7.0->konlpy) (3.0.4)\n",
            "Requirement already satisfied: idna<3,>=2.5 in /usr/local/lib/python3.6/dist-packages (from requests[socks]>=2.11.1->tweepy>=3.7.0->konlpy) (2.10)\n",
            "Requirement already satisfied: urllib3!=1.25.0,!=1.25.1,<1.26,>=1.21.1 in /usr/local/lib/python3.6/dist-packages (from requests[socks]>=2.11.1->tweepy>=3.7.0->konlpy) (1.24.3)\n",
            "Requirement already satisfied: PySocks!=1.5.7,>=1.5.6; extra == \"socks\" in /usr/local/lib/python3.6/dist-packages (from requests[socks]>=2.11.1->tweepy>=3.7.0->konlpy) (1.7.1)\n",
            "Installing collected packages: JPype1, tweepy, beautifulsoup4, colorama, konlpy\n",
            "  Found existing installation: tweepy 3.6.0\n",
            "    Uninstalling tweepy-3.6.0:\n",
            "      Successfully uninstalled tweepy-3.6.0\n",
            "  Found existing installation: beautifulsoup4 4.6.3\n",
            "    Uninstalling beautifulsoup4-4.6.3:\n",
            "      Successfully uninstalled beautifulsoup4-4.6.3\n",
            "Successfully installed JPype1-1.0.2 beautifulsoup4-4.6.0 colorama-0.4.3 konlpy-0.5.2 tweepy-3.9.0\n"
          ],
          "name": "stdout"
        }
      ]
    },
    {
      "cell_type": "markdown",
      "metadata": {
        "id": "uS9Twfjgt6aH",
        "colab_type": "text"
      },
      "source": [
        "- 각 패키지에 들어가는 입력값이 Str타입임을 유의하자"
      ]
    },
    {
      "cell_type": "code",
      "metadata": {
        "id": "ez986D8YSPMX",
        "colab_type": "code",
        "colab": {
          "base_uri": "https://localhost:8080/",
          "height": 55
        },
        "outputId": "2fd6ba60-61a1-4050-c2a4-07221631b57b"
      },
      "source": [
        "komoran = Komoran() #호출한 패키지는 사용을 위해 선언이 필수적으로 해주어야 한다\n",
        "komoran_tokens = komoran.morphs(text) #komoran의 morphs를 사용해 토큰화\n",
        "print(komoran_tokens)"
      ],
      "execution_count": null,
      "outputs": [
        {
          "output_type": "stream",
          "text": [
            "['인생', '은', '모두', '가', '함께', '하', '는', '여행', '이', '다', '.', '매일', '매일', '살', '는', '동안', '우리', '가', '하', 'ㄹ', '수', '있', '는', '건', '최선', '을', '다', '하', '아', '이', '멋지', 'ㄴ', '여행', '을', '만끽', '하', '는', '것', '이', '다']\n"
          ],
          "name": "stdout"
        }
      ]
    },
    {
      "cell_type": "markdown",
      "metadata": {
        "id": "FjOCctYztsRN",
        "colab_type": "text"
      },
      "source": [
        "- 사용할 수 있는 옵션으로 morphs와 더불어 noun, pos 등이 있다\n",
        "  + noun은 명사만 추출\n",
        "  + pos는 품사 단위로 추출"
      ]
    },
    {
      "cell_type": "code",
      "metadata": {
        "id": "sm3-Y0xEuxUs",
        "colab_type": "code",
        "colab": {
          "base_uri": "https://localhost:8080/",
          "height": 55
        },
        "outputId": "f68ee830-b277-4fb2-c4fc-e9d009e440f0"
      },
      "source": [
        "komoran = Komoran() #호출한 패키지는 사용을 위해 선언이 필수적으로 해주어야 한다\n",
        "komoran_tokens = komoran.pos(text) #komoran의 morphs를 사용해 토큰화\n",
        "print(komoran_tokens)"
      ],
      "execution_count": null,
      "outputs": [
        {
          "output_type": "stream",
          "text": [
            "[('인생', 'NNG'), ('은', 'JX'), ('모두', 'NNG'), ('가', 'JKS'), ('함께', 'MAG'), ('하', 'XSV'), ('는', 'ETM'), ('여행', 'NNG'), ('이', 'VCP'), ('다', 'EF'), ('.', 'SF'), ('매일', 'MAG'), ('매일', 'MAG'), ('살', 'VV'), ('는', 'ETM'), ('동안', 'NNG'), ('우리', 'NP'), ('가', 'JKS'), ('하', 'VV'), ('ㄹ', 'ETM'), ('수', 'NNB'), ('있', 'VV'), ('는', 'ETM'), ('건', 'NNB'), ('최선', 'NNG'), ('을', 'JKO'), ('다', 'MAG'), ('하', 'XSV'), ('아', 'EC'), ('이', 'MM'), ('멋지', 'VA'), ('ㄴ', 'ETM'), ('여행', 'NNG'), ('을', 'JKO'), ('만끽', 'NNG'), ('하', 'XSV'), ('는', 'ETM'), ('것', 'NNB'), ('이', 'VCP'), ('다', 'EC')]\n"
          ],
          "name": "stdout"
        }
      ]
    },
    {
      "cell_type": "markdown",
      "metadata": {
        "id": "4hlVIMJ5u2FX",
        "colab_type": "text"
      },
      "source": [
        "- 위처럼 pos를 사용하면 품사 정보도 한번에 추출 가능하다"
      ]
    },
    {
      "cell_type": "code",
      "metadata": {
        "id": "3YuSy6wFSh7q",
        "colab_type": "code",
        "colab": {
          "base_uri": "https://localhost:8080/",
          "height": 55
        },
        "outputId": "08ebd038-ddfb-4040-e3e3-6c0042808a5e"
      },
      "source": [
        "hannanum = Hannanum()\n",
        "hannanum_tokens = hannanum.morphs(text)\n",
        "print(hannanum_tokens)"
      ],
      "execution_count": null,
      "outputs": [
        {
          "output_type": "stream",
          "text": [
            "['인생', '은', '모두', '가', '함께하', '는', '여행', '이', '다', '.', '매일매일', '사', '는', '동안', '우리', '가', '하', 'ㄹ', '수', '있', '는', '거', '은', '최선', '을', '다하', '어', '이', '멋지', 'ㄴ', '여행', '을', '만끽', '하', '는', '것', '이', '다']\n"
          ],
          "name": "stdout"
        }
      ]
    },
    {
      "cell_type": "markdown",
      "metadata": {
        "id": "j8yrbPWFuAeE",
        "colab_type": "text"
      },
      "source": [
        "- 위처럼 Komoran과 Hannanum은 세밀하게 토큰화를 진행한다\n",
        "- 즉 어간/어미 단위까지 구분해 토큰화가 이루어진다"
      ]
    },
    {
      "cell_type": "code",
      "metadata": {
        "id": "bvFa3gbRS0gP",
        "colab_type": "code",
        "colab": {
          "base_uri": "https://localhost:8080/",
          "height": 35
        },
        "outputId": "09892d5c-a1b8-4773-8943-d7c202b6dc52"
      },
      "source": [
        "okt = Okt()\n",
        "okt_tokens = okt.morphs(text)\n",
        "print(okt_tokens)"
      ],
      "execution_count": null,
      "outputs": [
        {
          "output_type": "stream",
          "text": [
            "['인생', '은', '모두', '가', '함께', '하는', '여행', '이다', '.', '매', '일', '매일', '사는', '동안', '우리', '가', '할', '수', '있는', '건', '최선', '을', '다해', '이', '멋진', '여행', '을', '만끽', '하는', '것', '이다']\n"
          ],
          "name": "stdout"
        }
      ]
    },
    {
      "cell_type": "markdown",
      "metadata": {
        "id": "M2s8R0iEuNSm",
        "colab_type": "text"
      },
      "source": [
        "- Okt는 품사단위로 토큰화 하기 때문에 상대적으로 토큰화 단위가 크다\n",
        "- Okt는 SNS등에서 사용되는 이모티콘 등을 구분할 수 있다는 장점이 있다 "
      ]
    },
    {
      "cell_type": "code",
      "metadata": {
        "id": "tTKmmgxmS5e-",
        "colab_type": "code",
        "colab": {
          "base_uri": "https://localhost:8080/",
          "height": 55
        },
        "outputId": "fb939faf-0680-4376-9561-f978674444d4"
      },
      "source": [
        "kkma=Kkma()\n",
        "kkma_tokens = kkma.morphs(text)\n",
        "print(kkma_tokens)"
      ],
      "execution_count": null,
      "outputs": [
        {
          "output_type": "stream",
          "text": [
            "['인생', '은', '모두', '가', '함께', '하', '는', '여행', '이', '다', '.', '매일', '매일', '살', '는', '동안', '우리', '가', '하', 'ㄹ', '수', '있', '는', '것', '은', '최선', '을', '다하', '어', '이', '멋지', 'ㄴ', '여행', '을', '만끽', '하', '는', '것', '이', '다']\n"
          ],
          "name": "stdout"
        }
      ]
    },
    {
      "cell_type": "markdown",
      "metadata": {
        "id": "yB2o9NUzTBRJ",
        "colab_type": "text"
      },
      "source": [
        "### 2) 품사부착\n",
        "- 각 토큰에 품사정보를 추가하여 분석시 불필요한 품사를 제거하거나 필요한 품사만 필터링한다"
      ]
    },
    {
      "cell_type": "code",
      "metadata": {
        "id": "hdqarMPyS97m",
        "colab_type": "code",
        "colab": {
          "base_uri": "https://localhost:8080/",
          "height": 55
        },
        "outputId": "24ef4473-cd02-4713-c7b4-f56430e467d0"
      },
      "source": [
        "komoranTag = []\n",
        "for token in komoran_tokens: #토큰화된 결과물은 리스트 형태이기 때문에 for문을 사용해 하나씩 꺼내는 과정이 필요\n",
        "  komoranTag += komoran.pos(token)\n",
        "print(komoranTag)"
      ],
      "execution_count": null,
      "outputs": [
        {
          "output_type": "stream",
          "text": [
            "[('인생', 'NNG'), ('은', 'NNP'), ('모두', 'MAG'), ('가', 'VV'), ('아', 'EC'), ('함께', 'MAG'), ('하', 'NNG'), ('늘', 'VV'), ('ㄴ', 'ETM'), ('여행', 'NNG'), ('이', 'MM'), ('다', 'MAG'), ('.', 'SF'), ('매일', 'MAG'), ('매일', 'MAG'), ('살', 'VV'), ('ㄹ', 'ETM'), ('늘', 'VV'), ('ㄴ', 'ETM'), ('동안', 'NNG'), ('우리', 'NP'), ('가', 'VV'), ('아', 'EC'), ('하', 'NNG'), ('ㄹ', 'NA'), ('수', 'NNB'), ('있', 'VV'), ('늘', 'VV'), ('ㄴ', 'ETM'), ('건', 'NNB'), ('최선', 'NNP'), ('을', 'NNG'), ('다', 'MAG'), ('하', 'NNG'), ('아', 'IC'), ('이', 'MM'), ('멋', 'NNG'), ('지', 'NNB'), ('ㄴ', 'JX'), ('여행', 'NNG'), ('을', 'NNG'), ('만끽', 'NNP'), ('하', 'NNG'), ('늘', 'VV'), ('ㄴ', 'ETM'), ('것', 'NNB'), ('이', 'MM'), ('다', 'MAG')]\n"
          ],
          "name": "stdout"
        }
      ]
    },
    {
      "cell_type": "code",
      "metadata": {
        "id": "i2dEGj6dTTvX",
        "colab_type": "code",
        "colab": {
          "base_uri": "https://localhost:8080/",
          "height": 55
        },
        "outputId": "47621a50-01c0-450a-dcb6-e8f83d3c4a48"
      },
      "source": [
        "hannanumTag = []\n",
        "for token in hannanum_tokens:\n",
        "  hannanumTag += hannanum.pos(token)\n",
        "print(hannanumTag)"
      ],
      "execution_count": null,
      "outputs": [
        {
          "output_type": "stream",
          "text": [
            "[('인생', 'N'), ('은', 'N'), ('모두', 'M'), ('가', 'J'), ('함께하', 'P'), ('어', 'E'), ('늘', 'P'), ('ㄴ', 'E'), ('여행', 'N'), ('이', 'M'), ('다', 'M'), ('.', 'S'), ('매일매일', 'M'), ('사', 'N'), ('늘', 'P'), ('ㄴ', 'E'), ('동안', 'N'), ('우리', 'N'), ('가', 'J'), ('하', 'I'), ('ㄹ', 'N'), ('수', 'N'), ('있', 'N'), ('늘', 'P'), ('ㄴ', 'E'), ('것', 'N'), ('은', 'N'), ('최선', 'N'), ('을', 'N'), ('다하', 'P'), ('어', 'E'), ('어', 'N'), ('이', 'M'), ('멋지', 'N'), ('ㄴ', 'N'), ('여행', 'N'), ('을', 'N'), ('만끽', 'N'), ('하', 'I'), ('늘', 'P'), ('ㄴ', 'E'), ('것', 'N'), ('이', 'M'), ('다', 'M')]\n"
          ],
          "name": "stdout"
        }
      ]
    },
    {
      "cell_type": "code",
      "metadata": {
        "id": "FS0v4wKTTbG1",
        "colab_type": "code",
        "colab": {
          "base_uri": "https://localhost:8080/",
          "height": 55
        },
        "outputId": "4c34b33a-a1be-4dd0-9693-dc447baa8460"
      },
      "source": [
        "oktTag = []\n",
        "for token in okt_tokens:\n",
        "  oktTag += okt.pos(token)\n",
        "print(oktTag)"
      ],
      "execution_count": null,
      "outputs": [
        {
          "output_type": "stream",
          "text": [
            "[('인생', 'Noun'), ('은', 'Noun'), ('모두', 'Noun'), ('가', 'Verb'), ('함께', 'Adverb'), ('하는', 'Verb'), ('여행', 'Noun'), ('이다', 'Josa'), ('.', 'Punctuation'), ('매', 'Noun'), ('일', 'Noun'), ('매일', 'Noun'), ('사는', 'Verb'), ('동안', 'Noun'), ('우리', 'Noun'), ('가', 'Verb'), ('할', 'Verb'), ('수', 'Noun'), ('있는', 'Adjective'), ('건', 'Noun'), ('최선', 'Noun'), ('을', 'Josa'), ('다해', 'Noun'), ('이', 'Noun'), ('멋진', 'Adjective'), ('여행', 'Noun'), ('을', 'Josa'), ('만끽', 'Noun'), ('하는', 'Verb'), ('것', 'Noun'), ('이다', 'Josa')]\n"
          ],
          "name": "stdout"
        }
      ]
    },
    {
      "cell_type": "code",
      "metadata": {
        "id": "reoo2GyaTjX4",
        "colab_type": "code",
        "colab": {
          "base_uri": "https://localhost:8080/",
          "height": 55
        },
        "outputId": "11acb561-1f43-4799-f2a6-17357378f9b5"
      },
      "source": [
        "kkmaTag =[]\n",
        "for token in kkma_tokens:\n",
        "  kkmaTag += kkma.pos(token)\n",
        "print(kkmaTag)"
      ],
      "execution_count": null,
      "outputs": [
        {
          "output_type": "stream",
          "text": [
            "[('인생', 'NNG'), ('은', 'NNG'), ('모두', 'MAG'), ('가', 'NNG'), ('함께', 'MAG'), ('하', 'NNG'), ('늘', 'VA'), ('ㄴ', 'ETD'), ('여행', 'NNG'), ('이', 'NNG'), ('다', 'NNG'), ('.', 'SF'), ('매일', 'MAG'), ('매일', 'MAG'), ('살', 'NNG'), ('늘', 'VA'), ('ㄴ', 'ETD'), ('동안', 'NNG'), ('우리', 'NP'), ('가', 'NNG'), ('하', 'NNG'), ('ㄹ', 'NNG'), ('수', 'NNG'), ('있', 'VA'), ('늘', 'VA'), ('ㄴ', 'ETD'), ('것', 'NNB'), ('은', 'NNG'), ('최선', 'NNG'), ('을', 'NNG'), ('다하', 'VV'), ('어', 'NNG'), ('이', 'NNG'), ('멋지', 'VA'), ('ㄴ', 'NNG'), ('여행', 'NNG'), ('을', 'NNG'), ('만끽', 'NNG'), ('하', 'NNG'), ('늘', 'VA'), ('ㄴ', 'ETD'), ('것', 'NNB'), ('이', 'NNG'), ('다', 'NNG')]\n"
          ],
          "name": "stdout"
        }
      ]
    },
    {
      "cell_type": "markdown",
      "metadata": {
        "id": "QOWjSRjmTsEX",
        "colab_type": "text"
      },
      "source": [
        "### 3) 불용어처리\n",
        "- 자연어 처리를 위해 불필요한 요소를 제거하는 작업\n",
        "- 불필요한 품사를 제거하거나 불필요한 단어를 제거하는 작업으로 구성된다\n",
        "- [품사정보](https://docs.google.com/spreadsheets/d/1OGAjUvalBuX-oZvZ_-9tEfYD2gQe7hTGsgUpiiBSXI8/edit#gid=0)"
      ]
    },
    {
      "cell_type": "code",
      "metadata": {
        "id": "Zrcma6gxTrBV",
        "colab_type": "code",
        "colab": {}
      },
      "source": [
        "from collections import Counter #Counter는 갯수를 세주는 함수이다"
      ],
      "execution_count": null,
      "outputs": []
    },
    {
      "cell_type": "markdown",
      "metadata": {
        "id": "kRMGVkPFvaCR",
        "colab_type": "text"
      },
      "source": [
        "- 아래처럼 자주 나오는 단어들을 집계해보면, 불용어 목룍에 무엇을 추가해야하는지 알 수 있다"
      ]
    },
    {
      "cell_type": "code",
      "metadata": {
        "id": "aXEGAcFYT1-8",
        "colab_type": "code",
        "colab": {
          "base_uri": "https://localhost:8080/",
          "height": 485
        },
        "outputId": "0654400a-9039-4664-dd0e-4b38eb7293bf"
      },
      "source": [
        "Counter(oktTag).most_common()"
      ],
      "execution_count": null,
      "outputs": [
        {
          "output_type": "execute_result",
          "data": {
            "text/plain": [
              "[(('가', 'Verb'), 2),\n",
              " (('하는', 'Verb'), 2),\n",
              " (('여행', 'Noun'), 2),\n",
              " (('이다', 'Josa'), 2),\n",
              " (('을', 'Josa'), 2),\n",
              " (('인생', 'Noun'), 1),\n",
              " (('은', 'Noun'), 1),\n",
              " (('모두', 'Noun'), 1),\n",
              " (('함께', 'Adverb'), 1),\n",
              " (('.', 'Punctuation'), 1),\n",
              " (('매', 'Noun'), 1),\n",
              " (('일', 'Noun'), 1),\n",
              " (('매일', 'Noun'), 1),\n",
              " (('사는', 'Verb'), 1),\n",
              " (('동안', 'Noun'), 1),\n",
              " (('우리', 'Noun'), 1),\n",
              " (('할', 'Verb'), 1),\n",
              " (('수', 'Noun'), 1),\n",
              " (('있는', 'Adjective'), 1),\n",
              " (('건', 'Noun'), 1),\n",
              " (('최선', 'Noun'), 1),\n",
              " (('다해', 'Noun'), 1),\n",
              " (('이', 'Noun'), 1),\n",
              " (('멋진', 'Adjective'), 1),\n",
              " (('만끽', 'Noun'), 1),\n",
              " (('것', 'Noun'), 1)]"
            ]
          },
          "metadata": {
            "tags": []
          },
          "execution_count": 16
        }
      ]
    },
    {
      "cell_type": "code",
      "metadata": {
        "id": "RUnAXi45T7AD",
        "colab_type": "code",
        "colab": {
          "base_uri": "https://localhost:8080/",
          "height": 35
        },
        "outputId": "a57aae38-3379-48d0-b828-2b3075444c9f"
      },
      "source": [
        "stopPos = ['Determiner','Adverb','Conjunction','Josa','PreEomi','Eomi','Suffix','Punctuation',\n",
        "           'Foreign','Alpha','Number','Unknown']\n",
        "stopWord = []\n",
        "word = []\n",
        "for tag in oktTag:\n",
        "  if tag[1] not in stopPos:\n",
        "    if tag[0] not in stopWord:\n",
        "      word.append(tag[0])\n",
        "print(word)"
      ],
      "execution_count": null,
      "outputs": [
        {
          "output_type": "stream",
          "text": [
            "['인생', '은', '모두', '가', '하는', '여행', '매', '일', '매일', '사는', '동안', '우리', '가', '할', '수', '있는', '건', '최선', '다해', '이', '멋진', '여행', '만끽', '하는', '것']\n"
          ],
          "name": "stdout"
        }
      ]
    },
    {
      "cell_type": "code",
      "metadata": {
        "id": "aTQUxRUXUO5Q",
        "colab_type": "code",
        "colab": {
          "base_uri": "https://localhost:8080/",
          "height": 35
        },
        "outputId": "bef3c54a-0fd3-4a2f-922b-fa52edfd674c"
      },
      "source": [
        "print(okt_tokens)"
      ],
      "execution_count": null,
      "outputs": [
        {
          "output_type": "stream",
          "text": [
            "['인생', '은', '모두', '가', '함께', '하는', '여행', '이다', '.', '매', '일', '매일', '사는', '동안', '우리', '가', '할', '수', '있는', '건', '최선', '을', '다해', '이', '멋진', '여행', '을', '만끽', '하는', '것', '이다']\n"
          ],
          "name": "stdout"
        }
      ]
    },
    {
      "cell_type": "markdown",
      "metadata": {
        "id": "2FCjxANVxP1K",
        "colab_type": "text"
      },
      "source": [
        "## 3. 한글 텍스트 마이닝 실습\n",
        "- [뉴스](https://www.yna.co.kr/view/AKR20200204081000017?section=it/it)에서 유의미한 단어를 추출해보자"
      ]
    },
    {
      "cell_type": "markdown",
      "metadata": {
        "id": "QRzhr7-JxhjT",
        "colab_type": "text"
      },
      "source": [
        "### 1) 크롤링\n",
        "- 뉴스 페이지의 텍스트를 크롤링해 가져온다"
      ]
    },
    {
      "cell_type": "code",
      "metadata": {
        "id": "tP_7tn4gUXA3",
        "colab_type": "code",
        "colab": {}
      },
      "source": [
        "import requests\n",
        "from bs4 import BeautifulSoup as bs"
      ],
      "execution_count": null,
      "outputs": []
    },
    {
      "cell_type": "code",
      "metadata": {
        "id": "iR4Cb-tqxtc9",
        "colab_type": "code",
        "colab": {}
      },
      "source": [
        "url = 'https://www.yna.co.kr/view/AKR20200204081000017?section=it/it'\n",
        "page = requests.get(url)\n",
        "content = bs(page.text, 'html.parser')"
      ],
      "execution_count": null,
      "outputs": []
    },
    {
      "cell_type": "code",
      "metadata": {
        "id": "YW-e7b6cx4Yw",
        "colab_type": "code",
        "colab": {}
      },
      "source": [
        "news = content.find('div',class_='story-news article')\n",
        "txt = news.find_all('p')"
      ],
      "execution_count": null,
      "outputs": []
    },
    {
      "cell_type": "markdown",
      "metadata": {
        "id": "XJQ8NxZhzkIX",
        "colab_type": "text"
      },
      "source": [
        "- 크롤링 했을 때, 공백이 함께 나오면 replace('\\n','')를 활용해 공백을 삭제한다\n",
        "- 위의 결과에서 tag를 떼고 하나의 Str을 만들기 위해 For문을 활용한다"
      ]
    },
    {
      "cell_type": "code",
      "metadata": {
        "id": "jvPNWaHnyeY7",
        "colab_type": "code",
        "colab": {
          "base_uri": "https://localhost:8080/",
          "height": 89
        },
        "outputId": "87f23213-f671-4c0e-e2e0-dd38603a4294"
      },
      "source": [
        "text = ''\n",
        "for line in txt:\n",
        "  text += line.text\n",
        "text[:500]"
      ],
      "execution_count": null,
      "outputs": [
        {
          "output_type": "execute_result",
          "data": {
            "application/vnd.google.colaboratory.intrinsic+json": {
              "type": "string"
            },
            "text/plain": [
              "'(서울=연합뉴스) 홍지인 기자 = 구글의 칼라 브롬버그 \\'공익을 위한 AI\\' 프로그램 리드가 4일 역삼동 구글코리아에서 화상 기자간담회를 갖고 있다. 2020. 2. 4. (서울=연합뉴스) 홍지인 기자 = 구글은 인공지능(AI) 기술을 활용한 기상 예측 모델을 개발해 일부 분야에서는 미국 정부보다 더 뛰어난 예보 결과를 내놓고 있다고 4일 밝혔다. 구글의 칼라 브롬버그 \\'공익을 위한 AI\\' 프로그램 리드는 이날 서울 역삼동 구글코리아에서 가진 화상 기자간담회에서 \"신경망을 이용한 기상 예측은 기존 예측 방법보다 훨씬 정확하다\"고 말했다.  구글의 \\'나우캐스트\\' 기상 예측 모델은 6시간 이내 단기 예보에 초점을 맞추고 기상 레이더 관측 자료와 위성 사진 등을 모아 유넷(U-Net)이라는 신경망으로 계산한다. 기존 모델로는 몇 시간이 걸리는 작업을 5~10분 만에 내놓을 수 있고, 공간 해상도도 1㎞로 미국 해양대기청(NOAA)의 예보모델 \\'HRRR\\'보다 10배 더 상세하다고 구글은 소'"
            ]
          },
          "metadata": {
            "tags": []
          },
          "execution_count": 22
        }
      ]
    },
    {
      "cell_type": "markdown",
      "metadata": {
        "id": "5FXHyFFy0NGu",
        "colab_type": "text"
      },
      "source": [
        "### 2) 토큰화\n",
        "- Mecab패키지를 import해 크롤링한 뉴스 텍스트의 토큰화를 진행한다\n",
        "- 구글 코랩에서는 Mecab이 원활하게 작동하지 않기 때문에 코드를 중심으로 작성하도록 하겠다"
      ]
    },
    {
      "cell_type": "code",
      "metadata": {
        "id": "l5MTF2yM0dSJ",
        "colab_type": "code",
        "colab": {}
      },
      "source": [
        "from konlpy.tag import Mecab"
      ],
      "execution_count": null,
      "outputs": []
    },
    {
      "cell_type": "code",
      "metadata": {
        "id": "Kx33CZ6-MEym",
        "colab_type": "code",
        "colab": {}
      },
      "source": [
        "!pip install Mecab\n",
        "mecab = Mecab()\n",
        "mecab_tokens = mecab.morphs(text)\n",
        "print(mecab_tokens)"
      ],
      "execution_count": null,
      "outputs": []
    },
    {
      "cell_type": "markdown",
      "metadata": {
        "id": "PD2ANH7_QSwG",
        "colab_type": "text"
      },
      "source": [
        "- 위의 결과는 다음과 같이 출력된다\n",
        "``` python\n",
        "['(', '서울', '=', '연합뉴스', ')', '홍지인', '기자', '=', '구글', '의', '칼라', '브롬버그', \"'\", '공익', '을', '위한', 'AI', \"'\", '프로그램', '리드', '가', '4', '일', '역삼동', '구글', '코리아', '에서', '화상', '기자', '간담회', '를', '갖', '고', '있', '다', '.', '2020', '.', '2', '.', '4', '.', '(', '서울', '=', '연합뉴스', ')', '홍지인', '기자', '=', '구글', '은', '인공지능', '(', 'AI', ')', '기술', '을', '활용', '한', '기상', '예측', '모델', '을', '개발', '해', '일부', '분야', '에서', '는', '미국', '정부', '보다', '더', '뛰어난', '예보', '결과', '를', '내놓', '고', '있', '다고', '4', '일', '밝혔', '다', '.', '구글', '의', '칼라', '브롬버그', \"'\", '공익', '을', '위한', 'AI', \"'\", '프로그램', '리드', '는', '이날', '서울', '역삼동', '구글', '코리아', '에서', '가진', '화상', '기자', '간담회', '에서', '\"', '신경망', '을', '이용', '한', '기상', '예측', '은', '기존', '예측', '방법', '보다', '훨씬', '정확', '하', '다', '\"', '고', '말', '했', '다', '.', '구글', '의', \"'\", '나우', '캐스트', \"'\", '기상', '예측', '모델', '은', '6', '시간', '이내', '단기', '예보', '에', '초점', '을', '맞추', '고', '기상', '레이더', '관측', '자료', '와', '위성', '사진', '등', '을', '모아', '유', '넷', '(', 'U', '-', 'Net', ')', '이', '라는', '신경망', '으로', '계산', '한다', '.', '기존', '모델', '로', '는', '몇', '시간', '이', '걸리', '는', '작업', '을', '5', '~', '10', '분', '만', '에', '내놓', '을', '수', '있', '고', ',', '공간', '해상도', '도', '1', '㎞', '로', '미국', '해양', '대', '기청', '(', 'NOAA', ')', '의', '예보', '모델', \"'\", 'HRRR', \"'\", '보다', '10', '배', '더', '상세', '하', '다고', '구글', '은', '소개', '했', '다', '.', '예보', '정확', '도', '면', '에서', '는', '1', '~', '3', '시간', '단기', '예보', '의', '경우', '도', 'HRRR', '보다', '더', '뛰어나', '다고', '구글', '은', '분석', '했', '다', '.', '단', ',', '5', '~', '6', '시간', '이상', '예보', '에서', '는', 'HRRR', '이', '더', '정확', '했', '다', '.', '칼라', '리드', '는', '\"', '지금', '시점', '에서', '당장', '기상', '예측', '모델', '을', '상용', '화', '할', '계획', '은', '없', '다', '\"', '며', '\"', '머신', '러닝', '기법', '을', '이용', '해', '얼마나', '날씨', '를', '정확', '하', '게', '예측', '할', '수', '있', '는지', '에', '대해', '연구', '과제', '로', '만', '삼', '고', '있', '다', '\"', '고', '말', '했', '다', '.', '함유근', '전', '남대', '지구', '환경', '과', '학부', '교수', '는', '이날', '간담회', '에서', \"'\", '합성곱', '신경망', '기법', \"'(\", 'CNN', '·', 'Convolutional', 'Neural', 'Network', ')', '을', '응용', '한', '엘니뇨', '예측', '모형', '을', '소개', '했', '다', '.', '그', '가', '개발', '한', '엘니뇨', '예측', '모형', '은', '향후', '18', '개월', '동안', '70', '%', '이상', '정확도', '로', '엘니뇨', '발생', '가능', '성', '을', '맞출', '수', '있', '다', '.', '기존', '모델', '은', '예능', '가능', '기간', '이', '1', '년', '정도', '였', '다고', '함', '교수', '는', '소개', '했', '다', '.', '함', '교수', '는', '\"', '엘니뇨', '의', '예측', '성능', '이', '18', '개월', '로', '늘어나', '면', '엘니뇨', '로', '인해', '발생', '하', '는', '전', '세계', '적', '인', '곡물', '가격', '변동', '등', '에', '선제', '적', '으로', '대응', '할', '수', '있', '게', '된다', '\"', '고', '설명', '했', '다', '.', 'ljungberg', '@', 'yna', '.', 'co', '.', 'kr', '<', '저작권자', '(', 'c', ')', '연합뉴스', ',', '무단', '전재', '-', '재', '배포', '금지', '>', '2020', '/', '02', '/', '04', '11', ':', '33', '송고']\n",
        "```"
      ]
    },
    {
      "cell_type": "markdown",
      "metadata": {
        "id": "HTMmLiSGQa57",
        "colab_type": "text"
      },
      "source": [
        "### 3) 품사 부착\n",
        "- 토큰화한 단어에 품사를 부착한다"
      ]
    },
    {
      "cell_type": "code",
      "metadata": {
        "id": "XHCvQgmGQSOa",
        "colab_type": "code",
        "colab": {}
      },
      "source": [
        "mecabTag=[]\n",
        "for token in mecab_tokens:\n",
        "    mecabTag += mecab.pos(token)\n",
        "print(mecabTag)"
      ],
      "execution_count": null,
      "outputs": []
    },
    {
      "cell_type": "markdown",
      "metadata": {
        "id": "leKouWupQg5A",
        "colab_type": "text"
      },
      "source": [
        "- 위의 결과는 다음과 같다\n",
        "``` python\n",
        "[('(', 'SSO'), ('서울', 'NNP'), ('=', 'SY'), ('연합뉴스', 'NNP'), (')', 'SSC'), ('홍지인', 'NNP'), ('기자', 'NNG'), ('=', 'SY'), ('구글', 'NNG'), ('의', 'NNG'), ('칼라', 'NNG'), ('브롬버그', 'NNP'), (\"'\", 'SY'), ('공익', 'NNG'), ('을', 'JKO'), ('위한', 'VV+ETM'), ('AI', 'SL'), (\"'\", 'SY'), ('프로그램', 'NNG'), ('리드', 'NNP'), ('가', 'VV+EC'), ('4', 'SN'), ('일', 'NNG'), ('역삼동', 'NNP'), ('구글', 'NNG'), ('코리아', 'NNP'), ('에서', 'JKB'), ('화상', 'NNG'), ('기자', 'NNG'), ('간담회', 'NNG'), ('를', 'JKO'), ('갖', 'NNG'), ('고', 'EC'), ('있', 'VA'), ('다', 'MAG'), ('.', 'SF'), ('2020', 'SN'), ('.', 'SF'), ('2', 'SN'), ('.', 'SF'), ('4', 'SN'), ('.', 'SF'), ('(', 'SSO'), ('서울', 'NNP'), ('=', 'SY'), ('연합뉴스', 'NNP'), (')', 'SSC'), ('홍지인', 'NNP'), ('기자', 'NNG'), ('=', 'SY'), ('구글', 'NNG'), ('은', 'NNG'), ('인공지능', 'NNP'), ('(', 'SSO'), ('AI', 'SL'), (')', 'SSC'), ('기술', 'NNG'), ('을', 'JKO'), ('활용', 'NNG'), ('한', 'MM'), ('기상', 'NNG'), ('예측', 'NNG'), ('모델', 'NNG'), ('을', 'JKO'), ('개발', 'NNG'), ('해', 'VV+EC'), ('일부', 'NNG'), ('분야', 'NNG'), ('에서', 'JKB'), ('는', 'JX'), ('미국', 'NNP'), ('정부', 'NNG'), ('보', 'VV'), ('다', 'EC'), ('더', 'MAG'), ('뛰어난', 'VA+ETM'), ('예보', 'NNG'), ('결과', 'NNG'), ('를', 'JKO'), ('내', 'NP+JKG'), ('놓', 'NNG'), ('고', 'EC'), ('있', 'VA'), ('다고', 'EC'), ('4', 'SN'), ('일', 'NNG'), ('밝혔', 'VV+EP'), ('다', 'MAG'), ('.', 'SF'), ('구글', 'NNG'), ('의', 'NNG'), ('칼라', 'NNG'), ('브롬버그', 'NNP'), (\"'\", 'SY'), ('공익', 'NNG'), ('을', 'JKO'), ('위한', 'VV+ETM'), ('AI', 'SL'), (\"'\", 'SY'), ('프로그램', 'NNG'), ('리드', 'NNP'), ('는', 'JX'), ('이날', 'NNG'), ('서울', 'NNP'), ('역삼동', 'NNP'), ('구글', 'NNG'), ('코리아', 'NNP'), ('에서', 'JKB'), ('가진', 'VV+ETM'), ('화상', 'NNG'), ('기자', 'NNG'), ('간담회', 'NNG'), ('에서', 'JKB'), ('\"', 'SY'), ('신경망', 'NNG'), ('을', 'JKO'), ('이용', 'NNG'), ('한', 'MM'), ('기상', 'NNG'), ('예측', 'NNG'), ('은', 'NNG'), ('기존', 'NNG'), ('예측', 'NNG'), ('방법', 'NNG'), ('보', 'VV'), ('다', 'EC'), ('훨씬', 'MAG'), ('정확', 'NNG'), ('하', 'VV'), ('다', 'MAG'), ('\"', 'SY'), ('고', 'EC'), ('말', 'NNG'), ('했', 'VV+EP'), ('다', 'MAG'), ('.', 'SF'), ('구글', 'NNG'), ('의', 'NNG'), (\"'\", 'SY'), ('나우', 'NNP'), ('캐스트', 'NNG'), (\"'\", 'SY'), ('기상', 'NNG'), ('예측', 'NNG'), ('모델', 'NNG'), ('은', 'NNG'), ('6', 'SN'), ('시간', 'NNG'), ('이내', 'NNG'), ('단기', 'NNG'), ('예보', 'NNG'), ('에', 'IC'), ('초점', 'NNG'), ('을', 'JKO'), ('맞추', 'VV'), ('고', 'EC'), ('기상', 'NNG'), ('레이더', 'NNG'), ('관측', 'NNG'), ('자료', 'NNG'), ('와', 'VV+EC'), ('위성', 'NNG'), ('사진', 'NNG'), ('등', 'NNG'), ('을', 'JKO'), ('모아', 'VV+EC'), ('유', 'NNP'), ('넷', 'NR'), ('(', 'SSO'), ('U', 'SL'), ('-', 'SY'), ('Net', 'SL'), (')', 'SSC'), ('이', 'MM'), ('라는', 'ETM'), ('신경망', 'NNG'), ('으로', 'JKB'), ('계산', 'NNG'), ('한다', 'VV+EC'), ('.', 'SF'), ('기존', 'NNG'), ('모델', 'NNG'), ('로', 'JKB'), ('는', 'JX'), ('몇', 'MM'), ('시간', 'NNG'), ('이', 'MM'), ('걸리', 'NNG'), ('는', 'JX'), ('작업', 'NNG'), ('을', 'JKO'), ('5', 'SN'), ('~', 'SY'), ('10', 'SN'), ('분', 'NNG'), ('만', 'JX'), ('에', 'IC'), ('내', 'NP+JKG'), ('놓', 'NNG'), ('을', 'JKO'), ('수', 'NNG'), ('있', 'VA'), ('고', 'EC'), (',', 'SC'), ('공간', 'NNG'), ('해상도', 'NNG'), ('도', 'NNG'), ('1', 'SN'), ('㎞', 'SY'), ('로', 'JKB'), ('미국', 'NNP'), ('해양', 'NNG'), ('대', 'NNG'), ('기청', 'NNG'), ('(', 'SSO'), ('NOAA', 'SL'), (')', 'SSC'), ('의', 'NNG'), ('예보', 'NNG'), ('모델', 'NNG'), (\"'\", 'SY'), ('HRRR', 'SL'), (\"'\", 'SY'), ('보', 'VV'), ('다', 'EC'), ('10', 'SN'), ('배', 'NNG'), ('더', 'MAG'), ('상세', 'NNG'), ('하', 'VV'), ('다고', 'EC'), ('구글', 'NNG'), ('은', 'NNG'), ('소개', 'NNG'), ('했', 'VV+EP'), ('다', 'MAG'), ('.', 'SF'), ('예보', 'NNG'), ('정확', 'NNG'), ('도', 'NNG'), ('면', 'NNG'), ('에서', 'JKB'), ('는', 'JX'), ('1', 'SN'), ('~', 'SY'), ('3', 'SN'), ('시간', 'NNG'), ('단기', 'NNG'), ('예보', 'NNG'), ('의', 'NNG'), ('경우', 'NNG'), ('도', 'NNG'), ('HRRR', 'SL'), ('보', 'VV'), ('다', 'EC'), ('더', 'MAG'), ('뛰어나', 'VA+EC'), ('다고', 'EC'), ('구글', 'NNG'), ('은', 'NNG'), ('분석', 'NNG'), ('했', 'VV+EP'), ('다', 'MAG'), ('.', 'SF'), ('단', 'MM'), (',', 'SC'), ('5', 'SN'), ('~', 'SY'), ('6', 'SN'), ('시간', 'NNG'), ('이상', 'NNG'), ('예보', 'NNG'), ('에서', 'JKB'), ('는', 'JX'), ('HRRR', 'SL'), ('이', 'MM'), ('더', 'MAG'), ('정확', 'NNG'), ('했', 'VV+EP'), ('다', 'MAG'), ('.', 'SF'), ('칼라', 'NNG'), ('리드', 'NNP'), ('는', 'JX'), ('\"', 'SY'), ('지금', 'NNG'), ('시점', 'NNG'), ('에서', 'JKB'), ('당장', 'NNG'), ('기상', 'NNG'), ('예측', 'NNG'), ('모델', 'NNG'), ('을', 'JKO'), ('상용', 'NNG'), ('화', 'NNG'), ('할', 'VV+ETM'), ('계획', 'NNG'), ('은', 'NNG'), ('없', 'VA'), ('다', 'MAG'), ('\"', 'SY'), ('며', 'EC'), ('\"', 'SY'), ('머신', 'NNG'), ('러닝', 'NNG'), ('기법', 'NNG'), ('을', 'JKO'), ('이용', 'NNG'), ('해', 'VV+EC'), ('얼마나', 'MAG'), ('날씨', 'NNG'), ('를', 'JKO'), ('정확', 'NNG'), ('하', 'VV'), ('게', 'NNG'), ('예측', 'NNG'), ('할', 'VV+ETM'), ('수', 'NNG'), ('있', 'VA'), ('는지', 'EC'), ('에', 'IC'), ('대해', 'VV+EC'), ('연구', 'NNG'), ('과제', 'NNG'), ('로', 'JKB'), ('만', 'JX'), ('삼', 'NR'), ('고', 'EC'), ('있', 'VA'), ('다', 'MAG'), ('\"', 'SY'), ('고', 'EC'), ('말', 'NNG'), ('했', 'VV+EP'), ('다', 'MAG'), ('.', 'SF'), ('함유근', 'NNP'), ('전', 'NNG'), ('남대', 'NNG'), ('지구', 'NNG'), ('환경', 'NNG'), ('과', 'NNG'), ('학부', 'NNG'), ('교수', 'NNG'), ('는', 'JX'), ('이날', 'NNG'), ('간담회', 'NNG'), ('에서', 'JKB'), (\"'\", 'SY'), ('합성곱', 'NNP'), ('신경망', 'NNG'), ('기법', 'NNG'), (\"'(\", 'SY'), ('CNN', 'SL'), ('·', 'SC'), ('Convolutional', 'SL'), ('Neural', 'SL'), ('Network', 'SL'), (')', 'SSC'), ('을', 'JKO'), ('응용', 'NNG'), ('한', 'MM'), ('엘니뇨', 'NNG'), ('예측', 'NNG'), ('모형', 'NNG'), ('을', 'JKO'), ('소개', 'NNG'), ('했', 'VV+EP'), ('다', 'MAG'), ('.', 'SF'), ('그', 'MM'), ('가', 'VV+EC'), ('개발', 'NNG'), ('한', 'MM'), ('엘니뇨', 'NNG'), ('예측', 'NNG'), ('모형', 'NNG'), ('은', 'NNG'), ('향후', 'NNG'), ('18', 'SN'), ('개월', 'NNBC'), ('동안', 'NNG'), ('70', 'SN'), ('%', 'SY'), ('이상', 'NNG'), ('정확도', 'NNG'), ('로', 'JKB'), ('엘니뇨', 'NNG'), ('발생', 'NNG'), ('가능', 'NNG'), ('성', 'NNG'), ('을', 'JKO'), ('맞출', 'VV+ETM'), ('수', 'NNG'), ('있', 'VA'), ('다', 'MAG'), ('.', 'SF'), ('기존', 'NNG'), ('모델', 'NNG'), ('은', 'NNG'), ('예능', 'NNG'), ('가능', 'NNG'), ('기간', 'NNG'), ('이', 'MM'), ('1', 'SN'), ('년', 'NNG'), ('정도', 'NNG'), ('였', 'EP'), ('다고', 'EC'), ('함', 'NNG'), ('교수', 'NNG'), ('는', 'JX'), ('소개', 'NNG'), ('했', 'VV+EP'), ('다', 'MAG'), ('.', 'SF'), ('함', 'NNG'), ('교수', 'NNG'), ('는', 'JX'), ('\"', 'SY'), ('엘니뇨', 'NNG'), ('의', 'NNG'), ('예측', 'NNG'), ('성능', 'NNG'), ('이', 'MM'), ('18', 'SN'), ('개월', 'NNBC'), ('로', 'JKB'), ('늘어나', 'VV+EC'), ('면', 'NNG'), ('엘니뇨', 'NNG'), ('로', 'JKB'), ('인해', 'VV+EC'), ('발생', 'NNG'), ('하', 'VV'), ('는', 'JX'), ('전', 'NNG'), ('세계', 'NNG'), ('적', 'NNG'), ('인', 'NNG'), ('곡물', 'NNG'), ('가격', 'NNG'), ('변동', 'NNG'), ('등', 'NNG'), ('에', 'IC'), ('선제', 'NNG'), ('적', 'NNG'), ('으로', 'JKB'), ('대응', 'NNG'), ('할', 'VV+ETM'), ('수', 'NNG'), ('있', 'VA'), ('게', 'NNG'), ('된다', 'VV+EC'), ('\"', 'SY'), ('고', 'EC'), ('설명', 'NNG'), ('했', 'VV+EP'), ('다', 'MAG'), ('.', 'SF'), ('ljungberg', 'SL'), ('@', 'SY'), ('yna', 'SL'), ('.', 'SF'), ('co', 'SL'), ('.', 'SF'), ('kr', 'SL'), ('<', 'SY'), ('저작권자', 'NNG'), ('(', 'SSO'), ('c', 'SL'), (')', 'SSC'), ('연합뉴스', 'NNP'), (',', 'SC'), ('무단', 'NNG'), ('전재', 'NNG'), ('-', 'SY'), ('재', 'XPN'), ('배포', 'NNG'), ('금지', 'NNG'), ('>', 'SY'), ('2020', 'SN'), ('/', 'SC'), ('02', 'SN'), ('/', 'SC'), ('04', 'SN'), ('11', 'SN'), (':', 'SC'), ('33', 'SN'), ('송고', 'NNP')]\n",
        "```"
      ]
    },
    {
      "cell_type": "markdown",
      "metadata": {
        "id": "wMPEzifEQl9A",
        "colab_type": "text"
      },
      "source": [
        "### 4) 불용어 처리\n",
        "- Counter를 이용해 문장을 구성하는 단어와 품사를 살펴본 뒤 불용어를 선택해 필터링한다"
      ]
    },
    {
      "cell_type": "code",
      "metadata": {
        "id": "gikRGl8xQxDf",
        "colab_type": "code",
        "colab": {}
      },
      "source": [
        "from collections import Counter\n",
        "Counter(mecabTag).most_common()"
      ],
      "execution_count": null,
      "outputs": []
    },
    {
      "cell_type": "code",
      "metadata": {
        "id": "I540TxZWQzLe",
        "colab_type": "code",
        "colab": {}
      },
      "source": [
        "stopPos = ['SF','JKO','JX','SY','JKB','EC','EP','SSO','SSC','SN','SC',\n",
        "           'SL', 'JKS','JKC','JKG','JKB','JC','VV+EC','IC']\n",
        "stopWord = ['연합뉴스','홍지인','저작권자','기자','무단','전재','재','배포',\n",
        "            '금지','의','이','다','있','에','과','은','도','하','수','보','더',\n",
        "           '게','등']\n",
        "word = []\n",
        "for tag in mecabTag:\n",
        "    if tag[1] not in stopPos:\n",
        "        if tag[0] not in stopWord:\n",
        "              word.append(tag[0])\n",
        "print(word)"
      ],
      "execution_count": null,
      "outputs": []
    },
    {
      "cell_type": "markdown",
      "metadata": {
        "id": "DiW80G4pQ0O9",
        "colab_type": "text"
      },
      "source": [
        "- 위의 과정을 끝내면 다음과 같은 단어 목록을 얻을 수 있다\n",
        "``` python\n",
        "['서울', '구글', '칼라', '브롬버그', '공익', '위한', '프로그램', '리드', '일', '역삼동', '구글', '코리아', '화상', '간담회', '갖', '서울', '구글', '인공지능', '기술', '활용', '한', '기상', '예측', '모델', '개발', '일부', '분야', '미국', '정부', '뛰어난', '예보', '결과', '내', '놓', '일', '밝혔', '구글', '칼라', '브롬버그', '공익', '위한', '프로그램', '리드', '이날', '서울', '역삼동', '구글', '코리아', '가진', '화상', '간담회', '신경망', '이용', '한', '기상', '예측', '기존', '예측', '방법', '훨씬', '정확', '말', '했', '구글', '나우', '캐스트', '기상', '예측', '모델', '시간', '이내', '단기', '예보', '초점', '맞추', '기상', '레이더', '관측', '자료', '위성', '사진', '유', '넷', '라는', '신경망', '계산', '기존', '모델', '몇', '시간', '걸리', '작업', '분', '내', '놓', '공간', '해상도', '미국', '해양', '대', '기청', '예보', '모델', '배', '상세', '구글', '소개', '했', '예보', '정확', '면', '시간', '단기', '예보', '경우', '뛰어나', '구글', '분석', '했', '단', '시간', '이상', '예보', '정확', '했', '칼라', '리드', '지금', '시점', '당장', '기상', '예측', '모델', '상용', '화', '할', '계획', '없', '머신', '러닝', '기법', '이용', '얼마나', '날씨', '정확', '예측', '할', '연구', '과제', '삼', '말', '했', '함유근', '전', '남대', '지구', '환경', '학부', '교수', '이날', '간담회', '합성곱', '신경망', '기법', '응용', '한', '엘니뇨', '예측', '모형', '소개', '했', '그', '개발', '한', '엘니뇨', '예측', '모형', '향후', '개월', '동안', '이상', '정확도', '엘니뇨', '발생', '가능', '성', '맞출', '기존', '모델', '예능', '가능', '기간', '년', '정도', '함', '교수', '소개', '했', '함', '교수', '엘니뇨', '예측', '성능', '개월', '면', '엘니뇨', '발생', '전', '세계', '적', '인', '곡물', '가격', '변동', '선제', '적', '대응', '할', '설명', '했', '송고']\n",
        "```"
      ]
    },
    {
      "cell_type": "code",
      "metadata": {
        "id": "xI9itL4gQ4r7",
        "colab_type": "code",
        "colab": {}
      },
      "source": [
        ""
      ],
      "execution_count": null,
      "outputs": []
    },
    {
      "cell_type": "markdown",
      "metadata": {
        "id": "RLEvdQUXnBCb",
        "colab_type": "text"
      },
      "source": [
        "## 4. 단어의 표현\n",
        "- 단어를 인코딩할 수 있는 다양한 방법을 알아보자"
      ]
    },
    {
      "cell_type": "markdown",
      "metadata": {
        "id": "hboft3DGcMpu",
        "colab_type": "text"
      },
      "source": [
        "### 1) 원핫인코딩"
      ]
    },
    {
      "cell_type": "markdown",
      "metadata": {
        "id": "T-Ln-jZe5zVs",
        "colab_type": "text"
      },
      "source": [
        "#### 1) For문을 활용한 인코딩"
      ]
    },
    {
      "cell_type": "code",
      "metadata": {
        "id": "JTd0jAF7wj6x",
        "colab_type": "code",
        "colab": {}
      },
      "source": [
        "word_ls = ['원숭이','바나나','사과','코끼리']"
      ],
      "execution_count": null,
      "outputs": []
    },
    {
      "cell_type": "code",
      "metadata": {
        "id": "mYv7CSNTyVE9",
        "colab_type": "code",
        "colab": {
          "base_uri": "https://localhost:8080/",
          "height": 35
        },
        "outputId": "57612a55-0572-4da3-9441-50802155b9db"
      },
      "source": [
        "from collections import defaultdict\n",
        "import numpy as np\n",
        "\n",
        "word2id_dic = defaultdict(lambda:len(word2id_dic))\n",
        "for word in word_ls:\n",
        "  word2id_dic[word]\n",
        "print(word2id_dic)"
      ],
      "execution_count": null,
      "outputs": [
        {
          "output_type": "stream",
          "text": [
            "defaultdict(<function <lambda> at 0x7f2c34d4ac80>, {'원숭이': 0, '바나나': 1, '사과': 2, '코끼리': 3})\n"
          ],
          "name": "stdout"
        }
      ]
    },
    {
      "cell_type": "code",
      "metadata": {
        "id": "uTabRMNJyh_N",
        "colab_type": "code",
        "colab": {
          "base_uri": "https://localhost:8080/",
          "height": 89
        },
        "outputId": "7d75fa94-8968-41ba-a30d-8c16552bebf0"
      },
      "source": [
        "n_unique_words = len(word2id_dic) #4겠지\n",
        "one_hot_vectors = np.zeros((len(word_ls),n_unique_words))\n",
        "one_hot_vectors"
      ],
      "execution_count": null,
      "outputs": [
        {
          "output_type": "execute_result",
          "data": {
            "text/plain": [
              "array([[0., 0., 0., 0.],\n",
              "       [0., 0., 0., 0.],\n",
              "       [0., 0., 0., 0.],\n",
              "       [0., 0., 0., 0.]])"
            ]
          },
          "metadata": {
            "tags": []
          },
          "execution_count": 6
        }
      ]
    },
    {
      "cell_type": "code",
      "metadata": {
        "id": "EHxoWmKeyp0g",
        "colab_type": "code",
        "colab": {
          "base_uri": "https://localhost:8080/",
          "height": 89
        },
        "outputId": "c3305dc8-41c0-4428-93ff-5aa00f7964e2"
      },
      "source": [
        "for i, word in enumerate(word_ls):\n",
        "  index = word2id_dic[word]\n",
        "  one_hot_vectors[i,index] += 1\n",
        "one_hot_vectors"
      ],
      "execution_count": null,
      "outputs": [
        {
          "output_type": "execute_result",
          "data": {
            "text/plain": [
              "array([[1., 0., 0., 0.],\n",
              "       [0., 1., 0., 0.],\n",
              "       [0., 0., 1., 0.],\n",
              "       [0., 0., 0., 1.]])"
            ]
          },
          "metadata": {
            "tags": []
          },
          "execution_count": 4
        }
      ]
    },
    {
      "cell_type": "markdown",
      "metadata": {
        "id": "1okZPjyY52h2",
        "colab_type": "text"
      },
      "source": [
        "#### 2) 라이브러리를 활용한 인코딩"
      ]
    },
    {
      "cell_type": "code",
      "metadata": {
        "id": "Lq52X4W_yxTK",
        "colab_type": "code",
        "colab": {
          "base_uri": "https://localhost:8080/",
          "height": 35
        },
        "outputId": "c23cb4f8-0c77-48df-97bf-6f00d0ee0d05"
      },
      "source": [
        "from numpy import array\n",
        "from numpy import argmax\n",
        "from sklearn.preprocessing import LabelEncoder\n",
        "from sklearn.preprocessing import OneHotEncoder\n",
        "\n",
        "values = array(word_ls)\n",
        "values"
      ],
      "execution_count": null,
      "outputs": [
        {
          "output_type": "execute_result",
          "data": {
            "text/plain": [
              "array(['원숭이', '바나나', '사과', '코끼리'], dtype='<U3')"
            ]
          },
          "metadata": {
            "tags": []
          },
          "execution_count": 9
        }
      ]
    },
    {
      "cell_type": "code",
      "metadata": {
        "id": "qw5Xu4Vs6Mf8",
        "colab_type": "code",
        "colab": {
          "base_uri": "https://localhost:8080/",
          "height": 35
        },
        "outputId": "c9e23c72-639d-47bf-e8f0-9d28bf5599e1"
      },
      "source": [
        "label_enc = LabelEncoder()\n",
        "int_enc = label_enc.fit_transform(values)\n",
        "int_enc"
      ],
      "execution_count": null,
      "outputs": [
        {
          "output_type": "execute_result",
          "data": {
            "text/plain": [
              "array([2, 0, 1, 3])"
            ]
          },
          "metadata": {
            "tags": []
          },
          "execution_count": 11
        }
      ]
    },
    {
      "cell_type": "code",
      "metadata": {
        "id": "aMEtpvsM6Lp_",
        "colab_type": "code",
        "colab": {
          "base_uri": "https://localhost:8080/",
          "height": 89
        },
        "outputId": "68db3966-d002-4a73-cd28-18f70b13bb45"
      },
      "source": [
        "onehot_enc = OneHotEncoder(sparse=False)\n",
        "int_enc = int_enc.reshape(len(int_enc), 1)\n",
        "onehot_enc = onehot_enc.fit_transform(int_enc)\n",
        "onehot_enc"
      ],
      "execution_count": null,
      "outputs": [
        {
          "output_type": "execute_result",
          "data": {
            "text/plain": [
              "array([[0., 0., 1., 0.],\n",
              "       [1., 0., 0., 0.],\n",
              "       [0., 1., 0., 0.],\n",
              "       [0., 0., 0., 1.]])"
            ]
          },
          "metadata": {
            "tags": []
          },
          "execution_count": 12
        }
      ]
    },
    {
      "cell_type": "markdown",
      "metadata": {
        "id": "l8BYtx3scsUu",
        "colab_type": "text"
      },
      "source": [
        "### 2) BOW(Bag of Words)\n",
        "- 출현빈도수로 단어를 표현하는 방법"
      ]
    },
    {
      "cell_type": "markdown",
      "metadata": {
        "id": "_s9o5YNgc6BD",
        "colab_type": "text"
      },
      "source": [
        "#### 1) 인덱스 부여"
      ]
    },
    {
      "cell_type": "code",
      "metadata": {
        "id": "oODjiAOJ6hDF",
        "colab_type": "code",
        "colab": {}
      },
      "source": [
        "docs = ['오늘 동물원에서 코끼리 원숭이를 보고 코끼리 원숭이에게 먹이를 줬어',\n",
        "        '오늘 동물원에서 원숭이에게 사과를 줬어']"
      ],
      "execution_count": null,
      "outputs": []
    },
    {
      "cell_type": "code",
      "metadata": {
        "id": "Vkn9NbPPc1gX",
        "colab_type": "code",
        "colab": {
          "base_uri": "https://localhost:8080/",
          "height": 53
        },
        "outputId": "1a321003-a13a-488f-a53f-655170e3d083"
      },
      "source": [
        "doc_ls = []\n",
        "for doc in docs:\n",
        "  doc_ls.append(doc.split(' '))\n",
        "doc_ls"
      ],
      "execution_count": null,
      "outputs": [
        {
          "output_type": "execute_result",
          "data": {
            "text/plain": [
              "[['오늘', '동물원에서', '코끼리', '원숭이를', '보고', '코끼리', '원숭이에게', '먹이를', '줬어'],\n",
              " ['오늘', '동물원에서', '원숭이에게', '사과를', '줬어']]"
            ]
          },
          "metadata": {
            "tags": []
          },
          "execution_count": 28
        }
      ]
    },
    {
      "cell_type": "code",
      "metadata": {
        "id": "0C39E_z0c3j_",
        "colab_type": "code",
        "colab": {
          "base_uri": "https://localhost:8080/",
          "height": 35
        },
        "outputId": "20a807f9-65d5-40b1-9215-a0f0f6f440c6"
      },
      "source": [
        "from collections import defaultdict\n",
        "word2id = defaultdict(lambda : len(word2id))\n",
        "word2id"
      ],
      "execution_count": null,
      "outputs": [
        {
          "output_type": "execute_result",
          "data": {
            "text/plain": [
              "defaultdict(<function __main__.<lambda>>, {})"
            ]
          },
          "metadata": {
            "tags": []
          },
          "execution_count": 29
        }
      ]
    },
    {
      "cell_type": "code",
      "metadata": {
        "id": "dNrEgmduc5GC",
        "colab_type": "code",
        "colab": {
          "base_uri": "https://localhost:8080/",
          "height": 197
        },
        "outputId": "c3f40410-80b5-4c36-f979-24ba9c9919f7"
      },
      "source": [
        "for doc in doc_ls:\n",
        "  for token in doc:\n",
        "    word2id[token]\n",
        "word2id"
      ],
      "execution_count": null,
      "outputs": [
        {
          "output_type": "execute_result",
          "data": {
            "text/plain": [
              "defaultdict(<function __main__.<lambda>>,\n",
              "            {'동물원에서': 1,\n",
              "             '먹이를': 6,\n",
              "             '보고': 4,\n",
              "             '사과를': 8,\n",
              "             '오늘': 0,\n",
              "             '원숭이를': 3,\n",
              "             '원숭이에게': 5,\n",
              "             '줬어': 7,\n",
              "             '코끼리': 2})"
            ]
          },
          "metadata": {
            "tags": []
          },
          "execution_count": 30
        }
      ]
    },
    {
      "cell_type": "markdown",
      "metadata": {
        "id": "fJQ05CkqmGky",
        "colab_type": "text"
      },
      "source": [
        "#### 2) 빈도 수 파악"
      ]
    },
    {
      "cell_type": "code",
      "metadata": {
        "id": "o-0Usl94mOMu",
        "colab_type": "code",
        "colab": {
          "base_uri": "https://localhost:8080/",
          "height": 71
        },
        "outputId": "912b8587-4367-4718-8ad5-8754253ac35e"
      },
      "source": [
        "import numpy as np\n",
        "BoW_ls = []\n",
        "for i, doc in enumerate(doc_ls):\n",
        "  bow = np.zeros(len(word2id),dtype=int)\n",
        "  print(bow)\n",
        "  for token in doc:\n",
        "    bow[word2id[token]] += 1 #토큰의 위치가 같으면\n",
        "  BoW_ls.append(bow.tolist())\n",
        "BoW_ls"
      ],
      "execution_count": null,
      "outputs": [
        {
          "output_type": "stream",
          "text": [
            "[0 0 0 0 0 0 0 0 0]\n",
            "[0 0 0 0 0 0 0 0 0]\n"
          ],
          "name": "stdout"
        },
        {
          "output_type": "execute_result",
          "data": {
            "text/plain": [
              "[[1, 1, 2, 1, 1, 1, 1, 1, 0], [1, 1, 0, 0, 0, 1, 0, 1, 1]]"
            ]
          },
          "metadata": {
            "tags": []
          },
          "execution_count": 32
        }
      ]
    },
    {
      "cell_type": "markdown",
      "metadata": {
        "id": "kPW5bfSVnWzx",
        "colab_type": "text"
      },
      "source": [
        "#### 3) 시각화"
      ]
    },
    {
      "cell_type": "code",
      "metadata": {
        "id": "ujlpeYLlmgMQ",
        "colab_type": "code",
        "colab": {
          "base_uri": "https://localhost:8080/",
          "height": 55
        },
        "outputId": "578f36d9-e9d1-4285-ea15-814e3b8a57b5"
      },
      "source": [
        "from IPython.core import display as ICD\n",
        "import pandas as pd\n",
        "sorted_vocab = sorted((value,key) for key, value in word2id.items())\n",
        "print('sorted_vocab',sorted_vocab)"
      ],
      "execution_count": null,
      "outputs": [
        {
          "output_type": "stream",
          "text": [
            "sorted_vocab [(0, '오늘'), (1, '동물원에서'), (2, '코끼리'), (3, '원숭이를'), (4, '보고'), (5, '원숭이에게'), (6, '먹이를'), (7, '줬어'), (8, '사과를')]\n"
          ],
          "name": "stdout"
        }
      ]
    },
    {
      "cell_type": "code",
      "metadata": {
        "id": "BuVRqvu8nmL8",
        "colab_type": "code",
        "colab": {
          "base_uri": "https://localhost:8080/",
          "height": 35
        },
        "outputId": "d2a2741e-ed42-48c8-c153-42494f001353"
      },
      "source": [
        "vocab = []\n",
        "for v in sorted_vocab:\n",
        "  vocab.append(v[1])\n",
        "print('vocab',vocab)"
      ],
      "execution_count": null,
      "outputs": [
        {
          "output_type": "stream",
          "text": [
            "vocab ['오늘', '동물원에서', '코끼리', '원숭이를', '보고', '원숭이에게', '먹이를', '줬어', '사과를']\n"
          ],
          "name": "stdout"
        }
      ]
    },
    {
      "cell_type": "code",
      "metadata": {
        "id": "LRLi4GrZntM7",
        "colab_type": "code",
        "colab": {
          "base_uri": "https://localhost:8080/",
          "height": 287
        },
        "outputId": "06acc8ea-522d-46da-a0a2-512bf093797a"
      },
      "source": [
        "for i in range(len(docs)):\n",
        "  print(\"문서{} : {}\".format(i,docs[i]))\n",
        "  ICD.display(pd.DataFrame([BoW_ls[i]], columns=vocab))\n",
        "  print(\"\\n\\n\")"
      ],
      "execution_count": null,
      "outputs": [
        {
          "output_type": "stream",
          "text": [
            "문서0 : 오늘 동물원에서 코끼리 원숭이를 보고 코끼리 원숭이에게 먹이를 줬어\n"
          ],
          "name": "stdout"
        },
        {
          "output_type": "display_data",
          "data": {
            "text/html": [
              "<div>\n",
              "<style scoped>\n",
              "    .dataframe tbody tr th:only-of-type {\n",
              "        vertical-align: middle;\n",
              "    }\n",
              "\n",
              "    .dataframe tbody tr th {\n",
              "        vertical-align: top;\n",
              "    }\n",
              "\n",
              "    .dataframe thead th {\n",
              "        text-align: right;\n",
              "    }\n",
              "</style>\n",
              "<table border=\"1\" class=\"dataframe\">\n",
              "  <thead>\n",
              "    <tr style=\"text-align: right;\">\n",
              "      <th></th>\n",
              "      <th>오늘</th>\n",
              "      <th>동물원에서</th>\n",
              "      <th>코끼리</th>\n",
              "      <th>원숭이를</th>\n",
              "      <th>보고</th>\n",
              "      <th>원숭이에게</th>\n",
              "      <th>먹이를</th>\n",
              "      <th>줬어</th>\n",
              "      <th>사과를</th>\n",
              "    </tr>\n",
              "  </thead>\n",
              "  <tbody>\n",
              "    <tr>\n",
              "      <th>0</th>\n",
              "      <td>1</td>\n",
              "      <td>1</td>\n",
              "      <td>2</td>\n",
              "      <td>1</td>\n",
              "      <td>1</td>\n",
              "      <td>1</td>\n",
              "      <td>1</td>\n",
              "      <td>1</td>\n",
              "      <td>0</td>\n",
              "    </tr>\n",
              "  </tbody>\n",
              "</table>\n",
              "</div>"
            ],
            "text/plain": [
              "   오늘  동물원에서  코끼리  원숭이를  보고  원숭이에게  먹이를  줬어  사과를\n",
              "0   1      1    2     1   1      1    1   1    0"
            ]
          },
          "metadata": {
            "tags": []
          }
        },
        {
          "output_type": "stream",
          "text": [
            "\n",
            "\n",
            "\n",
            "문서1 : 오늘 동물원에서 원숭이에게 사과를 줬어\n"
          ],
          "name": "stdout"
        },
        {
          "output_type": "display_data",
          "data": {
            "text/html": [
              "<div>\n",
              "<style scoped>\n",
              "    .dataframe tbody tr th:only-of-type {\n",
              "        vertical-align: middle;\n",
              "    }\n",
              "\n",
              "    .dataframe tbody tr th {\n",
              "        vertical-align: top;\n",
              "    }\n",
              "\n",
              "    .dataframe thead th {\n",
              "        text-align: right;\n",
              "    }\n",
              "</style>\n",
              "<table border=\"1\" class=\"dataframe\">\n",
              "  <thead>\n",
              "    <tr style=\"text-align: right;\">\n",
              "      <th></th>\n",
              "      <th>오늘</th>\n",
              "      <th>동물원에서</th>\n",
              "      <th>코끼리</th>\n",
              "      <th>원숭이를</th>\n",
              "      <th>보고</th>\n",
              "      <th>원숭이에게</th>\n",
              "      <th>먹이를</th>\n",
              "      <th>줬어</th>\n",
              "      <th>사과를</th>\n",
              "    </tr>\n",
              "  </thead>\n",
              "  <tbody>\n",
              "    <tr>\n",
              "      <th>0</th>\n",
              "      <td>1</td>\n",
              "      <td>1</td>\n",
              "      <td>0</td>\n",
              "      <td>0</td>\n",
              "      <td>0</td>\n",
              "      <td>1</td>\n",
              "      <td>0</td>\n",
              "      <td>1</td>\n",
              "      <td>1</td>\n",
              "    </tr>\n",
              "  </tbody>\n",
              "</table>\n",
              "</div>"
            ],
            "text/plain": [
              "   오늘  동물원에서  코끼리  원숭이를  보고  원숭이에게  먹이를  줬어  사과를\n",
              "0   1      1    0     0   0      1    0   1    1"
            ]
          },
          "metadata": {
            "tags": []
          }
        },
        {
          "output_type": "stream",
          "text": [
            "\n",
            "\n",
            "\n"
          ],
          "name": "stdout"
        }
      ]
    },
    {
      "cell_type": "markdown",
      "metadata": {
        "id": "W4U6g-sppC1S",
        "colab_type": "text"
      },
      "source": [
        "#### 4) BOW실습"
      ]
    },
    {
      "cell_type": "code",
      "metadata": {
        "id": "xBuLK0UyoEgd",
        "colab_type": "code",
        "colab": {}
      },
      "source": [
        "docs = ['나는 양념 치킨을 좋아해 하지만 후라이드 치킨을 싫어해',\n",
        "        '나는 후라이드 치킨을 좋아해 하지만 양념 치킨을 싫어해']"
      ],
      "execution_count": null,
      "outputs": []
    },
    {
      "cell_type": "code",
      "metadata": {
        "id": "XpgtTWk8pHab",
        "colab_type": "code",
        "colab": {
          "base_uri": "https://localhost:8080/",
          "height": 53
        },
        "outputId": "30772434-7a48-4c4d-c18b-30c088263903"
      },
      "source": [
        "doc_ls = []\n",
        "for doc in docs: #문장을 구분해서 띄어쓰기 단위로 split진행\n",
        "  doc_ls.append(doc.split(' '))\n",
        "doc_ls"
      ],
      "execution_count": null,
      "outputs": [
        {
          "output_type": "execute_result",
          "data": {
            "text/plain": [
              "[['나는', '양념', '치킨을', '좋아해', '하지만', '후라이드', '치킨을', '싫어해'],\n",
              " ['나는', '후라이드', '치킨을', '좋아해', '하지만', '양념', '치킨을', '싫어해']]"
            ]
          },
          "metadata": {
            "tags": []
          },
          "execution_count": 2
        }
      ]
    },
    {
      "cell_type": "code",
      "metadata": {
        "id": "-lt6X_oNpQ2Y",
        "colab_type": "code",
        "colab": {
          "base_uri": "https://localhost:8080/",
          "height": 35
        },
        "outputId": "513a7170-ef28-4e3d-dea1-c6bae626baeb"
      },
      "source": [
        "from collections import defaultdict\n",
        "word2id = defaultdict(lambda : len(word2id)) #들어온 리스트의 길이만큼 딕셔너리를 만드는 word2id생성\n",
        "word2id"
      ],
      "execution_count": null,
      "outputs": [
        {
          "output_type": "execute_result",
          "data": {
            "text/plain": [
              "defaultdict(<function __main__.<lambda>>, {})"
            ]
          },
          "metadata": {
            "tags": []
          },
          "execution_count": 3
        }
      ]
    },
    {
      "cell_type": "markdown",
      "metadata": {
        "id": "z4L-zioEppAK",
        "colab_type": "text"
      },
      "source": [
        "- [Defaultdict](https://www.geeksforgeeks.org/defaultdict-in-python/)은 기본 키값을 제공한다는 점에서 일반 Dict과 차이가 있다\n",
        "- The functionality of both dictionaries and defualtdict are almost same except for the fact that defualtdict never raises a KeyError. \n",
        "- It provides a default value for the key that does not exists."
      ]
    },
    {
      "cell_type": "code",
      "metadata": {
        "id": "XZs8S343p0Li",
        "colab_type": "code",
        "colab": {
          "base_uri": "https://localhost:8080/",
          "height": 161
        },
        "outputId": "5a7c944d-2b90-45b7-cd85-9a02a640ece2"
      },
      "source": [
        "for doc in doc_ls: #split된 것을 한 문장 단위로 추출\n",
        "  for token in doc: #한 문장 내에서 끊어진 토큰들을 추출\n",
        "    word2id[token]\n",
        "word2id"
      ],
      "execution_count": null,
      "outputs": [
        {
          "output_type": "execute_result",
          "data": {
            "text/plain": [
              "defaultdict(<function __main__.<lambda>>,\n",
              "            {'나는': 0,\n",
              "             '싫어해': 6,\n",
              "             '양념': 1,\n",
              "             '좋아해': 3,\n",
              "             '치킨을': 2,\n",
              "             '하지만': 4,\n",
              "             '후라이드': 5})"
            ]
          },
          "metadata": {
            "tags": []
          },
          "execution_count": 11
        }
      ]
    },
    {
      "cell_type": "code",
      "metadata": {
        "id": "xq23CF8csMjr",
        "colab_type": "code",
        "colab": {
          "base_uri": "https://localhost:8080/",
          "height": 71
        },
        "outputId": "9182c1b9-846f-4c75-84eb-703252dee3d1"
      },
      "source": [
        "import numpy as np\n",
        "BoW_ls = []\n",
        "for i, doc in enumerate(doc_ls): #문장 2개에 대하여\n",
        "  bow = np.zeros(len(word2id),dtype=int) #생성된 인덱스 수에 맞게 0이 들어간 리스트 생성\n",
        "  print(bow)\n",
        "  for token in doc: #각문장의 토큰에 대해\n",
        "    bow[word2id[token]] += 1 #토큰의 위치가 같으면\n",
        "  BoW_ls.append(bow)\n",
        "BoW_ls"
      ],
      "execution_count": null,
      "outputs": [
        {
          "output_type": "stream",
          "text": [
            "[0 0 0 0 0 0 0]\n",
            "[0 0 0 0 0 0 0]\n"
          ],
          "name": "stdout"
        },
        {
          "output_type": "execute_result",
          "data": {
            "text/plain": [
              "[array([1, 1, 2, 1, 1, 1, 1]), array([1, 1, 2, 1, 1, 1, 1])]"
            ]
          },
          "metadata": {
            "tags": []
          },
          "execution_count": 7
        }
      ]
    },
    {
      "cell_type": "code",
      "metadata": {
        "id": "PaodrjBfqAuv",
        "colab_type": "code",
        "colab": {
          "base_uri": "https://localhost:8080/",
          "height": 71
        },
        "outputId": "2357819e-9fc6-480f-a8a5-52b97b250394"
      },
      "source": [
        "import numpy as np\n",
        "BoW_ls = []\n",
        "for i, doc in enumerate(doc_ls): #문장 2개에 대하여\n",
        "  bow = np.zeros(len(word2id),dtype=int) #생성된 인덱스 수에 맞게 0이 들어간 리스트 생성\n",
        "  print(bow)\n",
        "  for token in doc: #각문장의 토큰에 대해\n",
        "    bow[word2id[token]] += 1 #토큰의 위치가 같으면\n",
        "  BoW_ls.append(bow.tolist()) #array를 하나의 리스트로 합치기 위해 tolist사용\n",
        "BoW_ls"
      ],
      "execution_count": null,
      "outputs": [
        {
          "output_type": "stream",
          "text": [
            "[0 0 0 0 0 0 0]\n",
            "[0 0 0 0 0 0 0]\n"
          ],
          "name": "stdout"
        },
        {
          "output_type": "execute_result",
          "data": {
            "text/plain": [
              "[[1, 1, 2, 1, 1, 1, 1], [1, 1, 2, 1, 1, 1, 1]]"
            ]
          },
          "metadata": {
            "tags": []
          },
          "execution_count": 5
        }
      ]
    },
    {
      "cell_type": "markdown",
      "metadata": {
        "id": "-Eefh2wrzVjl",
        "colab_type": "text"
      },
      "source": [
        "#### 5) Sklearn을 활용한 BOW생성"
      ]
    },
    {
      "cell_type": "code",
      "metadata": {
        "id": "CNBcg6-WrVQd",
        "colab_type": "code",
        "colab": {}
      },
      "source": [
        "docs = ['오늘 동물원에서 코끼리 원숭이를 보고 코끼리 원숭이에게 먹이를 줬어',\n",
        "        '오늘 동물원에서 코끼리 원숭이를 보고 코끼리 원숭이에게 먹이를 줬어\\\n",
        "        오늘 동물원에서 원숭이에게 사과를 줬어']"
      ],
      "execution_count": null,
      "outputs": []
    },
    {
      "cell_type": "code",
      "metadata": {
        "id": "apkXuIG-064z",
        "colab_type": "code",
        "colab": {
          "base_uri": "https://localhost:8080/",
          "height": 71
        },
        "outputId": "f0d2a5e8-c002-4e14-9f33-5161ca1d257a"
      },
      "source": [
        "from sklearn.feature_extraction.text import CountVectorizer\n",
        "\n",
        "count_vect = CountVectorizer()\n",
        "BoW = count_vect.fit_transform(docs) #Sklearn은 토큰이 아니라 전체 문장을 입력값으로 받는다\n",
        "print(BoW.toarray())\n",
        "vocab = count_vect.get_feature_names()\n",
        "print(vocab)"
      ],
      "execution_count": null,
      "outputs": [
        {
          "output_type": "stream",
          "text": [
            "[[1 1 1 0 1 1 1 1 2]\n",
            " [2 1 1 1 2 1 2 2 2]]\n",
            "['동물원에서', '먹이를', '보고', '사과를', '오늘', '원숭이를', '원숭이에게', '줬어', '코끼리']\n"
          ],
          "name": "stdout"
        }
      ]
    },
    {
      "cell_type": "code",
      "metadata": {
        "id": "0sz32ZZG1GpF",
        "colab_type": "code",
        "colab": {
          "base_uri": "https://localhost:8080/",
          "height": 287
        },
        "outputId": "3c0f1f6d-9504-41f6-b4b7-bd08a53a1ed0"
      },
      "source": [
        "from IPython.core import display as ICD\n",
        "import pandas as pd\n",
        "\n",
        "for i in range(len(docs)):\n",
        "  print(\"문서{} : {}\".format(i,docs[i]))\n",
        "  ICD.display(pd.DataFrame([BoW.toarray()[i]], columns=vocab))\n",
        "  print(\"\\n\\n\")"
      ],
      "execution_count": null,
      "outputs": [
        {
          "output_type": "stream",
          "text": [
            "문서0 : 오늘 동물원에서 코끼리 원숭이를 보고 코끼리 원숭이에게 먹이를 줬어\n"
          ],
          "name": "stdout"
        },
        {
          "output_type": "display_data",
          "data": {
            "text/html": [
              "<div>\n",
              "<style scoped>\n",
              "    .dataframe tbody tr th:only-of-type {\n",
              "        vertical-align: middle;\n",
              "    }\n",
              "\n",
              "    .dataframe tbody tr th {\n",
              "        vertical-align: top;\n",
              "    }\n",
              "\n",
              "    .dataframe thead th {\n",
              "        text-align: right;\n",
              "    }\n",
              "</style>\n",
              "<table border=\"1\" class=\"dataframe\">\n",
              "  <thead>\n",
              "    <tr style=\"text-align: right;\">\n",
              "      <th></th>\n",
              "      <th>동물원에서</th>\n",
              "      <th>먹이를</th>\n",
              "      <th>보고</th>\n",
              "      <th>사과를</th>\n",
              "      <th>오늘</th>\n",
              "      <th>원숭이를</th>\n",
              "      <th>원숭이에게</th>\n",
              "      <th>줬어</th>\n",
              "      <th>코끼리</th>\n",
              "    </tr>\n",
              "  </thead>\n",
              "  <tbody>\n",
              "    <tr>\n",
              "      <th>0</th>\n",
              "      <td>1</td>\n",
              "      <td>1</td>\n",
              "      <td>1</td>\n",
              "      <td>0</td>\n",
              "      <td>1</td>\n",
              "      <td>1</td>\n",
              "      <td>1</td>\n",
              "      <td>1</td>\n",
              "      <td>2</td>\n",
              "    </tr>\n",
              "  </tbody>\n",
              "</table>\n",
              "</div>"
            ],
            "text/plain": [
              "   동물원에서  먹이를  보고  사과를  오늘  원숭이를  원숭이에게  줬어  코끼리\n",
              "0      1    1   1    0   1     1      1   1    2"
            ]
          },
          "metadata": {
            "tags": []
          }
        },
        {
          "output_type": "stream",
          "text": [
            "\n",
            "\n",
            "\n",
            "문서1 : 오늘 동물원에서 코끼리 원숭이를 보고 코끼리 원숭이에게 먹이를 줬어        오늘 동물원에서 원숭이에게 사과를 줬어\n"
          ],
          "name": "stdout"
        },
        {
          "output_type": "display_data",
          "data": {
            "text/html": [
              "<div>\n",
              "<style scoped>\n",
              "    .dataframe tbody tr th:only-of-type {\n",
              "        vertical-align: middle;\n",
              "    }\n",
              "\n",
              "    .dataframe tbody tr th {\n",
              "        vertical-align: top;\n",
              "    }\n",
              "\n",
              "    .dataframe thead th {\n",
              "        text-align: right;\n",
              "    }\n",
              "</style>\n",
              "<table border=\"1\" class=\"dataframe\">\n",
              "  <thead>\n",
              "    <tr style=\"text-align: right;\">\n",
              "      <th></th>\n",
              "      <th>동물원에서</th>\n",
              "      <th>먹이를</th>\n",
              "      <th>보고</th>\n",
              "      <th>사과를</th>\n",
              "      <th>오늘</th>\n",
              "      <th>원숭이를</th>\n",
              "      <th>원숭이에게</th>\n",
              "      <th>줬어</th>\n",
              "      <th>코끼리</th>\n",
              "    </tr>\n",
              "  </thead>\n",
              "  <tbody>\n",
              "    <tr>\n",
              "      <th>0</th>\n",
              "      <td>2</td>\n",
              "      <td>1</td>\n",
              "      <td>1</td>\n",
              "      <td>1</td>\n",
              "      <td>2</td>\n",
              "      <td>1</td>\n",
              "      <td>2</td>\n",
              "      <td>2</td>\n",
              "      <td>2</td>\n",
              "    </tr>\n",
              "  </tbody>\n",
              "</table>\n",
              "</div>"
            ],
            "text/plain": [
              "   동물원에서  먹이를  보고  사과를  오늘  원숭이를  원숭이에게  줬어  코끼리\n",
              "0      2    1   1    1   2     1      2   2    2"
            ]
          },
          "metadata": {
            "tags": []
          }
        },
        {
          "output_type": "stream",
          "text": [
            "\n",
            "\n",
            "\n"
          ],
          "name": "stdout"
        }
      ]
    },
    {
      "cell_type": "markdown",
      "metadata": {
        "id": "XlnlrRAG2GGE",
        "colab_type": "text"
      },
      "source": [
        "#### 6) Gensim을 활용한 BOW생성"
      ]
    },
    {
      "cell_type": "code",
      "metadata": {
        "id": "ScAhgWkS1-up",
        "colab_type": "code",
        "colab": {}
      },
      "source": [
        "docs = ['오늘 동물원에서 코끼리 원숭이를 보고 코끼리 원숭이에게 먹이를 줬어',\n",
        "        '오늘 동물원에서 코끼리 원숭이를 보고 코끼리 원숭이에게 먹이를 줬어\\\n",
        "        오늘 동물원에서 원숭이에게 사과를 줬어']"
      ],
      "execution_count": null,
      "outputs": []
    },
    {
      "cell_type": "code",
      "metadata": {
        "id": "IA7tZLx82JxH",
        "colab_type": "code",
        "colab": {}
      },
      "source": [
        "from gensim import corpora\n",
        "doc_ls = []\n",
        "for doc in docs: \n",
        "  doc_ls.append(doc.split(' '))"
      ],
      "execution_count": null,
      "outputs": []
    },
    {
      "cell_type": "code",
      "metadata": {
        "id": "xsZn30-z5Hu1",
        "colab_type": "code",
        "colab": {
          "base_uri": "https://localhost:8080/",
          "height": 433
        },
        "outputId": "90aae4b9-89ff-4cd6-f0f3-806822a4fa87"
      },
      "source": [
        "doc_ls"
      ],
      "execution_count": null,
      "outputs": [
        {
          "output_type": "execute_result",
          "data": {
            "text/plain": [
              "[['오늘', '동물원에서', '코끼리', '원숭이를', '보고', '코끼리', '원숭이에게', '먹이를', '줬어'],\n",
              " ['오늘',\n",
              "  '동물원에서',\n",
              "  '코끼리',\n",
              "  '원숭이를',\n",
              "  '보고',\n",
              "  '코끼리',\n",
              "  '원숭이에게',\n",
              "  '먹이를',\n",
              "  '줬어',\n",
              "  '',\n",
              "  '',\n",
              "  '',\n",
              "  '',\n",
              "  '',\n",
              "  '',\n",
              "  '',\n",
              "  '오늘',\n",
              "  '동물원에서',\n",
              "  '원숭이에게',\n",
              "  '사과를',\n",
              "  '줬어']]"
            ]
          },
          "metadata": {
            "tags": []
          },
          "execution_count": 4
        }
      ]
    },
    {
      "cell_type": "code",
      "metadata": {
        "id": "w0Y1NnGU2Pgc",
        "colab_type": "code",
        "colab": {
          "base_uri": "https://localhost:8080/",
          "height": 215
        },
        "outputId": "d04b252c-e199-4cf4-98b9-d9bea3516663"
      },
      "source": [
        "id2word = corpora.Dictionary(doc_ls) #Gensim은 토큰화된 단어들을 입력값으로 받는다\n",
        "BoW = []\n",
        "for doc in doc_ls:\n",
        "  BoW.append(id2word.doc2bow(doc)) \n",
        "BoW"
      ],
      "execution_count": null,
      "outputs": [
        {
          "output_type": "execute_result",
          "data": {
            "text/plain": [
              "[[(0, 1), (1, 1), (2, 1), (3, 1), (4, 1), (5, 1), (6, 1), (7, 2)],\n",
              " [(0, 2),\n",
              "  (1, 1),\n",
              "  (2, 1),\n",
              "  (3, 2),\n",
              "  (4, 1),\n",
              "  (5, 2),\n",
              "  (6, 2),\n",
              "  (7, 2),\n",
              "  (8, 7),\n",
              "  (9, 1)]]"
            ]
          },
          "metadata": {
            "tags": []
          },
          "execution_count": 19
        }
      ]
    },
    {
      "cell_type": "code",
      "metadata": {
        "id": "WmiGRAK52m2m",
        "colab_type": "code",
        "colab": {
          "base_uri": "https://localhost:8080/",
          "height": 287
        },
        "outputId": "5d0011b0-7384-4e6d-8cf2-8721a421f92a"
      },
      "source": [
        "from gensim.matutils import sparse2full\n",
        "from IPython.core import display as ICD\n",
        "import pandas as pd\n",
        "\n",
        "vocab = [id2word[i] for i in id2word.keys()]\n",
        "for i in range(len(docs)):\n",
        "  print(\"문서{} : {}\".format(i,docs[i]))\n",
        "  ICD.display(pd.DataFrame([sparse2full(BoW[0],len(vocab))], columns=vocab))\n",
        "  print(\"\\n\\n\")"
      ],
      "execution_count": null,
      "outputs": [
        {
          "output_type": "stream",
          "text": [
            "문서0 : 오늘 동물원에서 코끼리 원숭이를 보고 코끼리 원숭이에게 먹이를 줬어\n"
          ],
          "name": "stdout"
        },
        {
          "output_type": "display_data",
          "data": {
            "text/html": [
              "<div>\n",
              "<style scoped>\n",
              "    .dataframe tbody tr th:only-of-type {\n",
              "        vertical-align: middle;\n",
              "    }\n",
              "\n",
              "    .dataframe tbody tr th {\n",
              "        vertical-align: top;\n",
              "    }\n",
              "\n",
              "    .dataframe thead th {\n",
              "        text-align: right;\n",
              "    }\n",
              "</style>\n",
              "<table border=\"1\" class=\"dataframe\">\n",
              "  <thead>\n",
              "    <tr style=\"text-align: right;\">\n",
              "      <th></th>\n",
              "      <th>동물원에서</th>\n",
              "      <th>먹이를</th>\n",
              "      <th>보고</th>\n",
              "      <th>오늘</th>\n",
              "      <th>원숭이를</th>\n",
              "      <th>원숭이에게</th>\n",
              "      <th>줬어</th>\n",
              "      <th>코끼리</th>\n",
              "      <th></th>\n",
              "      <th>사과를</th>\n",
              "    </tr>\n",
              "  </thead>\n",
              "  <tbody>\n",
              "    <tr>\n",
              "      <th>0</th>\n",
              "      <td>1.0</td>\n",
              "      <td>1.0</td>\n",
              "      <td>1.0</td>\n",
              "      <td>1.0</td>\n",
              "      <td>1.0</td>\n",
              "      <td>1.0</td>\n",
              "      <td>1.0</td>\n",
              "      <td>2.0</td>\n",
              "      <td>0.0</td>\n",
              "      <td>0.0</td>\n",
              "    </tr>\n",
              "  </tbody>\n",
              "</table>\n",
              "</div>"
            ],
            "text/plain": [
              "   동물원에서  먹이를   보고   오늘  원숭이를  원숭이에게   줬어  코끼리       사과를\n",
              "0    1.0  1.0  1.0  1.0   1.0    1.0  1.0  2.0  0.0  0.0"
            ]
          },
          "metadata": {
            "tags": []
          }
        },
        {
          "output_type": "stream",
          "text": [
            "\n",
            "\n",
            "\n",
            "문서1 : 오늘 동물원에서 코끼리 원숭이를 보고 코끼리 원숭이에게 먹이를 줬어        오늘 동물원에서 원숭이에게 사과를 줬어\n"
          ],
          "name": "stdout"
        },
        {
          "output_type": "display_data",
          "data": {
            "text/html": [
              "<div>\n",
              "<style scoped>\n",
              "    .dataframe tbody tr th:only-of-type {\n",
              "        vertical-align: middle;\n",
              "    }\n",
              "\n",
              "    .dataframe tbody tr th {\n",
              "        vertical-align: top;\n",
              "    }\n",
              "\n",
              "    .dataframe thead th {\n",
              "        text-align: right;\n",
              "    }\n",
              "</style>\n",
              "<table border=\"1\" class=\"dataframe\">\n",
              "  <thead>\n",
              "    <tr style=\"text-align: right;\">\n",
              "      <th></th>\n",
              "      <th>동물원에서</th>\n",
              "      <th>먹이를</th>\n",
              "      <th>보고</th>\n",
              "      <th>오늘</th>\n",
              "      <th>원숭이를</th>\n",
              "      <th>원숭이에게</th>\n",
              "      <th>줬어</th>\n",
              "      <th>코끼리</th>\n",
              "      <th></th>\n",
              "      <th>사과를</th>\n",
              "    </tr>\n",
              "  </thead>\n",
              "  <tbody>\n",
              "    <tr>\n",
              "      <th>0</th>\n",
              "      <td>1.0</td>\n",
              "      <td>1.0</td>\n",
              "      <td>1.0</td>\n",
              "      <td>1.0</td>\n",
              "      <td>1.0</td>\n",
              "      <td>1.0</td>\n",
              "      <td>1.0</td>\n",
              "      <td>2.0</td>\n",
              "      <td>0.0</td>\n",
              "      <td>0.0</td>\n",
              "    </tr>\n",
              "  </tbody>\n",
              "</table>\n",
              "</div>"
            ],
            "text/plain": [
              "   동물원에서  먹이를   보고   오늘  원숭이를  원숭이에게   줬어  코끼리       사과를\n",
              "0    1.0  1.0  1.0  1.0   1.0    1.0  1.0  2.0  0.0  0.0"
            ]
          },
          "metadata": {
            "tags": []
          }
        },
        {
          "output_type": "stream",
          "text": [
            "\n",
            "\n",
            "\n"
          ],
          "name": "stdout"
        }
      ]
    },
    {
      "cell_type": "markdown",
      "metadata": {
        "id": "M9y87F9ZkylR",
        "colab_type": "text"
      },
      "source": [
        "### 3) DTM/TDM \n",
        "- DTM과 TDM은 모두 BOW와 비슷하나 행렬개념이 추가된 것이다\n",
        "  + DTM(Document-Term Matrix)\n",
        "  + TDM(Term-Document Matrix)\n",
        "- 토큰화, Index추출, 빈도수를 계산\n",
        "- BOW와 마찬가지로 단어의 순서를 고려하지 않으며 빈도수가 중요도를 나타내지 못한다는 한계가 있다\n"
      ]
    },
    {
      "cell_type": "markdown",
      "metadata": {
        "id": "Gfbflr-OdgEs",
        "colab_type": "text"
      },
      "source": [
        "#### 1) 인덱스 부여"
      ]
    },
    {
      "cell_type": "code",
      "metadata": {
        "id": "MvPbxXuv3bUa",
        "colab_type": "code",
        "colab": {}
      },
      "source": [
        "docs = ['동물원 코끼리',\n",
        "        '동물원 원숭이 바나나',\n",
        "        '엄마 코끼리 아기 코끼리',\n",
        "        '원숭이 바나나 코끼리 바나나']"
      ],
      "execution_count": null,
      "outputs": []
    },
    {
      "cell_type": "code",
      "metadata": {
        "id": "Zs4tHi92WXIl",
        "colab_type": "code",
        "colab": {
          "base_uri": "https://localhost:8080/",
          "height": 89
        },
        "outputId": "439f8582-43dc-4262-8683-909b138cf9df"
      },
      "source": [
        "doc_ls = []\n",
        "for doc in docs:\n",
        "  doc_ls.append(doc.split(' '))\n",
        "doc_ls"
      ],
      "execution_count": null,
      "outputs": [
        {
          "output_type": "execute_result",
          "data": {
            "text/plain": [
              "[['동물원', '코끼리'],\n",
              " ['동물원', '원숭이', '바나나'],\n",
              " ['엄마', '코끼리', '아기', '코끼리'],\n",
              " ['원숭이', '바나나', '코끼리', '바나나']]"
            ]
          },
          "metadata": {
            "tags": []
          },
          "execution_count": 2
        }
      ]
    },
    {
      "cell_type": "code",
      "metadata": {
        "id": "_KtCmkjwWc6W",
        "colab_type": "code",
        "colab": {
          "base_uri": "https://localhost:8080/",
          "height": 53
        },
        "outputId": "ba8b6fd9-9c69-40df-92d9-2da07b2dc79c"
      },
      "source": [
        "from collections import defaultdict\n",
        "word2id = defaultdict(lambda: len(word2id))\n",
        "for doc in doc_ls:\n",
        "  for token in doc:\n",
        "    word2id[token]\n",
        "word2id"
      ],
      "execution_count": null,
      "outputs": [
        {
          "output_type": "execute_result",
          "data": {
            "text/plain": [
              "defaultdict(<function __main__.<lambda>>,\n",
              "            {'동물원': 0, '바나나': 3, '아기': 5, '엄마': 4, '원숭이': 2, '코끼리': 1})"
            ]
          },
          "metadata": {
            "tags": []
          },
          "execution_count": 4
        }
      ]
    },
    {
      "cell_type": "markdown",
      "metadata": {
        "id": "P-xY5qIhdmJc",
        "colab_type": "text"
      },
      "source": [
        "#### 2) 빈도 수 파악_행렬"
      ]
    },
    {
      "cell_type": "code",
      "metadata": {
        "id": "07LW6EPgcwMg",
        "colab_type": "code",
        "colab": {
          "base_uri": "https://localhost:8080/",
          "height": 233
        },
        "outputId": "9e1e270c-d8bd-4ec4-9151-74d605c53303"
      },
      "source": [
        "import numpy as np\n",
        "TDM = np.zeros((len(word2id), len(doc_ls)),dtype=int)\n",
        "print(TDM)\n",
        "for i, doc in enumerate(doc_ls):\n",
        "  for token in doc:\n",
        "    TDM[word2id[token],i] += 1 #BOW와 달리 하나의 array형태로 표시\n",
        "TDM"
      ],
      "execution_count": null,
      "outputs": [
        {
          "output_type": "stream",
          "text": [
            "[[0 0 0 0]\n",
            " [0 0 0 0]\n",
            " [0 0 0 0]\n",
            " [0 0 0 0]\n",
            " [0 0 0 0]\n",
            " [0 0 0 0]]\n"
          ],
          "name": "stdout"
        },
        {
          "output_type": "execute_result",
          "data": {
            "text/plain": [
              "array([[1, 1, 0, 0],\n",
              "       [1, 0, 2, 1],\n",
              "       [0, 1, 0, 1],\n",
              "       [0, 1, 0, 2],\n",
              "       [0, 0, 1, 0],\n",
              "       [0, 0, 1, 0]])"
            ]
          },
          "metadata": {
            "tags": []
          },
          "execution_count": 5
        }
      ]
    },
    {
      "cell_type": "markdown",
      "metadata": {
        "id": "fLFLU19OdoK3",
        "colab_type": "text"
      },
      "source": [
        "#### 4) 시각화"
      ]
    },
    {
      "cell_type": "code",
      "metadata": {
        "id": "9RU71sg-dM9a",
        "colab_type": "code",
        "colab": {
          "base_uri": "https://localhost:8080/",
          "height": 266
        },
        "outputId": "d8bc283d-1a69-459b-f920-b99a07059c7f"
      },
      "source": [
        "import pandas as pd\n",
        "\n",
        "doc_names = ['문서'+str(i) for i in range(len(doc_ls))]\n",
        "sorted_vocab = sorted((value,key) for key,value in word2id.items())\n",
        "vocab = [v[1] for v in sorted_vocab]\n",
        "df_TDM = pd.DataFrame(TDM, columns = doc_names)\n",
        "df_TDM['단어'] = vocab\n",
        "df_TDM.set_index('단어')"
      ],
      "execution_count": null,
      "outputs": [
        {
          "output_type": "execute_result",
          "data": {
            "text/html": [
              "<div>\n",
              "<style scoped>\n",
              "    .dataframe tbody tr th:only-of-type {\n",
              "        vertical-align: middle;\n",
              "    }\n",
              "\n",
              "    .dataframe tbody tr th {\n",
              "        vertical-align: top;\n",
              "    }\n",
              "\n",
              "    .dataframe thead th {\n",
              "        text-align: right;\n",
              "    }\n",
              "</style>\n",
              "<table border=\"1\" class=\"dataframe\">\n",
              "  <thead>\n",
              "    <tr style=\"text-align: right;\">\n",
              "      <th></th>\n",
              "      <th>문서0</th>\n",
              "      <th>문서1</th>\n",
              "      <th>문서2</th>\n",
              "      <th>문서3</th>\n",
              "    </tr>\n",
              "    <tr>\n",
              "      <th>단어</th>\n",
              "      <th></th>\n",
              "      <th></th>\n",
              "      <th></th>\n",
              "      <th></th>\n",
              "    </tr>\n",
              "  </thead>\n",
              "  <tbody>\n",
              "    <tr>\n",
              "      <th>동물원</th>\n",
              "      <td>1</td>\n",
              "      <td>1</td>\n",
              "      <td>0</td>\n",
              "      <td>0</td>\n",
              "    </tr>\n",
              "    <tr>\n",
              "      <th>코끼리</th>\n",
              "      <td>1</td>\n",
              "      <td>0</td>\n",
              "      <td>2</td>\n",
              "      <td>1</td>\n",
              "    </tr>\n",
              "    <tr>\n",
              "      <th>원숭이</th>\n",
              "      <td>0</td>\n",
              "      <td>1</td>\n",
              "      <td>0</td>\n",
              "      <td>1</td>\n",
              "    </tr>\n",
              "    <tr>\n",
              "      <th>바나나</th>\n",
              "      <td>0</td>\n",
              "      <td>1</td>\n",
              "      <td>0</td>\n",
              "      <td>2</td>\n",
              "    </tr>\n",
              "    <tr>\n",
              "      <th>엄마</th>\n",
              "      <td>0</td>\n",
              "      <td>0</td>\n",
              "      <td>1</td>\n",
              "      <td>0</td>\n",
              "    </tr>\n",
              "    <tr>\n",
              "      <th>아기</th>\n",
              "      <td>0</td>\n",
              "      <td>0</td>\n",
              "      <td>1</td>\n",
              "      <td>0</td>\n",
              "    </tr>\n",
              "  </tbody>\n",
              "</table>\n",
              "</div>"
            ],
            "text/plain": [
              "     문서0  문서1  문서2  문서3\n",
              "단어                     \n",
              "동물원    1    1    0    0\n",
              "코끼리    1    0    2    1\n",
              "원숭이    0    1    0    1\n",
              "바나나    0    1    0    2\n",
              "엄마     0    0    1    0\n",
              "아기     0    0    1    0"
            ]
          },
          "metadata": {
            "tags": []
          },
          "execution_count": 7
        }
      ]
    },
    {
      "cell_type": "markdown",
      "metadata": {
        "id": "0u8ljzSkeYSC",
        "colab_type": "text"
      },
      "source": [
        "#### 5) Sklearn을 활용한 TDM 생성"
      ]
    },
    {
      "cell_type": "code",
      "metadata": {
        "id": "_wvrAo6heVDg",
        "colab_type": "code",
        "colab": {}
      },
      "source": [
        "docs = ['동물원 코끼리',\n",
        "        '동물원 원숭이 바나나',\n",
        "        '엄마 코끼리 아기 코끼리',\n",
        "        '원숭이 바나나 코끼리 바나나']"
      ],
      "execution_count": null,
      "outputs": []
    },
    {
      "cell_type": "code",
      "metadata": {
        "id": "SjI1U-6Xeh0p",
        "colab_type": "code",
        "colab": {
          "base_uri": "https://localhost:8080/",
          "height": 89
        },
        "outputId": "b64454b8-2ec9-40fe-c024-06bda39171fc"
      },
      "source": [
        "from sklearn.feature_extraction.text import CountVectorizer\n",
        "count_vect = CountVectorizer()\n",
        "DTM = count_vect.fit_transform(docs)\n",
        "DTM.toarray()"
      ],
      "execution_count": null,
      "outputs": [
        {
          "output_type": "execute_result",
          "data": {
            "text/plain": [
              "array([[1, 0, 0, 0, 0, 1],\n",
              "       [1, 1, 0, 0, 1, 0],\n",
              "       [0, 0, 1, 1, 0, 2],\n",
              "       [0, 2, 0, 0, 1, 1]])"
            ]
          },
          "metadata": {
            "tags": []
          },
          "execution_count": 9
        }
      ]
    },
    {
      "cell_type": "code",
      "metadata": {
        "id": "nZNe_dreerPc",
        "colab_type": "code",
        "colab": {
          "base_uri": "https://localhost:8080/",
          "height": 125
        },
        "outputId": "7610eb52-bf4f-4471-a1ec-9f58d30a742f"
      },
      "source": [
        "DTM.toarray().T"
      ],
      "execution_count": null,
      "outputs": [
        {
          "output_type": "execute_result",
          "data": {
            "text/plain": [
              "array([[1, 1, 0, 0],\n",
              "       [0, 1, 0, 2],\n",
              "       [0, 0, 1, 0],\n",
              "       [0, 0, 1, 0],\n",
              "       [0, 1, 0, 1],\n",
              "       [1, 0, 2, 1]])"
            ]
          },
          "metadata": {
            "tags": []
          },
          "execution_count": 10
        }
      ]
    },
    {
      "cell_type": "code",
      "metadata": {
        "id": "dI7n_3BjeusJ",
        "colab_type": "code",
        "colab": {
          "base_uri": "https://localhost:8080/",
          "height": 266
        },
        "outputId": "7409262c-a4df-4094-89ee-7922f3bad207"
      },
      "source": [
        "import pandas as pd\n",
        "\n",
        "doc_names = ['문서'+str(i) for i in range(len(doc_ls))]\n",
        "vocab = count_vect.get_feature_names()\n",
        "df_TDM = pd.DataFrame(DTM.toarray().T, columns=doc_names)\n",
        "df_TDM['단어'] = vocab\n",
        "df_TDM.set_index('단어')"
      ],
      "execution_count": null,
      "outputs": [
        {
          "output_type": "execute_result",
          "data": {
            "text/html": [
              "<div>\n",
              "<style scoped>\n",
              "    .dataframe tbody tr th:only-of-type {\n",
              "        vertical-align: middle;\n",
              "    }\n",
              "\n",
              "    .dataframe tbody tr th {\n",
              "        vertical-align: top;\n",
              "    }\n",
              "\n",
              "    .dataframe thead th {\n",
              "        text-align: right;\n",
              "    }\n",
              "</style>\n",
              "<table border=\"1\" class=\"dataframe\">\n",
              "  <thead>\n",
              "    <tr style=\"text-align: right;\">\n",
              "      <th></th>\n",
              "      <th>문서0</th>\n",
              "      <th>문서1</th>\n",
              "      <th>문서2</th>\n",
              "      <th>문서3</th>\n",
              "    </tr>\n",
              "    <tr>\n",
              "      <th>단어</th>\n",
              "      <th></th>\n",
              "      <th></th>\n",
              "      <th></th>\n",
              "      <th></th>\n",
              "    </tr>\n",
              "  </thead>\n",
              "  <tbody>\n",
              "    <tr>\n",
              "      <th>동물원</th>\n",
              "      <td>1</td>\n",
              "      <td>1</td>\n",
              "      <td>0</td>\n",
              "      <td>0</td>\n",
              "    </tr>\n",
              "    <tr>\n",
              "      <th>바나나</th>\n",
              "      <td>0</td>\n",
              "      <td>1</td>\n",
              "      <td>0</td>\n",
              "      <td>2</td>\n",
              "    </tr>\n",
              "    <tr>\n",
              "      <th>아기</th>\n",
              "      <td>0</td>\n",
              "      <td>0</td>\n",
              "      <td>1</td>\n",
              "      <td>0</td>\n",
              "    </tr>\n",
              "    <tr>\n",
              "      <th>엄마</th>\n",
              "      <td>0</td>\n",
              "      <td>0</td>\n",
              "      <td>1</td>\n",
              "      <td>0</td>\n",
              "    </tr>\n",
              "    <tr>\n",
              "      <th>원숭이</th>\n",
              "      <td>0</td>\n",
              "      <td>1</td>\n",
              "      <td>0</td>\n",
              "      <td>1</td>\n",
              "    </tr>\n",
              "    <tr>\n",
              "      <th>코끼리</th>\n",
              "      <td>1</td>\n",
              "      <td>0</td>\n",
              "      <td>2</td>\n",
              "      <td>1</td>\n",
              "    </tr>\n",
              "  </tbody>\n",
              "</table>\n",
              "</div>"
            ],
            "text/plain": [
              "     문서0  문서1  문서2  문서3\n",
              "단어                     \n",
              "동물원    1    1    0    0\n",
              "바나나    0    1    0    2\n",
              "아기     0    0    1    0\n",
              "엄마     0    0    1    0\n",
              "원숭이    0    1    0    1\n",
              "코끼리    1    0    2    1"
            ]
          },
          "metadata": {
            "tags": []
          },
          "execution_count": 11
        }
      ]
    },
    {
      "cell_type": "markdown",
      "metadata": {
        "id": "F34xP1n7e6x2",
        "colab_type": "text"
      },
      "source": [
        "#### 6) Gensim을 활용한 TDM 생성"
      ]
    },
    {
      "cell_type": "code",
      "metadata": {
        "id": "BAIDpJkHe5kO",
        "colab_type": "code",
        "colab": {}
      },
      "source": [
        "docs = ['동물원 코끼리',\n",
        "        '동물원 원숭이 바나나',\n",
        "        '엄마 코끼리 아기 코끼리',\n",
        "        '원숭이 바나나 코끼리 바나나']"
      ],
      "execution_count": null,
      "outputs": []
    },
    {
      "cell_type": "code",
      "metadata": {
        "id": "eGj_xVc8fCz8",
        "colab_type": "code",
        "colab": {
          "base_uri": "https://localhost:8080/",
          "height": 89
        },
        "outputId": "ff73c5b0-dcdc-47ac-feb8-782cdb1beee7"
      },
      "source": [
        "import gensim\n",
        "from gensim import corpora\n",
        "doc_ls = [doc.split() for doc in docs]\n",
        "\n",
        "id2word = corpora.Dictionary(doc_ls)\n",
        "TDM = [id2word.doc2bow(doc) for doc in doc_ls]\n",
        "TDM"
      ],
      "execution_count": null,
      "outputs": [
        {
          "output_type": "execute_result",
          "data": {
            "text/plain": [
              "[[(0, 1), (1, 1)],\n",
              " [(0, 1), (2, 1), (3, 1)],\n",
              " [(1, 2), (4, 1), (5, 1)],\n",
              " [(1, 1), (2, 2), (3, 1)]]"
            ]
          },
          "metadata": {
            "tags": []
          },
          "execution_count": 14
        }
      ]
    },
    {
      "cell_type": "code",
      "metadata": {
        "id": "ny3bo6lofQMT",
        "colab_type": "code",
        "colab": {
          "base_uri": "https://localhost:8080/",
          "height": 266
        },
        "outputId": "87a1aab9-6fd3-479b-8fa4-d2c48fa70ce3"
      },
      "source": [
        "from gensim.matutils import sparse2full\n",
        "import pandas as pd\n",
        "import numpy as np\n",
        "\n",
        "doc_names = ['문서'+str(i) for i in range(len(doc_ls))]\n",
        "vocab = [id2word[1] for i in id2word.keys()]\n",
        "DTM_matrix = [sparse2full(doc, len(vocab)).tolist() for doc in TDM]\n",
        "df_TDM = pd.DataFrame(np.array(DTM_matrix, dtype=int).T,\n",
        "                      columns = doc_names)\n",
        "df_TDM['단어'] = vocab\n",
        "df_TDM.set_index('단어')"
      ],
      "execution_count": null,
      "outputs": [
        {
          "output_type": "execute_result",
          "data": {
            "text/html": [
              "<div>\n",
              "<style scoped>\n",
              "    .dataframe tbody tr th:only-of-type {\n",
              "        vertical-align: middle;\n",
              "    }\n",
              "\n",
              "    .dataframe tbody tr th {\n",
              "        vertical-align: top;\n",
              "    }\n",
              "\n",
              "    .dataframe thead th {\n",
              "        text-align: right;\n",
              "    }\n",
              "</style>\n",
              "<table border=\"1\" class=\"dataframe\">\n",
              "  <thead>\n",
              "    <tr style=\"text-align: right;\">\n",
              "      <th></th>\n",
              "      <th>문서0</th>\n",
              "      <th>문서1</th>\n",
              "      <th>문서2</th>\n",
              "      <th>문서3</th>\n",
              "    </tr>\n",
              "    <tr>\n",
              "      <th>단어</th>\n",
              "      <th></th>\n",
              "      <th></th>\n",
              "      <th></th>\n",
              "      <th></th>\n",
              "    </tr>\n",
              "  </thead>\n",
              "  <tbody>\n",
              "    <tr>\n",
              "      <th>코끼리</th>\n",
              "      <td>1</td>\n",
              "      <td>1</td>\n",
              "      <td>0</td>\n",
              "      <td>0</td>\n",
              "    </tr>\n",
              "    <tr>\n",
              "      <th>코끼리</th>\n",
              "      <td>1</td>\n",
              "      <td>0</td>\n",
              "      <td>2</td>\n",
              "      <td>1</td>\n",
              "    </tr>\n",
              "    <tr>\n",
              "      <th>코끼리</th>\n",
              "      <td>0</td>\n",
              "      <td>1</td>\n",
              "      <td>0</td>\n",
              "      <td>2</td>\n",
              "    </tr>\n",
              "    <tr>\n",
              "      <th>코끼리</th>\n",
              "      <td>0</td>\n",
              "      <td>1</td>\n",
              "      <td>0</td>\n",
              "      <td>1</td>\n",
              "    </tr>\n",
              "    <tr>\n",
              "      <th>코끼리</th>\n",
              "      <td>0</td>\n",
              "      <td>0</td>\n",
              "      <td>1</td>\n",
              "      <td>0</td>\n",
              "    </tr>\n",
              "    <tr>\n",
              "      <th>코끼리</th>\n",
              "      <td>0</td>\n",
              "      <td>0</td>\n",
              "      <td>1</td>\n",
              "      <td>0</td>\n",
              "    </tr>\n",
              "  </tbody>\n",
              "</table>\n",
              "</div>"
            ],
            "text/plain": [
              "     문서0  문서1  문서2  문서3\n",
              "단어                     \n",
              "코끼리    1    1    0    0\n",
              "코끼리    1    0    2    1\n",
              "코끼리    0    1    0    2\n",
              "코끼리    0    1    0    1\n",
              "코끼리    0    0    1    0\n",
              "코끼리    0    0    1    0"
            ]
          },
          "metadata": {
            "tags": []
          },
          "execution_count": 16
        }
      ]
    },
    {
      "cell_type": "markdown",
      "metadata": {
        "id": "jcHXlTiRv-iW",
        "colab_type": "text"
      },
      "source": [
        "### 4) TF-IDF\n",
        "- 단어빈도-역문서빈도\n",
        "  + TF = 한 문서 내에서 단어가 얼마나 많이 등장했는가\n",
        "    + 특정 단어 등장 빈도/문서 내 전체 등장 단어 빈도로 계산\n",
        "  + IDF = 단어가 몇 개의 문서에 등장했는지를 계산 한 후 역수로 전환\n",
        "    + log(총 문서수/단어가 등장한 문자수)\n",
        "    + 로그값을 취해주는 이유 = 등장한 문자수 간의 유의미한 차이만을 반영하기 위해서\n",
        "\n",
        "- TF*IDF값이 클 수록 문서 내 단어의 중요도가 크다고 할 수 있다\n"
      ]
    },
    {
      "cell_type": "markdown",
      "metadata": {
        "id": "xarUQck2n7BY",
        "colab_type": "text"
      },
      "source": [
        "#### 1) 인덱스 부여"
      ]
    },
    {
      "cell_type": "code",
      "metadata": {
        "id": "1l8xnywWftB5",
        "colab_type": "code",
        "colab": {}
      },
      "source": [
        "docs = ['오늘 동물원에서 원숭이와 코끼리를 봤어',\n",
        "        '동물원에서 원숭이에게 바나나를 줬어 바나나를']"
      ],
      "execution_count": null,
      "outputs": []
    },
    {
      "cell_type": "code",
      "metadata": {
        "id": "oR4cidx5wNSj",
        "colab_type": "code",
        "colab": {
          "base_uri": "https://localhost:8080/",
          "height": 53
        },
        "outputId": "59dea141-495f-4966-9e65-fd0b00196234"
      },
      "source": [
        "doc_ls=[]\n",
        "for doc in docs:\n",
        "  doc_ls.append(doc.split())\n",
        "doc_ls"
      ],
      "execution_count": null,
      "outputs": [
        {
          "output_type": "execute_result",
          "data": {
            "text/plain": [
              "[['오늘', '동물원에서', '원숭이와', '코끼리를', '봤어'],\n",
              " ['동물원에서', '원숭이에게', '바나나를', '줬어', '바나나를']]"
            ]
          },
          "metadata": {
            "tags": []
          },
          "execution_count": 18
        }
      ]
    },
    {
      "cell_type": "code",
      "metadata": {
        "id": "GGDYlcVywSHd",
        "colab_type": "code",
        "colab": {
          "base_uri": "https://localhost:8080/",
          "height": 179
        },
        "outputId": "7cc0f7f0-07bc-4d1d-ca20-5984286604a0"
      },
      "source": [
        "from collections import defaultdict\n",
        "word2id = defaultdict(lambda : len(word2id)) #들어온 리스트의 길이만큼 딕셔너리를 만드는 word2id생성\n",
        "word2id\n",
        "for doc in doc_ls: #split된 것을 한 문장 단위로 추출\n",
        "  for token in doc: #한 문장 내에서 끊어진 토큰들을 추출\n",
        "    word2id[token]\n",
        "word2id"
      ],
      "execution_count": null,
      "outputs": [
        {
          "output_type": "execute_result",
          "data": {
            "text/plain": [
              "defaultdict(<function __main__.<lambda>>,\n",
              "            {'동물원에서': 1,\n",
              "             '바나나를': 6,\n",
              "             '봤어': 4,\n",
              "             '오늘': 0,\n",
              "             '원숭이에게': 5,\n",
              "             '원숭이와': 2,\n",
              "             '줬어': 7,\n",
              "             '코끼리를': 3})"
            ]
          },
          "metadata": {
            "tags": []
          },
          "execution_count": 20
        }
      ]
    },
    {
      "cell_type": "code",
      "metadata": {
        "id": "MLedGUGLwTiX",
        "colab_type": "code",
        "colab": {
          "base_uri": "https://localhost:8080/",
          "height": 89
        },
        "outputId": "c6788596-f505-475f-907e-2bea2c39448d"
      },
      "source": [
        "import numpy as np\n",
        "\n",
        "DTM = np.zeros((len(doc_ls),len(word2id)), dtype=int)\n",
        "print(TDM)\n",
        "for i, doc in enumerate(doc_ls):\n",
        "  for token in doc:\n",
        "    DTM[i,word2id[token]] += 1 \n",
        "DTM"
      ],
      "execution_count": null,
      "outputs": [
        {
          "output_type": "stream",
          "text": [
            "[[0 0 0 0 0 0 0 0]\n",
            " [0 0 0 0 0 0 0 0]]\n"
          ],
          "name": "stdout"
        },
        {
          "output_type": "execute_result",
          "data": {
            "text/plain": [
              "array([[1, 1, 1, 1, 1, 0, 0, 0],\n",
              "       [0, 1, 0, 0, 0, 1, 2, 1]])"
            ]
          },
          "metadata": {
            "tags": []
          },
          "execution_count": 23
        }
      ]
    },
    {
      "cell_type": "markdown",
      "metadata": {
        "id": "JUbjXVm5oBTK",
        "colab_type": "text"
      },
      "source": [
        "#### 2) TF계산"
      ]
    },
    {
      "cell_type": "code",
      "metadata": {
        "id": "sqOdkNezDgQk",
        "colab_type": "code",
        "colab": {}
      },
      "source": [
        "def computeTF(DTM):\n",
        "  doc_len = len(DTM)\n",
        "  word_len = len(DTM[0])\n",
        "  tf = np.zeros((doc_len, word_len))\n",
        "  print(tf)\n",
        "  for doc_i in range(doc_len):\n",
        "      for word_i in range(word_len) :\n",
        "        tf[doc_i,word_i] = DTM[doc_i,word_i]/DTM[doc_i].sum()\n",
        "  return tf"
      ],
      "execution_count": null,
      "outputs": []
    },
    {
      "cell_type": "code",
      "metadata": {
        "id": "oqgGcB-JEYyd",
        "colab_type": "code",
        "colab": {
          "base_uri": "https://localhost:8080/",
          "height": 89
        },
        "outputId": "4c9fed13-5360-4689-d9dd-4da17df4af58"
      },
      "source": [
        "computeTF(TDM)"
      ],
      "execution_count": null,
      "outputs": [
        {
          "output_type": "stream",
          "text": [
            "[[0. 0. 0. 0. 0. 0. 0. 0.]\n",
            " [0. 0. 0. 0. 0. 0. 0. 0.]]\n"
          ],
          "name": "stdout"
        },
        {
          "output_type": "execute_result",
          "data": {
            "text/plain": [
              "array([[0.2, 0.2, 0.2, 0.2, 0.2, 0. , 0. , 0. ],\n",
              "       [0. , 0.2, 0. , 0. , 0. , 0.2, 0.4, 0.2]])"
            ]
          },
          "metadata": {
            "tags": []
          },
          "execution_count": 27
        }
      ]
    },
    {
      "cell_type": "markdown",
      "metadata": {
        "id": "yjWc7z0ooECq",
        "colab_type": "text"
      },
      "source": [
        "#### 3) IDF계산"
      ]
    },
    {
      "cell_type": "code",
      "metadata": {
        "id": "8uOkwZ-vEsTj",
        "colab_type": "code",
        "colab": {}
      },
      "source": [
        "import math\n",
        "def computeIDF(TDM):\n",
        "  doc_len = len(TDM)\n",
        "  word_len = len(TDM[0])  \n",
        "\n",
        "  idf = np.zeros(word_len)\n",
        "\n",
        "  for i in range(word_len) :\n",
        "    idf[i] = math.log10(doc_len / np.count_nonzero(TDM[:,i]))\n",
        "  return idf"
      ],
      "execution_count": null,
      "outputs": []
    },
    {
      "cell_type": "code",
      "metadata": {
        "id": "KFgfePhbJMd9",
        "colab_type": "code",
        "colab": {
          "base_uri": "https://localhost:8080/",
          "height": 53
        },
        "outputId": "8e10e7ec-c726-4655-d7e2-c0b097c73742"
      },
      "source": [
        "computeIDF(TDM)"
      ],
      "execution_count": null,
      "outputs": [
        {
          "output_type": "execute_result",
          "data": {
            "text/plain": [
              "array([0.30103, 0.     , 0.30103, 0.30103, 0.30103, 0.30103, 0.30103,\n",
              "       0.30103])"
            ]
          },
          "metadata": {
            "tags": []
          },
          "execution_count": 30
        }
      ]
    },
    {
      "cell_type": "markdown",
      "metadata": {
        "id": "scF0VrXyoHbY",
        "colab_type": "text"
      },
      "source": [
        "#### 4) TF-IDF 계산"
      ]
    },
    {
      "cell_type": "code",
      "metadata": {
        "id": "qhgKr3wbJN6l",
        "colab_type": "code",
        "colab": {}
      },
      "source": [
        "def computeTFIDF(TDM):\n",
        "  tf = computeTF(TDM)\n",
        "  idf = computeIDF(TDM)\n",
        "  tfidf = np.zeros(tf.shape)\n",
        "  for doc_i in range(tf.shape[0]):\n",
        "    for word_i in range(tf.shape[i]):\n",
        "      tfidf[doc_i,word_i] = tf[doc_i,word_i] * idf[word_i]\n",
        "  return tfidf"
      ],
      "execution_count": null,
      "outputs": []
    },
    {
      "cell_type": "code",
      "metadata": {
        "id": "C-L0o4svJhru",
        "colab_type": "code",
        "colab": {
          "base_uri": "https://localhost:8080/",
          "height": 147
        },
        "outputId": "230bf839-14bf-433c-ce3d-e7b4a29b171d"
      },
      "source": [
        "import pandas as pd\n",
        "\n",
        "sorted_vocab = sorted((value, key) for key, value in word2id.items())\n",
        "vocab = [v[i] for v in sorted_vocab]\n",
        "tfidf = computeTFIDF(TDM)\n",
        "pd.DataFrame(tfidf,columns=vocab)"
      ],
      "execution_count": null,
      "outputs": [
        {
          "output_type": "stream",
          "text": [
            "[[0. 0. 0. 0. 0. 0. 0. 0.]\n",
            " [0. 0. 0. 0. 0. 0. 0. 0.]]\n"
          ],
          "name": "stdout"
        },
        {
          "output_type": "execute_result",
          "data": {
            "text/html": [
              "<div>\n",
              "<style scoped>\n",
              "    .dataframe tbody tr th:only-of-type {\n",
              "        vertical-align: middle;\n",
              "    }\n",
              "\n",
              "    .dataframe tbody tr th {\n",
              "        vertical-align: top;\n",
              "    }\n",
              "\n",
              "    .dataframe thead th {\n",
              "        text-align: right;\n",
              "    }\n",
              "</style>\n",
              "<table border=\"1\" class=\"dataframe\">\n",
              "  <thead>\n",
              "    <tr style=\"text-align: right;\">\n",
              "      <th></th>\n",
              "      <th>오늘</th>\n",
              "      <th>동물원에서</th>\n",
              "      <th>원숭이와</th>\n",
              "      <th>코끼리를</th>\n",
              "      <th>봤어</th>\n",
              "      <th>원숭이에게</th>\n",
              "      <th>바나나를</th>\n",
              "      <th>줬어</th>\n",
              "    </tr>\n",
              "  </thead>\n",
              "  <tbody>\n",
              "    <tr>\n",
              "      <th>0</th>\n",
              "      <td>0.060206</td>\n",
              "      <td>0.0</td>\n",
              "      <td>0.060206</td>\n",
              "      <td>0.060206</td>\n",
              "      <td>0.060206</td>\n",
              "      <td>0.000000</td>\n",
              "      <td>0.000000</td>\n",
              "      <td>0.000000</td>\n",
              "    </tr>\n",
              "    <tr>\n",
              "      <th>1</th>\n",
              "      <td>0.000000</td>\n",
              "      <td>0.0</td>\n",
              "      <td>0.000000</td>\n",
              "      <td>0.000000</td>\n",
              "      <td>0.000000</td>\n",
              "      <td>0.060206</td>\n",
              "      <td>0.120412</td>\n",
              "      <td>0.060206</td>\n",
              "    </tr>\n",
              "  </tbody>\n",
              "</table>\n",
              "</div>"
            ],
            "text/plain": [
              "         오늘  동물원에서      원숭이와      코끼리를        봤어     원숭이에게      바나나를        줬어\n",
              "0  0.060206    0.0  0.060206  0.060206  0.060206  0.000000  0.000000  0.000000\n",
              "1  0.000000    0.0  0.000000  0.000000  0.000000  0.060206  0.120412  0.060206"
            ]
          },
          "metadata": {
            "tags": []
          },
          "execution_count": 32
        }
      ]
    },
    {
      "cell_type": "markdown",
      "metadata": {
        "id": "SUvgBr94xasR",
        "colab_type": "text"
      },
      "source": [
        "#### 5) Sklearn을 활용한 TF-IDF 생성"
      ]
    },
    {
      "cell_type": "code",
      "metadata": {
        "id": "Y9blbHkXxdRA",
        "colab_type": "code",
        "colab": {}
      },
      "source": [
        "docs = ['오늘 동물원에서 원숭이와 코끼리를 봤어',\n",
        "        '동물원에서 원숭이에게 바나나를 줬어 바나나를']\n",
        "\n",
        "from sklearn.feature_extraction.text import TfidfVectorizer\n",
        "tfidv = TfidfVectorizer()\n",
        "tfidv = tfidv.fit(docs)\n",
        "tfidv.transform(docs).toarray()\n",
        "vocab = tfidv.get_feature_names()"
      ],
      "execution_count": null,
      "outputs": []
    },
    {
      "cell_type": "code",
      "metadata": {
        "id": "fGFTkHKRzdej",
        "colab_type": "code",
        "colab": {
          "base_uri": "https://localhost:8080/",
          "height": 35
        },
        "outputId": "53c4f833-ccba-4b16-e282-6610f75e52e9"
      },
      "source": [
        "vocab"
      ],
      "execution_count": null,
      "outputs": [
        {
          "output_type": "execute_result",
          "data": {
            "text/plain": [
              "['동물원에서', '바나나를', '봤어', '오늘', '원숭이에게', '원숭이와', '줬어', '코끼리를']"
            ]
          },
          "metadata": {
            "tags": []
          },
          "execution_count": 3
        }
      ]
    },
    {
      "cell_type": "code",
      "metadata": {
        "id": "3Xk_P4B3zey4",
        "colab_type": "code",
        "colab": {
          "base_uri": "https://localhost:8080/",
          "height": 53
        },
        "outputId": "e7dcf67c-fc88-4a6b-f00b-9809f1728467"
      },
      "source": [
        "tfidv.transform(docs).toarray"
      ],
      "execution_count": null,
      "outputs": [
        {
          "output_type": "execute_result",
          "data": {
            "text/plain": [
              "<bound method _cs_matrix.toarray of <2x8 sparse matrix of type '<class 'numpy.float64'>'\n",
              "\twith 9 stored elements in Compressed Sparse Row format>>"
            ]
          },
          "metadata": {
            "tags": []
          },
          "execution_count": 4
        }
      ]
    },
    {
      "cell_type": "code",
      "metadata": {
        "id": "uCEG2GTZzlU7",
        "colab_type": "code",
        "colab": {
          "base_uri": "https://localhost:8080/",
          "height": 111
        },
        "outputId": "de75fa72-271f-412a-ced6-03cc3f2b5c4b"
      },
      "source": [
        "import pandas as pd\n",
        "df = pd.DataFrame(tfidv.transform(docs).toarray(), columns = vocab)\n",
        "df"
      ],
      "execution_count": null,
      "outputs": [
        {
          "output_type": "execute_result",
          "data": {
            "text/html": [
              "<div>\n",
              "<style scoped>\n",
              "    .dataframe tbody tr th:only-of-type {\n",
              "        vertical-align: middle;\n",
              "    }\n",
              "\n",
              "    .dataframe tbody tr th {\n",
              "        vertical-align: top;\n",
              "    }\n",
              "\n",
              "    .dataframe thead th {\n",
              "        text-align: right;\n",
              "    }\n",
              "</style>\n",
              "<table border=\"1\" class=\"dataframe\">\n",
              "  <thead>\n",
              "    <tr style=\"text-align: right;\">\n",
              "      <th></th>\n",
              "      <th>동물원에서</th>\n",
              "      <th>바나나를</th>\n",
              "      <th>봤어</th>\n",
              "      <th>오늘</th>\n",
              "      <th>원숭이에게</th>\n",
              "      <th>원숭이와</th>\n",
              "      <th>줬어</th>\n",
              "      <th>코끼리를</th>\n",
              "    </tr>\n",
              "  </thead>\n",
              "  <tbody>\n",
              "    <tr>\n",
              "      <th>0</th>\n",
              "      <td>0.335176</td>\n",
              "      <td>0.000000</td>\n",
              "      <td>0.471078</td>\n",
              "      <td>0.471078</td>\n",
              "      <td>0.000000</td>\n",
              "      <td>0.471078</td>\n",
              "      <td>0.000000</td>\n",
              "      <td>0.471078</td>\n",
              "    </tr>\n",
              "    <tr>\n",
              "      <th>1</th>\n",
              "      <td>0.278943</td>\n",
              "      <td>0.784088</td>\n",
              "      <td>0.000000</td>\n",
              "      <td>0.000000</td>\n",
              "      <td>0.392044</td>\n",
              "      <td>0.000000</td>\n",
              "      <td>0.392044</td>\n",
              "      <td>0.000000</td>\n",
              "    </tr>\n",
              "  </tbody>\n",
              "</table>\n",
              "</div>"
            ],
            "text/plain": [
              "      동물원에서      바나나를        봤어  ...      원숭이와        줬어      코끼리를\n",
              "0  0.335176  0.000000  0.471078  ...  0.471078  0.000000  0.471078\n",
              "1  0.278943  0.784088  0.000000  ...  0.000000  0.392044  0.000000\n",
              "\n",
              "[2 rows x 8 columns]"
            ]
          },
          "metadata": {
            "tags": []
          },
          "execution_count": 5
        }
      ]
    },
    {
      "cell_type": "markdown",
      "metadata": {
        "id": "Wff9tPDKxdod",
        "colab_type": "text"
      },
      "source": [
        "#### 6) Gensim을 활용한 TF-IDF 생성"
      ]
    },
    {
      "cell_type": "code",
      "metadata": {
        "id": "0tqGFFtnxf6l",
        "colab_type": "code",
        "colab": {
          "base_uri": "https://localhost:8080/",
          "height": 35
        },
        "outputId": "02058b2a-64b8-4090-bd3d-2e15e4b4ad58"
      },
      "source": [
        "import gensim\n",
        "from gensim import corpora\n",
        "from gensim.models import TfidfModel\n",
        "\n",
        "docs = ['오늘 동물원에서 원숭이와 코끼리를 봤어',\n",
        "        '동물원에서 원숭이에게 바나나를 줬어 바나나를']\n",
        "\n",
        "doc_ls = [doc.split() for doc in docs]\n",
        "id2word = corpora.Dictionary(doc_ls)\n",
        "TDM = [id2word.doc2bow(doc) for doc in doc_ls]\n",
        "model = TfidfModel(TDM)\n",
        "tfidf = model[TDM]\n",
        "tfidf[0]"
      ],
      "execution_count": null,
      "outputs": [
        {
          "output_type": "execute_result",
          "data": {
            "text/plain": [
              "[(1, 0.5), (2, 0.5), (3, 0.5), (4, 0.5)]"
            ]
          },
          "metadata": {
            "tags": []
          },
          "execution_count": 7
        }
      ]
    },
    {
      "cell_type": "code",
      "metadata": {
        "id": "2gj-6_to0m3_",
        "colab_type": "code",
        "colab": {
          "base_uri": "https://localhost:8080/",
          "height": 111
        },
        "outputId": "a0799fd5-6898-4713-a99e-80152b2ffee2"
      },
      "source": [
        "import pandas as pd\n",
        "from gensim.matutils import sparse2full\n",
        "\n",
        "vocab = [id2word[i] for i in id2word.keys()]\n",
        "TDM_matrix = [sparse2full(doc,len(vocab)).tolist() for doc in tfidf]\n",
        "pd.DataFrame(TDM_matrix, columns = vocab)"
      ],
      "execution_count": null,
      "outputs": [
        {
          "output_type": "execute_result",
          "data": {
            "text/html": [
              "<div>\n",
              "<style scoped>\n",
              "    .dataframe tbody tr th:only-of-type {\n",
              "        vertical-align: middle;\n",
              "    }\n",
              "\n",
              "    .dataframe tbody tr th {\n",
              "        vertical-align: top;\n",
              "    }\n",
              "\n",
              "    .dataframe thead th {\n",
              "        text-align: right;\n",
              "    }\n",
              "</style>\n",
              "<table border=\"1\" class=\"dataframe\">\n",
              "  <thead>\n",
              "    <tr style=\"text-align: right;\">\n",
              "      <th></th>\n",
              "      <th>동물원에서</th>\n",
              "      <th>봤어</th>\n",
              "      <th>오늘</th>\n",
              "      <th>원숭이와</th>\n",
              "      <th>코끼리를</th>\n",
              "      <th>바나나를</th>\n",
              "      <th>원숭이에게</th>\n",
              "      <th>줬어</th>\n",
              "    </tr>\n",
              "  </thead>\n",
              "  <tbody>\n",
              "    <tr>\n",
              "      <th>0</th>\n",
              "      <td>0.0</td>\n",
              "      <td>0.5</td>\n",
              "      <td>0.5</td>\n",
              "      <td>0.5</td>\n",
              "      <td>0.5</td>\n",
              "      <td>0.000000</td>\n",
              "      <td>0.000000</td>\n",
              "      <td>0.000000</td>\n",
              "    </tr>\n",
              "    <tr>\n",
              "      <th>1</th>\n",
              "      <td>0.0</td>\n",
              "      <td>0.0</td>\n",
              "      <td>0.0</td>\n",
              "      <td>0.0</td>\n",
              "      <td>0.0</td>\n",
              "      <td>0.816497</td>\n",
              "      <td>0.408248</td>\n",
              "      <td>0.408248</td>\n",
              "    </tr>\n",
              "  </tbody>\n",
              "</table>\n",
              "</div>"
            ],
            "text/plain": [
              "   동물원에서   봤어   오늘  원숭이와  코끼리를      바나나를     원숭이에게        줬어\n",
              "0    0.0  0.5  0.5   0.5   0.5  0.000000  0.000000  0.000000\n",
              "1    0.0  0.0  0.0   0.0   0.0  0.816497  0.408248  0.408248"
            ]
          },
          "metadata": {
            "tags": []
          },
          "execution_count": 8
        }
      ]
    },
    {
      "cell_type": "code",
      "metadata": {
        "id": "asER7tIk03f3",
        "colab_type": "code",
        "colab": {
          "base_uri": "https://localhost:8080/",
          "height": 35
        },
        "outputId": "2298b49e-2be3-444e-ae88-60c567a2a3f5"
      },
      "source": [
        "tfidf[1]"
      ],
      "execution_count": null,
      "outputs": [
        {
          "output_type": "execute_result",
          "data": {
            "text/plain": [
              "[(5, 0.8164965809277261), (6, 0.4082482904638631), (7, 0.4082482904638631)]"
            ]
          },
          "metadata": {
            "tags": []
          },
          "execution_count": 9
        }
      ]
    }
  ]
}