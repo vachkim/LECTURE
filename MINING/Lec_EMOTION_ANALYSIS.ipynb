{
  "nbformat": 4,
  "nbformat_minor": 0,
  "metadata": {
    "colab": {
      "name": "Lec_EMOTION ANALYSIS.ipynb",
      "provenance": [],
      "collapsed_sections": [],
      "authorship_tag": "ABX9TyM9OxWvZ/vBEXyfLukfZ0i5",
      "include_colab_link": true
    },
    "kernelspec": {
      "name": "python3",
      "display_name": "Python 3"
    }
  },
  "cells": [
    {
      "cell_type": "markdown",
      "metadata": {
        "id": "view-in-github",
        "colab_type": "text"
      },
      "source": [
        "<a href=\"https://colab.research.google.com/github/vachkim/LECTURE/blob/master/MINING/Lec_EMOTION_ANALYSIS.ipynb\" target=\"_parent\"><img src=\"https://colab.research.google.com/assets/colab-badge.svg\" alt=\"Open In Colab\"/></a>"
      ]
    },
    {
      "cell_type": "markdown",
      "metadata": {
        "id": "1_CMVGbd4a8t",
        "colab_type": "text"
      },
      "source": [
        "### 0.머리말\n",
        "- 감정분석을 활용해 새로운 매일에서 happy weekend가 포함되어 있을 경우의\n",
        "- 긍정(1)/부정(0)메시지 여부를 알아보자"
      ]
    },
    {
      "cell_type": "markdown",
      "metadata": {
        "id": "b84W8-gk34Pw",
        "colab_type": "text"
      },
      "source": [
        "### 1.데이터 불러오기"
      ]
    },
    {
      "cell_type": "code",
      "metadata": {
        "id": "nOg4762h3OEW",
        "colab_type": "code",
        "colab": {
          "base_uri": "https://localhost:8080/",
          "height": 127
        },
        "outputId": "22a08ec5-1a91-4869-ab09-12e37556a984"
      },
      "source": [
        "from google.colab import drive\n",
        "ROOT = '/content/drive'\n",
        "drive.mount(ROOT)"
      ],
      "execution_count": null,
      "outputs": [
        {
          "output_type": "stream",
          "text": [
            "Go to this URL in a browser: https://accounts.google.com/o/oauth2/auth?client_id=947318989803-6bn6qk8qdgf4n4g3pfee6491hc0brc4i.apps.googleusercontent.com&redirect_uri=urn%3aietf%3awg%3aoauth%3a2.0%3aoob&scope=email%20https%3a%2f%2fwww.googleapis.com%2fauth%2fdocs.test%20https%3a%2f%2fwww.googleapis.com%2fauth%2fdrive%20https%3a%2f%2fwww.googleapis.com%2fauth%2fdrive.photos.readonly%20https%3a%2f%2fwww.googleapis.com%2fauth%2fpeopleapi.readonly&response_type=code\n",
            "\n",
            "Enter your authorization code:\n",
            "··········\n",
            "Mounted at /content/drive\n"
          ],
          "name": "stdout"
        }
      ]
    },
    {
      "cell_type": "code",
      "metadata": {
        "id": "hl2gk91O39fy",
        "colab_type": "code",
        "colab": {
          "base_uri": "https://localhost:8080/",
          "height": 35
        },
        "outputId": "783171bf-b4ca-4dfb-81d3-992f3f8a8117"
      },
      "source": [
        "%cd drive/'My Drive'/'Colab Notebooks'"
      ],
      "execution_count": null,
      "outputs": [
        {
          "output_type": "stream",
          "text": [
            "/content/drive/My Drive/Colab Notebooks\n"
          ],
          "name": "stdout"
        }
      ]
    },
    {
      "cell_type": "code",
      "metadata": {
        "id": "ecjNHgLo4OwP",
        "colab_type": "code",
        "colab": {
          "base_uri": "https://localhost:8080/",
          "height": 179
        },
        "outputId": "ad34e682-fe7a-4132-de42-8b229015abd7"
      },
      "source": [
        "%ls"
      ],
      "execution_count": null,
      "outputs": [
        {
          "output_type": "stream",
          "text": [
            "\u001b[0m\u001b[01;34m'모두의 데이터 분석'\u001b[0m/       강의_감정분석.ipynb       SamsungCard.ipynb\n",
            " 0826_Class.ipynb           강의_한글마이닝.ipynb     \u001b[01;34msamsung_data\u001b[0m/\n",
            " 강의_BeautifulSoup.ipynb   데이터시각화기초.ipynb    Seaborn_시각화.ipynb\n",
            " \u001b[01;34mdeeplearning_data\u001b[0m/         인구공공데이터.ipynb      강의_Selenium.ipynb\n",
            " 강의_판다스.ipynb          기온공공데이터.ipynb      \u001b[01;34mtitanic_data\u001b[0m/\n",
            " 강의_파이썬.ipynb          \u001b[01;34mmachinelearning_data\u001b[0m/     Titanic_기초분석.ipynb\n",
            " 강의_넘파이.ipynb          Matplotlib_시각화.ipynb   \u001b[01;34mweather_data\u001b[0m/\n",
            " 강의_코딩실습.ipynb        naivebayes_example.csv\n",
            " 강의_영어마이닝.ipynb      SamsungCard_분석.ipynb\n"
          ],
          "name": "stdout"
        }
      ]
    },
    {
      "cell_type": "code",
      "metadata": {
        "id": "_78nQ1E04Pnh",
        "colab_type": "code",
        "colab": {}
      },
      "source": [
        "import pandas as pd\n",
        "data = pd.read_csv('naivebayes_example.csv')"
      ],
      "execution_count": null,
      "outputs": []
    },
    {
      "cell_type": "code",
      "metadata": {
        "id": "vfA9OWfS4VTR",
        "colab_type": "code",
        "colab": {
          "base_uri": "https://localhost:8080/",
          "height": 179
        },
        "outputId": "fb552bca-ac53-43a9-a149-cd60c53ef30a"
      },
      "source": [
        "data.info()"
      ],
      "execution_count": null,
      "outputs": [
        {
          "output_type": "stream",
          "text": [
            "<class 'pandas.core.frame.DataFrame'>\n",
            "RangeIndex: 6 entries, 0 to 5\n",
            "Data columns (total 2 columns):\n",
            " #   Column  Non-Null Count  Dtype \n",
            "---  ------  --------------  ----- \n",
            " 0   mail    6 non-null      object\n",
            " 1   label   6 non-null      int64 \n",
            "dtypes: int64(1), object(1)\n",
            "memory usage: 224.0+ bytes\n"
          ],
          "name": "stdout"
        }
      ]
    },
    {
      "cell_type": "code",
      "metadata": {
        "id": "b1BCtIKy4Wvp",
        "colab_type": "code",
        "colab": {
          "base_uri": "https://localhost:8080/",
          "height": 235
        },
        "outputId": "c9973b85-3b45-47a6-9baf-b05e3193ce5b"
      },
      "source": [
        "data"
      ],
      "execution_count": null,
      "outputs": [
        {
          "output_type": "execute_result",
          "data": {
            "text/html": [
              "<div>\n",
              "<style scoped>\n",
              "    .dataframe tbody tr th:only-of-type {\n",
              "        vertical-align: middle;\n",
              "    }\n",
              "\n",
              "    .dataframe tbody tr th {\n",
              "        vertical-align: top;\n",
              "    }\n",
              "\n",
              "    .dataframe thead th {\n",
              "        text-align: right;\n",
              "    }\n",
              "</style>\n",
              "<table border=\"1\" class=\"dataframe\">\n",
              "  <thead>\n",
              "    <tr style=\"text-align: right;\">\n",
              "      <th></th>\n",
              "      <th>mail</th>\n",
              "      <th>label</th>\n",
              "    </tr>\n",
              "  </thead>\n",
              "  <tbody>\n",
              "    <tr>\n",
              "      <th>0</th>\n",
              "      <td>i love you</td>\n",
              "      <td>1</td>\n",
              "    </tr>\n",
              "    <tr>\n",
              "      <th>1</th>\n",
              "      <td>love happy weekend</td>\n",
              "      <td>1</td>\n",
              "    </tr>\n",
              "    <tr>\n",
              "      <th>2</th>\n",
              "      <td>bore work job</td>\n",
              "      <td>0</td>\n",
              "    </tr>\n",
              "    <tr>\n",
              "      <th>3</th>\n",
              "      <td>i hate you</td>\n",
              "      <td>0</td>\n",
              "    </tr>\n",
              "    <tr>\n",
              "      <th>4</th>\n",
              "      <td>bore weekend</td>\n",
              "      <td>0</td>\n",
              "    </tr>\n",
              "    <tr>\n",
              "      <th>5</th>\n",
              "      <td>happy together</td>\n",
              "      <td>1</td>\n",
              "    </tr>\n",
              "  </tbody>\n",
              "</table>\n",
              "</div>"
            ],
            "text/plain": [
              "                 mail  label\n",
              "0          i love you      1\n",
              "1  love happy weekend      1\n",
              "2       bore work job      0\n",
              "3          i hate you      0\n",
              "4        bore weekend      0\n",
              "5      happy together      1"
            ]
          },
          "metadata": {
            "tags": []
          },
          "execution_count": 7
        }
      ]
    },
    {
      "cell_type": "markdown",
      "metadata": {
        "id": "rdf6TL_86Ha5",
        "colab_type": "text"
      },
      "source": [
        "### 2.인덱스 부여"
      ]
    },
    {
      "cell_type": "code",
      "metadata": {
        "id": "iWOImGAz-gEh",
        "colab_type": "code",
        "colab": {
          "base_uri": "https://localhost:8080/",
          "height": 125
        },
        "outputId": "2817e41c-09cb-4bb5-c999-b56bfb6e2419"
      },
      "source": [
        "mail = list(data['mail'])\n",
        "split = []\n",
        "for sentence in mail:\n",
        "  split.append(sentence.split(' '))\n",
        "split"
      ],
      "execution_count": null,
      "outputs": [
        {
          "output_type": "execute_result",
          "data": {
            "text/plain": [
              "[['i', 'love', 'you'],\n",
              " ['love', 'happy', 'weekend'],\n",
              " ['bore', 'work', 'job'],\n",
              " ['i', 'hate', 'you'],\n",
              " ['bore', 'weekend'],\n",
              " ['happy', 'together']]"
            ]
          },
          "metadata": {
            "tags": []
          },
          "execution_count": 21
        }
      ]
    },
    {
      "cell_type": "code",
      "metadata": {
        "id": "ikAO2Oz9-t4d",
        "colab_type": "code",
        "colab": {
          "base_uri": "https://localhost:8080/",
          "height": 215
        },
        "outputId": "3b7d0a85-a941-4893-f8e0-408e3ad727e2"
      },
      "source": [
        "from collections import defaultdict\n",
        "idx = defaultdict(lambda: len(idx))\n",
        "for sentence in split:\n",
        "  for token in sentence:\n",
        "    idx[token]\n",
        "idx"
      ],
      "execution_count": null,
      "outputs": [
        {
          "output_type": "execute_result",
          "data": {
            "text/plain": [
              "defaultdict(<function __main__.<lambda>>,\n",
              "            {'bore': 5,\n",
              "             'happy': 3,\n",
              "             'hate': 8,\n",
              "             'i': 0,\n",
              "             'job': 7,\n",
              "             'love': 1,\n",
              "             'together': 9,\n",
              "             'weekend': 4,\n",
              "             'work': 6,\n",
              "             'you': 2})"
            ]
          },
          "metadata": {
            "tags": []
          },
          "execution_count": 22
        }
      ]
    },
    {
      "cell_type": "code",
      "metadata": {
        "id": "KEhbKVIX_Z6G",
        "colab_type": "code",
        "colab": {}
      },
      "source": [
        "pos = data[data['label']==1]\n",
        "neg = data[data['label']==0]\n",
        "pos_mail = list(pos['mail'])\n",
        "neg_mail = list(neg['mail'])"
      ],
      "execution_count": null,
      "outputs": []
    },
    {
      "cell_type": "code",
      "metadata": {
        "id": "swetY16zAL-8",
        "colab_type": "code",
        "colab": {}
      },
      "source": [
        "pos_split = []\n",
        "neg_split = []\n",
        "for sentence in pos_mail:\n",
        "  pos_split.append(sentence.split(' '))\n",
        "for sentence in neg_mail:\n",
        "  neg_split.append(sentence.split(' '))"
      ],
      "execution_count": null,
      "outputs": []
    },
    {
      "cell_type": "markdown",
      "metadata": {
        "id": "3Chavzuc-_iF",
        "colab_type": "text"
      },
      "source": [
        "### 3.빈도 수 파악"
      ]
    },
    {
      "cell_type": "code",
      "metadata": {
        "id": "_2K0V9_a-70W",
        "colab_type": "code",
        "colab": {
          "base_uri": "https://localhost:8080/",
          "height": 53
        },
        "outputId": "5f7dbdb8-efbf-4b5f-8045-04818d8c1636"
      },
      "source": [
        "import numpy as np\n",
        "pos_word = []\n",
        "neg_word = []\n",
        "\n",
        "for i, doc in enumerate(pos_split):\n",
        "  word = np.zeros(len(idx),dtype=int)\n",
        "  for token in doc:\n",
        "    word[idx[token]] += 1 #토큰의 위치가 같으면\n",
        "  pos_word.append(word.tolist())\n",
        "\n",
        "for i, doc in enumerate(neg_split):\n",
        "  word = np.zeros(len(idx),dtype=int)\n",
        "  for token in doc:\n",
        "    word[idx[token]] += 1 #토큰의 위치가 같으면\n",
        "  neg_word.append(word.tolist())\n",
        "\n",
        "print(pos_word); print(neg_word)"
      ],
      "execution_count": null,
      "outputs": [
        {
          "output_type": "stream",
          "text": [
            "[[1, 1, 1, 0, 0, 0, 0, 0, 0, 0], [0, 1, 0, 1, 1, 0, 0, 0, 0, 0], [0, 0, 0, 1, 0, 0, 0, 0, 0, 1]]\n",
            "[[0, 0, 0, 0, 0, 1, 1, 1, 0, 0], [1, 0, 1, 0, 0, 0, 0, 0, 1, 0], [0, 0, 0, 0, 1, 1, 0, 0, 0, 0]]\n"
          ],
          "name": "stdout"
        }
      ]
    },
    {
      "cell_type": "code",
      "metadata": {
        "id": "14tTQQBoCKBc",
        "colab_type": "code",
        "colab": {}
      },
      "source": [
        "pos_total=np.sum(pos_word,0)\n",
        "neg_total=np.sum(neg_word,0)"
      ],
      "execution_count": null,
      "outputs": []
    },
    {
      "cell_type": "code",
      "metadata": {
        "id": "txB16jIrC5L_",
        "colab_type": "code",
        "colab": {}
      },
      "source": [
        "sort = sorted((value,key) for key, value in idx.items())\n",
        "vocab = []\n",
        "for item in sort:\n",
        "  vocab.append(item[1])"
      ],
      "execution_count": null,
      "outputs": []
    },
    {
      "cell_type": "code",
      "metadata": {
        "id": "RP2c8QQmDUBL",
        "colab_type": "code",
        "colab": {
          "base_uri": "https://localhost:8080/",
          "height": 359
        },
        "outputId": "84ce15c5-d12b-4ad0-a223-273b384cdc0e"
      },
      "source": [
        "fre = pd.DataFrame([pos_total,neg_total],index=['pos','neg'],columns=vocab).T\n",
        "fre"
      ],
      "execution_count": null,
      "outputs": [
        {
          "output_type": "execute_result",
          "data": {
            "text/html": [
              "<div>\n",
              "<style scoped>\n",
              "    .dataframe tbody tr th:only-of-type {\n",
              "        vertical-align: middle;\n",
              "    }\n",
              "\n",
              "    .dataframe tbody tr th {\n",
              "        vertical-align: top;\n",
              "    }\n",
              "\n",
              "    .dataframe thead th {\n",
              "        text-align: right;\n",
              "    }\n",
              "</style>\n",
              "<table border=\"1\" class=\"dataframe\">\n",
              "  <thead>\n",
              "    <tr style=\"text-align: right;\">\n",
              "      <th></th>\n",
              "      <th>pos</th>\n",
              "      <th>neg</th>\n",
              "    </tr>\n",
              "  </thead>\n",
              "  <tbody>\n",
              "    <tr>\n",
              "      <th>i</th>\n",
              "      <td>1</td>\n",
              "      <td>1</td>\n",
              "    </tr>\n",
              "    <tr>\n",
              "      <th>love</th>\n",
              "      <td>2</td>\n",
              "      <td>0</td>\n",
              "    </tr>\n",
              "    <tr>\n",
              "      <th>you</th>\n",
              "      <td>1</td>\n",
              "      <td>1</td>\n",
              "    </tr>\n",
              "    <tr>\n",
              "      <th>happy</th>\n",
              "      <td>2</td>\n",
              "      <td>0</td>\n",
              "    </tr>\n",
              "    <tr>\n",
              "      <th>weekend</th>\n",
              "      <td>1</td>\n",
              "      <td>1</td>\n",
              "    </tr>\n",
              "    <tr>\n",
              "      <th>bore</th>\n",
              "      <td>0</td>\n",
              "      <td>2</td>\n",
              "    </tr>\n",
              "    <tr>\n",
              "      <th>work</th>\n",
              "      <td>0</td>\n",
              "      <td>1</td>\n",
              "    </tr>\n",
              "    <tr>\n",
              "      <th>job</th>\n",
              "      <td>0</td>\n",
              "      <td>1</td>\n",
              "    </tr>\n",
              "    <tr>\n",
              "      <th>hate</th>\n",
              "      <td>0</td>\n",
              "      <td>1</td>\n",
              "    </tr>\n",
              "    <tr>\n",
              "      <th>together</th>\n",
              "      <td>1</td>\n",
              "      <td>0</td>\n",
              "    </tr>\n",
              "  </tbody>\n",
              "</table>\n",
              "</div>"
            ],
            "text/plain": [
              "          pos  neg\n",
              "i           1    1\n",
              "love        2    0\n",
              "you         1    1\n",
              "happy       2    0\n",
              "weekend     1    1\n",
              "bore        0    2\n",
              "work        0    1\n",
              "job         0    1\n",
              "hate        0    1\n",
              "together    1    0"
            ]
          },
          "metadata": {
            "tags": []
          },
          "execution_count": 59
        }
      ]
    },
    {
      "cell_type": "markdown",
      "metadata": {
        "id": "tTtGULv3GXmR",
        "colab_type": "text"
      },
      "source": [
        "### 4.조건부확률 구하기"
      ]
    },
    {
      "cell_type": "code",
      "metadata": {
        "id": "ShXekx1_EUe4",
        "colab_type": "code",
        "colab": {}
      },
      "source": [
        "def pos_per(x):\n",
        "  per1 = (fre.loc[x,'pos']+1)/(sum(fre['pos'])+len(vocab))\n",
        "  return per1"
      ],
      "execution_count": null,
      "outputs": []
    },
    {
      "cell_type": "code",
      "metadata": {
        "id": "JqglGT7mFCWK",
        "colab_type": "code",
        "colab": {}
      },
      "source": [
        "def neg_per(x):\n",
        "  per2 = (fre.loc[x,'neg']+1)/(sum(fre['neg'])+len(vocab))\n",
        "  return per2"
      ],
      "execution_count": null,
      "outputs": []
    },
    {
      "cell_type": "markdown",
      "metadata": {
        "id": "8NbnLTxAGaR8",
        "colab_type": "text"
      },
      "source": [
        "### 5.감정분석 수행하기"
      ]
    },
    {
      "cell_type": "code",
      "metadata": {
        "id": "mKXa1oWJIVUB",
        "colab_type": "code",
        "colab": {}
      },
      "source": [
        "def guess_pos(x,y):\n",
        "  import math\n",
        "  numerator = math.exp(math.log(pos_per(x))+math.log(pos_per(y))+math.log(0.5))\n",
        "  denominator1 = math.exp(math.log(pos_per(x))+math.log(pos_per(y))+math.log(0.5))\n",
        "  denominator2 = math.exp(math.log(neg_per(x))+math.log(neg_per(y))+math.log(0.5))\n",
        "  act_pos = numerator/(denominator1+denominator2)\n",
        "  return act_pos"
      ],
      "execution_count": null,
      "outputs": []
    },
    {
      "cell_type": "code",
      "metadata": {
        "id": "fyjalSgEI_hA",
        "colab_type": "code",
        "colab": {}
      },
      "source": [
        "def guess_neg(x,y):\n",
        "  import math\n",
        "  numerator = math.exp(math.log(neg_per(x))+math.log(neg_per(y))+math.log(0.5))\n",
        "  denominator1 = math.exp(math.log(neg_per(x))+math.log(neg_per(y))+math.log(0.5))\n",
        "  denominator2 = math.exp(math.log(pos_per(x))+math.log(pos_per(y))+math.log(0.5))\n",
        "  act_pos = numerator/(denominator1+denominator2)\n",
        "  return act_pos"
      ],
      "execution_count": null,
      "outputs": []
    },
    {
      "cell_type": "code",
      "metadata": {
        "id": "uBL2-GyhJLbK",
        "colab_type": "code",
        "colab": {
          "base_uri": "https://localhost:8080/",
          "height": 35
        },
        "outputId": "84a5172b-bafb-4038-ced6-d8352e102b25"
      },
      "source": [
        "guess_pos('happy','weekend')"
      ],
      "execution_count": null,
      "outputs": [
        {
          "output_type": "execute_result",
          "data": {
            "text/plain": [
              "0.7500000000000001"
            ]
          },
          "metadata": {
            "tags": []
          },
          "execution_count": 83
        }
      ]
    },
    {
      "cell_type": "code",
      "metadata": {
        "id": "rQpilX7vJN1Q",
        "colab_type": "code",
        "colab": {
          "base_uri": "https://localhost:8080/",
          "height": 35
        },
        "outputId": "567bc8af-663d-4f40-b5ab-88c1a563c8ec"
      },
      "source": [
        "guess_neg('happy','weekend')"
      ],
      "execution_count": null,
      "outputs": [
        {
          "output_type": "execute_result",
          "data": {
            "text/plain": [
              "0.24999999999999997"
            ]
          },
          "metadata": {
            "tags": []
          },
          "execution_count": 84
        }
      ]
    },
    {
      "cell_type": "markdown",
      "metadata": {
        "id": "DeGNRoMmM8AB",
        "colab_type": "text"
      },
      "source": [
        "### 6.Sklearn을 활용한 감정분석 수행"
      ]
    },
    {
      "cell_type": "code",
      "metadata": {
        "id": "usvEZU8RM-de",
        "colab_type": "code",
        "colab": {
          "base_uri": "https://localhost:8080/",
          "height": 53
        },
        "outputId": "83920992-53f2-451a-f197-43fd78d7c069"
      },
      "source": [
        "X_train = list(data['mail'])\n",
        "Y_train = list(data['label'])\n",
        "print(X_train)\n",
        "print(Y_train)"
      ],
      "execution_count": null,
      "outputs": [
        {
          "output_type": "stream",
          "text": [
            "['i love you', 'love happy weekend', 'bore work job', 'i hate you', 'bore weekend', 'happy together']\n",
            "[1, 1, 0, 0, 0, 1]\n"
          ],
          "name": "stdout"
        }
      ]
    },
    {
      "cell_type": "code",
      "metadata": {
        "id": "MQVy7R_2NNNo",
        "colab_type": "code",
        "colab": {}
      },
      "source": [
        "from sklearn.feature_extraction.text import CountVectorizer\n",
        "from sklearn.feature_extraction.text import TfidfTransformer\n",
        "from sklearn.naive_bayes import MultinomialNB\n",
        "\n",
        "count_vect = CountVectorizer()\n",
        "X_train_counts = count_vect.fit_transform(X_train)\n",
        "clf = MultinomialNB().fit(X_train_counts, Y_train)"
      ],
      "execution_count": null,
      "outputs": []
    },
    {
      "cell_type": "code",
      "metadata": {
        "id": "_6Vs1DZKNkRE",
        "colab_type": "code",
        "colab": {
          "base_uri": "https://localhost:8080/",
          "height": 53
        },
        "outputId": "a632e83c-d0f9-4032-9671-3136e0b35451"
      },
      "source": [
        "print(clf.predict(count_vect.transform(['happy weekend'])))\n",
        "print(clf.predict_proba(count_vect.transform(['happy weekend'])))"
      ],
      "execution_count": null,
      "outputs": [
        {
          "output_type": "stream",
          "text": [
            "[1]\n",
            "[[0.25 0.75]]\n"
          ],
          "name": "stdout"
        }
      ]
    }
  ]
}