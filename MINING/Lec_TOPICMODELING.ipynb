{
  "nbformat": 4,
  "nbformat_minor": 0,
  "metadata": {
    "colab": {
      "name": "Lec_TOPICMODELING.ipynb",
      "provenance": [],
      "collapsed_sections": [],
      "authorship_tag": "ABX9TyOCa5w5cwUQcaz2DKNXoJyb",
      "include_colab_link": true
    },
    "kernelspec": {
      "name": "python3",
      "display_name": "Python 3"
    }
  },
  "cells": [
    {
      "cell_type": "markdown",
      "metadata": {
        "id": "view-in-github",
        "colab_type": "text"
      },
      "source": [
        "<a href=\"https://colab.research.google.com/github/vachkim/LECTURE/blob/master/MINING/Lec_TOPICMODELING.ipynb\" target=\"_parent\"><img src=\"https://colab.research.google.com/assets/colab-badge.svg\" alt=\"Open In Colab\"/></a>"
      ]
    },
    {
      "cell_type": "code",
      "metadata": {
        "id": "uI7EKl4lndyM",
        "colab_type": "code",
        "colab": {}
      },
      "source": [
        "docs = ['바나나 사과 포도 포도',\n",
        "        '사과 포도',\n",
        "        '포도 바나나',\n",
        "        '짜장면 짬뽕 탕수육',\n",
        "        '볶음밥 탕수육',\n",
        "        '짜장면 짬뽕',\n",
        "        '된장찌개 김치찌개 김치 비빔밥',\n",
        "        '김치 된장 비빔밥',\n",
        "        '비빔밥 김치',\n",
        "        '사과 볶음밥 김치 된장']"
      ],
      "execution_count": null,
      "outputs": []
    },
    {
      "cell_type": "code",
      "metadata": {
        "id": "m7p-BkdcoyG1",
        "colab_type": "code",
        "colab": {}
      },
      "source": [
        ""
      ],
      "execution_count": null,
      "outputs": []
    },
    {
      "cell_type": "code",
      "metadata": {
        "id": "3jbq1MuBn1Zd",
        "colab_type": "code",
        "colab": {
          "base_uri": "https://localhost:8080/",
          "height": 179
        },
        "outputId": "ade7d51c-954f-4653-f21f-420415ffdb51"
      },
      "source": [
        "from sklearn.feature_extraction.text import TfidfVectorizer\n",
        "from sklearn.decomposition import TruncatedSVD\n",
        "\n",
        "n_topic = 3\n",
        "tfidf_vect = TfidfVectorizer()\n",
        "tfidf = tfidf_vect.fit_transform(docs)\n",
        "svd = TruncatedSVD(n_components=n_topic)\n",
        "u_sigma = svd.fit_transform(tfidf)\n",
        "svd.components_"
      ],
      "execution_count": null,
      "outputs": [
        {
          "output_type": "execute_result",
          "data": {
            "text/plain": [
              "array([[ 0.39094311,  0.08663945,  0.2634605 ,  0.08663945,  0.31533599,\n",
              "         0.1677167 ,  0.33012626,  0.42118555,  0.01907605,  0.01907605,\n",
              "         0.05422822,  0.58747296],\n",
              "       [ 0.49683512,  0.13720069,  0.26962551,  0.13720069, -0.29774469,\n",
              "         0.10773075,  0.49275818, -0.18567019,  0.02131272,  0.02131272,\n",
              "         0.04450862, -0.51222803],\n",
              "       [-0.06285924, -0.02901254, -0.00762375, -0.02901254, -0.01957621,\n",
              "         0.19210545, -0.09004258,  0.00851823,  0.60658392,  0.60658392,\n",
              "         0.46061907, -0.02794911]])"
            ]
          },
          "metadata": {
            "tags": []
          },
          "execution_count": 6
        }
      ]
    },
    {
      "cell_type": "code",
      "metadata": {
        "id": "j1d83CHRoJvA",
        "colab_type": "code",
        "colab": {
          "base_uri": "https://localhost:8080/",
          "height": 71
        },
        "outputId": "3fbf7335-50ff-46ca-f178-6c6dd883fe28"
      },
      "source": [
        "vocab = tfidf_vect.get_feature_names()\n",
        "n = 3\n",
        "for idx, topic in enumerate(svd.components_):\n",
        "  print('topic %d:' %(idx), [(vocab[i],topic[i].round(5)) for i in topic.argsort()[:-n -1:-1]])"
      ],
      "execution_count": null,
      "outputs": [
        {
          "output_type": "stream",
          "text": [
            "topic 0: [('포도', 0.58747), ('사과', 0.42119), ('김치', 0.39094)]\n",
            "topic 1: [('김치', 0.49684), ('비빔밥', 0.49276), ('된장', 0.26963)]\n",
            "topic 2: [('짬뽕', 0.60658), ('짜장면', 0.60658), ('탕수육', 0.46062)]\n"
          ],
          "name": "stdout"
        }
      ]
    },
    {
      "cell_type": "code",
      "metadata": {
        "id": "I0pq0p65osP2",
        "colab_type": "code",
        "colab": {
          "base_uri": "https://localhost:8080/",
          "height": 233
        },
        "outputId": "7060e6f9-73da-4fc1-8221-eb0132c785fa"
      },
      "source": [
        "for i in range(len(vocab)):\n",
        "  print('{}:{}.'.format(vocab[i], svd.components_.T[i]))"
      ],
      "execution_count": null,
      "outputs": [
        {
          "output_type": "stream",
          "text": [
            "김치:[ 0.39094311  0.49683512 -0.06285924].\n",
            "김치찌개:[ 0.08663945  0.13720069 -0.02901254].\n",
            "된장:[ 0.2634605   0.26962551 -0.00762375].\n",
            "된장찌개:[ 0.08663945  0.13720069 -0.02901254].\n",
            "바나나:[ 0.31533599 -0.29774469 -0.01957621].\n",
            "볶음밥:[0.1677167  0.10773075 0.19210545].\n",
            "비빔밥:[ 0.33012626  0.49275818 -0.09004258].\n",
            "사과:[ 0.42118555 -0.18567019  0.00851823].\n",
            "짜장면:[0.01907605 0.02131272 0.60658392].\n",
            "짬뽕:[0.01907605 0.02131272 0.60658392].\n",
            "탕수육:[0.05422822 0.04450862 0.46061907].\n",
            "포도:[ 0.58747296 -0.51222803 -0.02794911].\n"
          ],
          "name": "stdout"
        }
      ]
    },
    {
      "cell_type": "code",
      "metadata": {
        "id": "_-ZACsr8o6u-",
        "colab_type": "code",
        "colab": {}
      },
      "source": [
        "import numpy as np\n",
        "from numpy import dot\n",
        "from numpy.linalg import norm\n",
        "\n",
        "def cosine_similarity(a,b):\n",
        "  return dot(a,b)/(norm(a)*norm(b))\n",
        "\n",
        "def calc_similarity_matrix(vectors):\n",
        "  n_word = len(vectors)\n",
        "  similarity_matrix = np.zeros((n_word, n_word))\n",
        "\n",
        "  for i in range(n_word):\n",
        "    for j in range(i,n_word):\n",
        "      similarity_matrix[j,i] = cosine_similarity(vectors[i],vectors[j]).round(4)\n",
        "  return similarity_matrix"
      ],
      "execution_count": null,
      "outputs": []
    },
    {
      "cell_type": "code",
      "metadata": {
        "id": "rnn10xOZpcwh",
        "colab_type": "code",
        "colab": {}
      },
      "source": [
        "import matplotlib.pyplot as plt\n",
        "import seaborn as sns\n",
        "\n",
        "def visualize_similarity(similarity_matrix):\n",
        "  uniform_data = similarity_matrix\n",
        "  mask = np.triu(np.ones_like(similarity_matrix, dtype=np.bool))\n",
        "  plt.rcParams['figure.figsize'] = [8,6]\n",
        "  ax = sns.heatmap(uniform_data,mask=mask,\n",
        "                   annot = True, fmt ='.2f', annot_kws={'size':8},\n",
        "                   cmap='coolwarm')"
      ],
      "execution_count": null,
      "outputs": []
    },
    {
      "cell_type": "code",
      "metadata": {
        "id": "LfTfhzFhp6Z4",
        "colab_type": "code",
        "colab": {
          "base_uri": "https://localhost:8080/",
          "height": 35
        },
        "outputId": "17c8435f-e551-4910-d6ee-b5e275162747"
      },
      "source": [
        "print(vocab)"
      ],
      "execution_count": null,
      "outputs": [
        {
          "output_type": "stream",
          "text": [
            "['김치', '김치찌개', '된장', '된장찌개', '바나나', '볶음밥', '비빔밥', '사과', '짜장면', '짬뽕', '탕수육', '포도']\n"
          ],
          "name": "stdout"
        }
      ]
    },
    {
      "cell_type": "code",
      "metadata": {
        "id": "FPhYvTV6p7bl",
        "colab_type": "code",
        "colab": {
          "base_uri": "https://localhost:8080/",
          "height": 378
        },
        "outputId": "6cc4e640-4dad-48a9-cf5f-8aa95e11d171"
      },
      "source": [
        "word_vectors=svd.components_.T\n",
        "word_similarity_matirx = calc_similarity_matrix(word_vectors)\n",
        "visualize_similarity(word_similarity_matirx)"
      ],
      "execution_count": null,
      "outputs": [
        {
          "output_type": "display_data",
          "data": {
            "image/png": "[encoded data removed]",
            "text/plain": [
              "<Figure size 576x432 with 2 Axes>"
            ]
          },
          "metadata": {
            "tags": [],
            "needs_background": "light"
          }
        }
      ]
    },
    {
      "cell_type": "code",
      "metadata": {
        "id": "3J0qaJ01qDSd",
        "colab_type": "code",
        "colab": {}
      },
      "source": [
        "%matplotlib inline\n",
        "import matplotlib.font_manager as fm\n",
        "import matplotlib\n",
        "fontprop = fm.FontProperties(fname='./data/malgun.ttf',size=12)"
      ],
      "execution_count": null,
      "outputs": []
    },
    {
      "cell_type": "code",
      "metadata": {
        "id": "O6lcHQ0irKYS",
        "colab_type": "code",
        "colab": {}
      },
      "source": [
        "from sklearn.manifold import TSNE\n",
        "import numpy as np\n",
        "vectors = word_vectors\n",
        "labels = tfidf_vect.get_feature_names()\n",
        "def visualize_vectors(vectors, labels):\n",
        "  tsne = TSNE(n_components=2, random_state = 0, n_iter=10000, perplexity=2)\n",
        "  np.set_printoptions(suppress=True)\n",
        "  T = tsne.fit_transform(vectors)\n",
        "\n",
        "  plt.figure(figsize = (10,6))\n",
        "  plt.scatter(T[:,0],T[:,1],c='orange',edgecolors='r')\n",
        "  for label, x, y in zip(labels,T[:,0],T[:,1] ):\n",
        "    plt.annotate(label, xy=(x+1,y+1),xytext=(0,0),\n",
        "                 textcoords = 'offset points',\n",
        "                 fontproperties=fontprop)"
      ],
      "execution_count": null,
      "outputs": []
    },
    {
      "cell_type": "code",
      "metadata": {
        "id": "-QrrqndBry0s",
        "colab_type": "code",
        "colab": {}
      },
      "source": [
        "visualize_vectors(vectors,labels)"
      ],
      "execution_count": null,
      "outputs": []
    },
    {
      "cell_type": "code",
      "metadata": {
        "id": "l7ATDkoor1Pa",
        "colab_type": "code",
        "colab": {}
      },
      "source": [
        ""
      ],
      "execution_count": null,
      "outputs": []
    }
  ]
}