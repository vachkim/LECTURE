{
  "nbformat": 4,
  "nbformat_minor": 0,
  "metadata": {
    "colab": {
      "name": "Lec_SELENIUM.ipynb",
      "provenance": [],
      "collapsed_sections": [],
      "authorship_tag": "ABX9TyMToh/nQe18IhqRi5Vgyzmq",
      "include_colab_link": true
    },
    "kernelspec": {
      "name": "python3",
      "display_name": "Python 3"
    }
  },
  "cells": [
    {
      "cell_type": "markdown",
      "metadata": {
        "id": "view-in-github",
        "colab_type": "text"
      },
      "source": [
        "<a href=\"https://colab.research.google.com/github/vachkim/LECTURE/blob/master/CRAWLING/Lec_SELENIUM.ipynb\" target=\"_parent\"><img src=\"https://colab.research.google.com/assets/colab-badge.svg\" alt=\"Open In Colab\"/></a>"
      ]
    },
    {
      "cell_type": "markdown",
      "metadata": {
        "id": "ergujsvP-AOz",
        "colab_type": "text"
      },
      "source": [
        "#### 0. 셀레늄\n",
        "- 셀레늄은 사이트와 상호작용하며 데이터를 가져오는 기능을 수행한다"
      ]
    },
    {
      "cell_type": "markdown",
      "metadata": {
        "id": "CWXWcotM-F7X",
        "colab_type": "text"
      },
      "source": [
        "#### 1. 셀레늄 가져오기"
      ]
    },
    {
      "cell_type": "code",
      "metadata": {
        "id": "oVARyxK-_yeP",
        "colab_type": "code",
        "colab": {
          "base_uri": "https://localhost:8080/",
          "height": 145
        },
        "outputId": "ee22620d-2f6b-4757-9973-0b5031deadc7"
      },
      "source": [
        "pip install selenium #모듈이 없을 때는 다음과 같이 설치해줘야함"
      ],
      "execution_count": null,
      "outputs": [
        {
          "output_type": "stream",
          "text": [
            "Collecting selenium\n",
            "\u001b[?25l  Downloading https://files.pythonhosted.org/packages/80/d6/4294f0b4bce4de0abf13e17190289f9d0613b0a44e5dd6a7f5ca98459853/selenium-3.141.0-py2.py3-none-any.whl (904kB)\n",
            "\u001b[K     |████████████████████████████████| 911kB 2.8MB/s \n",
            "\u001b[?25hRequirement already satisfied: urllib3 in /usr/local/lib/python3.6/dist-packages (from selenium) (1.24.3)\n",
            "Installing collected packages: selenium\n",
            "Successfully installed selenium-3.141.0\n"
          ],
          "name": "stdout"
        }
      ]
    },
    {
      "cell_type": "code",
      "metadata": {
        "id": "uOBrDzAI9orR",
        "colab_type": "code",
        "colab": {}
      },
      "source": [
        "import selenium\n",
        "from selenium import webdriver\n",
        "from selenium.webdriver.common.keys import Keys"
      ],
      "execution_count": null,
      "outputs": []
    },
    {
      "cell_type": "markdown",
      "metadata": {
        "id": "ShYLZwSTBaIN",
        "colab_type": "text"
      },
      "source": [
        "#### 2. 셀레늄을 활용하여 웹에 값 입력하기\n",
        "- 아래는 셀레늄을 활용하여 검색하는 과정이다\n",
        "- 크롬을 활용할 경우에는 chrome driver 미리 다운받아서 아래와 같이 경로를 연결해줘야 한다"
      ]
    },
    {
      "cell_type": "markdown",
      "metadata": {
        "id": "tetIHtDSES7r",
        "colab_type": "text"
      },
      "source": [
        "- 근데 google colab에서는 chromedriver 연결이 어려워서 여기서는 coding만 하고 출력결과를 안받도록 하겠다 "
      ]
    },
    {
      "cell_type": "code",
      "metadata": {
        "id": "GbyxTrI2_rTg",
        "colab_type": "code",
        "colab": {}
      },
      "source": [
        "driver = webdriver.Chrome('C:/소연소연김소연/Python/데이터/chromedriver.exe') \n",
        "#크롬 브라우저를 열고 컨트롤 할 수 있도록 webdriver를 크롬으로 설정\n",
        "driver.get('http://www.google.com/')"
      ],
      "execution_count": null,
      "outputs": []
    },
    {
      "cell_type": "markdown",
      "metadata": {
        "id": "EIiUzPIVAyZT",
        "colab_type": "text"
      },
      "source": [
        "- 값을 채워넣을 항목을 name이나 class name으로 찾아 지정(find)\n",
        "- 값을 공란으로 초기화하고(clear)\n",
        "- send_keys를 이용해서 값을 입력\n",
        "- send_keys(Keys.RETURN)은 클릭 버튼과도 같다"
      ]
    },
    {
      "cell_type": "code",
      "metadata": {
        "id": "pZhR6EdYEe3f",
        "colab_type": "code",
        "colab": {}
      },
      "source": [
        "elem = driver.find_element_by_name('q') #검색창의 이름인 q로 항목을 검색\n",
        "elem.clear"
      ],
      "execution_count": null,
      "outputs": []
    },
    {
      "cell_type": "code",
      "metadata": {
        "id": "P8eX1mbdEneV",
        "colab_type": "code",
        "colab": {}
      },
      "source": [
        "elem.send_keys('Umbrella Academy')\n",
        "elem.send_keys(Keys.RETURN) #값을 입력해서 클릭"
      ],
      "execution_count": null,
      "outputs": []
    },
    {
      "cell_type": "markdown",
      "metadata": {
        "id": "ZkaR4FgjEyF5",
        "colab_type": "text"
      },
      "source": [
        "#### 3) 셀레늄에서 스크롤 하는 방법\n",
        "- 셀레늄에서 스크롤을 해야 페이지에 나오는 값 전체를 출력할 수 있음\n",
        "- 방법은 아래 2개와 같다"
      ]
    },
    {
      "cell_type": "code",
      "metadata": {
        "id": "RmxKfM7NE0jy",
        "colab_type": "code",
        "colab": {}
      },
      "source": [
        "#1.\n",
        "from selenium.webdriver.common.action_chains import ActionChains\n",
        "import time\n",
        "for scroll in range(1,30): #scroll할 횟수\n",
        "  ActionChains(driver).send_keys(Keys.PAGE_DOWN).perform() #Keys.RETURN이 클릭이라면 Keys.PAGEDOWN은 스크롤이다\n",
        "  time.sleep(1) #로딩된뒤 스크롤을 이어가기 위해서 간격을 둔다"
      ],
      "execution_count": null,
      "outputs": []
    },
    {
      "cell_type": "code",
      "metadata": {
        "id": "_KpuOg2YFXs7",
        "colab_type": "code",
        "colab": {}
      },
      "source": [
        "#2.\n",
        "import time\n",
        "elem = driver.find_element_by_tag_name('body') #스크롤 버튼에 커서를 두고\n",
        "for page_down in range(1,30):\n",
        "  elem.send_keys(Keys.PAGE_DOWN)\n",
        "  time.sleep(1)"
      ],
      "execution_count": null,
      "outputs": []
    },
    {
      "cell_type": "markdown",
      "metadata": {
        "id": "OjEdxT-3F4SI",
        "colab_type": "text"
      },
      "source": [
        "#### 4) HTML 소스 받기\n",
        "- HTML에서 소스 코드를 받으면 BeautifulSoup를 이용해 분석을 이어갈 수 있다"
      ]
    },
    {
      "cell_type": "code",
      "metadata": {
        "id": "uqjIQFR0GA6m",
        "colab_type": "code",
        "colab": {}
      },
      "source": [
        "html_source = driver.page_source\n",
        "soup = BeautifulSoup(html_source,'html.parser')"
      ],
      "execution_count": null,
      "outputs": []
    }
  ]
}