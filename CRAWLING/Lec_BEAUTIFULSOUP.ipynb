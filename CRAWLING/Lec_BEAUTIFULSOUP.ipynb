{
  "nbformat": 4,
  "nbformat_minor": 0,
  "metadata": {
    "colab": {
      "name": "Lec_BEAUTIFULSOUP.ipynb",
      "provenance": [],
      "collapsed_sections": [],
      "authorship_tag": "ABX9TyMa+RS93qTQZQNYyrMEimVv",
      "include_colab_link": true
    },
    "kernelspec": {
      "name": "python3",
      "display_name": "Python 3"
    }
  },
  "cells": [
    {
      "cell_type": "markdown",
      "metadata": {
        "id": "view-in-github",
        "colab_type": "text"
      },
      "source": [
        "<a href=\"https://colab.research.google.com/github/vachkim/LECTURE/blob/master/CRAWLING/Lec_BEAUTIFULSOUP.ipynb\" target=\"_parent\"><img src=\"https://colab.research.google.com/assets/colab-badge.svg\" alt=\"Open In Colab\"/></a>"
      ]
    },
    {
      "cell_type": "markdown",
      "metadata": {
        "id": "kIgLkrAVmjGv",
        "colab_type": "text"
      },
      "source": [
        "### 0. BeautifulSoup\n",
        "- BeautifulSoup는 웹에서 필요한 자료를 가져와 필터링하는 기능을 수행한다"
      ]
    },
    {
      "cell_type": "markdown",
      "metadata": {
        "id": "3HSoykG-kcwd",
        "colab_type": "text"
      },
      "source": [
        "### 1. BeautifulSoup 모듈 가저오기"
      ]
    },
    {
      "cell_type": "code",
      "metadata": {
        "id": "yKSqSXlCkO0A",
        "colab_type": "code",
        "colab": {}
      },
      "source": [
        "import requests #requests는 실습에서 웹 정보를 가져오기 위해 미리 import\n",
        "from bs4 import BeautifulSoup as bs"
      ],
      "execution_count": null,
      "outputs": []
    },
    {
      "cell_type": "markdown",
      "metadata": {
        "id": "-oX_KunInS5F",
        "colab_type": "text"
      },
      "source": [
        "### 2. BeautifulSoup 구조 이해하기"
      ]
    },
    {
      "cell_type": "code",
      "metadata": {
        "id": "tx3c49IUnWeM",
        "colab_type": "code",
        "colab": {
          "base_uri": "https://localhost:8080/",
          "height": 251
        },
        "outputId": "afcd4504-230a-4039-9a39-667d8bc2952c"
      },
      "source": [
        "soup = bs('<p>Some<b>bad<i>HTML') \n",
        "#html안에 순차적으로 p/b/i 태그가 담겨 있고 그 안에 contents로 지정해준 내용이 들어가있다\n",
        "print(soup.prettify()) #prettify는 데이터를 tag를 기준으로 보여준다"
      ],
      "execution_count": null,
      "outputs": [
        {
          "output_type": "stream",
          "text": [
            "<html>\n",
            " <body>\n",
            "  <p>\n",
            "   Some\n",
            "   <b>\n",
            "    bad\n",
            "    <i>\n",
            "     HTML\n",
            "    </i>\n",
            "   </b>\n",
            "  </p>\n",
            " </body>\n",
            "</html>\n"
          ],
          "name": "stdout"
        }
      ]
    },
    {
      "cell_type": "markdown",
      "metadata": {
        "id": "U7-4OLFknzlU",
        "colab_type": "text"
      },
      "source": [
        "- 이처럼 BeautifulSoup는 정보를 tag를 기준으로 한 나무구조로 구체화하여 분석을 용이하게 한다\n",
        "- 이를 이용하면 tag를 바탕으로 자료를 가져올 수 있다"
      ]
    },
    {
      "cell_type": "code",
      "metadata": {
        "id": "IszKTazSogo2",
        "colab_type": "code",
        "colab": {
          "base_uri": "https://localhost:8080/",
          "height": 35
        },
        "outputId": "4a72c6a5-b363-4259-ebd0-ee9e64519036"
      },
      "source": [
        "soup.i # i tag에 담긴 내용을 다음과 같이 출력한다"
      ],
      "execution_count": null,
      "outputs": [
        {
          "output_type": "execute_result",
          "data": {
            "text/plain": [
              "<i>HTML</i>"
            ]
          },
          "metadata": {
            "tags": []
          },
          "execution_count": 11
        }
      ]
    },
    {
      "cell_type": "markdown",
      "metadata": {
        "id": "xd3YlVhEo6fz",
        "colab_type": "text"
      },
      "source": [
        "### 3. Dormouse's story\n",
        "- BeautifulSoup의 Document를 바탕으로 사용법을 익혀보자\n",
        "- [BeautifulSoup_Documentation](https://www.crummy.com/software/BeautifulSoup/bs4/doc/)"
      ]
    },
    {
      "cell_type": "markdown",
      "metadata": {
        "id": "zXwGdmz1pov7",
        "colab_type": "text"
      },
      "source": [
        "- 실습을 위해 html구조로 된 문서를 정의한다"
      ]
    },
    {
      "cell_type": "code",
      "metadata": {
        "id": "YczTqIRsptEf",
        "colab_type": "code",
        "colab": {}
      },
      "source": [
        "html_doc = \"\"\"\n",
        "<html><head><title>The Dormouse's story</title></head>\n",
        "<body>\n",
        "<p class=\"title\"><b>The Dormouse's story</b></p>\n",
        "\n",
        "<p class=\"story\">Once upon a time there were three little sisters; and their names were\n",
        "<a href=\"http://example.com/elsie\" class=\"sister\" id=\"link1\">Elsie</a>,\n",
        "<a href=\"http://example.com/lacie\" class=\"sister\" id=\"link2\">Lacie</a> and\n",
        "<a href=\"http://example.com/tillie\" class=\"sister\" id=\"link3\">Tillie</a>;\n",
        "and they lived at the bottom of a well.</p>\n",
        "\n",
        "<p class=\"story\">...</p>\n",
        "\"\"\""
      ],
      "execution_count": null,
      "outputs": []
    },
    {
      "cell_type": "code",
      "metadata": {
        "id": "pXqQqrXkqLJJ",
        "colab_type": "code",
        "colab": {
          "base_uri": "https://localhost:8080/",
          "height": 611
        },
        "outputId": "7af3c247-5a89-45db-9c29-f4f0cbefd2d4"
      },
      "source": [
        "soup = bs(html_doc,'html.parser') \n",
        "#html.parser = html구조로 된 text파일을 tag를 기준으로 분석가능하게 변경\n",
        "print(soup.prettify())"
      ],
      "execution_count": null,
      "outputs": [
        {
          "output_type": "stream",
          "text": [
            "<html>\n",
            " <head>\n",
            "  <title>\n",
            "   The Dormouse's story\n",
            "  </title>\n",
            " </head>\n",
            " <body>\n",
            "  <p class=\"title\">\n",
            "   <b>\n",
            "    The Dormouse's story\n",
            "   </b>\n",
            "  </p>\n",
            "  <p class=\"story\">\n",
            "   Once upon a time there were three little sisters; and their names were\n",
            "   <a class=\"sister\" href=\"http://example.com/elsie\" id=\"link1\">\n",
            "    Elsie\n",
            "   </a>\n",
            "   ,\n",
            "   <a class=\"sister\" href=\"http://example.com/lacie\" id=\"link2\">\n",
            "    Lacie\n",
            "   </a>\n",
            "   and\n",
            "   <a class=\"sister\" href=\"http://example.com/tillie\" id=\"link3\">\n",
            "    Tillie\n",
            "   </a>\n",
            "   ;\n",
            "and they lived at the bottom of a well.\n",
            "  </p>\n",
            "  <p class=\"story\">\n",
            "   ...\n",
            "  </p>\n",
            " </body>\n",
            "</html>\n"
          ],
          "name": "stdout"
        }
      ]
    },
    {
      "cell_type": "markdown",
      "metadata": {
        "id": "Is7OB5pKp6MU",
        "colab_type": "text"
      },
      "source": [
        "- 위를 보면 html 안에 head와 body가 있고\n",
        "- body안에 p class = title과 p class=story가 존재함을 확인할 수 있다"
      ]
    },
    {
      "cell_type": "markdown",
      "metadata": {
        "id": "jzGqWnruru8z",
        "colab_type": "text"
      },
      "source": [
        "- 앞에서와 마찬가지로 데이터의 구조를 잘 알면 tag를 바탕으로 값을 불러오는 것이 가능하다\n",
        "- tag.tag2로 하면 tag안에 들어있는 값들도 가져올 수 있다"
      ]
    },
    {
      "cell_type": "code",
      "metadata": {
        "id": "E5RcEGkmsUZK",
        "colab_type": "code",
        "colab": {
          "base_uri": "https://localhost:8080/",
          "height": 71
        },
        "outputId": "8e0f88cb-9d3c-42b8-ec38-10ccae2948d9"
      },
      "source": [
        "print(soup.title)\n",
        "print(soup.title.name) #tag이름을 반환\n",
        "print(soup.title.string) #tag에 포함된 값만을 반환"
      ],
      "execution_count": null,
      "outputs": [
        {
          "output_type": "stream",
          "text": [
            "<title>The Dormouse's story</title>\n",
            "title\n",
            "The Dormouse's story\n"
          ],
          "name": "stdout"
        }
      ]
    },
    {
      "cell_type": "code",
      "metadata": {
        "id": "_5WCTXB_sknB",
        "colab_type": "code",
        "colab": {
          "base_uri": "https://localhost:8080/",
          "height": 179
        },
        "outputId": "bb90cde6-f586-44da-8174-ef0772c763a0"
      },
      "source": [
        "print(soup.body)"
      ],
      "execution_count": null,
      "outputs": [
        {
          "output_type": "stream",
          "text": [
            "<body>\n",
            "<p class=\"title\"><b>The Dormouse's story</b></p>\n",
            "<p class=\"story\">Once upon a time there were three little sisters; and their names were\n",
            "<a class=\"sister\" href=\"http://example.com/elsie\" id=\"link1\">Elsie</a>,\n",
            "<a class=\"sister\" href=\"http://example.com/lacie\" id=\"link2\">Lacie</a> and\n",
            "<a class=\"sister\" href=\"http://example.com/tillie\" id=\"link3\">Tillie</a>;\n",
            "and they lived at the bottom of a well.</p>\n",
            "<p class=\"story\">...</p>\n",
            "</body>\n"
          ],
          "name": "stdout"
        }
      ]
    },
    {
      "cell_type": "code",
      "metadata": {
        "id": "su4QvWzQs5-u",
        "colab_type": "code",
        "colab": {
          "base_uri": "https://localhost:8080/",
          "height": 35
        },
        "outputId": "b0edbe23-dd56-4d13-d0ae-987a3b1a39fa"
      },
      "source": [
        "print(soup.body.p) #위와 달리 본 코드는 body안에 들어 있는 첫번째 p값(title)을 반환"
      ],
      "execution_count": null,
      "outputs": [
        {
          "output_type": "stream",
          "text": [
            "<p class=\"title\"><b>The Dormouse's story</b></p>\n"
          ],
          "name": "stdout"
        }
      ]
    },
    {
      "cell_type": "markdown",
      "metadata": {
        "id": "FDYZzXIqtCph",
        "colab_type": "text"
      },
      "source": [
        "- 해당되는 모든 값을 가져오고 싶으면 find_all을 응용하자\n",
        "- find_all을 사용해 p값을 찾으면 p class = title 뿐만 아니라 p class = story도 반환한다"
      ]
    },
    {
      "cell_type": "code",
      "metadata": {
        "id": "NdNBJu6ctBM9",
        "colab_type": "code",
        "colab": {
          "base_uri": "https://localhost:8080/",
          "height": 143
        },
        "outputId": "33303420-3761-4df6-c17c-df498f631a1f"
      },
      "source": [
        "soup.find_all('p') "
      ],
      "execution_count": null,
      "outputs": [
        {
          "output_type": "execute_result",
          "data": {
            "text/plain": [
              "[<p class=\"title\"><b>The Dormouse's story</b></p>,\n",
              " <p class=\"story\">Once upon a time there were three little sisters; and their names were\n",
              " <a class=\"sister\" href=\"http://example.com/elsie\" id=\"link1\">Elsie</a>,\n",
              " <a class=\"sister\" href=\"http://example.com/lacie\" id=\"link2\">Lacie</a> and\n",
              " <a class=\"sister\" href=\"http://example.com/tillie\" id=\"link3\">Tillie</a>;\n",
              " and they lived at the bottom of a well.</p>,\n",
              " <p class=\"story\">...</p>]"
            ]
          },
          "metadata": {
            "tags": []
          },
          "execution_count": 24
        }
      ]
    },
    {
      "cell_type": "markdown",
      "metadata": {
        "id": "HSyetFdwtkeZ",
        "colab_type": "text"
      },
      "source": [
        "- 이와 달리 find함수는 .을 활용한 것과 마찬가지로 첫째값만을 반환한다"
      ]
    },
    {
      "cell_type": "code",
      "metadata": {
        "id": "C_VO0AB4trBU",
        "colab_type": "code",
        "colab": {
          "base_uri": "https://localhost:8080/",
          "height": 35
        },
        "outputId": "dcf0b0e6-a167-4404-f1d7-71ee307abc11"
      },
      "source": [
        "soup.find('p') "
      ],
      "execution_count": null,
      "outputs": [
        {
          "output_type": "execute_result",
          "data": {
            "text/plain": [
              "<p class=\"title\"><b>The Dormouse's story</b></p>"
            ]
          },
          "metadata": {
            "tags": []
          },
          "execution_count": 25
        }
      ]
    },
    {
      "cell_type": "markdown",
      "metadata": {
        "id": "FwhqHtfGtwLM",
        "colab_type": "text"
      },
      "source": [
        "- find에 조건을 부여하는 것도 가능하다"
      ]
    },
    {
      "cell_type": "code",
      "metadata": {
        "id": "KwTHZiKetyk4",
        "colab_type": "code",
        "colab": {
          "base_uri": "https://localhost:8080/",
          "height": 35
        },
        "outputId": "f325a7d0-dc62-4716-9e8e-f2235d7c793b"
      },
      "source": [
        "soup.find(id='link2') #id가 link2인 값을 찾아 반환"
      ],
      "execution_count": null,
      "outputs": [
        {
          "output_type": "execute_result",
          "data": {
            "text/plain": [
              "<a class=\"sister\" href=\"http://example.com/lacie\" id=\"link2\">Lacie</a>"
            ]
          },
          "metadata": {
            "tags": []
          },
          "execution_count": 26
        }
      ]
    },
    {
      "cell_type": "markdown",
      "metadata": {
        "id": "WausnSamuSg3",
        "colab_type": "text"
      },
      "source": [
        "- 그동안 데이터프레임에서 했던 것과 마찬가지로 tag도 이름을 변경하거나 삭제하는 것이 가능하다\n",
        "- tag를 이용해 값을 수정하는 것도 가능하다"
      ]
    },
    {
      "cell_type": "code",
      "metadata": {
        "id": "0LYZYfd3urN2",
        "colab_type": "code",
        "colab": {
          "base_uri": "https://localhost:8080/",
          "height": 143
        },
        "outputId": "8b55288d-a160-4175-9f5a-f408ff5bc5d3"
      },
      "source": [
        "soup = bs('<b class=\"boldest\">Extremely bold</b>')\n",
        "print(soup.prettify())"
      ],
      "execution_count": null,
      "outputs": [
        {
          "output_type": "stream",
          "text": [
            "<html>\n",
            " <body>\n",
            "  <b class=\"boldest\">\n",
            "   Extremely bold\n",
            "  </b>\n",
            " </body>\n",
            "</html>\n"
          ],
          "name": "stdout"
        }
      ]
    },
    {
      "cell_type": "code",
      "metadata": {
        "id": "MceNxEwCuzrN",
        "colab_type": "code",
        "colab": {
          "base_uri": "https://localhost:8080/",
          "height": 143
        },
        "outputId": "ec22702a-c606-40fa-cbff-7b3df8d195eb"
      },
      "source": [
        "soup.b.name = 'change_tag' #이렇게 특정tag를 지정해주고 name을 이용하면 이름이 변경\n",
        "print(soup.prettify())"
      ],
      "execution_count": null,
      "outputs": [
        {
          "output_type": "stream",
          "text": [
            "<html>\n",
            " <body>\n",
            "  <change_tag class=\"boldest\">\n",
            "   Extremely bold\n",
            "  </change_tag>\n",
            " </body>\n",
            "</html>\n"
          ],
          "name": "stdout"
        }
      ]
    },
    {
      "cell_type": "code",
      "metadata": {
        "id": "8xQuV0vOu-Fe",
        "colab_type": "code",
        "colab": {
          "base_uri": "https://localhost:8080/",
          "height": 35
        },
        "outputId": "269e57dd-a81d-4551-c674-ab84ce0806b6"
      },
      "source": [
        "soup.change_tag['class'] #soup안의 change_tag에 대한 클래스명을 반환"
      ],
      "execution_count": null,
      "outputs": [
        {
          "output_type": "execute_result",
          "data": {
            "text/plain": [
              "['boldest']"
            ]
          },
          "metadata": {
            "tags": []
          },
          "execution_count": 40
        }
      ]
    },
    {
      "cell_type": "code",
      "metadata": {
        "id": "3AMz8O9owopN",
        "colab_type": "code",
        "colab": {
          "base_uri": "https://localhost:8080/",
          "height": 143
        },
        "outputId": "f25c0bf2-3d91-45be-8025-c7ea9822fb54"
      },
      "source": [
        "soup.change_tag['class'] = 'Italic'\n",
        "print(soup.prettify())"
      ],
      "execution_count": null,
      "outputs": [
        {
          "output_type": "stream",
          "text": [
            "<html>\n",
            " <body>\n",
            "  <change_tag class=\"Italic\">\n",
            "   Extremely bold\n",
            "  </change_tag>\n",
            " </body>\n",
            "</html>\n"
          ],
          "name": "stdout"
        }
      ]
    },
    {
      "cell_type": "code",
      "metadata": {
        "id": "7f2TC3tnvoc4",
        "colab_type": "code",
        "colab": {
          "base_uri": "https://localhost:8080/",
          "height": 35
        },
        "outputId": "b180d76b-71b7-4bba-aa11-284edcf4ee54"
      },
      "source": [
        "print(soup.change_tag.string)"
      ],
      "execution_count": null,
      "outputs": [
        {
          "output_type": "stream",
          "text": [
            "Extremely bold\n"
          ],
          "name": "stdout"
        }
      ]
    },
    {
      "cell_type": "markdown",
      "metadata": {
        "id": "yMqTb_TIkvZW",
        "colab_type": "text"
      },
      "source": [
        "### 4. 네이버 뉴스 데이터를 request를 통해 가져오기"
      ]
    },
    {
      "cell_type": "code",
      "metadata": {
        "id": "p0uKa_Xkkt-9",
        "colab_type": "code",
        "colab": {}
      },
      "source": [
        "url = 'https://news.naver.com/main/list.nhn?mode=LSD&mid=sec&sid1=001'\n",
        "# 네이버 뉴스 속보의 페이지url이다"
      ],
      "execution_count": null,
      "outputs": []
    },
    {
      "cell_type": "code",
      "metadata": {
        "id": "n3oDUcD1k7h7",
        "colab_type": "code",
        "colab": {}
      },
      "source": [
        "html = requests.get(url).text #text를 통해서 페이지를 구성하는 소스코드를 볼 수 있다고 한다"
      ],
      "execution_count": null,
      "outputs": []
    },
    {
      "cell_type": "code",
      "metadata": {
        "id": "V4fbGSoplCq1",
        "colab_type": "code",
        "colab": {}
      },
      "source": [
        "soup = bs(html,'html.parser')\n",
        "print(soup.prettify())\n",
        "# 길어서 본문부분만 정리해보면 <body>안에 <div id='lnb.mainnews'>, <ul>, <li>, <a class>안에 title과 href가 들어있음"
      ],
      "execution_count": null,
      "outputs": []
    },
    {
      "cell_type": "code",
      "metadata": {
        "id": "awgYw06Ez8vT",
        "colab_type": "code",
        "colab": {}
      },
      "source": [
        "dl = soup.find_all('ul',{'class':'type06_headline'},'dl')\n",
        "dl"
      ],
      "execution_count": null,
      "outputs": []
    },
    {
      "cell_type": "markdown",
      "metadata": {
        "id": "GDqIKi4V4x8E",
        "colab_type": "text"
      },
      "source": [
        "- 본문 데이터가 담겨있는 코드를 단위별로 추출하면 아래와 같다\n",
        "- li가 한 단위이며 안에 사진과 제목이 담긴 dt와 본문의 일부와 출저가 담긴 dd가 있다\n",
        "- 사진이 없는 경우에는 dt class = 'photo'가 없음을 확인하자"
      ]
    },
    {
      "cell_type": "markdown",
      "metadata": {
        "id": "Ls9sRoJ_4d23",
        "colab_type": "text"
      },
      "source": [
        " ``` python\n",
        " <li>\n",
        " <dl>\n",
        " <dt class=\"photo\">\n",
        " <a class=\"nclicks(fls.list)\" href=\"https://news.naver.com/main/read.nhn?mode=LSD&amp;mid=sec&amp;sid1=001&amp;oid=123&amp;aid=0002229372\">\n",
        " <img alt='이낙연, 복지부에 격노...\"청년들, 기회 공정성 중시하는데\"' height=\"72\" onerror=\"javascript:this.src='https://ssl.pstatic.net/static.news/image/news/2009/noimage_106x72.png';\" src=\"https://imgnews.pstatic.net/image/origin/123/2020/08/26/2229372.jpg?type=nf106_72\" width=\"106\">\n",
        " </img></a>\n",
        " </dt>\n",
        " <dt>\n",
        " <a class=\"nclicks(fls.list)\" href=\"https://news.naver.com/main/read.nhn?mode=LSD&amp;mid=sec&amp;sid1=001&amp;oid=123&amp;aid=0002229372\">\n",
        " \t\t\t\t\t\t\t\t 이낙연, 복지부에 격노...\"청년들, 기회 공정성 중시하는데\"\n",
        " \t\t\t\t\t\t\t\t</a>\n",
        " </dt>\n",
        " <dd>\n",
        " <span class=\"lede\">더불어민주당 대표경선에 나선 후보 중 한 명인 이낙연 의원은 26일 보건복지부의 '공공보건의료대학(공공의대) 입학생 추천위원회  …</span>\n",
        " <span class=\"writing\">조세일보</span>\n",
        " <span class=\"date is_new\">1분전</span>\n",
        " </dd>\n",
        " </dl>\n",
        " </li>\n",
        " <li>\n",
        " ```"
      ]
    },
    {
      "cell_type": "markdown",
      "metadata": {
        "id": "qSiDhiDB4kbV",
        "colab_type": "text"
      },
      "source": [
        "``` python\n",
        "<li>\n",
        " <dl>\n",
        " <dt>\n",
        " <a class=\"nclicks(fls.list)\" href=\"https://news.naver.com/main/read.nhn?mode=LSD&amp;mid=sec&amp;sid1=001&amp;oid=031&amp;aid=0000554349\">\n",
        " \t\t\t\t\t\t\t\t 코스피, 등락 거듭하다 강보합 마감…4일 연속 오름세\n",
        " \t\t\t\t\t\t\t\t</a>\n",
        " </dt>\n",
        " <dd>\n",
        " <span class=\"lede\">[아이뉴스24 류은혁 기자] 코스피가 코로나19 재확산에 따른 수도권의 사회적 거리두기가 3단계로 격상될 수도 있다는 우려로 등 …</span>\n",
        " <span class=\"writing\">아이뉴스24</span>\n",
        " <span class=\"date is_new\">1분전</span>\n",
        " </dd>\n",
        " </dl>\n",
        " </li>\n",
        " ```"
      ]
    },
    {
      "cell_type": "markdown",
      "metadata": {
        "id": "sE6AtbGJ3bvT",
        "colab_type": "text"
      },
      "source": [
        "- 위는 페이지에서 뉴스 목록에 해당하는 값만을 추출한 것\n",
        "- 보면 사진이 들어간 뉴스와 그렇지 않은 뉴스의 코딩이 다른 것을 볼 수 있다\n",
        "- 여기서 사진 url만을 추출해보자"
      ]
    },
    {
      "cell_type": "code",
      "metadata": {
        "id": "31Ih8oD71pPk",
        "colab_type": "code",
        "colab": {
          "base_uri": "https://localhost:8080/",
          "height": 1000
        },
        "outputId": "b444c8f3-a851-4fdb-fba7-9a4d24c9fcbd"
      },
      "source": [
        "for item in dl:\n",
        "  print(item)\n",
        "  try:\n",
        "    img = item.find('dt',{'class':'photo'}).find('img')\n",
        "    print('img = ', img['alt'])\n",
        "  except:\n",
        "    print('no image')"
      ],
      "execution_count": null,
      "outputs": [
        {
          "output_type": "stream",
          "text": [
            "<ul class=\"type06_headline\">\n",
            "<li>\n",
            "<dl>\n",
            "<dt class=\"photo\">\n",
            "<a class=\"nclicks(fls.list)\" href=\"https://news.naver.com/main/read.nhn?mode=LSD&amp;mid=sec&amp;sid1=001&amp;oid=123&amp;aid=0002229372\">\n",
            "<img alt='이낙연, 복지부에 격노...\"청년들, 기회 공정성 중시하는데\"' height=\"72\" onerror=\"javascript:this.src='https://ssl.pstatic.net/static.news/image/news/2009/noimage_106x72.png';\" src=\"https://imgnews.pstatic.net/image/origin/123/2020/08/26/2229372.jpg?type=nf106_72\" width=\"106\">\n",
            "</img></a>\n",
            "</dt>\n",
            "<dt>\n",
            "<a class=\"nclicks(fls.list)\" href=\"https://news.naver.com/main/read.nhn?mode=LSD&amp;mid=sec&amp;sid1=001&amp;oid=123&amp;aid=0002229372\">\r\n",
            "\t\t\t\t\t\t\t\t 이낙연, 복지부에 격노...\"청년들, 기회 공정성 중시하는데\"\r\n",
            "\t\t\t\t\t\t\t\t</a>\n",
            "</dt>\n",
            "<dd>\n",
            "<span class=\"lede\">더불어민주당 대표경선에 나선 후보 중 한 명인 이낙연 의원은 26일 보건복지부의 '공공보건의료대학(공공의대) 입학생 추천위원회  …</span>\n",
            "<span class=\"writing\">조세일보</span>\n",
            "<span class=\"date is_new\">1분전</span>\n",
            "</dd>\n",
            "</dl>\n",
            "</li>\n",
            "<li>\n",
            "<dl>\n",
            "<dt class=\"photo\">\n",
            "<a class=\"nclicks(fls.list)\" href=\"https://news.naver.com/main/read.nhn?mode=LSD&amp;mid=sec&amp;sid1=001&amp;oid=079&amp;aid=0003399600\">\n",
            "<img alt=\"포항제철소 '언택트 봉사활동' 나서…슬기로운 거리두기 실천\" height=\"72\" onerror=\"javascript:this.src='https://ssl.pstatic.net/static.news/image/news/2009/noimage_106x72.png';\" src=\"https://imgnews.pstatic.net/image/origin/079/2020/08/26/3399600.jpg?type=nf106_72\" width=\"106\">\n",
            "</img></a>\n",
            "</dt>\n",
            "<dt>\n",
            "<a class=\"nclicks(fls.list)\" href=\"https://news.naver.com/main/read.nhn?mode=LSD&amp;mid=sec&amp;sid1=001&amp;oid=079&amp;aid=0003399600\">\r\n",
            "\t\t\t\t\t\t\t\t 포항제철소 '언택트 봉사활동' 나서…슬기로운 거리두기 실천\r\n",
            "\t\t\t\t\t\t\t\t</a>\n",
            "</dt>\n",
            "<dd>\n",
            "<span class=\"lede\">[포항CBS 김대기 기자] 포항제철소(남수희 소장) 임직원들이 사회적 거리두기 속 언택트 봉사활동에 나섰다. 코로나19 확산으로 …</span>\n",
            "<span class=\"writing\">노컷뉴스</span>\n",
            "<span class=\"date is_new\">1분전</span>\n",
            "</dd>\n",
            "</dl>\n",
            "</li>\n",
            "<li>\n",
            "<dl>\n",
            "<dt class=\"photo\">\n",
            "<a class=\"nclicks(fls.list)\" href=\"https://news.naver.com/main/read.nhn?mode=LSD&amp;mid=sec&amp;sid1=001&amp;oid=076&amp;aid=0003620854\">\n",
            "<img alt=\"갤럭시노트20 &quot;플라스틱소재의 귀환&quot;… 갤노트20서 부활한 '플라스틱' 플래그십폰\" height=\"72\" onerror=\"javascript:this.src='https://ssl.pstatic.net/static.news/image/news/2009/noimage_106x72.png';\" src=\"https://imgnews.pstatic.net/image/origin/076/2020/08/26/3620854.jpg?type=nf106_72\" width=\"106\">\n",
            "</img></a>\n",
            "</dt>\n",
            "<dt>\n",
            "<a class=\"nclicks(fls.list)\" href=\"https://news.naver.com/main/read.nhn?mode=LSD&amp;mid=sec&amp;sid1=001&amp;oid=076&amp;aid=0003620854\">\r\n",
            "\t\t\t\t\t\t\t\t 갤럭시노트20 \"플라스틱소재의 귀환\"… 갤노트20서 부활한 '플라스틱' 플래그십폰\r\n",
            "\t\t\t\t\t\t\t\t</a>\n",
            "</dt>\n",
            "<dd>\n",
            "<span class=\"lede\">- 삼성, 갤S5 이후 6년 만에 플래그십에 플라스틱 소재활용 - 일반모델 울트라모델 사양차이 큰 편, 가격 차이 겨우 '25만 …</span>\n",
            "<span class=\"writing\">스포츠조선</span>\n",
            "<span class=\"date is_new\">1분전</span>\n",
            "</dd>\n",
            "</dl>\n",
            "</li>\n",
            "<li>\n",
            "<dl>\n",
            "<dt class=\"photo\">\n",
            "<a class=\"nclicks(fls.list)\" href=\"https://news.naver.com/main/read.nhn?mode=LSD&amp;mid=sec&amp;sid1=001&amp;oid=079&amp;aid=0003399599\">\n",
            "<img alt=\"지금 우리가 코로나에 대해 알아야 할 '4가지'\" height=\"72\" onerror=\"javascript:this.src='https://ssl.pstatic.net/static.news/image/news/2009/noimage_106x72.png';\" src=\"https://imgnews.pstatic.net/image/origin/079/2020/08/26/3399599.jpg?type=nf106_72\" width=\"106\"/>\n",
            "</a>\n",
            "</dt>\n",
            "<dt>\n",
            "<a class=\"nclicks(fls.list)\" href=\"https://news.naver.com/main/read.nhn?mode=LSD&amp;mid=sec&amp;sid1=001&amp;oid=079&amp;aid=0003399599\">\r\n",
            "\t\t\t\t\t\t\t\t 지금 우리가 코로나에 대해 알아야 할 '4가지'\r\n",
            "\t\t\t\t\t\t\t\t</a>\n",
            "</dt>\n",
            "<dd>\n",
            "<span class=\"lede\">[CBS노컷뉴스 고영호 기자] 현재 코로나19특징은 '재감염'과 '백신 자금조달' '미국 대학사례 급증' '인도 실리콘밸리의 교 …</span>\n",
            "<span class=\"writing\">노컷뉴스</span>\n",
            "<span class=\"date is_new\">1분전</span>\n",
            "</dd>\n",
            "</dl>\n",
            "</li>\n",
            "<li>\n",
            "<dl>\n",
            "<dt class=\"photo\">\n",
            "<a class=\"nclicks(fls.list)\" href=\"https://news.naver.com/main/read.nhn?mode=LSD&amp;mid=sec&amp;sid1=001&amp;oid=014&amp;aid=0004483367\">\n",
            "<img alt=\"제주 월대천 범람하나..태풍 최근접·만조 겹쳐\" height=\"72\" onerror=\"javascript:this.src='https://ssl.pstatic.net/static.news/image/news/2009/noimage_106x72.png';\" src=\"https://imgnews.pstatic.net/image/origin/014/2020/08/26/4483367.jpg?type=nf106_72\" width=\"106\"/>\n",
            "</a>\n",
            "</dt>\n",
            "<dt>\n",
            "<a class=\"nclicks(fls.list)\" href=\"https://news.naver.com/main/read.nhn?mode=LSD&amp;mid=sec&amp;sid1=001&amp;oid=014&amp;aid=0004483367\">\r\n",
            "\t\t\t\t\t\t\t\t 제주 월대천 범람하나..태풍 최근접·만조 겹쳐\r\n",
            "\t\t\t\t\t\t\t\t</a>\n",
            "</dt>\n",
            "<dd>\n",
            "<span class=\"lede\">[파이낸셜뉴스] 제8호 태풍 '바비'가 제주에 가장 가까운 시간과 만조시기가 겹치면서 제주 월대천이 범람 위기를 맞았다. 26일 …</span>\n",
            "<span class=\"writing\">파이낸셜뉴스</span>\n",
            "<span class=\"date is_new\">1분전</span>\n",
            "</dd>\n",
            "</dl>\n",
            "</li>\n",
            "<li>\n",
            "<dl>\n",
            "<dt>\n",
            "<a class=\"nclicks(fls.list)\" href=\"https://news.naver.com/main/read.nhn?mode=LSD&amp;mid=sec&amp;sid1=001&amp;oid=031&amp;aid=0000554349\">\r\n",
            "\t\t\t\t\t\t\t\t 코스피, 등락 거듭하다 강보합 마감…4일 연속 오름세\r\n",
            "\t\t\t\t\t\t\t\t</a>\n",
            "</dt>\n",
            "<dd>\n",
            "<span class=\"lede\">[아이뉴스24 류은혁 기자] 코스피가 코로나19 재확산에 따른 수도권의 사회적 거리두기가 3단계로 격상될 수도 있다는 우려로 등 …</span>\n",
            "<span class=\"writing\">아이뉴스24</span>\n",
            "<span class=\"date is_new\">1분전</span>\n",
            "</dd>\n",
            "</dl>\n",
            "</li>\n",
            "<li>\n",
            "<dl>\n",
            "<dt class=\"photo\">\n",
            "<a class=\"nclicks(fls.list)\" href=\"https://news.naver.com/main/read.nhn?mode=LSD&amp;mid=sec&amp;sid1=001&amp;oid=014&amp;aid=0004483366\">\n",
            "<img alt=\"광주광역시, 코로나 타격 여행업계 긴급 지원\" height=\"72\" onerror=\"javascript:this.src='https://ssl.pstatic.net/static.news/image/news/2009/noimage_106x72.png';\" src=\"https://imgnews.pstatic.net/image/origin/014/2020/08/26/4483366.jpg?type=nf106_72\" width=\"106\"/>\n",
            "</a>\n",
            "</dt>\n",
            "<dt>\n",
            "<a class=\"nclicks(fls.list)\" href=\"https://news.naver.com/main/read.nhn?mode=LSD&amp;mid=sec&amp;sid1=001&amp;oid=014&amp;aid=0004483366\">\r\n",
            "\t\t\t\t\t\t\t\t 광주광역시, 코로나 타격 여행업계 긴급 지원\r\n",
            "\t\t\t\t\t\t\t\t</a>\n",
            "</dt>\n",
            "<dd>\n",
            "<span class=\"lede\">【파이낸셜뉴스 광주=황태종 기자】광주광역시가 코로나19 장기화로 어려움을 겪고 있는 지역 여행업체 홍보·마케팅을 지원한다. 광주 …</span>\n",
            "<span class=\"writing\">파이낸셜뉴스</span>\n",
            "<span class=\"date is_new\">1분전</span>\n",
            "</dd>\n",
            "</dl>\n",
            "</li>\n",
            "<li>\n",
            "<dl>\n",
            "<dt class=\"photo\">\n",
            "<a class=\"nclicks(fls.list)\" href=\"https://news.naver.com/main/read.nhn?mode=LSD&amp;mid=sec&amp;sid1=001&amp;oid=005&amp;aid=0001355805\">\n",
            "<img alt=\"파주 스벅 감염원인? 들어올 때 썼던 마스크 다 벗었다\" height=\"72\" onerror=\"javascript:this.src='https://ssl.pstatic.net/static.news/image/news/2009/noimage_106x72.png';\" src=\"https://imgnews.pstatic.net/image/origin/005/2020/08/26/1355805.jpg?type=nf106_72\" width=\"106\"/>\n",
            "</a>\n",
            "</dt>\n",
            "<dt>\n",
            "<a class=\"nclicks(fls.list)\" href=\"https://news.naver.com/main/read.nhn?mode=LSD&amp;mid=sec&amp;sid1=001&amp;oid=005&amp;aid=0001355805\">\r\n",
            "\t\t\t\t\t\t\t\t 파주 스벅 감염원인? 들어올 때 썼던 마스크 다 벗었다\r\n",
            "\t\t\t\t\t\t\t\t</a>\n",
            "</dt>\n",
            "<dd>\n",
            "<span class=\"lede\">신종 코로나바이러스감염증(코로나19) 환자 66명이 나온 경기도 파주 스타벅스 집단감염 사례의 주요 원인이 밝혀졌다. 밀폐된 매 …</span>\n",
            "<span class=\"writing\">국민일보</span>\n",
            "<span class=\"date is_new\">1분전</span>\n",
            "</dd>\n",
            "</dl>\n",
            "</li>\n",
            "<li>\n",
            "<dl>\n",
            "<dt class=\"photo\">\n",
            "<a class=\"nclicks(fls.list)\" href=\"https://news.naver.com/main/read.nhn?mode=LSD&amp;mid=sec&amp;sid1=001&amp;oid=015&amp;aid=0004404936\">\n",
            "<img alt=\"바른손카드, 재택근무로 '사회적 거리두기' 동참\" height=\"72\" onerror=\"javascript:this.src='https://ssl.pstatic.net/static.news/image/news/2009/noimage_106x72.png';\" src=\"https://imgnews.pstatic.net/image/origin/015/2020/08/26/4404936.jpg?type=nf106_72\" width=\"106\"/>\n",
            "</a>\n",
            "</dt>\n",
            "<dt>\n",
            "<a class=\"nclicks(fls.list)\" href=\"https://news.naver.com/main/read.nhn?mode=LSD&amp;mid=sec&amp;sid1=001&amp;oid=015&amp;aid=0004404936\">\r\n",
            "\t\t\t\t\t\t\t\t 바른손카드, 재택근무로 '사회적 거리두기' 동참\r\n",
            "\t\t\t\t\t\t\t\t</a>\n",
            "</dt>\n",
            "<dd>\n",
            "<span class=\"lede\">코로나19의 확진자가 다시 300명대로 진입한 가운데, 바른손카드가 ‘필수인력 외 전원 재택근무’를 시행한다고 26일 밝혔다.  …</span>\n",
            "<span class=\"writing\">한국경제</span>\n",
            "<span class=\"date is_new\">1분전</span>\n",
            "</dd>\n",
            "</dl>\n",
            "</li>\n",
            "<li>\n",
            "<dl>\n",
            "<dt class=\"photo\">\n",
            "<a class=\"nclicks(fls.list)\" href=\"https://news.naver.com/main/read.nhn?mode=LSD&amp;mid=sec&amp;sid1=001&amp;oid=011&amp;aid=0003788524\">\n",
            "<img alt=\"허태정 대전시장, 태풍 대비 긴급 현장점검 실시\" height=\"72\" onerror=\"javascript:this.src='https://ssl.pstatic.net/static.news/image/news/2009/noimage_106x72.png';\" src=\"https://imgnews.pstatic.net/image/origin/011/2020/08/26/3788524.jpg?type=nf106_72\" width=\"106\"/>\n",
            "</a>\n",
            "</dt>\n",
            "<dt>\n",
            "<a class=\"nclicks(fls.list)\" href=\"https://news.naver.com/main/read.nhn?mode=LSD&amp;mid=sec&amp;sid1=001&amp;oid=011&amp;aid=0003788524\">\r\n",
            "\t\t\t\t\t\t\t\t 허태정 대전시장, 태풍 대비 긴급 현장점검 실시\r\n",
            "\t\t\t\t\t\t\t\t</a>\n",
            "</dt>\n",
            "<dd>\n",
            "<span class=\"lede\">[서울경제] 허태정 대전시장은 26일 사상 최고의 강풍을 동반한 제8호 태풍 ‘바비’에 대비해 오전에 긴급비상대책 영상회의를 가 …</span>\n",
            "<span class=\"writing\">서울경제</span>\n",
            "<span class=\"date is_new\">1분전</span>\n",
            "</dd>\n",
            "</dl>\n",
            "</li>\n",
            "</ul>\n",
            "img =  이낙연, 복지부에 격노...\"청년들, 기회 공정성 중시하는데\"\n"
          ],
          "name": "stdout"
        }
      ]
    },
    {
      "cell_type": "code",
      "metadata": {
        "id": "YZhwNif-6rsO",
        "colab_type": "code",
        "colab": {}
      },
      "source": [
        ""
      ],
      "execution_count": null,
      "outputs": []
    }
  ]
}