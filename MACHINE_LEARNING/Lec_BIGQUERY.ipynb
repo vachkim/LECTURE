{
  "nbformat": 4,
  "nbformat_minor": 0,
  "metadata": {
    "colab": {
      "name": "Lec_BIGQUERY.ipynb",
      "provenance": [],
      "collapsed_sections": [],
      "authorship_tag": "ABX9TyPZPOguhsKarcqNjUbC3MZV",
      "include_colab_link": true
    },
    "kernelspec": {
      "name": "python3",
      "display_name": "Python 3"
    }
  },
  "cells": [
    {
      "cell_type": "markdown",
      "metadata": {
        "id": "view-in-github",
        "colab_type": "text"
      },
      "source": [
        "<a href=\"https://colab.research.google.com/github/vachkim/LECTURE/blob/master/MACHINE_LEARNING/Lec_BIGQUERY.ipynb\" target=\"_parent\"><img src=\"https://colab.research.google.com/assets/colab-badge.svg\" alt=\"Open In Colab\"/></a>"
      ]
    },
    {
      "cell_type": "code",
      "metadata": {
        "id": "oU93zWB_QaHu",
        "colab_type": "code",
        "colab": {
          "base_uri": "https://localhost:8080/",
          "height": 127
        },
        "outputId": "3f28f97a-5585-4469-a09c-cf74467a8a36"
      },
      "source": [
        "from google.colab import drive\n",
        "ROOT = '/content/drive'\n",
        "drive.mount(ROOT)"
      ],
      "execution_count": null,
      "outputs": [
        {
          "output_type": "stream",
          "text": [
            "Go to this URL in a browser: https://accounts.google.com/o/oauth2/auth?client_id=947318989803-6bn6qk8qdgf4n4g3pfee6491hc0brc4i.apps.googleusercontent.com&redirect_uri=urn%3aietf%3awg%3aoauth%3a2.0%3aoob&scope=email%20https%3a%2f%2fwww.googleapis.com%2fauth%2fdocs.test%20https%3a%2f%2fwww.googleapis.com%2fauth%2fdrive%20https%3a%2f%2fwww.googleapis.com%2fauth%2fdrive.photos.readonly%20https%3a%2f%2fwww.googleapis.com%2fauth%2fpeopleapi.readonly&response_type=code\n",
            "\n",
            "Enter your authorization code:\n",
            "··········\n",
            "Mounted at /content/drive\n"
          ],
          "name": "stdout"
        }
      ]
    },
    {
      "cell_type": "code",
      "metadata": {
        "id": "No5y3pRVQ0-c",
        "colab_type": "code",
        "colab": {
          "base_uri": "https://localhost:8080/",
          "height": 35
        },
        "outputId": "a6b2d126-4e6b-4ecd-801a-04b80f42e376"
      },
      "source": [
        "%cd drive/'My Drive'/'Colab Notebooks'/'ml_project'"
      ],
      "execution_count": null,
      "outputs": [
        {
          "output_type": "stream",
          "text": [
            "/content/drive/My Drive/Colab Notebooks/ml_project\n"
          ],
          "name": "stdout"
        }
      ]
    },
    {
      "cell_type": "code",
      "metadata": {
        "id": "Yvk43j-LRM2g",
        "colab_type": "code",
        "colab": {
          "base_uri": "https://localhost:8080/",
          "height": 35
        },
        "outputId": "8e4692e5-9080-4ad4-cd86-e49c7c9eab4e"
      },
      "source": [
        "%ls"
      ],
      "execution_count": null,
      "outputs": [
        {
          "output_type": "stream",
          "text": [
            "gender_submission.csv  test.csv  train.csv\n"
          ],
          "name": "stdout"
        }
      ]
    },
    {
      "cell_type": "code",
      "metadata": {
        "id": "Rb79k-0fQl5T",
        "colab_type": "code",
        "colab": {}
      },
      "source": [
        "import pandas as pd\n",
        "from pandas.io import gbq #gbq = google big query겠지"
      ],
      "execution_count": null,
      "outputs": []
    },
    {
      "cell_type": "code",
      "metadata": {
        "id": "imQlB3l0RQSh",
        "colab_type": "code",
        "colab": {
          "base_uri": "https://localhost:8080/",
          "height": 91
        },
        "outputId": "ef8c3508-e300-435e-8e02-9e1c458a791b"
      },
      "source": [
        "gender_submission = pd.read_csv('gender_submission.csv')\n",
        "gender_submission.to_gbq(destination_table = 'titanic_classification.gender_submission',\n",
        "                          project_id = 'leafy-loader-286903',\n",
        "                          if_exists='replace' )"
      ],
      "execution_count": null,
      "outputs": [
        {
          "output_type": "stream",
          "text": [
            "Please visit this URL to authorize this application: https://accounts.google.com/o/oauth2/auth?response_type=code&client_id=725825577420-unm2gnkiprugilg743tkbig250f4sfsj.apps.googleusercontent.com&redirect_uri=urn%3Aietf%3Awg%3Aoauth%3A2.0%3Aoob&scope=https%3A%2F%2Fwww.googleapis.com%2Fauth%2Fbigquery&state=8x28HpgM86TQXgJBo9OEBbiAHs0knj&prompt=consent&access_type=offline\n",
            "Enter the authorization code: 4/3AERXpLkGZ-ISWNTCGr5kO76iXvBu-C8UXZcsOxrj5s9i-Q2Zenrt-c\n"
          ],
          "name": "stdout"
        },
        {
          "output_type": "stream",
          "text": [
            "1it [00:03,  3.78s/it]\n"
          ],
          "name": "stderr"
        }
      ]
    },
    {
      "cell_type": "code",
      "metadata": {
        "id": "zg5uWCusRnoL",
        "colab_type": "code",
        "colab": {
          "base_uri": "https://localhost:8080/",
          "height": 35
        },
        "outputId": "648f7bd7-eb77-4a5a-8cb1-a5b2959ba920"
      },
      "source": [
        "test = pd.read_csv('test.csv')\n",
        "test.to_gbq(destination_table = 'titanic_classification.test',\n",
        "                          project_id = 'leafy-loader-286903',\n",
        "                          if_exists='replace')"
      ],
      "execution_count": null,
      "outputs": [
        {
          "output_type": "stream",
          "text": [
            "1it [00:03,  3.09s/it]\n"
          ],
          "name": "stderr"
        }
      ]
    },
    {
      "cell_type": "code",
      "metadata": {
        "id": "TBC5UcWiR8aU",
        "colab_type": "code",
        "colab": {
          "base_uri": "https://localhost:8080/",
          "height": 35
        },
        "outputId": "23fbe505-90d7-4692-c246-dcef3359cdab"
      },
      "source": [
        "train = pd.read_csv('train.csv')\n",
        "train.to_gbq(destination_table = 'titanic_classification.train',\n",
        "                          project_id = 'leafy-loader-286903',\n",
        "                          if_exists='replace')"
      ],
      "execution_count": null,
      "outputs": [
        {
          "output_type": "stream",
          "text": [
            "1it [00:06,  6.99s/it]\n"
          ],
          "name": "stderr"
        }
      ]
    },
    {
      "cell_type": "code",
      "metadata": {
        "id": "BHb7xl15SD_H",
        "colab_type": "code",
        "colab": {}
      },
      "source": [
        "# Invalid field name \"1stFlrSF\". Fields must contain only letters, numbers, and underscores, start with a letter or underscore, and be at most 128 characters long\n",
        "# 에러가 떴을 경우\n",
        "# train = train.rename(columns=colnames_dict)"
      ],
      "execution_count": null,
      "outputs": []
    }
  ]
}