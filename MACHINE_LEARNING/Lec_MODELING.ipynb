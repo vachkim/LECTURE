{
  "nbformat": 4,
  "nbformat_minor": 0,
  "metadata": {
    "colab": {
      "name": "Lec_MODELING.ipynb",
      "provenance": [],
      "collapsed_sections": [],
      "toc_visible": true,
      "authorship_tag": "ABX9TyNhePW5t53EaCeibHR/4dKH",
      "include_colab_link": true
    },
    "kernelspec": {
      "name": "python3",
      "display_name": "Python 3"
    }
  },
  "cells": [
    {
      "cell_type": "markdown",
      "metadata": {
        "id": "view-in-github",
        "colab_type": "text"
      },
      "source": [
        "<a href=\"https://colab.research.google.com/github/vachkim/LECTURE/blob/master/MACHINE_LEARNING/Lec_MODELING.ipynb\" target=\"_parent\"><img src=\"https://colab.research.google.com/assets/colab-badge.svg\" alt=\"Open In Colab\"/></a>"
      ]
    },
    {
      "cell_type": "code",
      "metadata": {
        "id": "IBhtIQn_I7p3",
        "colab_type": "code",
        "colab": {}
      },
      "source": [
        "# 어제자 복습_로컬 환경에서 작업할 때\n",
        "# Repo하나가 프로젝트래\n",
        "# Git에서 Repo 생성 후 git clone - = 바탕화면 폴더 생성\n",
        "# 로컬 환경에서 작업한 후 새로운 파일을 git add/git commit -m \"message\"/git push사용해서 업로드"
      ],
      "execution_count": null,
      "outputs": []
    },
    {
      "cell_type": "code",
      "metadata": {
        "id": "ANRbyjplJyGB",
        "colab_type": "code",
        "colab": {}
      },
      "source": [
        "#어제자 복습_구글 코랩에서 작용할 때 주의\n",
        "#구글코랩/로컬 두 군데서 작업했을 때, github에 update하려면 두 개의 파일을 동기화부터 해주자\n",
        "#명령어 = git pull"
      ],
      "execution_count": null,
      "outputs": []
    },
    {
      "cell_type": "code",
      "metadata": {
        "id": "Uq0KJ68NPYmh",
        "colab_type": "code",
        "colab": {}
      },
      "source": [
        "import numpy as np\n",
        "import sklearn #sklearn = 머신러닝 전용 파이썬 패키지\n",
        "from sklearn.datasets import load_iris\n",
        "iris = load_iris()\n",
        "iris_label = iris.target\n",
        "iris_data = iris.data\n",
        "import pandas as pd\n",
        "from pandas import DataFrame, Series\n",
        "data = pd.DataFrame(data= np.c_[iris['data'], iris['target']],\n",
        "                     columns= iris['feature_names'] + ['target'])\n",
        "data.columns = ['sepal_length','sepal_width','petal_length','petal_width','species']\n",
        "\n",
        "# map함수를 통해 데이터 값 변경하기\n",
        "replace = {0:'setosa',1:'versicolr',2:'virginica'}\n",
        "data['species'] = data['species'].map(replace)\n",
        "# map이 아니라 for문 사용해도 된다\n",
        "# for items in iris[target];\n",
        "# if items == 0; iris[target] = 'setosa'이런 식으로 작성하면 되겠지 \n",
        "\n",
        "# np.c_는 두 변수를 연쇄하는 함수\n",
        "# np.c하기 어려울 경우\n",
        "# data = pd.DataFrame(data=iris[data],columns=iris[feature_names])\n",
        "# 위처럼 하고 data['target'] = iris['target']으로 데이터를 추가해도 된다"
      ],
      "execution_count": null,
      "outputs": []
    },
    {
      "cell_type": "code",
      "metadata": {
        "id": "6UGQrjlLRpeq",
        "colab_type": "code",
        "colab": {
          "base_uri": "https://localhost:8080/",
          "height": 35
        },
        "outputId": "149257b9-4260-4423-b135-910eedd4353b"
      },
      "source": [
        "#train_test_split을 활용해 데이터셋 분리하기\n",
        "from sklearn.model_selection import train_test_split\n",
        "\n",
        "X_train, X_test, Y_train, Y_test = train_test_split(iris_data,\n",
        "                                                    iris_label,\n",
        "                                                    test_size=0.2, #test_size는 테스트데이터의 비율\n",
        "                                                    random_state=1)\n",
        "\n",
        "#머신러닝 모형 만들기_decision tree classifier활용\n",
        "#나무모형에 대한 자세한 설명은 아래 참조\n",
        "from sklearn.tree import DecisionTreeClassifier\n",
        "dt_clf = DecisionTreeClassifier(random_state=1,max_depth=2) #여기서 max_depth를 조작해주면 2단계까지로 tree_model이 줄어든다\n",
        "dt_clf.fit(X_train,Y_train)\n",
        "\n",
        "from sklearn.metrics import accuracy_score\n",
        "pred=dt_clf.predict(X_test)\n",
        "#Y테스트값을 예측하는 나무모형의 정확도 \n",
        "print('the accuracy of the decision tree is : {:.3f}'.format(accuracy_score(pred,Y_test)))"
      ],
      "execution_count": null,
      "outputs": [
        {
          "output_type": "stream",
          "text": [
            "the accuracy of the decision tree is : 0.967\n"
          ],
          "name": "stdout"
        }
      ]
    },
    {
      "cell_type": "code",
      "metadata": {
        "id": "OQyvfmgrSOYJ",
        "colab_type": "code",
        "colab": {
          "base_uri": "https://localhost:8080/",
          "height": 295
        },
        "outputId": "8bf15009-6586-4fe5-82e2-0e48beb40aaf"
      },
      "source": [
        "from sklearn.tree import DecisionTreeClassifier, plot_tree\n",
        "from sklearn.metrics import plot_confusion_matrix\n",
        "\n",
        "labels = ['setosa', 'versicolor', 'virginica']\n",
        "disp = plot_confusion_matrix(dt_clf, \n",
        "                             X_test, Y_test, \n",
        "                             display_labels=labels, \n",
        "                             cmap=plt.cm.Reds, \n",
        "                             normalize=None)\n",
        "disp.ax_.set_title('Confusion Matrix');\n",
        "#아래에서 행과 열 값이 일치하는 것은 한 종으로 정확히 분류된 것\n",
        "# 1로 동떨어져 있는 것은 예측오류"
      ],
      "execution_count": null,
      "outputs": [
        {
          "output_type": "display_data",
          "data": {
            "image/png": "[encoded data removed]",
            "text/plain": [
              "<Figure size 432x288 with 2 Axes>"
            ]
          },
          "metadata": {
            "tags": [],
            "needs_background": "light"
          }
        }
      ]
    },
    {
      "cell_type": "markdown",
      "metadata": {
        "id": "zLF6jDU7JxDf",
        "colab_type": "text"
      },
      "source": [
        "### 0) 이론\n",
        "- 나무모형 \n",
        " - 자체적으로 기준을 부여해서 개체를 분류하는 것 \n",
        " - 지니계수; 불순도 \n",
        " - 따라서 나무모형은 지니계수를 0으로 만드는 작업이라고 생각할 수 있다\n",
        " - 문제는 훈련 데이터를 바탕으로 가지를 내렸어도, 테스트 데이터를 분류하기 애매한 경우가 있을 수 있다\n",
        " - 또한 잔가지가 너무 많을 경우 오히려 더 복잡해지는 경우가 발생. 적정수준에서 가지를 쳐주는 것이 필요하다"
      ]
    },
    {
      "cell_type": "code",
      "metadata": {
        "id": "8VrlodswP1Mz",
        "colab_type": "code",
        "colab": {
          "base_uri": "https://localhost:8080/",
          "height": 466
        },
        "outputId": "3874c8f4-472d-4a6b-d382-d6e8755ed5b8"
      },
      "source": [
        "import matplotlib.pyplot as plt\n",
        "\n",
        "#explt_vars = tree모형에서 분류의 기준이 되는 독립변수\n",
        "#fct_val = 그에 따라 분류되는 종속변수\n",
        "explt_vars = [\"sepal_length\", \"sepal_width\", \"petal_length\", \"petal_width\"]\n",
        "fct_val = {0: 'setosa', 1: 'versicolor', 2: \"virginica\"}\n",
        "\n",
        "plt.figure(figsize = (10,8))\n",
        "plot_tree(dt_clf, feature_names = explt_vars, class_names = fct_val, filled = True);\n",
        "#결과를 해석해보면 petal_width<=0.8을 기준으로 나눴을 때, setosa와 그 외의 것으로 나눌 수 있고 setosa는 지니계수가 0으로 완벽하게 분류됨\n",
        "#but virginica, versicolor는 지니계수 0.496으로 완벽하게 분류되지 않았기 때문에 한단계 더 내려가서 분류"
      ],
      "execution_count": null,
      "outputs": [
        {
          "output_type": "display_data",
          "data": {
            "image/png": "[encoded data removed]",
            "text/plain": [
              "<Figure size 720x576 with 1 Axes>"
            ]
          },
          "metadata": {
            "tags": [],
            "needs_background": "light"
          }
        }
      ]
    },
    {
      "cell_type": "code",
      "metadata": {
        "id": "J-MYe31VSSZ7",
        "colab_type": "code",
        "colab": {
          "base_uri": "https://localhost:8080/",
          "height": 305
        },
        "outputId": "08a02e41-8695-4695-e5cc-1c3796dcfd7c"
      },
      "source": [
        "#tree모형 분류과정을 시각화하기\n",
        "from matplotlib.colors import ListedColormap\n",
        "from sklearn.datasets import load_iris\n",
        "from sklearn.tree import DecisionTreeClassifier\n",
        "import numpy as np\n",
        "\n",
        "iris = load_iris()\n",
        "X = iris.data[:, 2:] # 꽃잎 길이와 너비\n",
        "y = iris.target\n",
        "\n",
        "tree_clf = DecisionTreeClassifier(max_depth=2, random_state=42)\n",
        "tree_clf.fit(X, y)\n",
        "\n",
        "def plot_decision_boundary(clf, X, y, axes=[0, 7.5, 0, 3], iris=True, legend=False, plot_training=True):\n",
        "    x1s = np.linspace(axes[0], axes[1], 100)\n",
        "    x2s = np.linspace(axes[2], axes[3], 100)\n",
        "    x1, x2 = np.meshgrid(x1s, x2s)\n",
        "    X_new = np.c_[x1.ravel(), x2.ravel()]\n",
        "    y_pred = clf.predict(X_new).reshape(x1.shape)\n",
        "    custom_cmap = ListedColormap(['#fafab0','#9898ff','#a0faa0'])\n",
        "    plt.contourf(x1, x2, y_pred, alpha=0.3, cmap=custom_cmap)\n",
        "    if not iris:\n",
        "        custom_cmap2 = ListedColormap(['#7d7d58','#4c4c7f','#507d50'])\n",
        "        plt.contour(x1, x2, y_pred, cmap=custom_cmap2, alpha=0.8)\n",
        "    if plot_training:\n",
        "        plt.plot(X[:, 0][y==0], X[:, 1][y==0], \"yo\", label=\"Iris setosa\")\n",
        "        plt.plot(X[:, 0][y==1], X[:, 1][y==1], \"bs\", label=\"Iris versicolor\")\n",
        "        plt.plot(X[:, 0][y==2], X[:, 1][y==2], \"g^\", label=\"Iris virginica\")\n",
        "        plt.axis(axes)\n",
        "    if iris:\n",
        "        plt.xlabel(\"Petal length\", fontsize=14)\n",
        "        plt.ylabel(\"Petal width\", fontsize=14)\n",
        "    else:\n",
        "        plt.xlabel(r\"$x_1$\", fontsize=18)\n",
        "        plt.ylabel(r\"$x_2$\", fontsize=18, rotation=0)\n",
        "    if legend:\n",
        "        plt.legend(loc=\"lower right\", fontsize=14)\n",
        "\n",
        "plt.figure(figsize=(8, 4))\n",
        "plot_decision_boundary(tree_clf, X, y)\n",
        "plt.plot([2.45, 2.45], [0, 3], \"k-\", linewidth=2)\n",
        "plt.plot([2.45, 7.5], [1.75, 1.75], \"k--\", linewidth=2)\n",
        "plt.plot([4.95, 4.95], [0, 1.75], \"k:\", linewidth=2)\n",
        "plt.plot([4.85, 4.85], [1.75, 3], \"k:\", linewidth=2)\n",
        "plt.text(1.40, 1.0, \"Depth=0\", fontsize=15)\n",
        "plt.text(3.2, 1.80, \"Depth=1\", fontsize=13)\n",
        "plt.text(4.05, 0.5, \"(Depth=2)\", fontsize=11)"
      ],
      "execution_count": null,
      "outputs": [
        {
          "output_type": "execute_result",
          "data": {
            "text/plain": [
              "Text(4.05, 0.5, '(Depth=2)')"
            ]
          },
          "metadata": {
            "tags": []
          },
          "execution_count": 15
        },
        {
          "output_type": "display_data",
          "data": {
            "image/png": "[encoded data removed]",
            "text/plain": [
              "<Figure size 576x288 with 1 Axes>"
            ]
          },
          "metadata": {
            "tags": [],
            "needs_background": "light"
          }
        }
      ]
    },
    {
      "cell_type": "code",
      "metadata": {
        "id": "gkK_cSF4jRM_",
        "colab_type": "code",
        "colab": {
          "base_uri": "https://localhost:8080/",
          "height": 125
        },
        "outputId": "c8a9c676-843a-47f2-cf08-052eac6ef826"
      },
      "source": [
        "# decisiontree 예제\n",
        "from sklearn import tree\n",
        "X = [[0,0],[1,1]]\n",
        "Y = [0,1]\n",
        "clf = tree.DecisionTreeClassifier()\n",
        "clf = clf.fit(X,Y)\n",
        "# fit이 뭔 소리인가\n",
        "# https://stackoverflow.com/questions/45704226/what-does-fit-method-in-scikit-learn-do\n",
        "# fit give you a function that represents a line that is best fits all the points\n",
        "# 그리고 based on this it can estimate other results\n",
        "print(clf)"
      ],
      "execution_count": null,
      "outputs": [
        {
          "output_type": "stream",
          "text": [
            "DecisionTreeClassifier(ccp_alpha=0.0, class_weight=None, criterion='gini',\n",
            "                       max_depth=None, max_features=None, max_leaf_nodes=None,\n",
            "                       min_impurity_decrease=0.0, min_impurity_split=None,\n",
            "                       min_samples_leaf=1, min_samples_split=2,\n",
            "                       min_weight_fraction_leaf=0.0, presort='deprecated',\n",
            "                       random_state=None, splitter='best')\n"
          ],
          "name": "stdout"
        }
      ]
    },
    {
      "cell_type": "code",
      "metadata": {
        "id": "hkAWdZdGjg1L",
        "colab_type": "code",
        "colab": {
          "base_uri": "https://localhost:8080/",
          "height": 35
        },
        "outputId": "f3f8970f-a782-4bfc-8f9f-1dd27b489d45"
      },
      "source": [
        "#predict이 뭔가\n",
        "#http://scipy-lectures.org/packages/scikit-learn/index.html  _ 여기 설명 매우 simple itself\n",
        "#여하튼 예측할 값을 넣는 것, float을 넣은 건 데이터가 너무 simple해서 \n",
        "clf.predict([[2., 2.]])"
      ],
      "execution_count": null,
      "outputs": [
        {
          "output_type": "execute_result",
          "data": {
            "text/plain": [
              "array([1])"
            ]
          },
          "metadata": {
            "tags": []
          },
          "execution_count": 19
        }
      ]
    },
    {
      "cell_type": "code",
      "metadata": {
        "id": "1GZVrR6qkUp1",
        "colab_type": "code",
        "colab": {
          "base_uri": "https://localhost:8080/",
          "height": 35
        },
        "outputId": "7314b62c-f860-4b2f-a99f-7b366a835830"
      },
      "source": [
        "clf.predict_proba([[2., 2.]])"
      ],
      "execution_count": null,
      "outputs": [
        {
          "output_type": "execute_result",
          "data": {
            "text/plain": [
              "array([[0., 1.]])"
            ]
          },
          "metadata": {
            "tags": []
          },
          "execution_count": 20
        }
      ]
    },
    {
      "cell_type": "markdown",
      "metadata": {
        "id": "Ls68fwZTo0qP",
        "colab_type": "text"
      },
      "source": [
        "### 1) 타이타닉 자료수집\n",
        "- 오픈소스 DB\n",
        "\n",
        " - 장점=공짜로 DB사용 가능\n",
        " - 단점=운영체제마다 다른 세팅이 필요하다 \n",
        "\n",
        "- 클라우드 DB\n",
        "\n",
        " - 장점=Anywhere, 인터넷만 연결되어 있으면 접속 및 공유가 가능\n",
        " - 단점=취약한 보안\n",
        "\n",
        "- 수업에서 쓸 DB는 빅쿼리\n",
        "\n",
        " - 구글 클라우드의 한부분, 마케팅에서 사용한대\n",
        " - 자체적인 분석기능이 있대\n",
        "\n"
      ]
    },
    {
      "cell_type": "code",
      "metadata": {
        "id": "2Mz8ugcDv0Lu",
        "colab_type": "code",
        "colab": {
          "base_uri": "https://localhost:8080/",
          "height": 127
        },
        "outputId": "3e72cb2c-1682-40f8-92c8-163f95ee1f69"
      },
      "source": [
        "#빅쿼리와 연동 및 데이터 입력\n",
        "from google.colab import drive\n",
        "ROOT = '/content/drive'\n",
        "drive.mount(ROOT)"
      ],
      "execution_count": null,
      "outputs": [
        {
          "output_type": "stream",
          "text": [
            "Go to this URL in a browser: https://accounts.google.com/o/oauth2/auth?client_id=947318989803-6bn6qk8qdgf4n4g3pfee6491hc0brc4i.apps.googleusercontent.com&redirect_uri=urn%3aietf%3awg%3aoauth%3a2.0%3aoob&scope=email%20https%3a%2f%2fwww.googleapis.com%2fauth%2fdocs.test%20https%3a%2f%2fwww.googleapis.com%2fauth%2fdrive%20https%3a%2f%2fwww.googleapis.com%2fauth%2fdrive.photos.readonly%20https%3a%2f%2fwww.googleapis.com%2fauth%2fpeopleapi.readonly&response_type=code\n",
            "\n",
            "Enter your authorization code:\n",
            "··········\n",
            "Mounted at /content/drive\n"
          ],
          "name": "stdout"
        }
      ]
    },
    {
      "cell_type": "code",
      "metadata": {
        "id": "XyMgjJfQv64n",
        "colab_type": "code",
        "colab": {
          "base_uri": "https://localhost:8080/",
          "height": 91
        },
        "outputId": "96acc1f5-908a-494e-b615-3860ad895b5b"
      },
      "source": [
        "import pandas as pd\n",
        "from pandas.io import gbq\n",
        "\n",
        "# import sample_submission file\n",
        "gender_submission = pd.read_csv('gender_submission.csv')\n",
        "\n",
        "# Connect to Google Cloud API and Upload DataFrame\n",
        "gender_submission.to_gbq(destination_table='titanic.gender_submission', \n",
        "                  project_id='leafy-loader-286903', \n",
        "                  if_exists='replace')"
      ],
      "execution_count": null,
      "outputs": [
        {
          "output_type": "stream",
          "text": [
            "Please visit this URL to authorize this application: https://accounts.google.com/o/oauth2/auth?response_type=code&client_id=725825577420-unm2gnkiprugilg743tkbig250f4sfsj.apps.googleusercontent.com&redirect_uri=urn%3Aietf%3Awg%3Aoauth%3A2.0%3Aoob&scope=https%3A%2F%2Fwww.googleapis.com%2Fauth%2Fbigquery&state=qquA7Gk59gN2mGk8LCDojHvnG3Xd5E&prompt=consent&access_type=offline\n",
            "Enter the authorization code: 4/3AEOEmL_EtEonXfuEpZXp0J6ewBZYpiAAAPEDFRSOd4i2BTpXhkohWI\n"
          ],
          "name": "stdout"
        },
        {
          "output_type": "stream",
          "text": [
            "1it [00:03,  3.65s/it]\n"
          ],
          "name": "stderr"
        }
      ]
    },
    {
      "cell_type": "code",
      "metadata": {
        "id": "s849TC3dxN94",
        "colab_type": "code",
        "colab": {
          "base_uri": "https://localhost:8080/",
          "height": 35
        },
        "outputId": "394c128f-77a6-4943-9642-6252d72428d8"
      },
      "source": [
        "train = pd.read_csv('train.csv')\n",
        "train.to_gbq(destination_table='titanic.train', \n",
        "                  project_id='leafy-loader-286903', \n",
        "                  if_exists='replace')"
      ],
      "execution_count": null,
      "outputs": [
        {
          "output_type": "stream",
          "text": [
            "1it [00:03,  3.57s/it]\n"
          ],
          "name": "stderr"
        }
      ]
    },
    {
      "cell_type": "code",
      "metadata": {
        "id": "rLmrwiqJxiT5",
        "colab_type": "code",
        "colab": {
          "base_uri": "https://localhost:8080/",
          "height": 35
        },
        "outputId": "be59a15e-87e3-4cb8-9c0c-4192ea02b946"
      },
      "source": [
        "test = pd.read_csv('test.csv')\n",
        "test.to_gbq(destination_table='titanic.test', \n",
        "            project_id='leafy-loader-286903', \n",
        "            if_exists='replace')"
      ],
      "execution_count": null,
      "outputs": [
        {
          "output_type": "stream",
          "text": [
            "1it [00:03,  3.64s/it]\n"
          ],
          "name": "stderr"
        }
      ]
    },
    {
      "cell_type": "code",
      "metadata": {
        "id": "sibGxFpQxrsS",
        "colab_type": "code",
        "colab": {
          "base_uri": "https://localhost:8080/",
          "height": 145
        },
        "outputId": "29560d32-d259-439b-dc95-905948fe2f78"
      },
      "source": [
        "#colab과 googledrive 연결\n",
        "#https://chloevan.github.io/settings/colab_drive_github_settings/\n",
        "#꼬였으면 쿨하게 초기화~\n",
        "from google.colab import drive\n",
        "ROOT = \"/content/drive\"\n",
        "print(ROOT)\n",
        "drive.mount(ROOT)"
      ],
      "execution_count": null,
      "outputs": [
        {
          "output_type": "stream",
          "text": [
            "/content/drive\n",
            "Go to this URL in a browser: https://accounts.google.com/o/oauth2/auth?client_id=947318989803-6bn6qk8qdgf4n4g3pfee6491hc0brc4i.apps.googleusercontent.com&redirect_uri=urn%3aietf%3awg%3aoauth%3a2.0%3aoob&scope=email%20https%3a%2f%2fwww.googleapis.com%2fauth%2fdocs.test%20https%3a%2f%2fwww.googleapis.com%2fauth%2fdrive%20https%3a%2f%2fwww.googleapis.com%2fauth%2fdrive.photos.readonly%20https%3a%2f%2fwww.googleapis.com%2fauth%2fpeopleapi.readonly&response_type=code\n",
            "\n",
            "Enter your authorization code:\n",
            "··········\n",
            "Mounted at /content/drive\n"
          ],
          "name": "stdout"
        }
      ]
    },
    {
      "cell_type": "code",
      "metadata": {
        "id": "1zqWcIaYIeKG",
        "colab_type": "code",
        "colab": {
          "base_uri": "https://localhost:8080/",
          "height": 35
        },
        "outputId": "474e11b4-b5c4-4eed-fcb4-6b5dfa25f421"
      },
      "source": [
        "%cd drive/'My Drive'/'Colab Notebooks'/'ml_project'"
      ],
      "execution_count": null,
      "outputs": [
        {
          "output_type": "stream",
          "text": [
            "/content/drive/My Drive/Colab Notebooks/ml_project\n"
          ],
          "name": "stdout"
        }
      ]
    },
    {
      "cell_type": "code",
      "metadata": {
        "id": "CegL2FrsI7qE",
        "colab_type": "code",
        "colab": {
          "base_uri": "https://localhost:8080/",
          "height": 35
        },
        "outputId": "53c982bd-405f-42e7-9aa2-1f0c74cfe59e"
      },
      "source": [
        "%ls"
      ],
      "execution_count": null,
      "outputs": [
        {
          "output_type": "stream",
          "text": [
            "gender_submission.csv  test.csv  train.csv\n"
          ],
          "name": "stdout"
        }
      ]
    },
    {
      "cell_type": "code",
      "metadata": {
        "id": "gVp8wSTqvFkG",
        "colab_type": "code",
        "colab": {
          "base_uri": "https://localhost:8080/",
          "height": 35
        },
        "outputId": "3fe40150-543f-4cd5-9ab5-474d408e05d0"
      },
      "source": [
        "# 구글 인증 라이브러리\n",
        "from google.colab import auth\n",
        "auth.authenticate_user()\n",
        "print('Authenticated')\n",
        "\n",
        "# 빅쿼리 관련 라이브러리\n",
        "from google.cloud import bigquery\n",
        "from tabulate import tabulate\n",
        "import pandas as pd"
      ],
      "execution_count": null,
      "outputs": [
        {
          "output_type": "stream",
          "text": [
            "Authenticated\n"
          ],
          "name": "stdout"
        }
      ]
    },
    {
      "cell_type": "code",
      "metadata": {
        "id": "f1QRH2UivJZI",
        "colab_type": "code",
        "colab": {
          "base_uri": "https://localhost:8080/",
          "height": 35
        },
        "outputId": "26d074e0-cb71-4325-9bf5-cb2aaa07917e"
      },
      "source": [
        "from google.cloud import bigquery\n",
        "from tabulate import tabulate\n",
        "import pandas as pd\n",
        "\n",
        "project_id = 'leafy-loader-286903'\n",
        "client = bigquery.Client(project=project_id)\n",
        "\n",
        "df_train = client.query('''\n",
        "  SELECT \n",
        "      * \n",
        "  FROM `leafy-loader-286903.titanic.train`\n",
        "  ''').to_dataframe()\n",
        "\n",
        "df_train.shape"
      ],
      "execution_count": null,
      "outputs": [
        {
          "output_type": "execute_result",
          "data": {
            "text/plain": [
              "(891, 12)"
            ]
          },
          "metadata": {
            "tags": []
          },
          "execution_count": 12
        }
      ]
    },
    {
      "cell_type": "code",
      "metadata": {
        "id": "iI38gFl0wJ96",
        "colab_type": "code",
        "colab": {
          "base_uri": "https://localhost:8080/",
          "height": 35
        },
        "outputId": "bdcb12f2-624c-41ca-f07f-455b7b646729"
      },
      "source": [
        "df_test = client.query('''\n",
        "  SELECT \n",
        "      * \n",
        "  FROM `leafy-loader-286903.titanic_classification.test`\n",
        "  ''').to_dataframe()\n",
        "\n",
        "df_test.shape"
      ],
      "execution_count": null,
      "outputs": [
        {
          "output_type": "execute_result",
          "data": {
            "text/plain": [
              "(418, 11)"
            ]
          },
          "metadata": {
            "tags": []
          },
          "execution_count": 15
        }
      ]
    },
    {
      "cell_type": "code",
      "metadata": {
        "id": "s6VXT_AUw5EK",
        "colab_type": "code",
        "colab": {
          "base_uri": "https://localhost:8080/",
          "height": 204
        },
        "outputId": "2b8b3e1a-7f16-4f54-87f0-7ee15d30dd96"
      },
      "source": [
        "pd.options.display.max_columns = None \n",
        "df_train.head()"
      ],
      "execution_count": null,
      "outputs": [
        {
          "output_type": "execute_result",
          "data": {
            "text/html": [
              "<div>\n",
              "<style scoped>\n",
              "    .dataframe tbody tr th:only-of-type {\n",
              "        vertical-align: middle;\n",
              "    }\n",
              "\n",
              "    .dataframe tbody tr th {\n",
              "        vertical-align: top;\n",
              "    }\n",
              "\n",
              "    .dataframe thead th {\n",
              "        text-align: right;\n",
              "    }\n",
              "</style>\n",
              "<table border=\"1\" class=\"dataframe\">\n",
              "  <thead>\n",
              "    <tr style=\"text-align: right;\">\n",
              "      <th></th>\n",
              "      <th>PassengerId</th>\n",
              "      <th>Survived</th>\n",
              "      <th>Pclass</th>\n",
              "      <th>Name</th>\n",
              "      <th>Sex</th>\n",
              "      <th>Age</th>\n",
              "      <th>SibSp</th>\n",
              "      <th>Parch</th>\n",
              "      <th>Ticket</th>\n",
              "      <th>Fare</th>\n",
              "      <th>Cabin</th>\n",
              "      <th>Embarked</th>\n",
              "    </tr>\n",
              "  </thead>\n",
              "  <tbody>\n",
              "    <tr>\n",
              "      <th>0</th>\n",
              "      <td>180</td>\n",
              "      <td>0</td>\n",
              "      <td>3</td>\n",
              "      <td>Leonard, Mr. Lionel</td>\n",
              "      <td>male</td>\n",
              "      <td>36.0</td>\n",
              "      <td>0</td>\n",
              "      <td>0</td>\n",
              "      <td>LINE</td>\n",
              "      <td>0.0</td>\n",
              "      <td>None</td>\n",
              "      <td>S</td>\n",
              "    </tr>\n",
              "    <tr>\n",
              "      <th>1</th>\n",
              "      <td>264</td>\n",
              "      <td>0</td>\n",
              "      <td>1</td>\n",
              "      <td>Harrison, Mr. William</td>\n",
              "      <td>male</td>\n",
              "      <td>40.0</td>\n",
              "      <td>0</td>\n",
              "      <td>0</td>\n",
              "      <td>112059</td>\n",
              "      <td>0.0</td>\n",
              "      <td>B94</td>\n",
              "      <td>S</td>\n",
              "    </tr>\n",
              "    <tr>\n",
              "      <th>2</th>\n",
              "      <td>278</td>\n",
              "      <td>0</td>\n",
              "      <td>2</td>\n",
              "      <td>Parkes, Mr. Francis \"Frank\"</td>\n",
              "      <td>male</td>\n",
              "      <td>NaN</td>\n",
              "      <td>0</td>\n",
              "      <td>0</td>\n",
              "      <td>239853</td>\n",
              "      <td>0.0</td>\n",
              "      <td>None</td>\n",
              "      <td>S</td>\n",
              "    </tr>\n",
              "    <tr>\n",
              "      <th>3</th>\n",
              "      <td>303</td>\n",
              "      <td>0</td>\n",
              "      <td>3</td>\n",
              "      <td>Johnson, Mr. William Cahoone Jr</td>\n",
              "      <td>male</td>\n",
              "      <td>19.0</td>\n",
              "      <td>0</td>\n",
              "      <td>0</td>\n",
              "      <td>LINE</td>\n",
              "      <td>0.0</td>\n",
              "      <td>None</td>\n",
              "      <td>S</td>\n",
              "    </tr>\n",
              "    <tr>\n",
              "      <th>4</th>\n",
              "      <td>414</td>\n",
              "      <td>0</td>\n",
              "      <td>2</td>\n",
              "      <td>Cunningham, Mr. Alfred Fleming</td>\n",
              "      <td>male</td>\n",
              "      <td>NaN</td>\n",
              "      <td>0</td>\n",
              "      <td>0</td>\n",
              "      <td>239853</td>\n",
              "      <td>0.0</td>\n",
              "      <td>None</td>\n",
              "      <td>S</td>\n",
              "    </tr>\n",
              "  </tbody>\n",
              "</table>\n",
              "</div>"
            ],
            "text/plain": [
              "   PassengerId  Survived  Pclass                             Name   Sex   Age  \\\n",
              "0          180         0       3              Leonard, Mr. Lionel  male  36.0   \n",
              "1          264         0       1            Harrison, Mr. William  male  40.0   \n",
              "2          278         0       2      Parkes, Mr. Francis \"Frank\"  male   NaN   \n",
              "3          303         0       3  Johnson, Mr. William Cahoone Jr  male  19.0   \n",
              "4          414         0       2   Cunningham, Mr. Alfred Fleming  male   NaN   \n",
              "\n",
              "   SibSp  Parch  Ticket  Fare Cabin Embarked  \n",
              "0      0      0    LINE   0.0  None        S  \n",
              "1      0      0  112059   0.0   B94        S  \n",
              "2      0      0  239853   0.0  None        S  \n",
              "3      0      0    LINE   0.0  None        S  \n",
              "4      0      0  239853   0.0  None        S  "
            ]
          },
          "metadata": {
            "tags": []
          },
          "execution_count": 16
        }
      ]
    },
    {
      "cell_type": "markdown",
      "metadata": {
        "id": "lGMpNuONcEkQ",
        "colab_type": "text"
      },
      "source": [
        "### 2) 결측치 처리\n",
        "- sklearn은 결측치를 허용하지 않는다\n",
        "- 결측치 정도에 따라\n",
        " \n",
        " - 70%이상을 넘어갈 경우에는 삭제를 고려\n",
        " - 5%미만이면 수치형 데이터의 경우에는 평균값/범주형 데이터의 경우에는 최빈값\n",
        " - 20%~70%는 정답이 없대"
      ]
    },
    {
      "cell_type": "code",
      "metadata": {
        "id": "DJAhsibjw7TO",
        "colab_type": "code",
        "colab": {
          "base_uri": "https://localhost:8080/",
          "height": 89
        },
        "outputId": "b4aefcc2-cf9b-41c6-d173-22a34816b514"
      },
      "source": [
        "# data set의 Percent 구하는 함수를 짜보자. \n",
        "def check_fill_na(data):\n",
        "  new_df = data.copy()\n",
        "  new_df_na = (new_df.isnull().sum() / len(new_df)) * 100\n",
        "  new_df_na.sort_values(ascending=False).reset_index(drop=True)\n",
        "  new_df_na = new_df_na.drop(new_df_na[new_df_na == 0].index).sort_values(ascending=False)\n",
        "  return new_df_na\n",
        "\n",
        "check_fill_na(df_train)"
      ],
      "execution_count": null,
      "outputs": [
        {
          "output_type": "execute_result",
          "data": {
            "text/plain": [
              "Cabin       77.104377\n",
              "Age         19.865320\n",
              "Embarked     0.224467\n",
              "dtype: float64"
            ]
          },
          "metadata": {
            "tags": []
          },
          "execution_count": 17
        }
      ]
    },
    {
      "cell_type": "code",
      "metadata": {
        "id": "M1GO_a6Dw9_I",
        "colab_type": "code",
        "colab": {
          "base_uri": "https://localhost:8080/",
          "height": 282
        },
        "outputId": "a0574efe-d0fd-40b7-fde1-22f7a5f5267d"
      },
      "source": [
        "import matplotlib.pyplot as plt\n",
        "\n",
        "ax = df_train[\"Age\"].hist(bins=15, density=True, stacked=True, color='teal', alpha=0.6)\n",
        "df_train[\"Age\"].plot(kind='density', color='teal')\n",
        "ax.set(xlabel='Age')\n",
        "plt.xlim(-10,85)\n",
        "plt.show()"
      ],
      "execution_count": null,
      "outputs": [
        {
          "output_type": "display_data",
          "data": {
            "image/png": "[encoded data removed]",
            "text/plain": [
              "<Figure size 432x288 with 1 Axes>"
            ]
          },
          "metadata": {
            "tags": [],
            "needs_background": "light"
          }
        }
      ]
    },
    {
      "cell_type": "code",
      "metadata": {
        "id": "erPQY7qKxGpo",
        "colab_type": "code",
        "colab": {
          "base_uri": "https://localhost:8080/",
          "height": 387
        },
        "outputId": "db8947e4-1d70-4433-f392-b24663285f4f"
      },
      "source": [
        "import seaborn as sns\n",
        "print(df_train['Embarked'].value_counts())\n",
        "sns.countplot(x='Embarked', data=df_train, palette='Set2')\n",
        "plt.show()"
      ],
      "execution_count": null,
      "outputs": [
        {
          "output_type": "stream",
          "text": [
            "S    644\n",
            "C    168\n",
            "Q     77\n",
            "Name: Embarked, dtype: int64\n"
          ],
          "name": "stdout"
        },
        {
          "output_type": "stream",
          "text": [
            "/usr/local/lib/python3.6/dist-packages/statsmodels/tools/_testing.py:19: FutureWarning: pandas.util.testing is deprecated. Use the functions in the public API at pandas.testing instead.\n",
            "  import pandas.util.testing as tm\n"
          ],
          "name": "stderr"
        },
        {
          "output_type": "display_data",
          "data": {
            "image/png": "[encoded data removed]",
            "text/plain": [
              "<Figure size 432x288 with 1 Axes>"
            ]
          },
          "metadata": {
            "tags": [],
            "needs_background": "light"
          }
        }
      ]
    },
    {
      "cell_type": "code",
      "metadata": {
        "id": "XdF7i-kZxNTF",
        "colab_type": "code",
        "colab": {}
      },
      "source": [
        "train_data = df_train.copy()\n",
        "train_data[\"Age\"].fillna(df_train[\"Age\"].median(skipna=True), inplace=True)\n",
        "train_data[\"Embarked\"].fillna(df_train['Embarked'].value_counts().idxmax(), inplace=True)\n",
        "train_data.drop('Cabin', axis=1, inplace=True)"
      ],
      "execution_count": null,
      "outputs": []
    },
    {
      "cell_type": "code",
      "metadata": {
        "id": "5u4BQc4bxQF0",
        "colab_type": "code",
        "colab": {
          "base_uri": "https://localhost:8080/",
          "height": 35
        },
        "outputId": "33118d29-2357-4e2b-cb0c-8bcf5c5ddeda"
      },
      "source": [
        "check_fill_na(train_data)"
      ],
      "execution_count": null,
      "outputs": [
        {
          "output_type": "execute_result",
          "data": {
            "text/plain": [
              "Series([], dtype: float64)"
            ]
          },
          "metadata": {
            "tags": []
          },
          "execution_count": 24
        }
      ]
    },
    {
      "cell_type": "markdown",
      "metadata": {
        "id": "VnsPVK6Xdw2Q",
        "colab_type": "text"
      },
      "source": [
        "### 3) 도출변수\n",
        "- 도출변수는 도메인에서 나온다\n",
        "\n",
        " - 도메인 = 업종에 대한 지식\n",
        " - 도출변수; 변수 간의 조합을 통해 또다른 유의미한 변수를 만드는 것\n",
        " - 2개의 변수를 하나로 통합할 수 있다면 연산속도가 그만큼 높아지는 것"
      ]
    },
    {
      "cell_type": "code",
      "metadata": {
        "id": "qQWaAqsLxSya",
        "colab_type": "code",
        "colab": {}
      },
      "source": [
        "## Create categorical variable for traveling alone\n",
        "import numpy as np\n",
        "train_data['TravelAlone']=np.where((train_data[\"SibSp\"]+train_data[\"Parch\"])>0, 0, 1)\n",
        "train_data.drop('SibSp', axis=1, inplace=True)\n",
        "train_data.drop('Parch', axis=1, inplace=True)"
      ],
      "execution_count": null,
      "outputs": []
    },
    {
      "cell_type": "code",
      "metadata": {
        "id": "cKR-sGq7xWRW",
        "colab_type": "code",
        "colab": {
          "base_uri": "https://localhost:8080/",
          "height": 497
        },
        "outputId": "a7f0a516-b1e6-4d74-ff73-e60330a76c55"
      },
      "source": [
        "plt.figure(figsize=(20,8))\n",
        "avg_survival_byage = train_data[[\"Age\", \"Survived\"]].groupby(['Age'], as_index=False).mean()\n",
        "g = sns.barplot(x='Age', y='Survived', data=avg_survival_byage, color=\"LightSeaGreen\")\n",
        "plt.show()"
      ],
      "execution_count": null,
      "outputs": [
        {
          "output_type": "display_data",
          "data": {
            "image/png": "[encoded data removed]",
            "text/plain": [
              "<Figure size 1440x576 with 1 Axes>"
            ]
          },
          "metadata": {
            "tags": [],
            "needs_background": "light"
          }
        }
      ]
    },
    {
      "cell_type": "code",
      "metadata": {
        "id": "ejxICKqxxY2k",
        "colab_type": "code",
        "colab": {}
      },
      "source": [
        "train_data['IsMinor']=np.where(train_data['Age']<=16, 1, 0)"
      ],
      "execution_count": null,
      "outputs": []
    },
    {
      "cell_type": "markdown",
      "metadata": {
        "id": "saeByYyglJiH",
        "colab_type": "text"
      },
      "source": [
        "### 4)원핫인코딩\n",
        "- 라벨 인코딩\n",
        "\n",
        " - 주대상 = categorical data를 수치형으로 전환\n",
        " - B/C 머신러닝 알고리즘은 결국 수식이기 때문이지\n",
        " - 범주형 데이터는 숫자로 변환해도 수치적 의미를 가지면 안되지 \n",
        " - 따라서 수식에 기반한 알고리즘을 짤 수 없다 _ 비선형 모델을 사용해야 해\n",
        "\n",
        "- 원핫 인코딩\n",
        "\n",
        " - 원핫 인코딩은 선형모형을 사용하기 어렵다는 라벨 인코딩의 한계를 극복한거래\n",
        " - 행과 열을 category로 해서 매칭되는거는 1, 아닌거는 0으로 표시\n",
        " - 선형모델을 사용할 수 있으나, 데이터의 크기가 커진다\n"
      ]
    },
    {
      "cell_type": "code",
      "metadata": {
        "id": "vHA-PmeGxay5",
        "colab_type": "code",
        "colab": {
          "base_uri": "https://localhost:8080/",
          "height": 359
        },
        "outputId": "0320cc0a-dd1a-4ba6-830a-6c62a91d0204"
      },
      "source": [
        "#create categorical variables and drop some variables\n",
        "training=pd.get_dummies(train_data, columns=[\"Pclass\",\"Embarked\",\"Sex\"])\n",
        "training.drop('Sex_female', axis=1, inplace=True)\n",
        "training.drop('PassengerId', axis=1, inplace=True)\n",
        "training.drop('Name', axis=1, inplace=True)\n",
        "training.drop('Ticket', axis=1, inplace=True)\n",
        "\n",
        "final_train = training\n",
        "final_train.info()"
      ],
      "execution_count": null,
      "outputs": [
        {
          "output_type": "stream",
          "text": [
            "<class 'pandas.core.frame.DataFrame'>\n",
            "RangeIndex: 891 entries, 0 to 890\n",
            "Data columns (total 12 columns):\n",
            " #   Column       Non-Null Count  Dtype  \n",
            "---  ------       --------------  -----  \n",
            " 0   Survived     891 non-null    int64  \n",
            " 1   Age          891 non-null    float64\n",
            " 2   Fare         891 non-null    float64\n",
            " 3   TravelAlone  891 non-null    int64  \n",
            " 4   IsMinor      891 non-null    int64  \n",
            " 5   Pclass_1     891 non-null    uint8  \n",
            " 6   Pclass_2     891 non-null    uint8  \n",
            " 7   Pclass_3     891 non-null    uint8  \n",
            " 8   Embarked_C   891 non-null    uint8  \n",
            " 9   Embarked_Q   891 non-null    uint8  \n",
            " 10  Embarked_S   891 non-null    uint8  \n",
            " 11  Sex_male     891 non-null    uint8  \n",
            "dtypes: float64(2), int64(3), uint8(7)\n",
            "memory usage: 41.0 KB\n"
          ],
          "name": "stdout"
        }
      ]
    },
    {
      "cell_type": "code",
      "metadata": {
        "id": "xj58ejmTxdBt",
        "colab_type": "code",
        "colab": {
          "base_uri": "https://localhost:8080/",
          "height": 341
        },
        "outputId": "e4d2a4ef-88f8-4b19-9b27-c786867bea47"
      },
      "source": [
        "test_data = df_test.copy()\n",
        "test_data[\"Age\"].fillna(df_test[\"Age\"].median(skipna=True), inplace=True)\n",
        "test_data[\"Fare\"].fillna(df_test[\"Fare\"].median(skipna=True), inplace=True)\n",
        "test_data.drop('Cabin', axis=1, inplace=True)\n",
        "\n",
        "test_data['TravelAlone']=np.where((test_data[\"SibSp\"]+test_data[\"Parch\"])>0, 0, 1)\n",
        "\n",
        "test_data.drop('SibSp', axis=1, inplace=True)\n",
        "test_data.drop('Parch', axis=1, inplace=True)\n",
        "\n",
        "test_data['IsMinor']=np.where(test_data['Age']<=16, 1, 0)\n",
        "\n",
        "testing = pd.get_dummies(test_data, columns=[\"Pclass\",\"Embarked\",\"Sex\"])\n",
        "testing.drop('Sex_female', axis=1, inplace=True)\n",
        "testing.drop('PassengerId', axis=1, inplace=True)\n",
        "testing.drop('Name', axis=1, inplace=True)\n",
        "testing.drop('Ticket', axis=1, inplace=True)\n",
        "\n",
        "final_test = testing\n",
        "final_test.info()"
      ],
      "execution_count": null,
      "outputs": [
        {
          "output_type": "stream",
          "text": [
            "<class 'pandas.core.frame.DataFrame'>\n",
            "RangeIndex: 418 entries, 0 to 417\n",
            "Data columns (total 11 columns):\n",
            " #   Column       Non-Null Count  Dtype  \n",
            "---  ------       --------------  -----  \n",
            " 0   Age          418 non-null    float64\n",
            " 1   Fare         418 non-null    float64\n",
            " 2   TravelAlone  418 non-null    int64  \n",
            " 3   IsMinor      418 non-null    int64  \n",
            " 4   Pclass_1     418 non-null    uint8  \n",
            " 5   Pclass_2     418 non-null    uint8  \n",
            " 6   Pclass_3     418 non-null    uint8  \n",
            " 7   Embarked_C   418 non-null    uint8  \n",
            " 8   Embarked_Q   418 non-null    uint8  \n",
            " 9   Embarked_S   418 non-null    uint8  \n",
            " 10  Sex_male     418 non-null    uint8  \n",
            "dtypes: float64(2), int64(2), uint8(7)\n",
            "memory usage: 16.0 KB\n"
          ],
          "name": "stdout"
        }
      ]
    },
    {
      "cell_type": "code",
      "metadata": {
        "id": "8kLdut_Pxfdt",
        "colab_type": "code",
        "colab": {
          "base_uri": "https://localhost:8080/",
          "height": 179
        },
        "outputId": "e4303bdb-759e-4680-fae5-a534a8ace627"
      },
      "source": [
        "from sklearn.linear_model import LogisticRegression\n",
        "from sklearn.feature_selection import RFE\n",
        "\n",
        "cols = [\"Age\",\"Fare\",\"TravelAlone\",\"Pclass_1\",\"Pclass_2\",\"Embarked_C\",\"Embarked_S\",\"Sex_male\",\"IsMinor\"] \n",
        "X = final_train[cols]\n",
        "y = final_train['Survived']\n",
        "model = LogisticRegression()\n",
        "rfe = RFE(model, 8) # 변수 8개만 선택\n",
        "rfe = rfe.fit(X, y)\n",
        "print('Selected features: %s' % list(X.columns[rfe.support_]))"
      ],
      "execution_count": null,
      "outputs": [
        {
          "output_type": "stream",
          "text": [
            "Selected features: ['Age', 'TravelAlone', 'Pclass_1', 'Pclass_2', 'Embarked_C', 'Embarked_S', 'Sex_male', 'IsMinor']\n"
          ],
          "name": "stdout"
        },
        {
          "output_type": "stream",
          "text": [
            "/usr/local/lib/python3.6/dist-packages/sklearn/linear_model/_logistic.py:940: ConvergenceWarning: lbfgs failed to converge (status=1):\n",
            "STOP: TOTAL NO. of ITERATIONS REACHED LIMIT.\n",
            "\n",
            "Increase the number of iterations (max_iter) or scale the data as shown in:\n",
            "    https://scikit-learn.org/stable/modules/preprocessing.html\n",
            "Please also refer to the documentation for alternative solver options:\n",
            "    https://scikit-learn.org/stable/modules/linear_model.html#logistic-regression\n",
            "  extra_warning_msg=_LOGISTIC_SOLVER_CONVERGENCE_MSG)\n"
          ],
          "name": "stderr"
        }
      ]
    },
    {
      "cell_type": "code",
      "metadata": {
        "id": "wgTJjFuixhqi",
        "colab_type": "code",
        "colab": {
          "base_uri": "https://localhost:8080/",
          "height": 1000
        },
        "outputId": "2d3c5e1f-792f-482e-e40d-91bfefab6c32"
      },
      "source": [
        "from sklearn.feature_selection import RFECV\n",
        "rfecv = RFECV(estimator=LogisticRegression(), step=1, cv=10, scoring='accuracy')\n",
        "rfecv.fit(X, y)\n",
        "\n",
        "print(\"Optimal number of features: %d\" % rfecv.n_features_)\n",
        "print('Selected features: %s' % list(X.columns[rfecv.support_]))\n",
        "\n",
        "plt.figure(figsize=(10,6))\n",
        "plt.xlabel(\"Number of features selected\")\n",
        "plt.ylabel(\"Cross validation score (nb of correct classifications)\")\n",
        "plt.plot(range(1, len(rfecv.grid_scores_) + 1), rfecv.grid_scores_)\n",
        "plt.show()"
      ],
      "execution_count": null,
      "outputs": [
        {
          "output_type": "stream",
          "text": [
            "/usr/local/lib/python3.6/dist-packages/sklearn/linear_model/_logistic.py:940: ConvergenceWarning: lbfgs failed to converge (status=1):\n",
            "STOP: TOTAL NO. of ITERATIONS REACHED LIMIT.\n",
            "\n",
            "Increase the number of iterations (max_iter) or scale the data as shown in:\n",
            "    https://scikit-learn.org/stable/modules/preprocessing.html\n",
            "Please also refer to the documentation for alternative solver options:\n",
            "    https://scikit-learn.org/stable/modules/linear_model.html#logistic-regression\n",
            "  extra_warning_msg=_LOGISTIC_SOLVER_CONVERGENCE_MSG)\n",
            "/usr/local/lib/python3.6/dist-packages/sklearn/linear_model/_logistic.py:940: ConvergenceWarning: lbfgs failed to converge (status=1):\n",
            "STOP: TOTAL NO. of ITERATIONS REACHED LIMIT.\n",
            "\n",
            "Increase the number of iterations (max_iter) or scale the data as shown in:\n",
            "    https://scikit-learn.org/stable/modules/preprocessing.html\n",
            "Please also refer to the documentation for alternative solver options:\n",
            "    https://scikit-learn.org/stable/modules/linear_model.html#logistic-regression\n",
            "  extra_warning_msg=_LOGISTIC_SOLVER_CONVERGENCE_MSG)\n",
            "/usr/local/lib/python3.6/dist-packages/sklearn/linear_model/_logistic.py:940: ConvergenceWarning: lbfgs failed to converge (status=1):\n",
            "STOP: TOTAL NO. of ITERATIONS REACHED LIMIT.\n",
            "\n",
            "Increase the number of iterations (max_iter) or scale the data as shown in:\n",
            "    https://scikit-learn.org/stable/modules/preprocessing.html\n",
            "Please also refer to the documentation for alternative solver options:\n",
            "    https://scikit-learn.org/stable/modules/linear_model.html#logistic-regression\n",
            "  extra_warning_msg=_LOGISTIC_SOLVER_CONVERGENCE_MSG)\n",
            "/usr/local/lib/python3.6/dist-packages/sklearn/linear_model/_logistic.py:940: ConvergenceWarning: lbfgs failed to converge (status=1):\n",
            "STOP: TOTAL NO. of ITERATIONS REACHED LIMIT.\n",
            "\n",
            "Increase the number of iterations (max_iter) or scale the data as shown in:\n",
            "    https://scikit-learn.org/stable/modules/preprocessing.html\n",
            "Please also refer to the documentation for alternative solver options:\n",
            "    https://scikit-learn.org/stable/modules/linear_model.html#logistic-regression\n",
            "  extra_warning_msg=_LOGISTIC_SOLVER_CONVERGENCE_MSG)\n",
            "/usr/local/lib/python3.6/dist-packages/sklearn/linear_model/_logistic.py:940: ConvergenceWarning: lbfgs failed to converge (status=1):\n",
            "STOP: TOTAL NO. of ITERATIONS REACHED LIMIT.\n",
            "\n",
            "Increase the number of iterations (max_iter) or scale the data as shown in:\n",
            "    https://scikit-learn.org/stable/modules/preprocessing.html\n",
            "Please also refer to the documentation for alternative solver options:\n",
            "    https://scikit-learn.org/stable/modules/linear_model.html#logistic-regression\n",
            "  extra_warning_msg=_LOGISTIC_SOLVER_CONVERGENCE_MSG)\n",
            "/usr/local/lib/python3.6/dist-packages/sklearn/linear_model/_logistic.py:940: ConvergenceWarning: lbfgs failed to converge (status=1):\n",
            "STOP: TOTAL NO. of ITERATIONS REACHED LIMIT.\n",
            "\n",
            "Increase the number of iterations (max_iter) or scale the data as shown in:\n",
            "    https://scikit-learn.org/stable/modules/preprocessing.html\n",
            "Please also refer to the documentation for alternative solver options:\n",
            "    https://scikit-learn.org/stable/modules/linear_model.html#logistic-regression\n",
            "  extra_warning_msg=_LOGISTIC_SOLVER_CONVERGENCE_MSG)\n",
            "/usr/local/lib/python3.6/dist-packages/sklearn/linear_model/_logistic.py:940: ConvergenceWarning: lbfgs failed to converge (status=1):\n",
            "STOP: TOTAL NO. of ITERATIONS REACHED LIMIT.\n",
            "\n",
            "Increase the number of iterations (max_iter) or scale the data as shown in:\n",
            "    https://scikit-learn.org/stable/modules/preprocessing.html\n",
            "Please also refer to the documentation for alternative solver options:\n",
            "    https://scikit-learn.org/stable/modules/linear_model.html#logistic-regression\n",
            "  extra_warning_msg=_LOGISTIC_SOLVER_CONVERGENCE_MSG)\n",
            "/usr/local/lib/python3.6/dist-packages/sklearn/linear_model/_logistic.py:940: ConvergenceWarning: lbfgs failed to converge (status=1):\n",
            "STOP: TOTAL NO. of ITERATIONS REACHED LIMIT.\n",
            "\n",
            "Increase the number of iterations (max_iter) or scale the data as shown in:\n",
            "    https://scikit-learn.org/stable/modules/preprocessing.html\n",
            "Please also refer to the documentation for alternative solver options:\n",
            "    https://scikit-learn.org/stable/modules/linear_model.html#logistic-regression\n",
            "  extra_warning_msg=_LOGISTIC_SOLVER_CONVERGENCE_MSG)\n",
            "/usr/local/lib/python3.6/dist-packages/sklearn/linear_model/_logistic.py:940: ConvergenceWarning: lbfgs failed to converge (status=1):\n",
            "STOP: TOTAL NO. of ITERATIONS REACHED LIMIT.\n",
            "\n",
            "Increase the number of iterations (max_iter) or scale the data as shown in:\n",
            "    https://scikit-learn.org/stable/modules/preprocessing.html\n",
            "Please also refer to the documentation for alternative solver options:\n",
            "    https://scikit-learn.org/stable/modules/linear_model.html#logistic-regression\n",
            "  extra_warning_msg=_LOGISTIC_SOLVER_CONVERGENCE_MSG)\n",
            "/usr/local/lib/python3.6/dist-packages/sklearn/linear_model/_logistic.py:940: ConvergenceWarning: lbfgs failed to converge (status=1):\n",
            "STOP: TOTAL NO. of ITERATIONS REACHED LIMIT.\n",
            "\n",
            "Increase the number of iterations (max_iter) or scale the data as shown in:\n",
            "    https://scikit-learn.org/stable/modules/preprocessing.html\n",
            "Please also refer to the documentation for alternative solver options:\n",
            "    https://scikit-learn.org/stable/modules/linear_model.html#logistic-regression\n",
            "  extra_warning_msg=_LOGISTIC_SOLVER_CONVERGENCE_MSG)\n",
            "/usr/local/lib/python3.6/dist-packages/sklearn/linear_model/_logistic.py:940: ConvergenceWarning: lbfgs failed to converge (status=1):\n",
            "STOP: TOTAL NO. of ITERATIONS REACHED LIMIT.\n",
            "\n",
            "Increase the number of iterations (max_iter) or scale the data as shown in:\n",
            "    https://scikit-learn.org/stable/modules/preprocessing.html\n",
            "Please also refer to the documentation for alternative solver options:\n",
            "    https://scikit-learn.org/stable/modules/linear_model.html#logistic-regression\n",
            "  extra_warning_msg=_LOGISTIC_SOLVER_CONVERGENCE_MSG)\n",
            "/usr/local/lib/python3.6/dist-packages/sklearn/linear_model/_logistic.py:940: ConvergenceWarning: lbfgs failed to converge (status=1):\n",
            "STOP: TOTAL NO. of ITERATIONS REACHED LIMIT.\n",
            "\n",
            "Increase the number of iterations (max_iter) or scale the data as shown in:\n",
            "    https://scikit-learn.org/stable/modules/preprocessing.html\n",
            "Please also refer to the documentation for alternative solver options:\n",
            "    https://scikit-learn.org/stable/modules/linear_model.html#logistic-regression\n",
            "  extra_warning_msg=_LOGISTIC_SOLVER_CONVERGENCE_MSG)\n",
            "/usr/local/lib/python3.6/dist-packages/sklearn/linear_model/_logistic.py:940: ConvergenceWarning: lbfgs failed to converge (status=1):\n",
            "STOP: TOTAL NO. of ITERATIONS REACHED LIMIT.\n",
            "\n",
            "Increase the number of iterations (max_iter) or scale the data as shown in:\n",
            "    https://scikit-learn.org/stable/modules/preprocessing.html\n",
            "Please also refer to the documentation for alternative solver options:\n",
            "    https://scikit-learn.org/stable/modules/linear_model.html#logistic-regression\n",
            "  extra_warning_msg=_LOGISTIC_SOLVER_CONVERGENCE_MSG)\n",
            "/usr/local/lib/python3.6/dist-packages/sklearn/linear_model/_logistic.py:940: ConvergenceWarning: lbfgs failed to converge (status=1):\n",
            "STOP: TOTAL NO. of ITERATIONS REACHED LIMIT.\n",
            "\n",
            "Increase the number of iterations (max_iter) or scale the data as shown in:\n",
            "    https://scikit-learn.org/stable/modules/preprocessing.html\n",
            "Please also refer to the documentation for alternative solver options:\n",
            "    https://scikit-learn.org/stable/modules/linear_model.html#logistic-regression\n",
            "  extra_warning_msg=_LOGISTIC_SOLVER_CONVERGENCE_MSG)\n",
            "/usr/local/lib/python3.6/dist-packages/sklearn/linear_model/_logistic.py:940: ConvergenceWarning: lbfgs failed to converge (status=1):\n",
            "STOP: TOTAL NO. of ITERATIONS REACHED LIMIT.\n",
            "\n",
            "Increase the number of iterations (max_iter) or scale the data as shown in:\n",
            "    https://scikit-learn.org/stable/modules/preprocessing.html\n",
            "Please also refer to the documentation for alternative solver options:\n",
            "    https://scikit-learn.org/stable/modules/linear_model.html#logistic-regression\n",
            "  extra_warning_msg=_LOGISTIC_SOLVER_CONVERGENCE_MSG)\n"
          ],
          "name": "stderr"
        },
        {
          "output_type": "stream",
          "text": [
            "Optimal number of features: 8\n",
            "Selected features: ['Age', 'TravelAlone', 'Pclass_1', 'Pclass_2', 'Embarked_C', 'Embarked_S', 'Sex_male', 'IsMinor']\n"
          ],
          "name": "stdout"
        },
        {
          "output_type": "display_data",
          "data": {
            "image/png": "[encoded data removed]",
            "text/plain": [
              "<Figure size 720x432 with 1 Axes>"
            ]
          },
          "metadata": {
            "tags": [],
            "needs_background": "light"
          }
        }
      ]
    },
    {
      "cell_type": "code",
      "metadata": {
        "id": "oXRC3mJFyI2U",
        "colab_type": "code",
        "colab": {}
      },
      "source": [
        "Selected_features = ['Age', 'TravelAlone', 'Pclass_1', 'Pclass_2', 'Embarked_C', \n",
        "                     'Embarked_S', 'Sex_male', 'IsMinor']"
      ],
      "execution_count": null,
      "outputs": []
    },
    {
      "cell_type": "markdown",
      "metadata": {
        "id": "mZMWEKBMqJyU",
        "colab_type": "text"
      },
      "source": [
        "### 5) 혼동행렬(Confusion Matrix)\n",
        "- 지도학습 = 분류모형 평가\n",
        "\n",
        " - 예측값과 실제값을 행렬로 나타낸 것\n",
        " - 정분류율 = 제대로 예측한 값/전체 예측 값 = TP+TN/TP+FP+TN+FN\n",
        " - 민감도 = TP/TP+FN\n",
        " - 특이도 = TN/TN+FN\n",
        " - cut-off는 민감도와 특이도 부분의 교차점, 보통 0.5\n",
        " - ![1_Z54JgbS4DUwWSknhDCvNTQ.png](data:image/png;base64,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)\n",
        " - 이렇게 만들어 낸 ROC커브(모형의 성능)는 최소 0.5이상이어야한다"
      ]
    },
    {
      "cell_type": "code",
      "metadata": {
        "id": "7liYhJnEnaZK",
        "colab_type": "code",
        "colab": {
          "base_uri": "https://localhost:8080/",
          "height": 389
        },
        "outputId": "e75f41a7-3f3b-47f2-dab5-a1a6a3e7404a"
      },
      "source": [
        "from sklearn.model_selection import train_test_split, cross_val_score\n",
        "from sklearn.metrics import accuracy_score, classification_report, precision_score, recall_score \n",
        "from sklearn.metrics import confusion_matrix, precision_recall_curve, roc_curve, auc, log_loss\n",
        "\n",
        "# 데이터 셋 분리 \n",
        "X = final_train[Selected_features]\n",
        "y = final_train['Survived']\n",
        "\n",
        "X_train, X_test, y_train, y_test = train_test_split(X, y, test_size=0.2, random_state=2)\n",
        "\n",
        "# 로지스틱 회귀모형\n",
        "logreg = LogisticRegression()\n",
        "logreg.fit(X_train, y_train)\n",
        "y_pred = logreg.predict(X_test)\n",
        "y_pred_proba = logreg.predict_proba(X_test)[:, 1]\n",
        "[fpr, tpr, thr] = roc_curve(y_test, y_pred_proba)\n",
        "print('Train/Test split results:')\n",
        "print(logreg.__class__.__name__+\" accuracy is %2.3f\" % accuracy_score(y_test, y_pred))\n",
        "print(logreg.__class__.__name__+\" log_loss is %2.3f\" % log_loss(y_test, y_pred_proba))\n",
        "print(logreg.__class__.__name__+\" auc is %2.3f\" % auc(fpr, tpr))\n",
        "\n",
        "idx = np.min(np.where(tpr > 0.95)) # threshold \n",
        "\n",
        "plt.figure()\n",
        "plt.plot(fpr, tpr, color='coral', label='ROC curve (area = %0.3f)' % auc(fpr, tpr))\n",
        "plt.plot([0, 1], [0, 1], 'k--')\n",
        "plt.plot([0,fpr[idx]], [tpr[idx],tpr[idx]], 'k--', color='blue')\n",
        "plt.plot([fpr[idx],fpr[idx]], [0,tpr[idx]], 'k--', color='blue')\n",
        "plt.xlim([0.0, 1.0])\n",
        "plt.ylim([0.0, 1.05])\n",
        "plt.xlabel('False Positive Rate (1 - specificity)', fontsize=14)\n",
        "plt.ylabel('True Positive Rate (recall)', fontsize=14)\n",
        "plt.title('Receiver operating characteristic (ROC) curve')\n",
        "plt.legend(loc=\"lower right\")\n",
        "plt.show()\n",
        "\n",
        "print(\"Using a threshold of %.3f \" % thr[idx] + \"guarantees a sensitivity of %.3f \" % tpr[idx] +  \n",
        "      \"and a specificity of %.3f\" % (1-fpr[idx]) + \n",
        "      \", i.e. a false positive rate of %.2f%%.\" % (np.array(fpr[idx])*100))"
      ],
      "execution_count": null,
      "outputs": [
        {
          "output_type": "stream",
          "text": [
            "Train/Test split results:\n",
            "LogisticRegression accuracy is 0.799\n",
            "LogisticRegression log_loss is 0.460\n",
            "LogisticRegression auc is 0.852\n"
          ],
          "name": "stdout"
        },
        {
          "output_type": "display_data",
          "data": {
            "image/png": "[encoded data removed]",
            "text/plain": [
              "<Figure size 432x288 with 1 Axes>"
            ]
          },
          "metadata": {
            "tags": [],
            "needs_background": "light"
          }
        },
        {
          "output_type": "stream",
          "text": [
            "Using a threshold of 0.086 guarantees a sensitivity of 0.959 and a specificity of 0.226, i.e. a false positive rate of 77.36%.\n"
          ],
          "name": "stdout"
        }
      ]
    },
    {
      "cell_type": "code",
      "metadata": {
        "id": "2-f-Brv_yRUI",
        "colab_type": "code",
        "colab": {
          "base_uri": "https://localhost:8080/",
          "height": 125
        },
        "outputId": "19114fe8-84e7-4543-c2f1-81dff1c7ec11"
      },
      "source": [
        "final_test['Survived'] = logreg.predict(final_test[Selected_features])\n",
        "final_test['PassengerId'] = df_test['PassengerId']\n",
        "submission = final_test[['PassengerId','Survived']]\n",
        "submission.to_csv(\"submission.csv\", index=False)\n",
        "print(submission.tail())"
      ],
      "execution_count": null,
      "outputs": [
        {
          "output_type": "stream",
          "text": [
            "     PassengerId  Survived\n",
            "413         1043         0\n",
            "414         1101         0\n",
            "415         1157         0\n",
            "416         1187         0\n",
            "417         1226         0\n"
          ],
          "name": "stdout"
        }
      ]
    },
    {
      "cell_type": "code",
      "metadata": {
        "id": "EZYFXqdJyX16",
        "colab_type": "code",
        "colab": {}
      },
      "source": [
        ""
      ],
      "execution_count": null,
      "outputs": []
    }
  ]
}