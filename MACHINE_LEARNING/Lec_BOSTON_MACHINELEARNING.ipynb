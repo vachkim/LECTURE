{
  "nbformat": 4,
  "nbformat_minor": 0,
  "metadata": {
    "colab": {
      "name": "Lec_BOSTON_MACHINELEARNING.ipynb",
      "provenance": [],
      "collapsed_sections": [],
      "toc_visible": true,
      "authorship_tag": "ABX9TyOtu1VNu01HBg92mAl7GZJu",
      "include_colab_link": true
    },
    "kernelspec": {
      "name": "python3",
      "display_name": "Python 3"
    }
  },
  "cells": [
    {
      "cell_type": "markdown",
      "metadata": {
        "id": "view-in-github",
        "colab_type": "text"
      },
      "source": [
        "<a href=\"https://colab.research.google.com/github/vachkim/LECTURE/blob/master/MACHINE_LEARNING/Lec_BOSTON_MACHINELEARNING.ipynb\" target=\"_parent\"><img src=\"https://colab.research.google.com/assets/colab-badge.svg\" alt=\"Open In Colab\"/></a>"
      ]
    },
    {
      "cell_type": "markdown",
      "metadata": {
        "id": "qho-enwzwHPU",
        "colab_type": "text"
      },
      "source": [
        "### 1) 데이터 불러오기"
      ]
    },
    {
      "cell_type": "code",
      "metadata": {
        "id": "C1y8X0TPbayf",
        "colab_type": "code",
        "colab": {
          "base_uri": "https://localhost:8080/",
          "height": 163
        },
        "outputId": "254d1ce7-4a0c-49a9-904a-68e8a0623f02"
      },
      "source": [
        "from google.colab import drive\n",
        "\n",
        "ROOT = '/content/drive'\n",
        "drive.mount(ROOT)\n",
        "\n",
        "%cd drive/'My Drive'/'Data Analysis'/'Data'\n",
        "%ls"
      ],
      "execution_count": null,
      "outputs": [
        {
          "output_type": "stream",
          "text": [
            "Go to this URL in a browser: https://accounts.google.com/o/oauth2/auth?client_id=947318989803-6bn6qk8qdgf4n4g3pfee6491hc0brc4i.apps.googleusercontent.com&redirect_uri=urn%3aietf%3awg%3aoauth%3a2.0%3aoob&scope=email%20https%3a%2f%2fwww.googleapis.com%2fauth%2fdocs.test%20https%3a%2f%2fwww.googleapis.com%2fauth%2fdrive%20https%3a%2f%2fwww.googleapis.com%2fauth%2fdrive.photos.readonly%20https%3a%2f%2fwww.googleapis.com%2fauth%2fpeopleapi.readonly&response_type=code\n",
            "\n",
            "Enter your authorization code:\n",
            "··········\n",
            "Mounted at /content/drive\n",
            "/content/drive/My Drive/Data Analysis/Data\n",
            "data_description.txt  sample_submission.csv  test.csv  train.csv\n"
          ],
          "name": "stdout"
        }
      ]
    },
    {
      "cell_type": "code",
      "metadata": {
        "id": "GkiVdh0ocKZ2",
        "colab_type": "code",
        "colab": {}
      },
      "source": [
        "import pandas as pd\n",
        "sample_submission = pd.read_csv('sample_submission.csv')\n",
        "train = pd.read_csv('train.csv')\n",
        "test = pd.read_csv('test.csv')"
      ],
      "execution_count": null,
      "outputs": []
    },
    {
      "cell_type": "code",
      "metadata": {
        "id": "JsvcsbGzb8hI",
        "colab_type": "code",
        "colab": {
          "base_uri": "https://localhost:8080/",
          "height": 35
        },
        "outputId": "92d0d717-188f-483b-98db-84c616202045"
      },
      "source": [
        "from google.colab import auth\n",
        "auth.authenticate_user()\n",
        "print('Authenticated')"
      ],
      "execution_count": null,
      "outputs": [
        {
          "output_type": "stream",
          "text": [
            "Authenticated\n"
          ],
          "name": "stdout"
        }
      ]
    },
    {
      "cell_type": "code",
      "metadata": {
        "id": "bxu2icqUrDDa",
        "colab_type": "code",
        "colab": {
          "base_uri": "https://localhost:8080/",
          "height": 35
        },
        "outputId": "4b59bb51-8744-4c85-ac5d-09fd0abcc87a"
      },
      "source": [
        "import pandas as pd\n",
        "from pandas.io import gbq\n",
        "\n",
        "# Connect to Google Cloud API and Upload DataFrame\n",
        "sample_submission.to_gbq(destination_table='new_house.sample_submission', \n",
        "                  project_id='leafy-loader-286903', \n",
        "                  if_exists='replace')"
      ],
      "execution_count": null,
      "outputs": [
        {
          "output_type": "stream",
          "text": [
            "1it [00:02,  2.63s/it]\n"
          ],
          "name": "stderr"
        }
      ]
    },
    {
      "cell_type": "code",
      "metadata": {
        "id": "W4MtU5FKrz3d",
        "colab_type": "code",
        "colab": {}
      },
      "source": [
        "colnames_dict = {\"1stFlrSF\": \"my1stFlrSF\", \"2ndFlrSF\": \"my2ndFlrSF\", \"3SsnPorch\": \"my3SsnPorch\"}"
      ],
      "execution_count": null,
      "outputs": []
    },
    {
      "cell_type": "code",
      "metadata": {
        "id": "1ahQCbRRr5OY",
        "colab_type": "code",
        "colab": {
          "base_uri": "https://localhost:8080/",
          "height": 35
        },
        "outputId": "c18854a2-24e5-4c2e-860c-429f06fb050d"
      },
      "source": [
        "train = train.rename(columns=colnames_dict)\n",
        "train.to_gbq(destination_table='new_house.train', \n",
        "                  project_id='leafy-loader-286903', \n",
        "                  if_exists='replace')"
      ],
      "execution_count": null,
      "outputs": [
        {
          "output_type": "stream",
          "text": [
            "1it [00:02,  2.96s/it]\n"
          ],
          "name": "stderr"
        }
      ]
    },
    {
      "cell_type": "code",
      "metadata": {
        "id": "MMvmmghNsBur",
        "colab_type": "code",
        "colab": {
          "base_uri": "https://localhost:8080/",
          "height": 35
        },
        "outputId": "8443b8f1-3e30-48be-b1aa-6e4aae7fd28e"
      },
      "source": [
        "test = pd.read_csv('test.csv')\n",
        "test = test.rename(columns=colnames_dict)\n",
        "test.to_gbq(destination_table='new_house.test', \n",
        "            project_id='leafy-loader-286903', \n",
        "            if_exists='replace')"
      ],
      "execution_count": null,
      "outputs": [
        {
          "output_type": "stream",
          "text": [
            "1it [00:02,  2.83s/it]\n"
          ],
          "name": "stderr"
        }
      ]
    },
    {
      "cell_type": "code",
      "metadata": {
        "id": "iG2ouFHIat6X",
        "colab_type": "code",
        "colab": {
          "base_uri": "https://localhost:8080/",
          "height": 35
        },
        "outputId": "2887ae6a-82d5-418c-ab24-0f748c346324"
      },
      "source": [
        "from google.colab import auth\n",
        "from google.cloud import bigquery\n",
        "from tabulate import tabulate\n",
        "import pandas as pd\n",
        "\n",
        "project_id = 'leafy-loader-286903'\n",
        "client = bigquery.Client(project=project_id)\n",
        "\n",
        "df_train = client.query('''\n",
        "  SELECT \n",
        "      * \n",
        "  FROM `leafy-loader-286903.new_house.train`\n",
        "  ''').to_dataframe()\n",
        "\n",
        "df_train.shape"
      ],
      "execution_count": null,
      "outputs": [
        {
          "output_type": "execute_result",
          "data": {
            "text/plain": [
              "(1460, 81)"
            ]
          },
          "metadata": {
            "tags": []
          },
          "execution_count": 8
        }
      ]
    },
    {
      "cell_type": "code",
      "metadata": {
        "id": "9z6Bdzcnb1v6",
        "colab_type": "code",
        "colab": {
          "base_uri": "https://localhost:8080/",
          "height": 35
        },
        "outputId": "ddd75cab-6b85-4e5f-9024-d92e3b591b93"
      },
      "source": [
        "df_test = client.query('''\n",
        "  SELECT \n",
        "      * \n",
        "  FROM `leafy-loader-286903.new_house.test`\n",
        "  ''').to_dataframe()\n",
        "\n",
        "df_test.shape"
      ],
      "execution_count": null,
      "outputs": [
        {
          "output_type": "execute_result",
          "data": {
            "text/plain": [
              "(1459, 80)"
            ]
          },
          "metadata": {
            "tags": []
          },
          "execution_count": 9
        }
      ]
    },
    {
      "cell_type": "markdown",
      "metadata": {
        "id": "5N4jYVyebXsG",
        "colab_type": "text"
      },
      "source": [
        "### 2) 주요 패키지 불러오기"
      ]
    },
    {
      "cell_type": "code",
      "metadata": {
        "id": "J1SgFyTTbP_A",
        "colab_type": "code",
        "colab": {
          "base_uri": "https://localhost:8080/",
          "height": 73
        },
        "outputId": "51e39c13-4866-4c07-e716-d63e7dd50cc1"
      },
      "source": [
        "import math\n",
        "import numpy as np\n",
        "import pandas as pd\n",
        "import matplotlib.pyplot as plt\n",
        "%matplotlib inline\n",
        "import seaborn as sns\n",
        "from scipy.stats import norm\n",
        "import lightgbm as lgb\n",
        "from sklearn.model_selection import train_test_split\n",
        "from sklearn.metrics import mean_squared_log_error\n",
        "from sklearn import preprocessing\n",
        "from sklearn.preprocessing import StandardScaler\n",
        "from sklearn.model_selection import cross_val_score, cross_val_predict"
      ],
      "execution_count": null,
      "outputs": [
        {
          "output_type": "stream",
          "text": [
            "/usr/local/lib/python3.6/dist-packages/statsmodels/tools/_testing.py:19: FutureWarning: pandas.util.testing is deprecated. Use the functions in the public API at pandas.testing instead.\n",
            "  import pandas.util.testing as tm\n"
          ],
          "name": "stderr"
        }
      ]
    },
    {
      "cell_type": "markdown",
      "metadata": {
        "id": "srs7763dcWq_",
        "colab_type": "text"
      },
      "source": [
        "### 3) 결측 데이터 확인"
      ]
    },
    {
      "cell_type": "code",
      "metadata": {
        "id": "IR30rg5ScGmh",
        "colab_type": "code",
        "colab": {
          "base_uri": "https://localhost:8080/",
          "height": 377
        },
        "outputId": "3caed8f8-9f9e-49e1-b707-6437edfa5961"
      },
      "source": [
        "def check_fill_na(data):\n",
        "  new_df = data.copy()\n",
        "  new_df_na = (new_df.isnull().sum() / len(new_df)) * 100\n",
        "  new_df_na.sort_values(ascending=False).reset_index(drop=True)\n",
        "  new_df_na = new_df_na.drop(new_df_na[new_df_na == 0].index).sort_values(ascending=False)\n",
        "  return new_df_na\n",
        "\n",
        "check_fill_na(df_train)"
      ],
      "execution_count": null,
      "outputs": [
        {
          "output_type": "execute_result",
          "data": {
            "text/plain": [
              "PoolQC          99.520548\n",
              "MiscFeature     96.301370\n",
              "Alley           93.767123\n",
              "Fence           80.753425\n",
              "FireplaceQu     47.260274\n",
              "LotFrontage     17.739726\n",
              "GarageYrBlt      5.547945\n",
              "GarageType       5.547945\n",
              "GarageFinish     5.547945\n",
              "GarageQual       5.547945\n",
              "GarageCond       5.547945\n",
              "BsmtFinType2     2.602740\n",
              "BsmtExposure     2.602740\n",
              "BsmtFinType1     2.534247\n",
              "BsmtCond         2.534247\n",
              "BsmtQual         2.534247\n",
              "MasVnrArea       0.547945\n",
              "MasVnrType       0.547945\n",
              "Electrical       0.068493\n",
              "dtype: float64"
            ]
          },
          "metadata": {
            "tags": []
          },
          "execution_count": 11
        }
      ]
    },
    {
      "cell_type": "markdown",
      "metadata": {
        "id": "bC3SwCRecbMv",
        "colab_type": "text"
      },
      "source": [
        "### 4) 주요 함수 정의"
      ]
    },
    {
      "cell_type": "code",
      "metadata": {
        "id": "9l3lQ6_AcZt0",
        "colab_type": "code",
        "colab": {}
      },
      "source": [
        "def fill_missing(df, cols, val):\n",
        "    \"\"\" val 입력값을 넣는다. \"\"\"\n",
        "    for col in cols:\n",
        "        df[col] = df[col].fillna(val)\n",
        "\n",
        "def fill_missing_with_mode(df, cols):\n",
        "    \"\"\" 최대 빈도수를 넣는다. \"\"\"\n",
        "    for col in cols:\n",
        "        df[col] = df[col].fillna(df[col].mode()[0])\n",
        "        \n",
        "def addlogs(res, cols):\n",
        "    \"\"\" 로그 변환 \"\"\"\n",
        "    m = res.shape[1]\n",
        "    for c in cols:\n",
        "        res = res.assign(newcol=pd.Series(np.log(1.01+res[c])).values)   \n",
        "        res.columns.values[m] = c + '_log'\n",
        "        m += 1\n",
        "    return res"
      ],
      "execution_count": null,
      "outputs": []
    },
    {
      "cell_type": "markdown",
      "metadata": {
        "id": "L7keXJllc_GN",
        "colab_type": "text"
      },
      "source": [
        "### 5) 데이터 처리"
      ]
    },
    {
      "cell_type": "code",
      "metadata": {
        "id": "B5GjLskyceI4",
        "colab_type": "code",
        "colab": {}
      },
      "source": [
        "# 전체 면적 데이터 추가\n",
        "df_train['TotalSF'] = df_train['TotalBsmtSF'] + df_train['my1stFlrSF'] + df_train['my2ndFlrSF']"
      ],
      "execution_count": null,
      "outputs": []
    },
    {
      "cell_type": "code",
      "metadata": {
        "id": "oYGcPw-8dECK",
        "colab_type": "code",
        "colab": {}
      },
      "source": [
        "#로그 변환\n",
        "loglist = ['LotFrontage','LotArea','MasVnrArea','BsmtFinSF1','BsmtFinSF2','BsmtUnfSF',\n",
        "            'TotalBsmtSF','my1stFlrSF','my2ndFlrSF','LowQualFinSF','GrLivArea',\n",
        "            'BsmtFullBath','BsmtHalfBath','FullBath','HalfBath','BedroomAbvGr','KitchenAbvGr',\n",
        "            'TotRmsAbvGrd','Fireplaces','GarageCars','GarageArea','WoodDeckSF','OpenPorchSF',\n",
        "            'EnclosedPorch','my3SsnPorch','ScreenPorch','PoolArea','MiscVal','YearRemodAdd','TotalSF']\n",
        "\n",
        "df_train = addlogs(df_train, loglist)"
      ],
      "execution_count": null,
      "outputs": []
    },
    {
      "cell_type": "code",
      "metadata": {
        "id": "ehbE2q8ddF0E",
        "colab_type": "code",
        "colab": {}
      },
      "source": [
        "#종속변수 로그변환\n",
        "df_train[\"SalePrice\"] = np.log1p(df_train[\"SalePrice\"])"
      ],
      "execution_count": null,
      "outputs": []
    },
    {
      "cell_type": "code",
      "metadata": {
        "id": "OJPOM3lbtFi0",
        "colab_type": "code",
        "colab": {
          "base_uri": "https://localhost:8080/",
          "height": 233
        },
        "outputId": "b1bbe0ed-daf5-4894-bdea-cc6cb2d337b8"
      },
      "source": [
        "df_train['SalePrice']"
      ],
      "execution_count": null,
      "outputs": [
        {
          "output_type": "execute_result",
          "data": {
            "text/plain": [
              "0       11.931642\n",
              "1       11.283525\n",
              "2       11.798112\n",
              "3       12.468441\n",
              "4       11.512935\n",
              "          ...    \n",
              "1455    11.849405\n",
              "1456    12.031725\n",
              "1457    12.341263\n",
              "1458    11.786770\n",
              "1459    11.767575\n",
              "Name: SalePrice, Length: 1460, dtype: float64"
            ]
          },
          "metadata": {
            "tags": []
          },
          "execution_count": 96
        }
      ]
    },
    {
      "cell_type": "code",
      "metadata": {
        "id": "bV7SRzFSdIYB",
        "colab_type": "code",
        "colab": {}
      },
      "source": [
        "#결측치 처리\n",
        "# 우선, 결측치가 있는 것 중, 범주형 데이터는 \"None\"으로 확인\n",
        "fill_missing(df_train, [\"PoolQC\", \"MiscFeature\", \"Alley\", \"Fence\", \"FireplaceQu\", \n",
        "                        \"GarageType\", \"GarageFinish\", \"GarageQual\", \"GarageCond\",\n",
        "                       'BsmtQual', 'BsmtCond', 'BsmtExposure', 'BsmtFinType1', 'BsmtFinType2',\n",
        "                       \"MasVnrType\", \"MSSubClass\"], \"None\") \n",
        "\n",
        "# 수치형 데이터는 0으로 보간\n",
        "fill_missing(df_train, [\"GarageYrBlt\", \"GarageArea\", \"GarageCars\",\n",
        "                       'BsmtFinSF1', 'BsmtFinSF2', 'BsmtUnfSF','TotalBsmtSF', 'BsmtFullBath', 'BsmtHalfBath',\n",
        "                       \"MasVnrArea\"], 0)\n",
        "# 그 중, 일부는 빈도수로 채워 넣는다.  \n",
        "fill_missing_with_mode(df_train, [\"MSZoning\", \"KitchenQual\", \"Exterior1st\", \"Exterior2nd\", \"SaleType\"])\n",
        "fill_missing(df_train, [\"Functional\"],\"Typ\")"
      ],
      "execution_count": null,
      "outputs": []
    },
    {
      "cell_type": "code",
      "metadata": {
        "id": "7vO6xtKXdMqu",
        "colab_type": "code",
        "colab": {}
      },
      "source": [
        "#변수 삭제\n",
        "df_train.drop(['Utilities'], axis=1, inplace=True)"
      ],
      "execution_count": null,
      "outputs": []
    },
    {
      "cell_type": "code",
      "metadata": {
        "id": "TXVUebdVtTRj",
        "colab_type": "code",
        "colab": {
          "base_uri": "https://localhost:8080/",
          "height": 233
        },
        "outputId": "4d556c2a-535f-41f8-8dc4-35f9dd0d11ae"
      },
      "source": [
        "df_train['SalePrice']"
      ],
      "execution_count": null,
      "outputs": [
        {
          "output_type": "execute_result",
          "data": {
            "text/plain": [
              "0       11.931642\n",
              "1       11.283525\n",
              "2       11.798112\n",
              "3       12.468441\n",
              "4       11.512935\n",
              "          ...    \n",
              "1455    11.849405\n",
              "1456    12.031725\n",
              "1457    12.341263\n",
              "1458    11.786770\n",
              "1459    11.767575\n",
              "Name: SalePrice, Length: 1460, dtype: float64"
            ]
          },
          "metadata": {
            "tags": []
          },
          "execution_count": 19
        }
      ]
    },
    {
      "cell_type": "code",
      "metadata": {
        "id": "EXDIRwIXdPPg",
        "colab_type": "code",
        "colab": {}
      },
      "source": [
        "#이상치 제거\n",
        "df_train.drop(df_train[(df_train['OverallQual']<5) & (df_train['SalePrice']>200000)].index, inplace=True)\n",
        "df_train.drop(df_train[(df_train['GrLivArea']>4000) & (df_train['SalePrice']<300000)].index, inplace=True)\n",
        "df_train.reset_index(drop=True, inplace=True)"
      ],
      "execution_count": null,
      "outputs": []
    },
    {
      "cell_type": "code",
      "metadata": {
        "id": "U9EwVfgsdQzy",
        "colab_type": "code",
        "colab": {}
      },
      "source": [
        "#재범주화\n",
        "df_train['MSSubClass'] = df_train['MSSubClass'].apply(str)\n",
        "df_train['YrSold'] = df_train['YrSold'].astype(str)\n",
        "df_train['MoSold'] = df_train['MoSold'].astype(str)"
      ],
      "execution_count": null,
      "outputs": []
    },
    {
      "cell_type": "code",
      "metadata": {
        "id": "9SycTr3hdS4N",
        "colab_type": "code",
        "colab": {}
      },
      "source": [
        "#범주형 데이터 다루기\n",
        "#원핫인코딩 _ 원핫인코딩은 범주형 데이터가 너무 크지 않을 경우 사용한다\n",
        "#범주형 데이터가 너무 많을 경우에는 범주끼리 묶어서 재범주화 하는 과정이 필요하다\n",
        "def fix_missing_cols(in_train, in_test):\n",
        "    missing_cols = set(in_train.columns) - set(in_test.columns)\n",
        "    # 테스트 데이터와 훈련 데이터의 컬럼을 동일하게 하는 코드는 작성한다. \n",
        "    for c in missing_cols:\n",
        "        in_test[c] = 0\n",
        "    # 순서를 동일하게 만든다. \n",
        "    in_test = in_test[in_train.columns]\n",
        "    return in_test\n",
        "\n",
        "def dummy_encode(in_df_train, in_df_test):\n",
        "    df_train = in_df_train\n",
        "    df_test = in_df_test\n",
        "    categorical_feats = [\n",
        "        f for f in df_train.columns if df_train[f].dtype == 'object'\n",
        "    ]\n",
        "    print(categorical_feats)\n",
        "    for f_ in categorical_feats:\n",
        "        prefix = f_\n",
        "        df_train = pd.concat([df_train, pd.get_dummies(df_train[f_], prefix=prefix)], axis=1).drop(f_, axis=1)\n",
        "        df_test = pd.concat([df_test, pd.get_dummies(df_test[f_], prefix=prefix)], axis=1).drop(f_, axis=1)\n",
        "        df_test = fix_missing_cols(df_train, df_test)\n",
        "    return df_train, df_test"
      ],
      "execution_count": null,
      "outputs": []
    },
    {
      "cell_type": "code",
      "metadata": {
        "id": "3nglz_8XtW7i",
        "colab_type": "code",
        "colab": {
          "base_uri": "https://localhost:8080/",
          "height": 233
        },
        "outputId": "efddd04c-b98e-4bbd-f190-5c34a62d15df"
      },
      "source": [
        "df_train['SalePrice']"
      ],
      "execution_count": null,
      "outputs": [
        {
          "output_type": "execute_result",
          "data": {
            "text/plain": [
              "0       11.931642\n",
              "1       11.283525\n",
              "2       11.798112\n",
              "3       12.468441\n",
              "4       11.512935\n",
              "          ...    \n",
              "1451    11.849405\n",
              "1452    12.031725\n",
              "1453    12.341263\n",
              "1454    11.786770\n",
              "1455    11.767575\n",
              "Name: SalePrice, Length: 1456, dtype: float64"
            ]
          },
          "metadata": {
            "tags": []
          },
          "execution_count": 103
        }
      ]
    },
    {
      "cell_type": "code",
      "metadata": {
        "id": "8_Tz7PiAvCkm",
        "colab_type": "code",
        "colab": {
          "base_uri": "https://localhost:8080/",
          "height": 73
        },
        "outputId": "60a1807f-153e-431a-9ec7-2b4ccd52c525"
      },
      "source": [
        "df_train, df_test = dummy_encode(df_train, df_test)\n",
        "print(\"Shape train: %s, test: %s\" % (df_train.shape, df_test.shape))"
      ],
      "execution_count": null,
      "outputs": [
        {
          "output_type": "stream",
          "text": [
            "['MSSubClass', 'MSZoning', 'Street', 'Alley', 'LotShape', 'LandContour', 'LotConfig', 'LandSlope', 'Neighborhood', 'Condition1', 'Condition2', 'BldgType', 'HouseStyle', 'RoofStyle', 'RoofMatl', 'Exterior1st', 'Exterior2nd', 'MasVnrType', 'ExterQual', 'ExterCond', 'Foundation', 'BsmtQual', 'BsmtCond', 'BsmtExposure', 'BsmtFinType1', 'BsmtFinType2', 'Heating', 'HeatingQC', 'CentralAir', 'Electrical', 'KitchenQual', 'Functional', 'FireplaceQu', 'GarageType', 'GarageFinish', 'GarageQual', 'GarageCond', 'PavedDrive', 'PoolQC', 'Fence', 'MiscFeature', 'MoSold', 'YrSold', 'SaleType', 'SaleCondition']\n",
            "Shape train: (1456, 361), test: (1459, 361)\n"
          ],
          "name": "stdout"
        }
      ]
    },
    {
      "cell_type": "markdown",
      "metadata": {
        "id": "zWePn1r6dbQS",
        "colab_type": "text"
      },
      "source": [
        "### 6) 머신러닝 모형 개발"
      ]
    },
    {
      "cell_type": "code",
      "metadata": {
        "id": "bRzfGV_OdXSB",
        "colab_type": "code",
        "colab": {}
      },
      "source": [
        "#bagging/busting\n",
        "#lightGBM/XGBoost"
      ],
      "execution_count": null,
      "outputs": []
    },
    {
      "cell_type": "code",
      "metadata": {
        "id": "QKOLziXTj_vD",
        "colab_type": "code",
        "colab": {
          "base_uri": "https://localhost:8080/",
          "height": 89
        },
        "outputId": "a21bbb65-f464-4bf4-8639-e4f3894496f6"
      },
      "source": [
        "# 종속변수 처리\n",
        "y = df_train[\"SalePrice\"]\n",
        "y.sample(3)"
      ],
      "execution_count": null,
      "outputs": [
        {
          "output_type": "execute_result",
          "data": {
            "text/plain": [
              "790     12.055256\n",
              "680     12.000898\n",
              "1322    12.027191\n",
              "Name: SalePrice, dtype: float64"
            ]
          },
          "metadata": {
            "tags": []
          },
          "execution_count": 22
        }
      ]
    },
    {
      "cell_type": "code",
      "metadata": {
        "id": "qlazR53SkLo2",
        "colab_type": "code",
        "colab": {
          "base_uri": "https://localhost:8080/",
          "height": 35
        },
        "outputId": "0dedbf0f-7f2d-4af4-f0d3-178846503f22"
      },
      "source": [
        "df_train.drop([\"SalePrice\"], axis=1, inplace=True)\n",
        "df_test.drop([\"SalePrice\"], axis=1, inplace=True)\n",
        "\n",
        "print(\"Shape train: %s, test: %s\" % (df_train.shape, df_test.shape))"
      ],
      "execution_count": null,
      "outputs": [
        {
          "output_type": "stream",
          "text": [
            "Shape train: (1456, 360), test: (1459, 360)\n"
          ],
          "name": "stdout"
        }
      ]
    },
    {
      "cell_type": "code",
      "metadata": {
        "id": "ErTYbncLmmiV",
        "colab_type": "code",
        "colab": {}
      },
      "source": [
        "#데이터셋 분리\n",
        "X_train, X_test, y_train, y_test = train_test_split( df_train, y, test_size=0.2, random_state=42)"
      ],
      "execution_count": null,
      "outputs": []
    },
    {
      "cell_type": "code",
      "metadata": {
        "id": "CPgvo2_Sm0qs",
        "colab_type": "code",
        "colab": {}
      },
      "source": [
        "#LightGBM 파라미터 정의\n",
        "hyper_params = {\n",
        "    'task': 'train',\n",
        "    'boosting_type': 'gbdt',\n",
        "    'objective': 'regression',\n",
        "    'metric': ['l2', 'auc'],\n",
        "    'learning_rate': 0.005,\n",
        "    'feature_fraction': 0.9,\n",
        "    'bagging_fraction': 0.7,\n",
        "    'bagging_freq': 10,\n",
        "    'verbose': 0,\n",
        "    \"max_depth\": 8,\n",
        "    \"num_leaves\": 128,  \n",
        "    \"max_bin\": 512,\n",
        "    \"num_iterations\": 100000,\n",
        "    \"n_estimators\": 1000\n",
        "}"
      ],
      "execution_count": null,
      "outputs": []
    },
    {
      "cell_type": "code",
      "metadata": {
        "id": "MsiYmqJpm7PQ",
        "colab_type": "code",
        "colab": {}
      },
      "source": [
        "#모델 정의\n",
        "gbm = lgb.LGBMRegressor(**hyper_params)"
      ],
      "execution_count": null,
      "outputs": []
    },
    {
      "cell_type": "code",
      "metadata": {
        "id": "LWP16I_4m9U1",
        "colab_type": "code",
        "colab": {
          "base_uri": "https://localhost:8080/",
          "height": 1000
        },
        "outputId": "bfbc0eff-5680-4b92-b212-81f9e838760c"
      },
      "source": [
        "#모델 학습\n",
        "gbm.fit(X_train, y_train,\n",
        "        eval_set=[(X_test, y_test)],\n",
        "        eval_metric='l1',\n",
        "        early_stopping_rounds=1000)"
      ],
      "execution_count": null,
      "outputs": [
        {
          "output_type": "stream",
          "text": [
            "/usr/local/lib/python3.6/dist-packages/lightgbm/engine.py:118: UserWarning: Found `num_iterations` in params. Will use it instead of argument\n",
            "  warnings.warn(\"Found `{}` in params. Will use it instead of argument\".format(alias))\n"
          ],
          "name": "stderr"
        },
        {
          "output_type": "stream",
          "text": [
            "[1]\tvalid_0's auc: 1\tvalid_0's l1: 0.333038\tvalid_0's l2: 0.186477\n",
            "Training until validation scores don't improve for 1000 rounds.\n",
            "[2]\tvalid_0's auc: 1\tvalid_0's l1: 0.331606\tvalid_0's l2: 0.185073\n",
            "[3]\tvalid_0's auc: 1\tvalid_0's l1: 0.330192\tvalid_0's l2: 0.183684\n",
            "[4]\tvalid_0's auc: 1\tvalid_0's l1: 0.328797\tvalid_0's l2: 0.18231\n",
            "[5]\tvalid_0's auc: 1\tvalid_0's l1: 0.327404\tvalid_0's l2: 0.18095\n",
            "[6]\tvalid_0's auc: 1\tvalid_0's l1: 0.326023\tvalid_0's l2: 0.179603\n",
            "[7]\tvalid_0's auc: 1\tvalid_0's l1: 0.324652\tvalid_0's l2: 0.17828\n",
            "[8]\tvalid_0's auc: 1\tvalid_0's l1: 0.323279\tvalid_0's l2: 0.176947\n",
            "[9]\tvalid_0's auc: 1\tvalid_0's l1: 0.321952\tvalid_0's l2: 0.175652\n",
            "[10]\tvalid_0's auc: 1\tvalid_0's l1: 0.320633\tvalid_0's l2: 0.174352\n",
            "[11]\tvalid_0's auc: 1\tvalid_0's l1: 0.319239\tvalid_0's l2: 0.172985\n",
            "[12]\tvalid_0's auc: 1\tvalid_0's l1: 0.317859\tvalid_0's l2: 0.171633\n",
            "[13]\tvalid_0's auc: 1\tvalid_0's l1: 0.316502\tvalid_0's l2: 0.170309\n",
            "[14]\tvalid_0's auc: 1\tvalid_0's l1: 0.315116\tvalid_0's l2: 0.16898\n",
            "[15]\tvalid_0's auc: 1\tvalid_0's l1: 0.313772\tvalid_0's l2: 0.167683\n",
            "[16]\tvalid_0's auc: 1\tvalid_0's l1: 0.31242\tvalid_0's l2: 0.166394\n",
            "[17]\tvalid_0's auc: 1\tvalid_0's l1: 0.311063\tvalid_0's l2: 0.165107\n",
            "[18]\tvalid_0's auc: 1\tvalid_0's l1: 0.309722\tvalid_0's l2: 0.163844\n",
            "[19]\tvalid_0's auc: 1\tvalid_0's l1: 0.308362\tvalid_0's l2: 0.162577\n",
            "[20]\tvalid_0's auc: 1\tvalid_0's l1: 0.307035\tvalid_0's l2: 0.16135\n",
            "[21]\tvalid_0's auc: 1\tvalid_0's l1: 0.30574\tvalid_0's l2: 0.160154\n",
            "[22]\tvalid_0's auc: 1\tvalid_0's l1: 0.304455\tvalid_0's l2: 0.158952\n",
            "[23]\tvalid_0's auc: 1\tvalid_0's l1: 0.303184\tvalid_0's l2: 0.157766\n",
            "[24]\tvalid_0's auc: 1\tvalid_0's l1: 0.301915\tvalid_0's l2: 0.156588\n",
            "[25]\tvalid_0's auc: 1\tvalid_0's l1: 0.300652\tvalid_0's l2: 0.155422\n",
            "[26]\tvalid_0's auc: 1\tvalid_0's l1: 0.299401\tvalid_0's l2: 0.154271\n",
            "[27]\tvalid_0's auc: 1\tvalid_0's l1: 0.29816\tvalid_0's l2: 0.153128\n",
            "[28]\tvalid_0's auc: 1\tvalid_0's l1: 0.296939\tvalid_0's l2: 0.152007\n",
            "[29]\tvalid_0's auc: 1\tvalid_0's l1: 0.29571\tvalid_0's l2: 0.150886\n",
            "[30]\tvalid_0's auc: 1\tvalid_0's l1: 0.294487\tvalid_0's l2: 0.149777\n",
            "[31]\tvalid_0's auc: 1\tvalid_0's l1: 0.293253\tvalid_0's l2: 0.14867\n",
            "[32]\tvalid_0's auc: 1\tvalid_0's l1: 0.292036\tvalid_0's l2: 0.147577\n",
            "[33]\tvalid_0's auc: 1\tvalid_0's l1: 0.290788\tvalid_0's l2: 0.146476\n",
            "[34]\tvalid_0's auc: 1\tvalid_0's l1: 0.289586\tvalid_0's l2: 0.145403\n",
            "[35]\tvalid_0's auc: 1\tvalid_0's l1: 0.288388\tvalid_0's l2: 0.144338\n",
            "[36]\tvalid_0's auc: 1\tvalid_0's l1: 0.287178\tvalid_0's l2: 0.143281\n",
            "[37]\tvalid_0's auc: 1\tvalid_0's l1: 0.286005\tvalid_0's l2: 0.14225\n",
            "[38]\tvalid_0's auc: 1\tvalid_0's l1: 0.284832\tvalid_0's l2: 0.141221\n",
            "[39]\tvalid_0's auc: 1\tvalid_0's l1: 0.283683\tvalid_0's l2: 0.140209\n",
            "[40]\tvalid_0's auc: 1\tvalid_0's l1: 0.282515\tvalid_0's l2: 0.139199\n",
            "[41]\tvalid_0's auc: 1\tvalid_0's l1: 0.28136\tvalid_0's l2: 0.138212\n",
            "[42]\tvalid_0's auc: 1\tvalid_0's l1: 0.280197\tvalid_0's l2: 0.13724\n",
            "[43]\tvalid_0's auc: 1\tvalid_0's l1: 0.279079\tvalid_0's l2: 0.136299\n",
            "[44]\tvalid_0's auc: 1\tvalid_0's l1: 0.277933\tvalid_0's l2: 0.135336\n",
            "[45]\tvalid_0's auc: 1\tvalid_0's l1: 0.276826\tvalid_0's l2: 0.134398\n",
            "[46]\tvalid_0's auc: 1\tvalid_0's l1: 0.275697\tvalid_0's l2: 0.133457\n",
            "[47]\tvalid_0's auc: 1\tvalid_0's l1: 0.274587\tvalid_0's l2: 0.132536\n",
            "[48]\tvalid_0's auc: 1\tvalid_0's l1: 0.273479\tvalid_0's l2: 0.131645\n",
            "[49]\tvalid_0's auc: 1\tvalid_0's l1: 0.272353\tvalid_0's l2: 0.130738\n",
            "[50]\tvalid_0's auc: 1\tvalid_0's l1: 0.271238\tvalid_0's l2: 0.129837\n",
            "[51]\tvalid_0's auc: 1\tvalid_0's l1: 0.270164\tvalid_0's l2: 0.128927\n",
            "[52]\tvalid_0's auc: 1\tvalid_0's l1: 0.269095\tvalid_0's l2: 0.128026\n",
            "[53]\tvalid_0's auc: 1\tvalid_0's l1: 0.267999\tvalid_0's l2: 0.127123\n",
            "[54]\tvalid_0's auc: 1\tvalid_0's l1: 0.266909\tvalid_0's l2: 0.126228\n",
            "[55]\tvalid_0's auc: 1\tvalid_0's l1: 0.265823\tvalid_0's l2: 0.125343\n",
            "[56]\tvalid_0's auc: 1\tvalid_0's l1: 0.264745\tvalid_0's l2: 0.124466\n",
            "[57]\tvalid_0's auc: 1\tvalid_0's l1: 0.263674\tvalid_0's l2: 0.123598\n",
            "[58]\tvalid_0's auc: 1\tvalid_0's l1: 0.262641\tvalid_0's l2: 0.122749\n",
            "[59]\tvalid_0's auc: 1\tvalid_0's l1: 0.261613\tvalid_0's l2: 0.121909\n",
            "[60]\tvalid_0's auc: 1\tvalid_0's l1: 0.260558\tvalid_0's l2: 0.121066\n",
            "[61]\tvalid_0's auc: 1\tvalid_0's l1: 0.259479\tvalid_0's l2: 0.120198\n",
            "[62]\tvalid_0's auc: 1\tvalid_0's l1: 0.258394\tvalid_0's l2: 0.119359\n",
            "[63]\tvalid_0's auc: 1\tvalid_0's l1: 0.25732\tvalid_0's l2: 0.118533\n",
            "[64]\tvalid_0's auc: 1\tvalid_0's l1: 0.25624\tvalid_0's l2: 0.117703\n",
            "[65]\tvalid_0's auc: 1\tvalid_0's l1: 0.255183\tvalid_0's l2: 0.116867\n",
            "[66]\tvalid_0's auc: 1\tvalid_0's l1: 0.254131\tvalid_0's l2: 0.11604\n",
            "[67]\tvalid_0's auc: 1\tvalid_0's l1: 0.253082\tvalid_0's l2: 0.115221\n",
            "[68]\tvalid_0's auc: 1\tvalid_0's l1: 0.252033\tvalid_0's l2: 0.114427\n",
            "[69]\tvalid_0's auc: 1\tvalid_0's l1: 0.251022\tvalid_0's l2: 0.113636\n",
            "[70]\tvalid_0's auc: 1\tvalid_0's l1: 0.249995\tvalid_0's l2: 0.112841\n",
            "[71]\tvalid_0's auc: 1\tvalid_0's l1: 0.249042\tvalid_0's l2: 0.112099\n",
            "[72]\tvalid_0's auc: 1\tvalid_0's l1: 0.248066\tvalid_0's l2: 0.111356\n",
            "[73]\tvalid_0's auc: 1\tvalid_0's l1: 0.247137\tvalid_0's l2: 0.110633\n",
            "[74]\tvalid_0's auc: 1\tvalid_0's l1: 0.246213\tvalid_0's l2: 0.109927\n",
            "[75]\tvalid_0's auc: 1\tvalid_0's l1: 0.245305\tvalid_0's l2: 0.109217\n",
            "[76]\tvalid_0's auc: 1\tvalid_0's l1: 0.244404\tvalid_0's l2: 0.108526\n",
            "[77]\tvalid_0's auc: 1\tvalid_0's l1: 0.243503\tvalid_0's l2: 0.107828\n",
            "[78]\tvalid_0's auc: 1\tvalid_0's l1: 0.24262\tvalid_0's l2: 0.107142\n",
            "[79]\tvalid_0's auc: 1\tvalid_0's l1: 0.24171\tvalid_0's l2: 0.106454\n",
            "[80]\tvalid_0's auc: 1\tvalid_0's l1: 0.240835\tvalid_0's l2: 0.105774\n",
            "[81]\tvalid_0's auc: 1\tvalid_0's l1: 0.239931\tvalid_0's l2: 0.105113\n",
            "[82]\tvalid_0's auc: 1\tvalid_0's l1: 0.239013\tvalid_0's l2: 0.10445\n",
            "[83]\tvalid_0's auc: 1\tvalid_0's l1: 0.238121\tvalid_0's l2: 0.103802\n",
            "[84]\tvalid_0's auc: 1\tvalid_0's l1: 0.237229\tvalid_0's l2: 0.103149\n",
            "[85]\tvalid_0's auc: 1\tvalid_0's l1: 0.236346\tvalid_0's l2: 0.102513\n",
            "[86]\tvalid_0's auc: 1\tvalid_0's l1: 0.235464\tvalid_0's l2: 0.101873\n",
            "[87]\tvalid_0's auc: 1\tvalid_0's l1: 0.234595\tvalid_0's l2: 0.101239\n",
            "[88]\tvalid_0's auc: 1\tvalid_0's l1: 0.233723\tvalid_0's l2: 0.100623\n",
            "[89]\tvalid_0's auc: 1\tvalid_0's l1: 0.232923\tvalid_0's l2: 0.10003\n",
            "[90]\tvalid_0's auc: 1\tvalid_0's l1: 0.232081\tvalid_0's l2: 0.0994325\n",
            "[91]\tvalid_0's auc: 1\tvalid_0's l1: 0.231256\tvalid_0's l2: 0.0988341\n",
            "[92]\tvalid_0's auc: 1\tvalid_0's l1: 0.23043\tvalid_0's l2: 0.0982427\n",
            "[93]\tvalid_0's auc: 1\tvalid_0's l1: 0.229611\tvalid_0's l2: 0.0976575\n",
            "[94]\tvalid_0's auc: 1\tvalid_0's l1: 0.228802\tvalid_0's l2: 0.0970764\n",
            "[95]\tvalid_0's auc: 1\tvalid_0's l1: 0.227986\tvalid_0's l2: 0.0964998\n",
            "[96]\tvalid_0's auc: 1\tvalid_0's l1: 0.227177\tvalid_0's l2: 0.0959351\n",
            "[97]\tvalid_0's auc: 1\tvalid_0's l1: 0.226367\tvalid_0's l2: 0.0953646\n",
            "[98]\tvalid_0's auc: 1\tvalid_0's l1: 0.225571\tvalid_0's l2: 0.0948064\n",
            "[99]\tvalid_0's auc: 1\tvalid_0's l1: 0.224767\tvalid_0's l2: 0.0942486\n",
            "[100]\tvalid_0's auc: 1\tvalid_0's l1: 0.223984\tvalid_0's l2: 0.0937024\n",
            "[101]\tvalid_0's auc: 1\tvalid_0's l1: 0.223225\tvalid_0's l2: 0.0931472\n",
            "[102]\tvalid_0's auc: 1\tvalid_0's l1: 0.222479\tvalid_0's l2: 0.0925974\n",
            "[103]\tvalid_0's auc: 1\tvalid_0's l1: 0.221736\tvalid_0's l2: 0.0920528\n",
            "[104]\tvalid_0's auc: 1\tvalid_0's l1: 0.221\tvalid_0's l2: 0.0915138\n",
            "[105]\tvalid_0's auc: 1\tvalid_0's l1: 0.220276\tvalid_0's l2: 0.0909796\n",
            "[106]\tvalid_0's auc: 1\tvalid_0's l1: 0.219556\tvalid_0's l2: 0.090451\n",
            "[107]\tvalid_0's auc: 1\tvalid_0's l1: 0.218826\tvalid_0's l2: 0.0899295\n",
            "[108]\tvalid_0's auc: 1\tvalid_0's l1: 0.218104\tvalid_0's l2: 0.0894069\n",
            "[109]\tvalid_0's auc: 1\tvalid_0's l1: 0.217398\tvalid_0's l2: 0.088892\n",
            "[110]\tvalid_0's auc: 1\tvalid_0's l1: 0.216633\tvalid_0's l2: 0.0883824\n",
            "[111]\tvalid_0's auc: 1\tvalid_0's l1: 0.215829\tvalid_0's l2: 0.0878517\n",
            "[112]\tvalid_0's auc: 1\tvalid_0's l1: 0.215036\tvalid_0's l2: 0.0873278\n",
            "[113]\tvalid_0's auc: 1\tvalid_0's l1: 0.214272\tvalid_0's l2: 0.0868143\n",
            "[114]\tvalid_0's auc: 1\tvalid_0's l1: 0.21351\tvalid_0's l2: 0.0863019\n",
            "[115]\tvalid_0's auc: 1\tvalid_0's l1: 0.212764\tvalid_0's l2: 0.0857982\n",
            "[116]\tvalid_0's auc: 1\tvalid_0's l1: 0.212028\tvalid_0's l2: 0.0853065\n",
            "[117]\tvalid_0's auc: 1\tvalid_0's l1: 0.211302\tvalid_0's l2: 0.0848346\n",
            "[118]\tvalid_0's auc: 1\tvalid_0's l1: 0.210594\tvalid_0's l2: 0.0843538\n",
            "[119]\tvalid_0's auc: 1\tvalid_0's l1: 0.209875\tvalid_0's l2: 0.0838739\n",
            "[120]\tvalid_0's auc: 1\tvalid_0's l1: 0.209173\tvalid_0's l2: 0.0833984\n",
            "[121]\tvalid_0's auc: 1\tvalid_0's l1: 0.208462\tvalid_0's l2: 0.0829321\n",
            "[122]\tvalid_0's auc: 1\tvalid_0's l1: 0.207756\tvalid_0's l2: 0.0824703\n",
            "[123]\tvalid_0's auc: 1\tvalid_0's l1: 0.207066\tvalid_0's l2: 0.0820144\n",
            "[124]\tvalid_0's auc: 1\tvalid_0's l1: 0.206367\tvalid_0's l2: 0.081551\n",
            "[125]\tvalid_0's auc: 1\tvalid_0's l1: 0.205677\tvalid_0's l2: 0.0811024\n",
            "[126]\tvalid_0's auc: 1\tvalid_0's l1: 0.204991\tvalid_0's l2: 0.0806537\n",
            "[127]\tvalid_0's auc: 1\tvalid_0's l1: 0.2043\tvalid_0's l2: 0.0802125\n",
            "[128]\tvalid_0's auc: 1\tvalid_0's l1: 0.203624\tvalid_0's l2: 0.0797764\n",
            "[129]\tvalid_0's auc: 1\tvalid_0's l1: 0.202944\tvalid_0's l2: 0.0793265\n",
            "[130]\tvalid_0's auc: 1\tvalid_0's l1: 0.202282\tvalid_0's l2: 0.0788984\n",
            "[131]\tvalid_0's auc: 1\tvalid_0's l1: 0.201642\tvalid_0's l2: 0.0784813\n",
            "[132]\tvalid_0's auc: 1\tvalid_0's l1: 0.200997\tvalid_0's l2: 0.0780612\n",
            "[133]\tvalid_0's auc: 1\tvalid_0's l1: 0.20035\tvalid_0's l2: 0.0776434\n",
            "[134]\tvalid_0's auc: 1\tvalid_0's l1: 0.199709\tvalid_0's l2: 0.0772287\n",
            "[135]\tvalid_0's auc: 1\tvalid_0's l1: 0.199071\tvalid_0's l2: 0.076818\n",
            "[136]\tvalid_0's auc: 1\tvalid_0's l1: 0.198426\tvalid_0's l2: 0.0764078\n",
            "[137]\tvalid_0's auc: 1\tvalid_0's l1: 0.197792\tvalid_0's l2: 0.0760052\n",
            "[138]\tvalid_0's auc: 1\tvalid_0's l1: 0.197156\tvalid_0's l2: 0.0756034\n",
            "[139]\tvalid_0's auc: 1\tvalid_0's l1: 0.196522\tvalid_0's l2: 0.0752056\n",
            "[140]\tvalid_0's auc: 1\tvalid_0's l1: 0.195911\tvalid_0's l2: 0.0748172\n",
            "[141]\tvalid_0's auc: 1\tvalid_0's l1: 0.195286\tvalid_0's l2: 0.0744102\n",
            "[142]\tvalid_0's auc: 1\tvalid_0's l1: 0.194664\tvalid_0's l2: 0.0740071\n",
            "[143]\tvalid_0's auc: 1\tvalid_0's l1: 0.194012\tvalid_0's l2: 0.0735927\n",
            "[144]\tvalid_0's auc: 1\tvalid_0's l1: 0.193362\tvalid_0's l2: 0.0731805\n",
            "[145]\tvalid_0's auc: 1\tvalid_0's l1: 0.192765\tvalid_0's l2: 0.072793\n",
            "[146]\tvalid_0's auc: 1\tvalid_0's l1: 0.192119\tvalid_0's l2: 0.0723862\n",
            "[147]\tvalid_0's auc: 1\tvalid_0's l1: 0.191507\tvalid_0's l2: 0.0719923\n",
            "[148]\tvalid_0's auc: 1\tvalid_0's l1: 0.190867\tvalid_0's l2: 0.0715889\n",
            "[149]\tvalid_0's auc: 1\tvalid_0's l1: 0.190288\tvalid_0's l2: 0.0712158\n",
            "[150]\tvalid_0's auc: 1\tvalid_0's l1: 0.189705\tvalid_0's l2: 0.0708594\n",
            "[151]\tvalid_0's auc: 1\tvalid_0's l1: 0.189144\tvalid_0's l2: 0.070493\n",
            "[152]\tvalid_0's auc: 1\tvalid_0's l1: 0.188579\tvalid_0's l2: 0.0701238\n",
            "[153]\tvalid_0's auc: 1\tvalid_0's l1: 0.188021\tvalid_0's l2: 0.0697602\n",
            "[154]\tvalid_0's auc: 1\tvalid_0's l1: 0.187461\tvalid_0's l2: 0.0693983\n",
            "[155]\tvalid_0's auc: 1\tvalid_0's l1: 0.186898\tvalid_0's l2: 0.0690326\n",
            "[156]\tvalid_0's auc: 1\tvalid_0's l1: 0.186344\tvalid_0's l2: 0.0686763\n",
            "[157]\tvalid_0's auc: 1\tvalid_0's l1: 0.185798\tvalid_0's l2: 0.0683329\n",
            "[158]\tvalid_0's auc: 1\tvalid_0's l1: 0.185262\tvalid_0's l2: 0.0679865\n",
            "[159]\tvalid_0's auc: 1\tvalid_0's l1: 0.184716\tvalid_0's l2: 0.0676413\n",
            "[160]\tvalid_0's auc: 1\tvalid_0's l1: 0.184178\tvalid_0's l2: 0.0672995\n",
            "[161]\tvalid_0's auc: 1\tvalid_0's l1: 0.183626\tvalid_0's l2: 0.066948\n",
            "[162]\tvalid_0's auc: 1\tvalid_0's l1: 0.18307\tvalid_0's l2: 0.0666073\n",
            "[163]\tvalid_0's auc: 1\tvalid_0's l1: 0.182523\tvalid_0's l2: 0.0662621\n",
            "[164]\tvalid_0's auc: 1\tvalid_0's l1: 0.181984\tvalid_0's l2: 0.0659206\n",
            "[165]\tvalid_0's auc: 1\tvalid_0's l1: 0.181447\tvalid_0's l2: 0.0655801\n",
            "[166]\tvalid_0's auc: 1\tvalid_0's l1: 0.180916\tvalid_0's l2: 0.0652426\n",
            "[167]\tvalid_0's auc: 1\tvalid_0's l1: 0.18039\tvalid_0's l2: 0.0649108\n",
            "[168]\tvalid_0's auc: 1\tvalid_0's l1: 0.179857\tvalid_0's l2: 0.0645769\n",
            "[169]\tvalid_0's auc: 1\tvalid_0's l1: 0.179335\tvalid_0's l2: 0.0642507\n",
            "[170]\tvalid_0's auc: 1\tvalid_0's l1: 0.178825\tvalid_0's l2: 0.0639258\n",
            "[171]\tvalid_0's auc: 1\tvalid_0's l1: 0.178301\tvalid_0's l2: 0.0636088\n",
            "[172]\tvalid_0's auc: 1\tvalid_0's l1: 0.177774\tvalid_0's l2: 0.0632884\n",
            "[173]\tvalid_0's auc: 1\tvalid_0's l1: 0.177252\tvalid_0's l2: 0.0629678\n",
            "[174]\tvalid_0's auc: 1\tvalid_0's l1: 0.176743\tvalid_0's l2: 0.0626559\n",
            "[175]\tvalid_0's auc: 1\tvalid_0's l1: 0.176224\tvalid_0's l2: 0.0623445\n",
            "[176]\tvalid_0's auc: 1\tvalid_0's l1: 0.175713\tvalid_0's l2: 0.0620368\n",
            "[177]\tvalid_0's auc: 1\tvalid_0's l1: 0.175246\tvalid_0's l2: 0.0617362\n",
            "[178]\tvalid_0's auc: 1\tvalid_0's l1: 0.174753\tvalid_0's l2: 0.0614374\n",
            "[179]\tvalid_0's auc: 1\tvalid_0's l1: 0.174268\tvalid_0's l2: 0.0611418\n",
            "[180]\tvalid_0's auc: 1\tvalid_0's l1: 0.173767\tvalid_0's l2: 0.0608452\n",
            "[181]\tvalid_0's auc: 1\tvalid_0's l1: 0.173259\tvalid_0's l2: 0.0605311\n",
            "[182]\tvalid_0's auc: 1\tvalid_0's l1: 0.172779\tvalid_0's l2: 0.0602465\n",
            "[183]\tvalid_0's auc: 1\tvalid_0's l1: 0.172268\tvalid_0's l2: 0.0599334\n",
            "[184]\tvalid_0's auc: 1\tvalid_0's l1: 0.171752\tvalid_0's l2: 0.0596255\n",
            "[185]\tvalid_0's auc: 1\tvalid_0's l1: 0.171256\tvalid_0's l2: 0.0593249\n",
            "[186]\tvalid_0's auc: 1\tvalid_0's l1: 0.170737\tvalid_0's l2: 0.0590197\n",
            "[187]\tvalid_0's auc: 1\tvalid_0's l1: 0.170229\tvalid_0's l2: 0.0587211\n",
            "[188]\tvalid_0's auc: 1\tvalid_0's l1: 0.169738\tvalid_0's l2: 0.0584267\n",
            "[189]\tvalid_0's auc: 1\tvalid_0's l1: 0.169229\tvalid_0's l2: 0.0581327\n",
            "[190]\tvalid_0's auc: 1\tvalid_0's l1: 0.168741\tvalid_0's l2: 0.0578475\n",
            "[191]\tvalid_0's auc: 1\tvalid_0's l1: 0.16832\tvalid_0's l2: 0.0575943\n",
            "[192]\tvalid_0's auc: 1\tvalid_0's l1: 0.167893\tvalid_0's l2: 0.057342\n",
            "[193]\tvalid_0's auc: 1\tvalid_0's l1: 0.167463\tvalid_0's l2: 0.0570979\n",
            "[194]\tvalid_0's auc: 1\tvalid_0's l1: 0.167043\tvalid_0's l2: 0.0568503\n",
            "[195]\tvalid_0's auc: 1\tvalid_0's l1: 0.166605\tvalid_0's l2: 0.0566055\n",
            "[196]\tvalid_0's auc: 1\tvalid_0's l1: 0.166189\tvalid_0's l2: 0.0563625\n",
            "[197]\tvalid_0's auc: 1\tvalid_0's l1: 0.165779\tvalid_0's l2: 0.0561224\n",
            "[198]\tvalid_0's auc: 1\tvalid_0's l1: 0.165372\tvalid_0's l2: 0.0558846\n",
            "[199]\tvalid_0's auc: 1\tvalid_0's l1: 0.164966\tvalid_0's l2: 0.055649\n",
            "[200]\tvalid_0's auc: 1\tvalid_0's l1: 0.164528\tvalid_0's l2: 0.0554041\n",
            "[201]\tvalid_0's auc: 1\tvalid_0's l1: 0.164053\tvalid_0's l2: 0.0551436\n",
            "[202]\tvalid_0's auc: 1\tvalid_0's l1: 0.163601\tvalid_0's l2: 0.0548906\n",
            "[203]\tvalid_0's auc: 1\tvalid_0's l1: 0.163138\tvalid_0's l2: 0.0546344\n",
            "[204]\tvalid_0's auc: 1\tvalid_0's l1: 0.162662\tvalid_0's l2: 0.0543889\n",
            "[205]\tvalid_0's auc: 1\tvalid_0's l1: 0.162211\tvalid_0's l2: 0.0541447\n",
            "[206]\tvalid_0's auc: 1\tvalid_0's l1: 0.161763\tvalid_0's l2: 0.0539034\n",
            "[207]\tvalid_0's auc: 1\tvalid_0's l1: 0.161301\tvalid_0's l2: 0.0536569\n",
            "[208]\tvalid_0's auc: 1\tvalid_0's l1: 0.160861\tvalid_0's l2: 0.0534192\n",
            "[209]\tvalid_0's auc: 1\tvalid_0's l1: 0.160427\tvalid_0's l2: 0.0531823\n",
            "[210]\tvalid_0's auc: 1\tvalid_0's l1: 0.159991\tvalid_0's l2: 0.0529445\n",
            "[211]\tvalid_0's auc: 1\tvalid_0's l1: 0.159558\tvalid_0's l2: 0.0527023\n",
            "[212]\tvalid_0's auc: 1\tvalid_0's l1: 0.15915\tvalid_0's l2: 0.0524749\n",
            "[213]\tvalid_0's auc: 1\tvalid_0's l1: 0.158726\tvalid_0's l2: 0.0522381\n",
            "[214]\tvalid_0's auc: 1\tvalid_0's l1: 0.15833\tvalid_0's l2: 0.052006\n",
            "[215]\tvalid_0's auc: 1\tvalid_0's l1: 0.157918\tvalid_0's l2: 0.0517811\n",
            "[216]\tvalid_0's auc: 1\tvalid_0's l1: 0.157489\tvalid_0's l2: 0.0515663\n",
            "[217]\tvalid_0's auc: 1\tvalid_0's l1: 0.157082\tvalid_0's l2: 0.051345\n",
            "[218]\tvalid_0's auc: 1\tvalid_0's l1: 0.156698\tvalid_0's l2: 0.051122\n",
            "[219]\tvalid_0's auc: 1\tvalid_0's l1: 0.156298\tvalid_0's l2: 0.0509057\n",
            "[220]\tvalid_0's auc: 1\tvalid_0's l1: 0.155889\tvalid_0's l2: 0.0506877\n",
            "[221]\tvalid_0's auc: 1\tvalid_0's l1: 0.155489\tvalid_0's l2: 0.0504668\n",
            "[222]\tvalid_0's auc: 1\tvalid_0's l1: 0.155093\tvalid_0's l2: 0.0502482\n",
            "[223]\tvalid_0's auc: 1\tvalid_0's l1: 0.154697\tvalid_0's l2: 0.0500318\n",
            "[224]\tvalid_0's auc: 1\tvalid_0's l1: 0.154318\tvalid_0's l2: 0.0498198\n",
            "[225]\tvalid_0's auc: 1\tvalid_0's l1: 0.153933\tvalid_0's l2: 0.0496099\n",
            "[226]\tvalid_0's auc: 1\tvalid_0's l1: 0.153537\tvalid_0's l2: 0.0493988\n",
            "[227]\tvalid_0's auc: 1\tvalid_0's l1: 0.15317\tvalid_0's l2: 0.0491889\n",
            "[228]\tvalid_0's auc: 1\tvalid_0's l1: 0.152792\tvalid_0's l2: 0.048986\n",
            "[229]\tvalid_0's auc: 1\tvalid_0's l1: 0.152413\tvalid_0's l2: 0.0487852\n",
            "[230]\tvalid_0's auc: 1\tvalid_0's l1: 0.15203\tvalid_0's l2: 0.0485813\n",
            "[231]\tvalid_0's auc: 1\tvalid_0's l1: 0.151631\tvalid_0's l2: 0.0483812\n",
            "[232]\tvalid_0's auc: 1\tvalid_0's l1: 0.151286\tvalid_0's l2: 0.0481991\n",
            "[233]\tvalid_0's auc: 1\tvalid_0's l1: 0.150891\tvalid_0's l2: 0.0480033\n",
            "[234]\tvalid_0's auc: 1\tvalid_0's l1: 0.150495\tvalid_0's l2: 0.0478077\n",
            "[235]\tvalid_0's auc: 1\tvalid_0's l1: 0.150104\tvalid_0's l2: 0.0476157\n",
            "[236]\tvalid_0's auc: 1\tvalid_0's l1: 0.149712\tvalid_0's l2: 0.047424\n",
            "[237]\tvalid_0's auc: 1\tvalid_0's l1: 0.149326\tvalid_0's l2: 0.0472362\n",
            "[238]\tvalid_0's auc: 1\tvalid_0's l1: 0.148942\tvalid_0's l2: 0.0470503\n",
            "[239]\tvalid_0's auc: 1\tvalid_0's l1: 0.148568\tvalid_0's l2: 0.0468671\n",
            "[240]\tvalid_0's auc: 1\tvalid_0's l1: 0.14819\tvalid_0's l2: 0.046683\n",
            "[241]\tvalid_0's auc: 1\tvalid_0's l1: 0.147844\tvalid_0's l2: 0.0465001\n",
            "[242]\tvalid_0's auc: 1\tvalid_0's l1: 0.147511\tvalid_0's l2: 0.0463296\n",
            "[243]\tvalid_0's auc: 1\tvalid_0's l1: 0.147177\tvalid_0's l2: 0.0461576\n",
            "[244]\tvalid_0's auc: 1\tvalid_0's l1: 0.146845\tvalid_0's l2: 0.0459868\n",
            "[245]\tvalid_0's auc: 1\tvalid_0's l1: 0.14651\tvalid_0's l2: 0.0458166\n",
            "[246]\tvalid_0's auc: 1\tvalid_0's l1: 0.146188\tvalid_0's l2: 0.0456529\n",
            "[247]\tvalid_0's auc: 1\tvalid_0's l1: 0.145862\tvalid_0's l2: 0.0454948\n",
            "[248]\tvalid_0's auc: 1\tvalid_0's l1: 0.145548\tvalid_0's l2: 0.045335\n",
            "[249]\tvalid_0's auc: 1\tvalid_0's l1: 0.145199\tvalid_0's l2: 0.0451577\n",
            "[250]\tvalid_0's auc: 1\tvalid_0's l1: 0.144888\tvalid_0's l2: 0.0450023\n",
            "[251]\tvalid_0's auc: 1\tvalid_0's l1: 0.144573\tvalid_0's l2: 0.0448452\n",
            "[252]\tvalid_0's auc: 1\tvalid_0's l1: 0.144258\tvalid_0's l2: 0.044689\n",
            "[253]\tvalid_0's auc: 1\tvalid_0's l1: 0.143953\tvalid_0's l2: 0.0445356\n",
            "[254]\tvalid_0's auc: 1\tvalid_0's l1: 0.143649\tvalid_0's l2: 0.044386\n",
            "[255]\tvalid_0's auc: 1\tvalid_0's l1: 0.143349\tvalid_0's l2: 0.0442349\n",
            "[256]\tvalid_0's auc: 1\tvalid_0's l1: 0.143044\tvalid_0's l2: 0.0440847\n",
            "[257]\tvalid_0's auc: 1\tvalid_0's l1: 0.142746\tvalid_0's l2: 0.0439355\n",
            "[258]\tvalid_0's auc: 1\tvalid_0's l1: 0.142444\tvalid_0's l2: 0.0437919\n",
            "[259]\tvalid_0's auc: 1\tvalid_0's l1: 0.142152\tvalid_0's l2: 0.0436486\n",
            "[260]\tvalid_0's auc: 1\tvalid_0's l1: 0.141866\tvalid_0's l2: 0.0435075\n",
            "[261]\tvalid_0's auc: 1\tvalid_0's l1: 0.141571\tvalid_0's l2: 0.043366\n",
            "[262]\tvalid_0's auc: 1\tvalid_0's l1: 0.141294\tvalid_0's l2: 0.0432263\n",
            "[263]\tvalid_0's auc: 1\tvalid_0's l1: 0.141025\tvalid_0's l2: 0.0430953\n",
            "[264]\tvalid_0's auc: 1\tvalid_0's l1: 0.140755\tvalid_0's l2: 0.0429652\n",
            "[265]\tvalid_0's auc: 1\tvalid_0's l1: 0.140503\tvalid_0's l2: 0.0428411\n",
            "[266]\tvalid_0's auc: 1\tvalid_0's l1: 0.140231\tvalid_0's l2: 0.0427099\n",
            "[267]\tvalid_0's auc: 1\tvalid_0's l1: 0.139983\tvalid_0's l2: 0.0425881\n",
            "[268]\tvalid_0's auc: 1\tvalid_0's l1: 0.139723\tvalid_0's l2: 0.0424586\n",
            "[269]\tvalid_0's auc: 1\tvalid_0's l1: 0.139466\tvalid_0's l2: 0.0423306\n",
            "[270]\tvalid_0's auc: 1\tvalid_0's l1: 0.139213\tvalid_0's l2: 0.0422047\n",
            "[271]\tvalid_0's auc: 1\tvalid_0's l1: 0.13892\tvalid_0's l2: 0.0420666\n",
            "[272]\tvalid_0's auc: 1\tvalid_0's l1: 0.138637\tvalid_0's l2: 0.0419335\n",
            "[273]\tvalid_0's auc: 1\tvalid_0's l1: 0.138348\tvalid_0's l2: 0.0417981\n",
            "[274]\tvalid_0's auc: 1\tvalid_0's l1: 0.138072\tvalid_0's l2: 0.0416665\n",
            "[275]\tvalid_0's auc: 1\tvalid_0's l1: 0.137796\tvalid_0's l2: 0.0415361\n",
            "[276]\tvalid_0's auc: 1\tvalid_0's l1: 0.137511\tvalid_0's l2: 0.0414017\n",
            "[277]\tvalid_0's auc: 1\tvalid_0's l1: 0.137275\tvalid_0's l2: 0.0412752\n",
            "[278]\tvalid_0's auc: 1\tvalid_0's l1: 0.13701\tvalid_0's l2: 0.0411482\n",
            "[279]\tvalid_0's auc: 1\tvalid_0's l1: 0.136739\tvalid_0's l2: 0.0410198\n",
            "[280]\tvalid_0's auc: 1\tvalid_0's l1: 0.136476\tvalid_0's l2: 0.0408946\n",
            "[281]\tvalid_0's auc: 1\tvalid_0's l1: 0.136219\tvalid_0's l2: 0.0407681\n",
            "[282]\tvalid_0's auc: 1\tvalid_0's l1: 0.13596\tvalid_0's l2: 0.0406391\n",
            "[283]\tvalid_0's auc: 1\tvalid_0's l1: 0.135719\tvalid_0's l2: 0.0405189\n",
            "[284]\tvalid_0's auc: 1\tvalid_0's l1: 0.135471\tvalid_0's l2: 0.0403979\n",
            "[285]\tvalid_0's auc: 1\tvalid_0's l1: 0.135227\tvalid_0's l2: 0.0402758\n",
            "[286]\tvalid_0's auc: 1\tvalid_0's l1: 0.134988\tvalid_0's l2: 0.0401568\n",
            "[287]\tvalid_0's auc: 1\tvalid_0's l1: 0.134755\tvalid_0's l2: 0.0400414\n",
            "[288]\tvalid_0's auc: 1\tvalid_0's l1: 0.134522\tvalid_0's l2: 0.0399173\n",
            "[289]\tvalid_0's auc: 1\tvalid_0's l1: 0.1343\tvalid_0's l2: 0.0397983\n",
            "[290]\tvalid_0's auc: 1\tvalid_0's l1: 0.134081\tvalid_0's l2: 0.0396833\n",
            "[291]\tvalid_0's auc: 1\tvalid_0's l1: 0.133805\tvalid_0's l2: 0.0395465\n",
            "[292]\tvalid_0's auc: 1\tvalid_0's l1: 0.133533\tvalid_0's l2: 0.0394119\n",
            "[293]\tvalid_0's auc: 1\tvalid_0's l1: 0.133265\tvalid_0's l2: 0.039279\n",
            "[294]\tvalid_0's auc: 1\tvalid_0's l1: 0.132995\tvalid_0's l2: 0.0391465\n",
            "[295]\tvalid_0's auc: 1\tvalid_0's l1: 0.132727\tvalid_0's l2: 0.0390154\n",
            "[296]\tvalid_0's auc: 1\tvalid_0's l1: 0.132464\tvalid_0's l2: 0.0388867\n",
            "[297]\tvalid_0's auc: 1\tvalid_0's l1: 0.132228\tvalid_0's l2: 0.0387715\n",
            "[298]\tvalid_0's auc: 1\tvalid_0's l1: 0.131969\tvalid_0's l2: 0.0386451\n",
            "[299]\tvalid_0's auc: 1\tvalid_0's l1: 0.13177\tvalid_0's l2: 0.038541\n",
            "[300]\tvalid_0's auc: 1\tvalid_0's l1: 0.131538\tvalid_0's l2: 0.0384281\n",
            "[301]\tvalid_0's auc: 1\tvalid_0's l1: 0.131284\tvalid_0's l2: 0.0383025\n",
            "[302]\tvalid_0's auc: 1\tvalid_0's l1: 0.131033\tvalid_0's l2: 0.0381804\n",
            "[303]\tvalid_0's auc: 1\tvalid_0's l1: 0.130786\tvalid_0's l2: 0.0380598\n",
            "[304]\tvalid_0's auc: 1\tvalid_0's l1: 0.130533\tvalid_0's l2: 0.0379384\n",
            "[305]\tvalid_0's auc: 1\tvalid_0's l1: 0.13028\tvalid_0's l2: 0.0378162\n",
            "[306]\tvalid_0's auc: 1\tvalid_0's l1: 0.130039\tvalid_0's l2: 0.0376992\n",
            "[307]\tvalid_0's auc: 1\tvalid_0's l1: 0.129805\tvalid_0's l2: 0.0375799\n",
            "[308]\tvalid_0's auc: 1\tvalid_0's l1: 0.129566\tvalid_0's l2: 0.0374629\n",
            "[309]\tvalid_0's auc: 1\tvalid_0's l1: 0.129365\tvalid_0's l2: 0.037361\n",
            "[310]\tvalid_0's auc: 1\tvalid_0's l1: 0.129135\tvalid_0's l2: 0.037245\n",
            "[311]\tvalid_0's auc: 1\tvalid_0's l1: 0.128919\tvalid_0's l2: 0.0371502\n",
            "[312]\tvalid_0's auc: 1\tvalid_0's l1: 0.128706\tvalid_0's l2: 0.0370575\n",
            "[313]\tvalid_0's auc: 1\tvalid_0's l1: 0.128499\tvalid_0's l2: 0.0369641\n",
            "[314]\tvalid_0's auc: 1\tvalid_0's l1: 0.128288\tvalid_0's l2: 0.0368739\n",
            "[315]\tvalid_0's auc: 1\tvalid_0's l1: 0.128083\tvalid_0's l2: 0.0367811\n",
            "[316]\tvalid_0's auc: 1\tvalid_0's l1: 0.127882\tvalid_0's l2: 0.0366909\n",
            "[317]\tvalid_0's auc: 1\tvalid_0's l1: 0.127688\tvalid_0's l2: 0.0366029\n",
            "[318]\tvalid_0's auc: 1\tvalid_0's l1: 0.12749\tvalid_0's l2: 0.0365145\n",
            "[319]\tvalid_0's auc: 1\tvalid_0's l1: 0.12729\tvalid_0's l2: 0.0364251\n",
            "[320]\tvalid_0's auc: 1\tvalid_0's l1: 0.127085\tvalid_0's l2: 0.0363346\n",
            "[321]\tvalid_0's auc: 1\tvalid_0's l1: 0.12691\tvalid_0's l2: 0.0362488\n",
            "[322]\tvalid_0's auc: 1\tvalid_0's l1: 0.126726\tvalid_0's l2: 0.0361585\n",
            "[323]\tvalid_0's auc: 1\tvalid_0's l1: 0.126547\tvalid_0's l2: 0.0360754\n",
            "[324]\tvalid_0's auc: 1\tvalid_0's l1: 0.126359\tvalid_0's l2: 0.0359877\n",
            "[325]\tvalid_0's auc: 1\tvalid_0's l1: 0.126185\tvalid_0's l2: 0.0358996\n",
            "[326]\tvalid_0's auc: 1\tvalid_0's l1: 0.126007\tvalid_0's l2: 0.0358118\n",
            "[327]\tvalid_0's auc: 1\tvalid_0's l1: 0.125828\tvalid_0's l2: 0.0357264\n",
            "[328]\tvalid_0's auc: 1\tvalid_0's l1: 0.125666\tvalid_0's l2: 0.0356479\n",
            "[329]\tvalid_0's auc: 1\tvalid_0's l1: 0.125508\tvalid_0's l2: 0.0355716\n",
            "[330]\tvalid_0's auc: 1\tvalid_0's l1: 0.125331\tvalid_0's l2: 0.0354895\n",
            "[331]\tvalid_0's auc: 1\tvalid_0's l1: 0.125127\tvalid_0's l2: 0.0353982\n",
            "[332]\tvalid_0's auc: 1\tvalid_0's l1: 0.124925\tvalid_0's l2: 0.0353077\n",
            "[333]\tvalid_0's auc: 1\tvalid_0's l1: 0.124712\tvalid_0's l2: 0.0352172\n",
            "[334]\tvalid_0's auc: 1\tvalid_0's l1: 0.124511\tvalid_0's l2: 0.0351283\n",
            "[335]\tvalid_0's auc: 1\tvalid_0's l1: 0.124311\tvalid_0's l2: 0.0350401\n",
            "[336]\tvalid_0's auc: 1\tvalid_0's l1: 0.124111\tvalid_0's l2: 0.0349524\n",
            "[337]\tvalid_0's auc: 1\tvalid_0's l1: 0.123909\tvalid_0's l2: 0.0348666\n",
            "[338]\tvalid_0's auc: 1\tvalid_0's l1: 0.123733\tvalid_0's l2: 0.0347844\n",
            "[339]\tvalid_0's auc: 1\tvalid_0's l1: 0.123537\tvalid_0's l2: 0.0346992\n",
            "[340]\tvalid_0's auc: 1\tvalid_0's l1: 0.123367\tvalid_0's l2: 0.0346186\n",
            "[341]\tvalid_0's auc: 1\tvalid_0's l1: 0.123163\tvalid_0's l2: 0.0345239\n",
            "[342]\tvalid_0's auc: 1\tvalid_0's l1: 0.122961\tvalid_0's l2: 0.0344298\n",
            "[343]\tvalid_0's auc: 1\tvalid_0's l1: 0.122759\tvalid_0's l2: 0.0343371\n",
            "[344]\tvalid_0's auc: 1\tvalid_0's l1: 0.122567\tvalid_0's l2: 0.0342451\n",
            "[345]\tvalid_0's auc: 1\tvalid_0's l1: 0.122379\tvalid_0's l2: 0.0341563\n",
            "[346]\tvalid_0's auc: 1\tvalid_0's l1: 0.122217\tvalid_0's l2: 0.0340731\n",
            "[347]\tvalid_0's auc: 1\tvalid_0's l1: 0.122036\tvalid_0's l2: 0.0339864\n",
            "[348]\tvalid_0's auc: 1\tvalid_0's l1: 0.121881\tvalid_0's l2: 0.0339059\n",
            "[349]\tvalid_0's auc: 1\tvalid_0's l1: 0.121692\tvalid_0's l2: 0.0338175\n",
            "[350]\tvalid_0's auc: 1\tvalid_0's l1: 0.121539\tvalid_0's l2: 0.0337391\n",
            "[351]\tvalid_0's auc: 1\tvalid_0's l1: 0.121386\tvalid_0's l2: 0.0336639\n",
            "[352]\tvalid_0's auc: 1\tvalid_0's l1: 0.121236\tvalid_0's l2: 0.0335899\n",
            "[353]\tvalid_0's auc: 1\tvalid_0's l1: 0.121096\tvalid_0's l2: 0.0335224\n",
            "[354]\tvalid_0's auc: 1\tvalid_0's l1: 0.120952\tvalid_0's l2: 0.0334567\n",
            "[355]\tvalid_0's auc: 1\tvalid_0's l1: 0.120815\tvalid_0's l2: 0.033391\n",
            "[356]\tvalid_0's auc: 1\tvalid_0's l1: 0.120674\tvalid_0's l2: 0.033321\n",
            "[357]\tvalid_0's auc: 1\tvalid_0's l1: 0.12055\tvalid_0's l2: 0.033259\n",
            "[358]\tvalid_0's auc: 1\tvalid_0's l1: 0.120415\tvalid_0's l2: 0.0331915\n",
            "[359]\tvalid_0's auc: 1\tvalid_0's l1: 0.120271\tvalid_0's l2: 0.0331222\n",
            "[360]\tvalid_0's auc: 1\tvalid_0's l1: 0.120129\tvalid_0's l2: 0.0330541\n",
            "[361]\tvalid_0's auc: 1\tvalid_0's l1: 0.119979\tvalid_0's l2: 0.0329809\n",
            "[362]\tvalid_0's auc: 1\tvalid_0's l1: 0.119836\tvalid_0's l2: 0.0329058\n",
            "[363]\tvalid_0's auc: 1\tvalid_0's l1: 0.119691\tvalid_0's l2: 0.0328352\n",
            "[364]\tvalid_0's auc: 1\tvalid_0's l1: 0.119552\tvalid_0's l2: 0.0327654\n",
            "[365]\tvalid_0's auc: 1\tvalid_0's l1: 0.119406\tvalid_0's l2: 0.0326968\n",
            "[366]\tvalid_0's auc: 1\tvalid_0's l1: 0.119261\tvalid_0's l2: 0.0326268\n",
            "[367]\tvalid_0's auc: 1\tvalid_0's l1: 0.119117\tvalid_0's l2: 0.0325554\n",
            "[368]\tvalid_0's auc: 1\tvalid_0's l1: 0.118972\tvalid_0's l2: 0.0324874\n",
            "[369]\tvalid_0's auc: 1\tvalid_0's l1: 0.118831\tvalid_0's l2: 0.0324192\n",
            "[370]\tvalid_0's auc: 1\tvalid_0's l1: 0.118694\tvalid_0's l2: 0.0323503\n",
            "[371]\tvalid_0's auc: 1\tvalid_0's l1: 0.118578\tvalid_0's l2: 0.0322917\n",
            "[372]\tvalid_0's auc: 1\tvalid_0's l1: 0.118466\tvalid_0's l2: 0.0322364\n",
            "[373]\tvalid_0's auc: 1\tvalid_0's l1: 0.118361\tvalid_0's l2: 0.0321812\n",
            "[374]\tvalid_0's auc: 1\tvalid_0's l1: 0.118255\tvalid_0's l2: 0.0321266\n",
            "[375]\tvalid_0's auc: 1\tvalid_0's l1: 0.118147\tvalid_0's l2: 0.0320734\n",
            "[376]\tvalid_0's auc: 1\tvalid_0's l1: 0.118043\tvalid_0's l2: 0.03202\n",
            "[377]\tvalid_0's auc: 1\tvalid_0's l1: 0.117875\tvalid_0's l2: 0.0319445\n",
            "[378]\tvalid_0's auc: 1\tvalid_0's l1: 0.117696\tvalid_0's l2: 0.0318652\n",
            "[379]\tvalid_0's auc: 1\tvalid_0's l1: 0.117528\tvalid_0's l2: 0.0317931\n",
            "[380]\tvalid_0's auc: 1\tvalid_0's l1: 0.11742\tvalid_0's l2: 0.0317419\n",
            "[381]\tvalid_0's auc: 1\tvalid_0's l1: 0.117305\tvalid_0's l2: 0.0316841\n",
            "[382]\tvalid_0's auc: 1\tvalid_0's l1: 0.117189\tvalid_0's l2: 0.0316268\n",
            "[383]\tvalid_0's auc: 1\tvalid_0's l1: 0.117058\tvalid_0's l2: 0.0315697\n",
            "[384]\tvalid_0's auc: 1\tvalid_0's l1: 0.116943\tvalid_0's l2: 0.0315134\n",
            "[385]\tvalid_0's auc: 1\tvalid_0's l1: 0.11681\tvalid_0's l2: 0.0314555\n",
            "[386]\tvalid_0's auc: 1\tvalid_0's l1: 0.11665\tvalid_0's l2: 0.0313893\n",
            "[387]\tvalid_0's auc: 1\tvalid_0's l1: 0.116519\tvalid_0's l2: 0.0313257\n",
            "[388]\tvalid_0's auc: 1\tvalid_0's l1: 0.116393\tvalid_0's l2: 0.0312661\n",
            "[389]\tvalid_0's auc: 1\tvalid_0's l1: 0.116295\tvalid_0's l2: 0.0312123\n",
            "[390]\tvalid_0's auc: 1\tvalid_0's l1: 0.116182\tvalid_0's l2: 0.0311575\n",
            "[391]\tvalid_0's auc: 1\tvalid_0's l1: 0.116038\tvalid_0's l2: 0.0310947\n",
            "[392]\tvalid_0's auc: 1\tvalid_0's l1: 0.115899\tvalid_0's l2: 0.0310335\n",
            "[393]\tvalid_0's auc: 1\tvalid_0's l1: 0.11576\tvalid_0's l2: 0.0309703\n",
            "[394]\tvalid_0's auc: 1\tvalid_0's l1: 0.115621\tvalid_0's l2: 0.0309077\n",
            "[395]\tvalid_0's auc: 1\tvalid_0's l1: 0.115483\tvalid_0's l2: 0.0308536\n",
            "[396]\tvalid_0's auc: 1\tvalid_0's l1: 0.115344\tvalid_0's l2: 0.0307937\n",
            "[397]\tvalid_0's auc: 1\tvalid_0's l1: 0.115204\tvalid_0's l2: 0.0307315\n",
            "[398]\tvalid_0's auc: 1\tvalid_0's l1: 0.115071\tvalid_0's l2: 0.0306709\n",
            "[399]\tvalid_0's auc: 1\tvalid_0's l1: 0.114931\tvalid_0's l2: 0.0306094\n",
            "[400]\tvalid_0's auc: 1\tvalid_0's l1: 0.114795\tvalid_0's l2: 0.0305486\n",
            "[401]\tvalid_0's auc: 1\tvalid_0's l1: 0.114679\tvalid_0's l2: 0.0304879\n",
            "[402]\tvalid_0's auc: 1\tvalid_0's l1: 0.114569\tvalid_0's l2: 0.0304395\n",
            "[403]\tvalid_0's auc: 1\tvalid_0's l1: 0.114463\tvalid_0's l2: 0.030391\n",
            "[404]\tvalid_0's auc: 1\tvalid_0's l1: 0.114351\tvalid_0's l2: 0.0303317\n",
            "[405]\tvalid_0's auc: 1\tvalid_0's l1: 0.11425\tvalid_0's l2: 0.0302723\n",
            "[406]\tvalid_0's auc: 1\tvalid_0's l1: 0.114141\tvalid_0's l2: 0.0302237\n",
            "[407]\tvalid_0's auc: 1\tvalid_0's l1: 0.11403\tvalid_0's l2: 0.0301744\n",
            "[408]\tvalid_0's auc: 1\tvalid_0's l1: 0.113928\tvalid_0's l2: 0.0301256\n",
            "[409]\tvalid_0's auc: 1\tvalid_0's l1: 0.113818\tvalid_0's l2: 0.0300773\n",
            "[410]\tvalid_0's auc: 1\tvalid_0's l1: 0.113714\tvalid_0's l2: 0.0300273\n",
            "[411]\tvalid_0's auc: 1\tvalid_0's l1: 0.113607\tvalid_0's l2: 0.029979\n",
            "[412]\tvalid_0's auc: 1\tvalid_0's l1: 0.113498\tvalid_0's l2: 0.0299299\n",
            "[413]\tvalid_0's auc: 1\tvalid_0's l1: 0.11339\tvalid_0's l2: 0.0298811\n",
            "[414]\tvalid_0's auc: 1\tvalid_0's l1: 0.113282\tvalid_0's l2: 0.0298328\n",
            "[415]\tvalid_0's auc: 1\tvalid_0's l1: 0.113178\tvalid_0's l2: 0.029786\n",
            "[416]\tvalid_0's auc: 1\tvalid_0's l1: 0.113062\tvalid_0's l2: 0.0297376\n",
            "[417]\tvalid_0's auc: 1\tvalid_0's l1: 0.112956\tvalid_0's l2: 0.0296906\n",
            "[418]\tvalid_0's auc: 1\tvalid_0's l1: 0.112851\tvalid_0's l2: 0.0296435\n",
            "[419]\tvalid_0's auc: 1\tvalid_0's l1: 0.11274\tvalid_0's l2: 0.0295948\n",
            "[420]\tvalid_0's auc: 1\tvalid_0's l1: 0.112637\tvalid_0's l2: 0.0295482\n",
            "[421]\tvalid_0's auc: 1\tvalid_0's l1: 0.11256\tvalid_0's l2: 0.0295032\n",
            "[422]\tvalid_0's auc: 1\tvalid_0's l1: 0.112473\tvalid_0's l2: 0.0294562\n",
            "[423]\tvalid_0's auc: 1\tvalid_0's l1: 0.112396\tvalid_0's l2: 0.0294136\n",
            "[424]\tvalid_0's auc: 1\tvalid_0's l1: 0.112289\tvalid_0's l2: 0.0293727\n",
            "[425]\tvalid_0's auc: 1\tvalid_0's l1: 0.112182\tvalid_0's l2: 0.0293291\n",
            "[426]\tvalid_0's auc: 1\tvalid_0's l1: 0.112109\tvalid_0's l2: 0.0292863\n",
            "[427]\tvalid_0's auc: 1\tvalid_0's l1: 0.112019\tvalid_0's l2: 0.0292411\n",
            "[428]\tvalid_0's auc: 1\tvalid_0's l1: 0.111934\tvalid_0's l2: 0.0291943\n",
            "[429]\tvalid_0's auc: 1\tvalid_0's l1: 0.111858\tvalid_0's l2: 0.0291602\n",
            "[430]\tvalid_0's auc: 1\tvalid_0's l1: 0.111795\tvalid_0's l2: 0.0291242\n",
            "[431]\tvalid_0's auc: 1\tvalid_0's l1: 0.111672\tvalid_0's l2: 0.0290723\n",
            "[432]\tvalid_0's auc: 1\tvalid_0's l1: 0.111574\tvalid_0's l2: 0.0290289\n",
            "[433]\tvalid_0's auc: 1\tvalid_0's l1: 0.111451\tvalid_0's l2: 0.0289821\n",
            "[434]\tvalid_0's auc: 1\tvalid_0's l1: 0.111349\tvalid_0's l2: 0.028938\n",
            "[435]\tvalid_0's auc: 1\tvalid_0's l1: 0.111238\tvalid_0's l2: 0.0288905\n",
            "[436]\tvalid_0's auc: 1\tvalid_0's l1: 0.111127\tvalid_0's l2: 0.028845\n",
            "[437]\tvalid_0's auc: 1\tvalid_0's l1: 0.111016\tvalid_0's l2: 0.0287988\n",
            "[438]\tvalid_0's auc: 1\tvalid_0's l1: 0.1109\tvalid_0's l2: 0.0287512\n",
            "[439]\tvalid_0's auc: 1\tvalid_0's l1: 0.110811\tvalid_0's l2: 0.028711\n",
            "[440]\tvalid_0's auc: 1\tvalid_0's l1: 0.110716\tvalid_0's l2: 0.0286698\n",
            "[441]\tvalid_0's auc: 1\tvalid_0's l1: 0.110608\tvalid_0's l2: 0.0286214\n",
            "[442]\tvalid_0's auc: 1\tvalid_0's l1: 0.110513\tvalid_0's l2: 0.0285784\n",
            "[443]\tvalid_0's auc: 1\tvalid_0's l1: 0.110418\tvalid_0's l2: 0.0285358\n",
            "[444]\tvalid_0's auc: 1\tvalid_0's l1: 0.110324\tvalid_0's l2: 0.0284936\n",
            "[445]\tvalid_0's auc: 1\tvalid_0's l1: 0.110235\tvalid_0's l2: 0.0284532\n",
            "[446]\tvalid_0's auc: 1\tvalid_0's l1: 0.11015\tvalid_0's l2: 0.0284142\n",
            "[447]\tvalid_0's auc: 1\tvalid_0's l1: 0.110069\tvalid_0's l2: 0.0283756\n",
            "[448]\tvalid_0's auc: 1\tvalid_0's l1: 0.109982\tvalid_0's l2: 0.0283352\n",
            "[449]\tvalid_0's auc: 1\tvalid_0's l1: 0.1099\tvalid_0's l2: 0.0282955\n",
            "[450]\tvalid_0's auc: 1\tvalid_0's l1: 0.109817\tvalid_0's l2: 0.028259\n",
            "[451]\tvalid_0's auc: 1\tvalid_0's l1: 0.109736\tvalid_0's l2: 0.0282255\n",
            "[452]\tvalid_0's auc: 1\tvalid_0's l1: 0.109655\tvalid_0's l2: 0.0281897\n",
            "[453]\tvalid_0's auc: 1\tvalid_0's l1: 0.109583\tvalid_0's l2: 0.0281536\n",
            "[454]\tvalid_0's auc: 1\tvalid_0's l1: 0.109511\tvalid_0's l2: 0.0281179\n",
            "[455]\tvalid_0's auc: 1\tvalid_0's l1: 0.109438\tvalid_0's l2: 0.0280843\n",
            "[456]\tvalid_0's auc: 1\tvalid_0's l1: 0.109359\tvalid_0's l2: 0.02805\n",
            "[457]\tvalid_0's auc: 1\tvalid_0's l1: 0.10928\tvalid_0's l2: 0.0280163\n",
            "[458]\tvalid_0's auc: 1\tvalid_0's l1: 0.109211\tvalid_0's l2: 0.0279852\n",
            "[459]\tvalid_0's auc: 1\tvalid_0's l1: 0.109136\tvalid_0's l2: 0.027952\n",
            "[460]\tvalid_0's auc: 1\tvalid_0's l1: 0.109067\tvalid_0's l2: 0.0279212\n",
            "[461]\tvalid_0's auc: 1\tvalid_0's l1: 0.108997\tvalid_0's l2: 0.0278836\n",
            "[462]\tvalid_0's auc: 1\tvalid_0's l1: 0.108922\tvalid_0's l2: 0.027847\n",
            "[463]\tvalid_0's auc: 1\tvalid_0's l1: 0.108832\tvalid_0's l2: 0.0278072\n",
            "[464]\tvalid_0's auc: 1\tvalid_0's l1: 0.108777\tvalid_0's l2: 0.0277773\n",
            "[465]\tvalid_0's auc: 1\tvalid_0's l1: 0.108683\tvalid_0's l2: 0.0277336\n",
            "[466]\tvalid_0's auc: 1\tvalid_0's l1: 0.108595\tvalid_0's l2: 0.0276914\n",
            "[467]\tvalid_0's auc: 1\tvalid_0's l1: 0.108494\tvalid_0's l2: 0.027646\n",
            "[468]\tvalid_0's auc: 1\tvalid_0's l1: 0.108426\tvalid_0's l2: 0.0276104\n",
            "[469]\tvalid_0's auc: 1\tvalid_0's l1: 0.108298\tvalid_0's l2: 0.0275615\n",
            "[470]\tvalid_0's auc: 1\tvalid_0's l1: 0.108198\tvalid_0's l2: 0.027521\n",
            "[471]\tvalid_0's auc: 1\tvalid_0's l1: 0.108141\tvalid_0's l2: 0.0274906\n",
            "[472]\tvalid_0's auc: 1\tvalid_0's l1: 0.108087\tvalid_0's l2: 0.0274606\n",
            "[473]\tvalid_0's auc: 1\tvalid_0's l1: 0.108022\tvalid_0's l2: 0.0274282\n",
            "[474]\tvalid_0's auc: 1\tvalid_0's l1: 0.107939\tvalid_0's l2: 0.0273949\n",
            "[475]\tvalid_0's auc: 1\tvalid_0's l1: 0.107855\tvalid_0's l2: 0.0273599\n",
            "[476]\tvalid_0's auc: 1\tvalid_0's l1: 0.107795\tvalid_0's l2: 0.027328\n",
            "[477]\tvalid_0's auc: 1\tvalid_0's l1: 0.107712\tvalid_0's l2: 0.0272935\n",
            "[478]\tvalid_0's auc: 1\tvalid_0's l1: 0.107665\tvalid_0's l2: 0.0272658\n",
            "[479]\tvalid_0's auc: 1\tvalid_0's l1: 0.107583\tvalid_0's l2: 0.0272319\n",
            "[480]\tvalid_0's auc: 1\tvalid_0's l1: 0.107527\tvalid_0's l2: 0.0272038\n",
            "[481]\tvalid_0's auc: 1\tvalid_0's l1: 0.107445\tvalid_0's l2: 0.0271715\n",
            "[482]\tvalid_0's auc: 1\tvalid_0's l1: 0.107365\tvalid_0's l2: 0.0271403\n",
            "[483]\tvalid_0's auc: 1\tvalid_0's l1: 0.107284\tvalid_0's l2: 0.0271072\n",
            "[484]\tvalid_0's auc: 1\tvalid_0's l1: 0.107205\tvalid_0's l2: 0.0270767\n",
            "[485]\tvalid_0's auc: 1\tvalid_0's l1: 0.107137\tvalid_0's l2: 0.0270445\n",
            "[486]\tvalid_0's auc: 1\tvalid_0's l1: 0.107078\tvalid_0's l2: 0.0270146\n",
            "[487]\tvalid_0's auc: 1\tvalid_0's l1: 0.106999\tvalid_0's l2: 0.0269845\n",
            "[488]\tvalid_0's auc: 1\tvalid_0's l1: 0.10693\tvalid_0's l2: 0.0269559\n",
            "[489]\tvalid_0's auc: 1\tvalid_0's l1: 0.106849\tvalid_0's l2: 0.0269267\n",
            "[490]\tvalid_0's auc: 1\tvalid_0's l1: 0.106776\tvalid_0's l2: 0.0268974\n",
            "[491]\tvalid_0's auc: 1\tvalid_0's l1: 0.106732\tvalid_0's l2: 0.02687\n",
            "[492]\tvalid_0's auc: 1\tvalid_0's l1: 0.106699\tvalid_0's l2: 0.0268425\n",
            "[493]\tvalid_0's auc: 1\tvalid_0's l1: 0.106677\tvalid_0's l2: 0.0268153\n",
            "[494]\tvalid_0's auc: 1\tvalid_0's l1: 0.106659\tvalid_0's l2: 0.0267889\n",
            "[495]\tvalid_0's auc: 1\tvalid_0's l1: 0.106635\tvalid_0's l2: 0.0267625\n",
            "[496]\tvalid_0's auc: 1\tvalid_0's l1: 0.106587\tvalid_0's l2: 0.0267339\n",
            "[497]\tvalid_0's auc: 1\tvalid_0's l1: 0.106569\tvalid_0's l2: 0.0267083\n",
            "[498]\tvalid_0's auc: 1\tvalid_0's l1: 0.10653\tvalid_0's l2: 0.0266799\n",
            "[499]\tvalid_0's auc: 1\tvalid_0's l1: 0.106485\tvalid_0's l2: 0.0266529\n",
            "[500]\tvalid_0's auc: 1\tvalid_0's l1: 0.106452\tvalid_0's l2: 0.0266273\n",
            "[501]\tvalid_0's auc: 1\tvalid_0's l1: 0.106396\tvalid_0's l2: 0.0266011\n",
            "[502]\tvalid_0's auc: 1\tvalid_0's l1: 0.10634\tvalid_0's l2: 0.0265763\n",
            "[503]\tvalid_0's auc: 1\tvalid_0's l1: 0.106294\tvalid_0's l2: 0.0265525\n",
            "[504]\tvalid_0's auc: 1\tvalid_0's l1: 0.106247\tvalid_0's l2: 0.0265295\n",
            "[505]\tvalid_0's auc: 1\tvalid_0's l1: 0.106197\tvalid_0's l2: 0.0265079\n",
            "[506]\tvalid_0's auc: 1\tvalid_0's l1: 0.106148\tvalid_0's l2: 0.0264831\n",
            "[507]\tvalid_0's auc: 1\tvalid_0's l1: 0.106097\tvalid_0's l2: 0.0264594\n",
            "[508]\tvalid_0's auc: 1\tvalid_0's l1: 0.106045\tvalid_0's l2: 0.0264322\n",
            "[509]\tvalid_0's auc: 1\tvalid_0's l1: 0.106009\tvalid_0's l2: 0.026414\n",
            "[510]\tvalid_0's auc: 1\tvalid_0's l1: 0.105964\tvalid_0's l2: 0.0263932\n",
            "[511]\tvalid_0's auc: 1\tvalid_0's l1: 0.105905\tvalid_0's l2: 0.0263644\n",
            "[512]\tvalid_0's auc: 1\tvalid_0's l1: 0.105855\tvalid_0's l2: 0.0263368\n",
            "[513]\tvalid_0's auc: 1\tvalid_0's l1: 0.105779\tvalid_0's l2: 0.0263058\n",
            "[514]\tvalid_0's auc: 1\tvalid_0's l1: 0.105696\tvalid_0's l2: 0.026272\n",
            "[515]\tvalid_0's auc: 1\tvalid_0's l1: 0.105618\tvalid_0's l2: 0.0262413\n",
            "[516]\tvalid_0's auc: 1\tvalid_0's l1: 0.105571\tvalid_0's l2: 0.0262149\n",
            "[517]\tvalid_0's auc: 1\tvalid_0's l1: 0.105524\tvalid_0's l2: 0.0261888\n",
            "[518]\tvalid_0's auc: 1\tvalid_0's l1: 0.105443\tvalid_0's l2: 0.0261551\n",
            "[519]\tvalid_0's auc: 1\tvalid_0's l1: 0.105398\tvalid_0's l2: 0.0261295\n",
            "[520]\tvalid_0's auc: 1\tvalid_0's l1: 0.105311\tvalid_0's l2: 0.0260957\n",
            "[521]\tvalid_0's auc: 1\tvalid_0's l1: 0.10526\tvalid_0's l2: 0.0260728\n",
            "[522]\tvalid_0's auc: 1\tvalid_0's l1: 0.105223\tvalid_0's l2: 0.0260533\n",
            "[523]\tvalid_0's auc: 1\tvalid_0's l1: 0.105191\tvalid_0's l2: 0.0260353\n",
            "[524]\tvalid_0's auc: 1\tvalid_0's l1: 0.105157\tvalid_0's l2: 0.026017\n",
            "[525]\tvalid_0's auc: 1\tvalid_0's l1: 0.105133\tvalid_0's l2: 0.026001\n",
            "[526]\tvalid_0's auc: 1\tvalid_0's l1: 0.105107\tvalid_0's l2: 0.0259843\n",
            "[527]\tvalid_0's auc: 1\tvalid_0's l1: 0.105041\tvalid_0's l2: 0.0259585\n",
            "[528]\tvalid_0's auc: 1\tvalid_0's l1: 0.105009\tvalid_0's l2: 0.025941\n",
            "[529]\tvalid_0's auc: 1\tvalid_0's l1: 0.104972\tvalid_0's l2: 0.0259265\n",
            "[530]\tvalid_0's auc: 1\tvalid_0's l1: 0.104948\tvalid_0's l2: 0.0259117\n",
            "[531]\tvalid_0's auc: 1\tvalid_0's l1: 0.104905\tvalid_0's l2: 0.025893\n",
            "[532]\tvalid_0's auc: 1\tvalid_0's l1: 0.104857\tvalid_0's l2: 0.0258713\n",
            "[533]\tvalid_0's auc: 1\tvalid_0's l1: 0.104795\tvalid_0's l2: 0.0258463\n",
            "[534]\tvalid_0's auc: 1\tvalid_0's l1: 0.104751\tvalid_0's l2: 0.0258265\n",
            "[535]\tvalid_0's auc: 1\tvalid_0's l1: 0.104707\tvalid_0's l2: 0.0258034\n",
            "[536]\tvalid_0's auc: 1\tvalid_0's l1: 0.104647\tvalid_0's l2: 0.0257804\n",
            "[537]\tvalid_0's auc: 1\tvalid_0's l1: 0.104588\tvalid_0's l2: 0.0257557\n",
            "[538]\tvalid_0's auc: 1\tvalid_0's l1: 0.104541\tvalid_0's l2: 0.0257322\n",
            "[539]\tvalid_0's auc: 1\tvalid_0's l1: 0.104486\tvalid_0's l2: 0.0257065\n",
            "[540]\tvalid_0's auc: 1\tvalid_0's l1: 0.104434\tvalid_0's l2: 0.0256827\n",
            "[541]\tvalid_0's auc: 1\tvalid_0's l1: 0.104415\tvalid_0's l2: 0.0256639\n",
            "[542]\tvalid_0's auc: 1\tvalid_0's l1: 0.104375\tvalid_0's l2: 0.0256406\n",
            "[543]\tvalid_0's auc: 1\tvalid_0's l1: 0.104358\tvalid_0's l2: 0.0256225\n",
            "[544]\tvalid_0's auc: 1\tvalid_0's l1: 0.104341\tvalid_0's l2: 0.0256055\n",
            "[545]\tvalid_0's auc: 1\tvalid_0's l1: 0.104324\tvalid_0's l2: 0.0255879\n",
            "[546]\tvalid_0's auc: 1\tvalid_0's l1: 0.104304\tvalid_0's l2: 0.0255688\n",
            "[547]\tvalid_0's auc: 1\tvalid_0's l1: 0.1043\tvalid_0's l2: 0.0255565\n",
            "[548]\tvalid_0's auc: 1\tvalid_0's l1: 0.10429\tvalid_0's l2: 0.0255436\n",
            "[549]\tvalid_0's auc: 1\tvalid_0's l1: 0.104261\tvalid_0's l2: 0.0255245\n",
            "[550]\tvalid_0's auc: 1\tvalid_0's l1: 0.104245\tvalid_0's l2: 0.025511\n",
            "[551]\tvalid_0's auc: 1\tvalid_0's l1: 0.104199\tvalid_0's l2: 0.0254893\n",
            "[552]\tvalid_0's auc: 1\tvalid_0's l1: 0.104162\tvalid_0's l2: 0.0254698\n",
            "[553]\tvalid_0's auc: 1\tvalid_0's l1: 0.104125\tvalid_0's l2: 0.0254503\n",
            "[554]\tvalid_0's auc: 1\tvalid_0's l1: 0.104088\tvalid_0's l2: 0.0254309\n",
            "[555]\tvalid_0's auc: 1\tvalid_0's l1: 0.104052\tvalid_0's l2: 0.0254117\n",
            "[556]\tvalid_0's auc: 1\tvalid_0's l1: 0.104015\tvalid_0's l2: 0.0253928\n",
            "[557]\tvalid_0's auc: 1\tvalid_0's l1: 0.103981\tvalid_0's l2: 0.0253746\n",
            "[558]\tvalid_0's auc: 1\tvalid_0's l1: 0.10393\tvalid_0's l2: 0.0253517\n",
            "[559]\tvalid_0's auc: 1\tvalid_0's l1: 0.103894\tvalid_0's l2: 0.0253334\n",
            "[560]\tvalid_0's auc: 1\tvalid_0's l1: 0.103847\tvalid_0's l2: 0.0253122\n",
            "[561]\tvalid_0's auc: 1\tvalid_0's l1: 0.103813\tvalid_0's l2: 0.02529\n",
            "[562]\tvalid_0's auc: 1\tvalid_0's l1: 0.103779\tvalid_0's l2: 0.0252668\n",
            "[563]\tvalid_0's auc: 1\tvalid_0's l1: 0.103718\tvalid_0's l2: 0.0252414\n",
            "[564]\tvalid_0's auc: 1\tvalid_0's l1: 0.103682\tvalid_0's l2: 0.025218\n",
            "[565]\tvalid_0's auc: 1\tvalid_0's l1: 0.103649\tvalid_0's l2: 0.0251955\n",
            "[566]\tvalid_0's auc: 1\tvalid_0's l1: 0.103616\tvalid_0's l2: 0.0251741\n",
            "[567]\tvalid_0's auc: 1\tvalid_0's l1: 0.103582\tvalid_0's l2: 0.0251519\n",
            "[568]\tvalid_0's auc: 1\tvalid_0's l1: 0.103546\tvalid_0's l2: 0.025128\n",
            "[569]\tvalid_0's auc: 1\tvalid_0's l1: 0.103513\tvalid_0's l2: 0.0251075\n",
            "[570]\tvalid_0's auc: 1\tvalid_0's l1: 0.103475\tvalid_0's l2: 0.025089\n",
            "[571]\tvalid_0's auc: 1\tvalid_0's l1: 0.103428\tvalid_0's l2: 0.0250701\n",
            "[572]\tvalid_0's auc: 1\tvalid_0's l1: 0.103369\tvalid_0's l2: 0.0250498\n",
            "[573]\tvalid_0's auc: 1\tvalid_0's l1: 0.10331\tvalid_0's l2: 0.0250301\n",
            "[574]\tvalid_0's auc: 1\tvalid_0's l1: 0.103252\tvalid_0's l2: 0.0250102\n",
            "[575]\tvalid_0's auc: 1\tvalid_0's l1: 0.103195\tvalid_0's l2: 0.0249905\n",
            "[576]\tvalid_0's auc: 1\tvalid_0's l1: 0.103129\tvalid_0's l2: 0.0249694\n",
            "[577]\tvalid_0's auc: 1\tvalid_0's l1: 0.103078\tvalid_0's l2: 0.0249518\n",
            "[578]\tvalid_0's auc: 1\tvalid_0's l1: 0.103033\tvalid_0's l2: 0.0249341\n",
            "[579]\tvalid_0's auc: 1\tvalid_0's l1: 0.102976\tvalid_0's l2: 0.0249156\n",
            "[580]\tvalid_0's auc: 1\tvalid_0's l1: 0.102924\tvalid_0's l2: 0.0248978\n",
            "[581]\tvalid_0's auc: 1\tvalid_0's l1: 0.102875\tvalid_0's l2: 0.024878\n",
            "[582]\tvalid_0's auc: 1\tvalid_0's l1: 0.102848\tvalid_0's l2: 0.0248647\n",
            "[583]\tvalid_0's auc: 1\tvalid_0's l1: 0.102799\tvalid_0's l2: 0.0248452\n",
            "[584]\tvalid_0's auc: 1\tvalid_0's l1: 0.10275\tvalid_0's l2: 0.024826\n",
            "[585]\tvalid_0's auc: 1\tvalid_0's l1: 0.102701\tvalid_0's l2: 0.0248069\n",
            "[586]\tvalid_0's auc: 1\tvalid_0's l1: 0.102646\tvalid_0's l2: 0.0247868\n",
            "[587]\tvalid_0's auc: 1\tvalid_0's l1: 0.10262\tvalid_0's l2: 0.024774\n",
            "[588]\tvalid_0's auc: 1\tvalid_0's l1: 0.10261\tvalid_0's l2: 0.0247609\n",
            "[589]\tvalid_0's auc: 1\tvalid_0's l1: 0.102558\tvalid_0's l2: 0.0247409\n",
            "[590]\tvalid_0's auc: 1\tvalid_0's l1: 0.102501\tvalid_0's l2: 0.0247213\n",
            "[591]\tvalid_0's auc: 1\tvalid_0's l1: 0.102454\tvalid_0's l2: 0.0246987\n",
            "[592]\tvalid_0's auc: 1\tvalid_0's l1: 0.102408\tvalid_0's l2: 0.0246767\n",
            "[593]\tvalid_0's auc: 1\tvalid_0's l1: 0.102362\tvalid_0's l2: 0.0246563\n",
            "[594]\tvalid_0's auc: 1\tvalid_0's l1: 0.102311\tvalid_0's l2: 0.0246364\n",
            "[595]\tvalid_0's auc: 1\tvalid_0's l1: 0.102275\tvalid_0's l2: 0.0246173\n",
            "[596]\tvalid_0's auc: 1\tvalid_0's l1: 0.102229\tvalid_0's l2: 0.024598\n",
            "[597]\tvalid_0's auc: 1\tvalid_0's l1: 0.10219\tvalid_0's l2: 0.0245781\n",
            "[598]\tvalid_0's auc: 1\tvalid_0's l1: 0.102143\tvalid_0's l2: 0.0245636\n",
            "[599]\tvalid_0's auc: 1\tvalid_0's l1: 0.102102\tvalid_0's l2: 0.0245461\n",
            "[600]\tvalid_0's auc: 1\tvalid_0's l1: 0.102056\tvalid_0's l2: 0.0245316\n",
            "[601]\tvalid_0's auc: 1\tvalid_0's l1: 0.102014\tvalid_0's l2: 0.0245169\n",
            "[602]\tvalid_0's auc: 1\tvalid_0's l1: 0.101969\tvalid_0's l2: 0.0244994\n",
            "[603]\tvalid_0's auc: 1\tvalid_0's l1: 0.101935\tvalid_0's l2: 0.0244852\n",
            "[604]\tvalid_0's auc: 1\tvalid_0's l1: 0.101901\tvalid_0's l2: 0.0244692\n",
            "[605]\tvalid_0's auc: 1\tvalid_0's l1: 0.101878\tvalid_0's l2: 0.0244569\n",
            "[606]\tvalid_0's auc: 1\tvalid_0's l1: 0.101833\tvalid_0's l2: 0.024439\n",
            "[607]\tvalid_0's auc: 1\tvalid_0's l1: 0.101809\tvalid_0's l2: 0.0244259\n",
            "[608]\tvalid_0's auc: 1\tvalid_0's l1: 0.101789\tvalid_0's l2: 0.0244136\n",
            "[609]\tvalid_0's auc: 1\tvalid_0's l1: 0.101752\tvalid_0's l2: 0.0243976\n",
            "[610]\tvalid_0's auc: 1\tvalid_0's l1: 0.101715\tvalid_0's l2: 0.0243826\n",
            "[611]\tvalid_0's auc: 1\tvalid_0's l1: 0.101687\tvalid_0's l2: 0.0243716\n",
            "[612]\tvalid_0's auc: 1\tvalid_0's l1: 0.101647\tvalid_0's l2: 0.0243573\n",
            "[613]\tvalid_0's auc: 1\tvalid_0's l1: 0.101618\tvalid_0's l2: 0.0243463\n",
            "[614]\tvalid_0's auc: 1\tvalid_0's l1: 0.101571\tvalid_0's l2: 0.0243239\n",
            "[615]\tvalid_0's auc: 1\tvalid_0's l1: 0.101533\tvalid_0's l2: 0.0243099\n",
            "[616]\tvalid_0's auc: 1\tvalid_0's l1: 0.101498\tvalid_0's l2: 0.0242923\n",
            "[617]\tvalid_0's auc: 1\tvalid_0's l1: 0.101463\tvalid_0's l2: 0.0242776\n",
            "[618]\tvalid_0's auc: 1\tvalid_0's l1: 0.101442\tvalid_0's l2: 0.0242665\n",
            "[619]\tvalid_0's auc: 1\tvalid_0's l1: 0.101406\tvalid_0's l2: 0.0242518\n",
            "[620]\tvalid_0's auc: 1\tvalid_0's l1: 0.101385\tvalid_0's l2: 0.0242418\n",
            "[621]\tvalid_0's auc: 1\tvalid_0's l1: 0.101339\tvalid_0's l2: 0.0242221\n",
            "[622]\tvalid_0's auc: 1\tvalid_0's l1: 0.101291\tvalid_0's l2: 0.0241996\n",
            "[623]\tvalid_0's auc: 1\tvalid_0's l1: 0.101252\tvalid_0's l2: 0.0241807\n",
            "[624]\tvalid_0's auc: 1\tvalid_0's l1: 0.101207\tvalid_0's l2: 0.0241614\n",
            "[625]\tvalid_0's auc: 1\tvalid_0's l1: 0.101157\tvalid_0's l2: 0.0241406\n",
            "[626]\tvalid_0's auc: 1\tvalid_0's l1: 0.101112\tvalid_0's l2: 0.0241216\n",
            "[627]\tvalid_0's auc: 1\tvalid_0's l1: 0.101071\tvalid_0's l2: 0.0241034\n",
            "[628]\tvalid_0's auc: 1\tvalid_0's l1: 0.101026\tvalid_0's l2: 0.0240846\n",
            "[629]\tvalid_0's auc: 1\tvalid_0's l1: 0.100999\tvalid_0's l2: 0.0240707\n",
            "[630]\tvalid_0's auc: 1\tvalid_0's l1: 0.100953\tvalid_0's l2: 0.024052\n",
            "[631]\tvalid_0's auc: 1\tvalid_0's l1: 0.100923\tvalid_0's l2: 0.0240397\n",
            "[632]\tvalid_0's auc: 1\tvalid_0's l1: 0.100898\tvalid_0's l2: 0.0240302\n",
            "[633]\tvalid_0's auc: 1\tvalid_0's l1: 0.100873\tvalid_0's l2: 0.0240209\n",
            "[634]\tvalid_0's auc: 1\tvalid_0's l1: 0.100852\tvalid_0's l2: 0.0240136\n",
            "[635]\tvalid_0's auc: 1\tvalid_0's l1: 0.100809\tvalid_0's l2: 0.0239977\n",
            "[636]\tvalid_0's auc: 1\tvalid_0's l1: 0.100778\tvalid_0's l2: 0.0239826\n",
            "[637]\tvalid_0's auc: 1\tvalid_0's l1: 0.100753\tvalid_0's l2: 0.0239732\n",
            "[638]\tvalid_0's auc: 1\tvalid_0's l1: 0.100735\tvalid_0's l2: 0.0239645\n",
            "[639]\tvalid_0's auc: 1\tvalid_0's l1: 0.100711\tvalid_0's l2: 0.0239553\n",
            "[640]\tvalid_0's auc: 1\tvalid_0's l1: 0.100686\tvalid_0's l2: 0.0239438\n",
            "[641]\tvalid_0's auc: 1\tvalid_0's l1: 0.100666\tvalid_0's l2: 0.023932\n",
            "[642]\tvalid_0's auc: 1\tvalid_0's l1: 0.100638\tvalid_0's l2: 0.023918\n",
            "[643]\tvalid_0's auc: 1\tvalid_0's l1: 0.100616\tvalid_0's l2: 0.0239068\n",
            "[644]\tvalid_0's auc: 1\tvalid_0's l1: 0.100594\tvalid_0's l2: 0.0238947\n",
            "[645]\tvalid_0's auc: 1\tvalid_0's l1: 0.10057\tvalid_0's l2: 0.023884\n",
            "[646]\tvalid_0's auc: 1\tvalid_0's l1: 0.100552\tvalid_0's l2: 0.023873\n",
            "[647]\tvalid_0's auc: 1\tvalid_0's l1: 0.100527\tvalid_0's l2: 0.0238611\n",
            "[648]\tvalid_0's auc: 1\tvalid_0's l1: 0.100504\tvalid_0's l2: 0.0238508\n",
            "[649]\tvalid_0's auc: 1\tvalid_0's l1: 0.100498\tvalid_0's l2: 0.0238439\n",
            "[650]\tvalid_0's auc: 1\tvalid_0's l1: 0.10048\tvalid_0's l2: 0.0238336\n",
            "[651]\tvalid_0's auc: 1\tvalid_0's l1: 0.100419\tvalid_0's l2: 0.0238043\n",
            "[652]\tvalid_0's auc: 1\tvalid_0's l1: 0.100367\tvalid_0's l2: 0.0237767\n",
            "[653]\tvalid_0's auc: 1\tvalid_0's l1: 0.100322\tvalid_0's l2: 0.0237552\n",
            "[654]\tvalid_0's auc: 1\tvalid_0's l1: 0.10028\tvalid_0's l2: 0.0237331\n",
            "[655]\tvalid_0's auc: 1\tvalid_0's l1: 0.100228\tvalid_0's l2: 0.023706\n",
            "[656]\tvalid_0's auc: 1\tvalid_0's l1: 0.100177\tvalid_0's l2: 0.0236793\n",
            "[657]\tvalid_0's auc: 1\tvalid_0's l1: 0.100129\tvalid_0's l2: 0.0236528\n",
            "[658]\tvalid_0's auc: 1\tvalid_0's l1: 0.100088\tvalid_0's l2: 0.0236322\n",
            "[659]\tvalid_0's auc: 1\tvalid_0's l1: 0.100049\tvalid_0's l2: 0.0236125\n",
            "[660]\tvalid_0's auc: 1\tvalid_0's l1: 0.100011\tvalid_0's l2: 0.0235904\n",
            "[661]\tvalid_0's auc: 1\tvalid_0's l1: 0.0999903\tvalid_0's l2: 0.0235781\n",
            "[662]\tvalid_0's auc: 1\tvalid_0's l1: 0.09997\tvalid_0's l2: 0.0235659\n",
            "[663]\tvalid_0's auc: 1\tvalid_0's l1: 0.0999497\tvalid_0's l2: 0.0235538\n",
            "[664]\tvalid_0's auc: 1\tvalid_0's l1: 0.0999348\tvalid_0's l2: 0.0235422\n",
            "[665]\tvalid_0's auc: 1\tvalid_0's l1: 0.099911\tvalid_0's l2: 0.023528\n",
            "[666]\tvalid_0's auc: 1\tvalid_0's l1: 0.0998906\tvalid_0's l2: 0.0235159\n",
            "[667]\tvalid_0's auc: 1\tvalid_0's l1: 0.0998804\tvalid_0's l2: 0.0235071\n",
            "[668]\tvalid_0's auc: 1\tvalid_0's l1: 0.0998678\tvalid_0's l2: 0.0234978\n",
            "[669]\tvalid_0's auc: 1\tvalid_0's l1: 0.0998423\tvalid_0's l2: 0.0234816\n",
            "[670]\tvalid_0's auc: 1\tvalid_0's l1: 0.099828\tvalid_0's l2: 0.0234747\n",
            "[671]\tvalid_0's auc: 1\tvalid_0's l1: 0.099792\tvalid_0's l2: 0.0234564\n",
            "[672]\tvalid_0's auc: 1\tvalid_0's l1: 0.0997628\tvalid_0's l2: 0.0234445\n",
            "[673]\tvalid_0's auc: 1\tvalid_0's l1: 0.0997369\tvalid_0's l2: 0.0234327\n",
            "[674]\tvalid_0's auc: 1\tvalid_0's l1: 0.09971\tvalid_0's l2: 0.0234198\n",
            "[675]\tvalid_0's auc: 1\tvalid_0's l1: 0.0996733\tvalid_0's l2: 0.0234021\n",
            "[676]\tvalid_0's auc: 1\tvalid_0's l1: 0.0996368\tvalid_0's l2: 0.0233845\n",
            "[677]\tvalid_0's auc: 1\tvalid_0's l1: 0.0996009\tvalid_0's l2: 0.023367\n",
            "[678]\tvalid_0's auc: 1\tvalid_0's l1: 0.0995647\tvalid_0's l2: 0.0233498\n",
            "[679]\tvalid_0's auc: 1\tvalid_0's l1: 0.0995291\tvalid_0's l2: 0.0233326\n",
            "[680]\tvalid_0's auc: 1\tvalid_0's l1: 0.0994935\tvalid_0's l2: 0.0233158\n",
            "[681]\tvalid_0's auc: 1\tvalid_0's l1: 0.0994723\tvalid_0's l2: 0.0233087\n",
            "[682]\tvalid_0's auc: 1\tvalid_0's l1: 0.099458\tvalid_0's l2: 0.0233023\n",
            "[683]\tvalid_0's auc: 1\tvalid_0's l1: 0.0994282\tvalid_0's l2: 0.0232917\n",
            "[684]\tvalid_0's auc: 1\tvalid_0's l1: 0.0994028\tvalid_0's l2: 0.0232831\n",
            "[685]\tvalid_0's auc: 1\tvalid_0's l1: 0.0993943\tvalid_0's l2: 0.0232797\n",
            "[686]\tvalid_0's auc: 1\tvalid_0's l1: 0.0993791\tvalid_0's l2: 0.0232702\n",
            "[687]\tvalid_0's auc: 1\tvalid_0's l1: 0.09936\tvalid_0's l2: 0.0232606\n",
            "[688]\tvalid_0's auc: 1\tvalid_0's l1: 0.099341\tvalid_0's l2: 0.0232535\n",
            "[689]\tvalid_0's auc: 1\tvalid_0's l1: 0.0993214\tvalid_0's l2: 0.0232472\n",
            "[690]\tvalid_0's auc: 1\tvalid_0's l1: 0.0993026\tvalid_0's l2: 0.0232404\n",
            "[691]\tvalid_0's auc: 1\tvalid_0's l1: 0.0992751\tvalid_0's l2: 0.0232348\n",
            "[692]\tvalid_0's auc: 1\tvalid_0's l1: 0.099247\tvalid_0's l2: 0.0232259\n",
            "[693]\tvalid_0's auc: 1\tvalid_0's l1: 0.0992234\tvalid_0's l2: 0.0232206\n",
            "[694]\tvalid_0's auc: 1\tvalid_0's l1: 0.0992004\tvalid_0's l2: 0.0232149\n",
            "[695]\tvalid_0's auc: 1\tvalid_0's l1: 0.0991761\tvalid_0's l2: 0.0232068\n",
            "[696]\tvalid_0's auc: 1\tvalid_0's l1: 0.0991446\tvalid_0's l2: 0.0231992\n",
            "[697]\tvalid_0's auc: 1\tvalid_0's l1: 0.0991116\tvalid_0's l2: 0.0231857\n",
            "[698]\tvalid_0's auc: 1\tvalid_0's l1: 0.0990857\tvalid_0's l2: 0.0231754\n",
            "[699]\tvalid_0's auc: 1\tvalid_0's l1: 0.0990553\tvalid_0's l2: 0.0231602\n",
            "[700]\tvalid_0's auc: 1\tvalid_0's l1: 0.09904\tvalid_0's l2: 0.0231551\n",
            "[701]\tvalid_0's auc: 1\tvalid_0's l1: 0.0990026\tvalid_0's l2: 0.0231446\n",
            "[702]\tvalid_0's auc: 1\tvalid_0's l1: 0.0989664\tvalid_0's l2: 0.0231341\n",
            "[703]\tvalid_0's auc: 1\tvalid_0's l1: 0.0989304\tvalid_0's l2: 0.0231238\n",
            "[704]\tvalid_0's auc: 1\tvalid_0's l1: 0.0988982\tvalid_0's l2: 0.0231148\n",
            "[705]\tvalid_0's auc: 1\tvalid_0's l1: 0.0988837\tvalid_0's l2: 0.0231093\n",
            "[706]\tvalid_0's auc: 1\tvalid_0's l1: 0.098855\tvalid_0's l2: 0.023099\n",
            "[707]\tvalid_0's auc: 1\tvalid_0's l1: 0.098826\tvalid_0's l2: 0.0230892\n",
            "[708]\tvalid_0's auc: 1\tvalid_0's l1: 0.0987991\tvalid_0's l2: 0.0230816\n",
            "[709]\tvalid_0's auc: 1\tvalid_0's l1: 0.0987675\tvalid_0's l2: 0.023073\n",
            "[710]\tvalid_0's auc: 1\tvalid_0's l1: 0.0987532\tvalid_0's l2: 0.0230706\n",
            "[711]\tvalid_0's auc: 1\tvalid_0's l1: 0.0987399\tvalid_0's l2: 0.0230674\n",
            "[712]\tvalid_0's auc: 1\tvalid_0's l1: 0.0987251\tvalid_0's l2: 0.0230637\n",
            "[713]\tvalid_0's auc: 1\tvalid_0's l1: 0.0987147\tvalid_0's l2: 0.0230606\n",
            "[714]\tvalid_0's auc: 1\tvalid_0's l1: 0.0986984\tvalid_0's l2: 0.0230522\n",
            "[715]\tvalid_0's auc: 1\tvalid_0's l1: 0.0986772\tvalid_0's l2: 0.0230471\n",
            "[716]\tvalid_0's auc: 1\tvalid_0's l1: 0.0986649\tvalid_0's l2: 0.0230437\n",
            "[717]\tvalid_0's auc: 1\tvalid_0's l1: 0.0986542\tvalid_0's l2: 0.0230407\n",
            "[718]\tvalid_0's auc: 1\tvalid_0's l1: 0.09864\tvalid_0's l2: 0.0230368\n",
            "[719]\tvalid_0's auc: 1\tvalid_0's l1: 0.0986295\tvalid_0's l2: 0.0230339\n",
            "[720]\tvalid_0's auc: 1\tvalid_0's l1: 0.0986111\tvalid_0's l2: 0.023026\n",
            "[721]\tvalid_0's auc: 1\tvalid_0's l1: 0.0985884\tvalid_0's l2: 0.0230112\n",
            "[722]\tvalid_0's auc: 1\tvalid_0's l1: 0.0985517\tvalid_0's l2: 0.0229925\n",
            "[723]\tvalid_0's auc: 1\tvalid_0's l1: 0.0985286\tvalid_0's l2: 0.0229793\n",
            "[724]\tvalid_0's auc: 1\tvalid_0's l1: 0.0985082\tvalid_0's l2: 0.0229659\n",
            "[725]\tvalid_0's auc: 1\tvalid_0's l1: 0.0984834\tvalid_0's l2: 0.0229542\n",
            "[726]\tvalid_0's auc: 1\tvalid_0's l1: 0.0984593\tvalid_0's l2: 0.02294\n",
            "[727]\tvalid_0's auc: 1\tvalid_0's l1: 0.0984322\tvalid_0's l2: 0.0229256\n",
            "[728]\tvalid_0's auc: 1\tvalid_0's l1: 0.0984147\tvalid_0's l2: 0.0229126\n",
            "[729]\tvalid_0's auc: 1\tvalid_0's l1: 0.0983973\tvalid_0's l2: 0.0228998\n",
            "[730]\tvalid_0's auc: 1\tvalid_0's l1: 0.0983736\tvalid_0's l2: 0.0228861\n",
            "[731]\tvalid_0's auc: 1\tvalid_0's l1: 0.0983469\tvalid_0's l2: 0.0228742\n",
            "[732]\tvalid_0's auc: 1\tvalid_0's l1: 0.0983203\tvalid_0's l2: 0.0228615\n",
            "[733]\tvalid_0's auc: 1\tvalid_0's l1: 0.0982938\tvalid_0's l2: 0.0228499\n",
            "[734]\tvalid_0's auc: 1\tvalid_0's l1: 0.0982674\tvalid_0's l2: 0.0228384\n",
            "[735]\tvalid_0's auc: 1\tvalid_0's l1: 0.09824\tvalid_0's l2: 0.022828\n",
            "[736]\tvalid_0's auc: 1\tvalid_0's l1: 0.098215\tvalid_0's l2: 0.0228175\n",
            "[737]\tvalid_0's auc: 1\tvalid_0's l1: 0.0981827\tvalid_0's l2: 0.022808\n",
            "[738]\tvalid_0's auc: 1\tvalid_0's l1: 0.0981537\tvalid_0's l2: 0.0227979\n",
            "[739]\tvalid_0's auc: 1\tvalid_0's l1: 0.0981308\tvalid_0's l2: 0.0227885\n",
            "[740]\tvalid_0's auc: 1\tvalid_0's l1: 0.0980925\tvalid_0's l2: 0.022776\n",
            "[741]\tvalid_0's auc: 1\tvalid_0's l1: 0.0980603\tvalid_0's l2: 0.0227644\n",
            "[742]\tvalid_0's auc: 1\tvalid_0's l1: 0.0980434\tvalid_0's l2: 0.0227595\n",
            "[743]\tvalid_0's auc: 1\tvalid_0's l1: 0.0980255\tvalid_0's l2: 0.0227504\n",
            "[744]\tvalid_0's auc: 1\tvalid_0's l1: 0.0980052\tvalid_0's l2: 0.0227461\n",
            "[745]\tvalid_0's auc: 1\tvalid_0's l1: 0.097983\tvalid_0's l2: 0.022741\n",
            "[746]\tvalid_0's auc: 1\tvalid_0's l1: 0.0979513\tvalid_0's l2: 0.0227298\n",
            "[747]\tvalid_0's auc: 1\tvalid_0's l1: 0.0979315\tvalid_0's l2: 0.022726\n",
            "[748]\tvalid_0's auc: 1\tvalid_0's l1: 0.0979215\tvalid_0's l2: 0.0227209\n",
            "[749]\tvalid_0's auc: 1\tvalid_0's l1: 0.0978799\tvalid_0's l2: 0.0227068\n",
            "[750]\tvalid_0's auc: 1\tvalid_0's l1: 0.0978718\tvalid_0's l2: 0.0227007\n",
            "[751]\tvalid_0's auc: 1\tvalid_0's l1: 0.0978519\tvalid_0's l2: 0.0226925\n",
            "[752]\tvalid_0's auc: 1\tvalid_0's l1: 0.0978272\tvalid_0's l2: 0.0226845\n",
            "[753]\tvalid_0's auc: 1\tvalid_0's l1: 0.0978053\tvalid_0's l2: 0.0226766\n",
            "[754]\tvalid_0's auc: 1\tvalid_0's l1: 0.0977835\tvalid_0's l2: 0.0226688\n",
            "[755]\tvalid_0's auc: 1\tvalid_0's l1: 0.0977609\tvalid_0's l2: 0.0226618\n",
            "[756]\tvalid_0's auc: 1\tvalid_0's l1: 0.0977488\tvalid_0's l2: 0.0226531\n",
            "[757]\tvalid_0's auc: 1\tvalid_0's l1: 0.0977201\tvalid_0's l2: 0.0226434\n",
            "[758]\tvalid_0's auc: 1\tvalid_0's l1: 0.0977079\tvalid_0's l2: 0.0226344\n",
            "[759]\tvalid_0's auc: 1\tvalid_0's l1: 0.0976758\tvalid_0's l2: 0.0226241\n",
            "[760]\tvalid_0's auc: 1\tvalid_0's l1: 0.0976525\tvalid_0's l2: 0.0226162\n",
            "[761]\tvalid_0's auc: 1\tvalid_0's l1: 0.0976584\tvalid_0's l2: 0.0226093\n",
            "[762]\tvalid_0's auc: 1\tvalid_0's l1: 0.0976575\tvalid_0's l2: 0.0226016\n",
            "[763]\tvalid_0's auc: 1\tvalid_0's l1: 0.0976512\tvalid_0's l2: 0.022593\n",
            "[764]\tvalid_0's auc: 1\tvalid_0's l1: 0.0976307\tvalid_0's l2: 0.0225835\n",
            "[765]\tvalid_0's auc: 1\tvalid_0's l1: 0.0976312\tvalid_0's l2: 0.0225741\n",
            "[766]\tvalid_0's auc: 1\tvalid_0's l1: 0.0976331\tvalid_0's l2: 0.0225669\n",
            "[767]\tvalid_0's auc: 1\tvalid_0's l1: 0.0976418\tvalid_0's l2: 0.0225608\n",
            "[768]\tvalid_0's auc: 1\tvalid_0's l1: 0.097648\tvalid_0's l2: 0.0225546\n",
            "[769]\tvalid_0's auc: 1\tvalid_0's l1: 0.0976495\tvalid_0's l2: 0.0225477\n",
            "[770]\tvalid_0's auc: 1\tvalid_0's l1: 0.0976581\tvalid_0's l2: 0.0225419\n",
            "[771]\tvalid_0's auc: 1\tvalid_0's l1: 0.0976287\tvalid_0's l2: 0.0225314\n",
            "[772]\tvalid_0's auc: 1\tvalid_0's l1: 0.0975971\tvalid_0's l2: 0.0225203\n",
            "[773]\tvalid_0's auc: 1\tvalid_0's l1: 0.0975687\tvalid_0's l2: 0.0225098\n",
            "[774]\tvalid_0's auc: 1\tvalid_0's l1: 0.0975514\tvalid_0's l2: 0.0225022\n",
            "[775]\tvalid_0's auc: 1\tvalid_0's l1: 0.0975226\tvalid_0's l2: 0.022492\n",
            "[776]\tvalid_0's auc: 1\tvalid_0's l1: 0.0974917\tvalid_0's l2: 0.0224825\n",
            "[777]\tvalid_0's auc: 1\tvalid_0's l1: 0.0974747\tvalid_0's l2: 0.0224751\n",
            "[778]\tvalid_0's auc: 1\tvalid_0's l1: 0.0974352\tvalid_0's l2: 0.0224651\n",
            "[779]\tvalid_0's auc: 1\tvalid_0's l1: 0.0974024\tvalid_0's l2: 0.0224563\n",
            "[780]\tvalid_0's auc: 1\tvalid_0's l1: 0.0973866\tvalid_0's l2: 0.0224475\n",
            "[781]\tvalid_0's auc: 1\tvalid_0's l1: 0.0973718\tvalid_0's l2: 0.022442\n",
            "[782]\tvalid_0's auc: 1\tvalid_0's l1: 0.0973555\tvalid_0's l2: 0.0224364\n",
            "[783]\tvalid_0's auc: 1\tvalid_0's l1: 0.097347\tvalid_0's l2: 0.022434\n",
            "[784]\tvalid_0's auc: 1\tvalid_0's l1: 0.0973352\tvalid_0's l2: 0.0224285\n",
            "[785]\tvalid_0's auc: 1\tvalid_0's l1: 0.0973262\tvalid_0's l2: 0.0224241\n",
            "[786]\tvalid_0's auc: 1\tvalid_0's l1: 0.0973114\tvalid_0's l2: 0.0224211\n",
            "[787]\tvalid_0's auc: 1\tvalid_0's l1: 0.0972998\tvalid_0's l2: 0.0224159\n",
            "[788]\tvalid_0's auc: 1\tvalid_0's l1: 0.0972862\tvalid_0's l2: 0.022411\n",
            "[789]\tvalid_0's auc: 1\tvalid_0's l1: 0.0972775\tvalid_0's l2: 0.0224064\n",
            "[790]\tvalid_0's auc: 1\tvalid_0's l1: 0.0972696\tvalid_0's l2: 0.0224018\n",
            "[791]\tvalid_0's auc: 1\tvalid_0's l1: 0.0972437\tvalid_0's l2: 0.0223912\n",
            "[792]\tvalid_0's auc: 1\tvalid_0's l1: 0.0972193\tvalid_0's l2: 0.022381\n",
            "[793]\tvalid_0's auc: 1\tvalid_0's l1: 0.097195\tvalid_0's l2: 0.0223709\n",
            "[794]\tvalid_0's auc: 1\tvalid_0's l1: 0.0971637\tvalid_0's l2: 0.0223595\n",
            "[795]\tvalid_0's auc: 1\tvalid_0's l1: 0.097135\tvalid_0's l2: 0.0223488\n",
            "[796]\tvalid_0's auc: 1\tvalid_0's l1: 0.0971072\tvalid_0's l2: 0.0223395\n",
            "[797]\tvalid_0's auc: 1\tvalid_0's l1: 0.0970839\tvalid_0's l2: 0.0223297\n",
            "[798]\tvalid_0's auc: 1\tvalid_0's l1: 0.0970579\tvalid_0's l2: 0.0223216\n",
            "[799]\tvalid_0's auc: 1\tvalid_0's l1: 0.0970413\tvalid_0's l2: 0.0223143\n",
            "[800]\tvalid_0's auc: 1\tvalid_0's l1: 0.097013\tvalid_0's l2: 0.0223048\n",
            "[801]\tvalid_0's auc: 1\tvalid_0's l1: 0.0969772\tvalid_0's l2: 0.0222923\n",
            "[802]\tvalid_0's auc: 1\tvalid_0's l1: 0.0969543\tvalid_0's l2: 0.0222837\n",
            "[803]\tvalid_0's auc: 1\tvalid_0's l1: 0.0969335\tvalid_0's l2: 0.0222756\n",
            "[804]\tvalid_0's auc: 1\tvalid_0's l1: 0.0969297\tvalid_0's l2: 0.0222711\n",
            "[805]\tvalid_0's auc: 1\tvalid_0's l1: 0.0968944\tvalid_0's l2: 0.022259\n",
            "[806]\tvalid_0's auc: 1\tvalid_0's l1: 0.0968602\tvalid_0's l2: 0.0222467\n",
            "[807]\tvalid_0's auc: 1\tvalid_0's l1: 0.0968276\tvalid_0's l2: 0.0222348\n",
            "[808]\tvalid_0's auc: 1\tvalid_0's l1: 0.0967921\tvalid_0's l2: 0.0222229\n",
            "[809]\tvalid_0's auc: 1\tvalid_0's l1: 0.0967598\tvalid_0's l2: 0.0222112\n",
            "[810]\tvalid_0's auc: 1\tvalid_0's l1: 0.0967237\tvalid_0's l2: 0.0221994\n",
            "[811]\tvalid_0's auc: 1\tvalid_0's l1: 0.0967099\tvalid_0's l2: 0.0221973\n",
            "[812]\tvalid_0's auc: 1\tvalid_0's l1: 0.0966938\tvalid_0's l2: 0.0221926\n",
            "[813]\tvalid_0's auc: 1\tvalid_0's l1: 0.0966742\tvalid_0's l2: 0.0221872\n",
            "[814]\tvalid_0's auc: 1\tvalid_0's l1: 0.0966562\tvalid_0's l2: 0.0221808\n",
            "[815]\tvalid_0's auc: 1\tvalid_0's l1: 0.0966514\tvalid_0's l2: 0.0221742\n",
            "[816]\tvalid_0's auc: 1\tvalid_0's l1: 0.0966468\tvalid_0's l2: 0.022167\n",
            "[817]\tvalid_0's auc: 1\tvalid_0's l1: 0.096643\tvalid_0's l2: 0.0221616\n",
            "[818]\tvalid_0's auc: 1\tvalid_0's l1: 0.0966228\tvalid_0's l2: 0.0221554\n",
            "[819]\tvalid_0's auc: 1\tvalid_0's l1: 0.0966189\tvalid_0's l2: 0.0221513\n",
            "[820]\tvalid_0's auc: 1\tvalid_0's l1: 0.0966117\tvalid_0's l2: 0.0221455\n",
            "[821]\tvalid_0's auc: 1\tvalid_0's l1: 0.0965911\tvalid_0's l2: 0.0221351\n",
            "[822]\tvalid_0's auc: 1\tvalid_0's l1: 0.0965861\tvalid_0's l2: 0.0221266\n",
            "[823]\tvalid_0's auc: 1\tvalid_0's l1: 0.0965672\tvalid_0's l2: 0.0221174\n",
            "[824]\tvalid_0's auc: 1\tvalid_0's l1: 0.096547\tvalid_0's l2: 0.0221089\n",
            "[825]\tvalid_0's auc: 1\tvalid_0's l1: 0.0965303\tvalid_0's l2: 0.0221007\n",
            "[826]\tvalid_0's auc: 1\tvalid_0's l1: 0.0965103\tvalid_0's l2: 0.0220923\n",
            "[827]\tvalid_0's auc: 1\tvalid_0's l1: 0.0964954\tvalid_0's l2: 0.0220856\n",
            "[828]\tvalid_0's auc: 1\tvalid_0's l1: 0.0964753\tvalid_0's l2: 0.0220758\n",
            "[829]\tvalid_0's auc: 1\tvalid_0's l1: 0.096462\tvalid_0's l2: 0.0220677\n",
            "[830]\tvalid_0's auc: 1\tvalid_0's l1: 0.096454\tvalid_0's l2: 0.0220592\n",
            "[831]\tvalid_0's auc: 1\tvalid_0's l1: 0.0964269\tvalid_0's l2: 0.0220456\n",
            "[832]\tvalid_0's auc: 1\tvalid_0's l1: 0.0963965\tvalid_0's l2: 0.0220328\n",
            "[833]\tvalid_0's auc: 1\tvalid_0's l1: 0.0963663\tvalid_0's l2: 0.0220201\n",
            "[834]\tvalid_0's auc: 1\tvalid_0's l1: 0.0963352\tvalid_0's l2: 0.0220057\n",
            "[835]\tvalid_0's auc: 1\tvalid_0's l1: 0.096311\tvalid_0's l2: 0.021994\n",
            "[836]\tvalid_0's auc: 1\tvalid_0's l1: 0.0962853\tvalid_0's l2: 0.0219816\n",
            "[837]\tvalid_0's auc: 1\tvalid_0's l1: 0.0962577\tvalid_0's l2: 0.0219693\n",
            "[838]\tvalid_0's auc: 1\tvalid_0's l1: 0.0962395\tvalid_0's l2: 0.021956\n",
            "[839]\tvalid_0's auc: 1\tvalid_0's l1: 0.0962122\tvalid_0's l2: 0.021944\n",
            "[840]\tvalid_0's auc: 1\tvalid_0's l1: 0.0961869\tvalid_0's l2: 0.0219321\n",
            "[841]\tvalid_0's auc: 1\tvalid_0's l1: 0.0961607\tvalid_0's l2: 0.0219236\n",
            "[842]\tvalid_0's auc: 1\tvalid_0's l1: 0.0961355\tvalid_0's l2: 0.0219141\n",
            "[843]\tvalid_0's auc: 1\tvalid_0's l1: 0.0961025\tvalid_0's l2: 0.0219029\n",
            "[844]\tvalid_0's auc: 1\tvalid_0's l1: 0.0960801\tvalid_0's l2: 0.0218954\n",
            "[845]\tvalid_0's auc: 1\tvalid_0's l1: 0.0960733\tvalid_0's l2: 0.0218895\n",
            "[846]\tvalid_0's auc: 1\tvalid_0's l1: 0.0960567\tvalid_0's l2: 0.0218818\n",
            "[847]\tvalid_0's auc: 1\tvalid_0's l1: 0.0960502\tvalid_0's l2: 0.021876\n",
            "[848]\tvalid_0's auc: 1\tvalid_0's l1: 0.0960288\tvalid_0's l2: 0.0218667\n",
            "[849]\tvalid_0's auc: 1\tvalid_0's l1: 0.0960228\tvalid_0's l2: 0.0218647\n",
            "[850]\tvalid_0's auc: 1\tvalid_0's l1: 0.0960013\tvalid_0's l2: 0.0218561\n",
            "[851]\tvalid_0's auc: 1\tvalid_0's l1: 0.0959922\tvalid_0's l2: 0.0218542\n",
            "[852]\tvalid_0's auc: 1\tvalid_0's l1: 0.0959836\tvalid_0's l2: 0.0218525\n",
            "[853]\tvalid_0's auc: 1\tvalid_0's l1: 0.0959631\tvalid_0's l2: 0.0218466\n",
            "[854]\tvalid_0's auc: 1\tvalid_0's l1: 0.0959444\tvalid_0's l2: 0.0218402\n",
            "[855]\tvalid_0's auc: 1\tvalid_0's l1: 0.0959251\tvalid_0's l2: 0.0218338\n",
            "[856]\tvalid_0's auc: 1\tvalid_0's l1: 0.0959016\tvalid_0's l2: 0.0218294\n",
            "[857]\tvalid_0's auc: 1\tvalid_0's l1: 0.0958825\tvalid_0's l2: 0.0218232\n",
            "[858]\tvalid_0's auc: 1\tvalid_0's l1: 0.0958635\tvalid_0's l2: 0.021817\n",
            "[859]\tvalid_0's auc: 1\tvalid_0's l1: 0.0958555\tvalid_0's l2: 0.0218154\n",
            "[860]\tvalid_0's auc: 1\tvalid_0's l1: 0.0958475\tvalid_0's l2: 0.0218138\n",
            "[861]\tvalid_0's auc: 1\tvalid_0's l1: 0.0958269\tvalid_0's l2: 0.0218084\n",
            "[862]\tvalid_0's auc: 1\tvalid_0's l1: 0.0958065\tvalid_0's l2: 0.021803\n",
            "[863]\tvalid_0's auc: 1\tvalid_0's l1: 0.0957874\tvalid_0's l2: 0.0217976\n",
            "[864]\tvalid_0's auc: 1\tvalid_0's l1: 0.0957678\tvalid_0's l2: 0.0217907\n",
            "[865]\tvalid_0's auc: 1\tvalid_0's l1: 0.0957519\tvalid_0's l2: 0.0217852\n",
            "[866]\tvalid_0's auc: 1\tvalid_0's l1: 0.0957391\tvalid_0's l2: 0.0217804\n",
            "[867]\tvalid_0's auc: 1\tvalid_0's l1: 0.0957225\tvalid_0's l2: 0.0217751\n",
            "[868]\tvalid_0's auc: 1\tvalid_0's l1: 0.0957035\tvalid_0's l2: 0.0217693\n",
            "[869]\tvalid_0's auc: 1\tvalid_0's l1: 0.0956873\tvalid_0's l2: 0.0217643\n",
            "[870]\tvalid_0's auc: 1\tvalid_0's l1: 0.0956703\tvalid_0's l2: 0.0217587\n",
            "[871]\tvalid_0's auc: 1\tvalid_0's l1: 0.0956623\tvalid_0's l2: 0.0217513\n",
            "[872]\tvalid_0's auc: 1\tvalid_0's l1: 0.0956575\tvalid_0's l2: 0.0217466\n",
            "[873]\tvalid_0's auc: 1\tvalid_0's l1: 0.0956528\tvalid_0's l2: 0.0217422\n",
            "[874]\tvalid_0's auc: 1\tvalid_0's l1: 0.0956486\tvalid_0's l2: 0.0217374\n",
            "[875]\tvalid_0's auc: 1\tvalid_0's l1: 0.0956435\tvalid_0's l2: 0.021732\n",
            "[876]\tvalid_0's auc: 1\tvalid_0's l1: 0.0956366\tvalid_0's l2: 0.0217281\n",
            "[877]\tvalid_0's auc: 1\tvalid_0's l1: 0.0956334\tvalid_0's l2: 0.0217234\n",
            "[878]\tvalid_0's auc: 1\tvalid_0's l1: 0.0956316\tvalid_0's l2: 0.0217189\n",
            "[879]\tvalid_0's auc: 1\tvalid_0's l1: 0.0956247\tvalid_0's l2: 0.0217146\n",
            "[880]\tvalid_0's auc: 1\tvalid_0's l1: 0.0956179\tvalid_0's l2: 0.0217109\n",
            "[881]\tvalid_0's auc: 1\tvalid_0's l1: 0.095603\tvalid_0's l2: 0.0217062\n",
            "[882]\tvalid_0's auc: 1\tvalid_0's l1: 0.0955885\tvalid_0's l2: 0.0217008\n",
            "[883]\tvalid_0's auc: 1\tvalid_0's l1: 0.0955768\tvalid_0's l2: 0.021693\n",
            "[884]\tvalid_0's auc: 1\tvalid_0's l1: 0.095562\tvalid_0's l2: 0.0216884\n",
            "[885]\tvalid_0's auc: 1\tvalid_0's l1: 0.0955486\tvalid_0's l2: 0.021684\n",
            "[886]\tvalid_0's auc: 1\tvalid_0's l1: 0.0955406\tvalid_0's l2: 0.0216798\n",
            "[887]\tvalid_0's auc: 1\tvalid_0's l1: 0.0955193\tvalid_0's l2: 0.0216736\n",
            "[888]\tvalid_0's auc: 1\tvalid_0's l1: 0.0955051\tvalid_0's l2: 0.0216686\n",
            "[889]\tvalid_0's auc: 1\tvalid_0's l1: 0.0954907\tvalid_0's l2: 0.0216642\n",
            "[890]\tvalid_0's auc: 1\tvalid_0's l1: 0.0954697\tvalid_0's l2: 0.0216582\n",
            "[891]\tvalid_0's auc: 1\tvalid_0's l1: 0.0954542\tvalid_0's l2: 0.0216569\n",
            "[892]\tvalid_0's auc: 1\tvalid_0's l1: 0.0954495\tvalid_0's l2: 0.021655\n",
            "[893]\tvalid_0's auc: 1\tvalid_0's l1: 0.0954382\tvalid_0's l2: 0.0216523\n",
            "[894]\tvalid_0's auc: 1\tvalid_0's l1: 0.0954301\tvalid_0's l2: 0.0216481\n",
            "[895]\tvalid_0's auc: 1\tvalid_0's l1: 0.0954258\tvalid_0's l2: 0.0216463\n",
            "[896]\tvalid_0's auc: 1\tvalid_0's l1: 0.0954165\tvalid_0's l2: 0.0216417\n",
            "[897]\tvalid_0's auc: 1\tvalid_0's l1: 0.0954163\tvalid_0's l2: 0.0216412\n",
            "[898]\tvalid_0's auc: 1\tvalid_0's l1: 0.0954053\tvalid_0's l2: 0.0216387\n",
            "[899]\tvalid_0's auc: 1\tvalid_0's l1: 0.0954015\tvalid_0's l2: 0.0216375\n",
            "[900]\tvalid_0's auc: 1\tvalid_0's l1: 0.0953982\tvalid_0's l2: 0.0216359\n",
            "[901]\tvalid_0's auc: 1\tvalid_0's l1: 0.0953865\tvalid_0's l2: 0.0216322\n",
            "[902]\tvalid_0's auc: 1\tvalid_0's l1: 0.0953726\tvalid_0's l2: 0.0216286\n",
            "[903]\tvalid_0's auc: 1\tvalid_0's l1: 0.0953611\tvalid_0's l2: 0.021625\n",
            "[904]\tvalid_0's auc: 1\tvalid_0's l1: 0.095351\tvalid_0's l2: 0.021622\n",
            "[905]\tvalid_0's auc: 1\tvalid_0's l1: 0.0953431\tvalid_0's l2: 0.0216204\n",
            "[906]\tvalid_0's auc: 1\tvalid_0's l1: 0.0953332\tvalid_0's l2: 0.0216174\n",
            "[907]\tvalid_0's auc: 1\tvalid_0's l1: 0.0953195\tvalid_0's l2: 0.0216141\n",
            "[908]\tvalid_0's auc: 1\tvalid_0's l1: 0.0953033\tvalid_0's l2: 0.0216103\n",
            "[909]\tvalid_0's auc: 1\tvalid_0's l1: 0.0952955\tvalid_0's l2: 0.0216082\n",
            "[910]\tvalid_0's auc: 1\tvalid_0's l1: 0.0952889\tvalid_0's l2: 0.0216061\n",
            "[911]\tvalid_0's auc: 1\tvalid_0's l1: 0.0952842\tvalid_0's l2: 0.0216058\n",
            "[912]\tvalid_0's auc: 1\tvalid_0's l1: 0.0952856\tvalid_0's l2: 0.0216037\n",
            "[913]\tvalid_0's auc: 1\tvalid_0's l1: 0.0952732\tvalid_0's l2: 0.0216012\n",
            "[914]\tvalid_0's auc: 1\tvalid_0's l1: 0.0952746\tvalid_0's l2: 0.0216009\n",
            "[915]\tvalid_0's auc: 1\tvalid_0's l1: 0.0952651\tvalid_0's l2: 0.0215993\n",
            "[916]\tvalid_0's auc: 1\tvalid_0's l1: 0.0952528\tvalid_0's l2: 0.021597\n",
            "[917]\tvalid_0's auc: 1\tvalid_0's l1: 0.0952526\tvalid_0's l2: 0.0215963\n",
            "[918]\tvalid_0's auc: 1\tvalid_0's l1: 0.0952403\tvalid_0's l2: 0.0215941\n",
            "[919]\tvalid_0's auc: 1\tvalid_0's l1: 0.0952397\tvalid_0's l2: 0.021593\n",
            "[920]\tvalid_0's auc: 1\tvalid_0's l1: 0.0952237\tvalid_0's l2: 0.0215911\n",
            "[921]\tvalid_0's auc: 1\tvalid_0's l1: 0.0952161\tvalid_0's l2: 0.0215922\n",
            "[922]\tvalid_0's auc: 1\tvalid_0's l1: 0.0952078\tvalid_0's l2: 0.0215924\n",
            "[923]\tvalid_0's auc: 1\tvalid_0's l1: 0.0952031\tvalid_0's l2: 0.0215947\n",
            "[924]\tvalid_0's auc: 1\tvalid_0's l1: 0.0951948\tvalid_0's l2: 0.0215955\n",
            "[925]\tvalid_0's auc: 1\tvalid_0's l1: 0.0951858\tvalid_0's l2: 0.0215939\n",
            "[926]\tvalid_0's auc: 1\tvalid_0's l1: 0.0951802\tvalid_0's l2: 0.0215937\n",
            "[927]\tvalid_0's auc: 1\tvalid_0's l1: 0.0951758\tvalid_0's l2: 0.0215958\n",
            "[928]\tvalid_0's auc: 1\tvalid_0's l1: 0.0951683\tvalid_0's l2: 0.0215931\n",
            "[929]\tvalid_0's auc: 1\tvalid_0's l1: 0.095165\tvalid_0's l2: 0.0215937\n",
            "[930]\tvalid_0's auc: 1\tvalid_0's l1: 0.095169\tvalid_0's l2: 0.0215943\n",
            "[931]\tvalid_0's auc: 1\tvalid_0's l1: 0.0951457\tvalid_0's l2: 0.0215862\n",
            "[932]\tvalid_0's auc: 1\tvalid_0's l1: 0.095131\tvalid_0's l2: 0.0215834\n",
            "[933]\tvalid_0's auc: 1\tvalid_0's l1: 0.0951186\tvalid_0's l2: 0.02158\n",
            "[934]\tvalid_0's auc: 1\tvalid_0's l1: 0.0951052\tvalid_0's l2: 0.0215747\n",
            "[935]\tvalid_0's auc: 1\tvalid_0's l1: 0.0950842\tvalid_0's l2: 0.021567\n",
            "[936]\tvalid_0's auc: 1\tvalid_0's l1: 0.0950656\tvalid_0's l2: 0.0215607\n",
            "[937]\tvalid_0's auc: 1\tvalid_0's l1: 0.0950501\tvalid_0's l2: 0.0215549\n",
            "[938]\tvalid_0's auc: 1\tvalid_0's l1: 0.0950333\tvalid_0's l2: 0.0215492\n",
            "[939]\tvalid_0's auc: 1\tvalid_0's l1: 0.0950181\tvalid_0's l2: 0.0215442\n",
            "[940]\tvalid_0's auc: 1\tvalid_0's l1: 0.0949997\tvalid_0's l2: 0.021538\n",
            "[941]\tvalid_0's auc: 1\tvalid_0's l1: 0.0949882\tvalid_0's l2: 0.0215329\n",
            "[942]\tvalid_0's auc: 1\tvalid_0's l1: 0.0949695\tvalid_0's l2: 0.0215296\n",
            "[943]\tvalid_0's auc: 1\tvalid_0's l1: 0.094958\tvalid_0's l2: 0.0215246\n",
            "[944]\tvalid_0's auc: 1\tvalid_0's l1: 0.0949549\tvalid_0's l2: 0.0215218\n",
            "[945]\tvalid_0's auc: 1\tvalid_0's l1: 0.0949435\tvalid_0's l2: 0.0215169\n",
            "[946]\tvalid_0's auc: 1\tvalid_0's l1: 0.0949348\tvalid_0's l2: 0.0215124\n",
            "[947]\tvalid_0's auc: 1\tvalid_0's l1: 0.0949246\tvalid_0's l2: 0.021508\n",
            "[948]\tvalid_0's auc: 1\tvalid_0's l1: 0.094918\tvalid_0's l2: 0.021504\n",
            "[949]\tvalid_0's auc: 1\tvalid_0's l1: 0.0949079\tvalid_0's l2: 0.0214996\n",
            "[950]\tvalid_0's auc: 1\tvalid_0's l1: 0.0948961\tvalid_0's l2: 0.0214969\n",
            "[951]\tvalid_0's auc: 1\tvalid_0's l1: 0.0948728\tvalid_0's l2: 0.0214896\n",
            "[952]\tvalid_0's auc: 1\tvalid_0's l1: 0.0948522\tvalid_0's l2: 0.0214833\n",
            "[953]\tvalid_0's auc: 1\tvalid_0's l1: 0.0948291\tvalid_0's l2: 0.0214762\n",
            "[954]\tvalid_0's auc: 1\tvalid_0's l1: 0.0948044\tvalid_0's l2: 0.0214693\n",
            "[955]\tvalid_0's auc: 1\tvalid_0's l1: 0.0948003\tvalid_0's l2: 0.021469\n",
            "[956]\tvalid_0's auc: 1\tvalid_0's l1: 0.0947774\tvalid_0's l2: 0.021462\n",
            "[957]\tvalid_0's auc: 1\tvalid_0's l1: 0.0947748\tvalid_0's l2: 0.0214615\n",
            "[958]\tvalid_0's auc: 1\tvalid_0's l1: 0.0947515\tvalid_0's l2: 0.0214549\n",
            "[959]\tvalid_0's auc: 1\tvalid_0's l1: 0.0947529\tvalid_0's l2: 0.0214553\n",
            "[960]\tvalid_0's auc: 1\tvalid_0's l1: 0.0947481\tvalid_0's l2: 0.0214544\n",
            "[961]\tvalid_0's auc: 1\tvalid_0's l1: 0.0947334\tvalid_0's l2: 0.0214478\n",
            "[962]\tvalid_0's auc: 1\tvalid_0's l1: 0.0947188\tvalid_0's l2: 0.0214413\n",
            "[963]\tvalid_0's auc: 1\tvalid_0's l1: 0.0947043\tvalid_0's l2: 0.0214348\n",
            "[964]\tvalid_0's auc: 1\tvalid_0's l1: 0.094698\tvalid_0's l2: 0.0214305\n",
            "[965]\tvalid_0's auc: 1\tvalid_0's l1: 0.0946836\tvalid_0's l2: 0.0214241\n",
            "[966]\tvalid_0's auc: 1\tvalid_0's l1: 0.09468\tvalid_0's l2: 0.0214197\n",
            "[967]\tvalid_0's auc: 1\tvalid_0's l1: 0.0946764\tvalid_0's l2: 0.0214164\n",
            "[968]\tvalid_0's auc: 1\tvalid_0's l1: 0.0946622\tvalid_0's l2: 0.0214101\n",
            "[969]\tvalid_0's auc: 1\tvalid_0's l1: 0.094648\tvalid_0's l2: 0.0214039\n",
            "[970]\tvalid_0's auc: 1\tvalid_0's l1: 0.0946339\tvalid_0's l2: 0.0213978\n",
            "[971]\tvalid_0's auc: 1\tvalid_0's l1: 0.0946141\tvalid_0's l2: 0.0213927\n",
            "[972]\tvalid_0's auc: 1\tvalid_0's l1: 0.094594\tvalid_0's l2: 0.021387\n",
            "[973]\tvalid_0's auc: 1\tvalid_0's l1: 0.0945744\tvalid_0's l2: 0.021382\n",
            "[974]\tvalid_0's auc: 1\tvalid_0's l1: 0.0945629\tvalid_0's l2: 0.0213781\n",
            "[975]\tvalid_0's auc: 1\tvalid_0's l1: 0.0945424\tvalid_0's l2: 0.0213727\n",
            "[976]\tvalid_0's auc: 1\tvalid_0's l1: 0.09452\tvalid_0's l2: 0.0213678\n",
            "[977]\tvalid_0's auc: 1\tvalid_0's l1: 0.0945122\tvalid_0's l2: 0.0213651\n",
            "[978]\tvalid_0's auc: 1\tvalid_0's l1: 0.0945037\tvalid_0's l2: 0.0213646\n",
            "[979]\tvalid_0's auc: 1\tvalid_0's l1: 0.0944836\tvalid_0's l2: 0.0213597\n",
            "[980]\tvalid_0's auc: 1\tvalid_0's l1: 0.0944663\tvalid_0's l2: 0.0213544\n",
            "[981]\tvalid_0's auc: 1\tvalid_0's l1: 0.0944575\tvalid_0's l2: 0.0213504\n",
            "[982]\tvalid_0's auc: 1\tvalid_0's l1: 0.09444\tvalid_0's l2: 0.0213456\n",
            "[983]\tvalid_0's auc: 1\tvalid_0's l1: 0.09442\tvalid_0's l2: 0.0213383\n",
            "[984]\tvalid_0's auc: 1\tvalid_0's l1: 0.0944138\tvalid_0's l2: 0.0213354\n",
            "[985]\tvalid_0's auc: 1\tvalid_0's l1: 0.0943943\tvalid_0's l2: 0.0213293\n",
            "[986]\tvalid_0's auc: 1\tvalid_0's l1: 0.0943832\tvalid_0's l2: 0.0213251\n",
            "[987]\tvalid_0's auc: 1\tvalid_0's l1: 0.0943559\tvalid_0's l2: 0.0213192\n",
            "[988]\tvalid_0's auc: 1\tvalid_0's l1: 0.0943363\tvalid_0's l2: 0.0213131\n",
            "[989]\tvalid_0's auc: 1\tvalid_0's l1: 0.094306\tvalid_0's l2: 0.0213049\n",
            "[990]\tvalid_0's auc: 1\tvalid_0's l1: 0.0942866\tvalid_0's l2: 0.0212989\n",
            "[991]\tvalid_0's auc: 1\tvalid_0's l1: 0.0942869\tvalid_0's l2: 0.0212984\n",
            "[992]\tvalid_0's auc: 1\tvalid_0's l1: 0.0942872\tvalid_0's l2: 0.021298\n",
            "[993]\tvalid_0's auc: 1\tvalid_0's l1: 0.0942803\tvalid_0's l2: 0.0212958\n",
            "[994]\tvalid_0's auc: 1\tvalid_0's l1: 0.0942735\tvalid_0's l2: 0.0212936\n",
            "[995]\tvalid_0's auc: 1\tvalid_0's l1: 0.0942607\tvalid_0's l2: 0.0212881\n",
            "[996]\tvalid_0's auc: 1\tvalid_0's l1: 0.0942505\tvalid_0's l2: 0.0212847\n",
            "[997]\tvalid_0's auc: 1\tvalid_0's l1: 0.0942442\tvalid_0's l2: 0.0212826\n",
            "[998]\tvalid_0's auc: 1\tvalid_0's l1: 0.0942321\tvalid_0's l2: 0.0212772\n",
            "[999]\tvalid_0's auc: 1\tvalid_0's l1: 0.0942275\tvalid_0's l2: 0.0212751\n",
            "[1000]\tvalid_0's auc: 1\tvalid_0's l1: 0.0942257\tvalid_0's l2: 0.0212723\n",
            "[1001]\tvalid_0's auc: 1\tvalid_0's l1: 0.0942273\tvalid_0's l2: 0.0212714\n",
            "Early stopping, best iteration is:\n",
            "[1]\tvalid_0's auc: 1\tvalid_0's l1: 0.333038\tvalid_0's l2: 0.186477\n"
          ],
          "name": "stdout"
        },
        {
          "output_type": "execute_result",
          "data": {
            "text/plain": [
              "LGBMRegressor(bagging_fraction=0.7, bagging_freq=10, boosting_type='gbdt',\n",
              "              class_weight=None, colsample_bytree=1.0, feature_fraction=0.9,\n",
              "              importance_type='split', learning_rate=0.005, max_bin=512,\n",
              "              max_depth=8, metric=['l2', 'auc'], min_child_samples=20,\n",
              "              min_child_weight=0.001, min_split_gain=0.0, n_estimators=1000,\n",
              "              n_jobs=-1, num_iterations=100000, num_leaves=128,\n",
              "              objective='regression', random_state=None, reg_alpha=0.0,\n",
              "              reg_lambda=0.0, silent=True, subsample=1.0,\n",
              "              subsample_for_bin=200000, subsample_freq=0, task='train',\n",
              "              verbose=0)"
            ]
          },
          "metadata": {
            "tags": []
          },
          "execution_count": 27
        }
      ]
    },
    {
      "cell_type": "code",
      "metadata": {
        "id": "g7pNa3E-m_XT",
        "colab_type": "code",
        "colab": {
          "base_uri": "https://localhost:8080/",
          "height": 35
        },
        "outputId": "1912f1cb-d483-454c-f60a-8c5b37a4d7e3"
      },
      "source": [
        "#모델 평가\n",
        "y_pred = gbm.predict(X_train, num_iteration=gbm.best_iteration_)\n",
        "print('The rmse of prediction is:', round(mean_squared_log_error(y_pred, y_train) ** 0.5, 5))"
      ],
      "execution_count": null,
      "outputs": [
        {
          "output_type": "stream",
          "text": [
            "The rmse of prediction is: 0.02951\n"
          ],
          "name": "stdout"
        }
      ]
    },
    {
      "cell_type": "code",
      "metadata": {
        "id": "kObuzsUintaU",
        "colab_type": "code",
        "colab": {}
      },
      "source": [
        "#결과 제출\n",
        "test_pred = np.expm1(gbm.predict(df_test, num_iteration=gbm.best_iteration_))\n",
        "df_test[\"SalePrice\"] = test_pred\n",
        "df_test.to_csv(\"results.csv\", columns=[\"Id\", \"SalePrice\"], index=False)"
      ],
      "execution_count": null,
      "outputs": []
    },
    {
      "cell_type": "code",
      "metadata": {
        "id": "5FixIROwt3PB",
        "colab_type": "code",
        "colab": {}
      },
      "source": [
        ""
      ],
      "execution_count": null,
      "outputs": []
    }
  ]
}